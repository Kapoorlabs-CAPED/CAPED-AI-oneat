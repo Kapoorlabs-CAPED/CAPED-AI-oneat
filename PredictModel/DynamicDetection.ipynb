{
 "cells": [
  {
   "cell_type": "code",
   "execution_count": 1,
   "id": "current-modern",
   "metadata": {},
   "outputs": [
    {
     "ename": "ModuleNotFoundError",
     "evalue": "No module named 'oneat'",
     "output_type": "error",
     "traceback": [
      "\u001b[1;31m---------------------------------------------------------------------------\u001b[0m",
      "\u001b[1;31mModuleNotFoundError\u001b[0m                       Traceback (most recent call last)",
      "\u001b[1;32m~\\AppData\\Local\\Temp/ipykernel_23796/3450544114.py\u001b[0m in \u001b[0;36m<module>\u001b[1;34m\u001b[0m\n\u001b[0;32m      2\u001b[0m \u001b[1;32mimport\u001b[0m \u001b[0mos\u001b[0m\u001b[1;33m\u001b[0m\u001b[1;33m\u001b[0m\u001b[0m\n\u001b[0;32m      3\u001b[0m \u001b[1;32mfrom\u001b[0m \u001b[0mglob\u001b[0m \u001b[1;32mimport\u001b[0m \u001b[0mglob\u001b[0m\u001b[1;33m\u001b[0m\u001b[1;33m\u001b[0m\u001b[0m\n\u001b[1;32m----> 4\u001b[1;33m \u001b[1;32mfrom\u001b[0m \u001b[0moneat\u001b[0m\u001b[1;33m.\u001b[0m\u001b[0mNEATModels\u001b[0m \u001b[1;32mimport\u001b[0m \u001b[0mNEATDynamic\u001b[0m\u001b[1;33m,\u001b[0m \u001b[0mnets\u001b[0m\u001b[1;33m\u001b[0m\u001b[1;33m\u001b[0m\u001b[0m\n\u001b[0m\u001b[0;32m      5\u001b[0m \u001b[1;32mfrom\u001b[0m \u001b[0moneat\u001b[0m\u001b[1;33m.\u001b[0m\u001b[0mNEATModels\u001b[0m\u001b[1;33m.\u001b[0m\u001b[0mconfig\u001b[0m \u001b[1;32mimport\u001b[0m \u001b[0mNeatConfig\u001b[0m\u001b[1;33m\u001b[0m\u001b[1;33m\u001b[0m\u001b[0m\n\u001b[0;32m      6\u001b[0m \u001b[1;32mfrom\u001b[0m \u001b[0moneat\u001b[0m\u001b[1;33m.\u001b[0m\u001b[0mNEATUtils\u001b[0m \u001b[1;32mimport\u001b[0m \u001b[0mhelpers\u001b[0m\u001b[1;33m\u001b[0m\u001b[1;33m\u001b[0m\u001b[0m\n",
      "\u001b[1;31mModuleNotFoundError\u001b[0m: No module named 'oneat'"
     ]
    }
   ],
   "source": [
    "import sys\n",
    "import os\n",
    "from glob import glob\n",
    "from oneat.NEATModels import NEATDynamic, nets\n",
    "from oneat.NEATModels.config import NeatConfig\n",
    "from oneat.NEATUtils import helpers\n",
    "from oneat.NEATUtils.helpers import load_json\n",
    "os.environ[\"CUDA_VISIBLE_DEVICES\"]=\"0\"\n",
    "os.environ[\"HDF5_USE_FILE_LOCKING\"] = \"FALSE\""
   ]
  },
  {
   "cell_type": "code",
   "execution_count": null,
   "id": "following-apparel",
   "metadata": {},
   "outputs": [],
   "source": [
    "imagename = 'oneat_images/image.tif'\n",
    "model_dir = 'oneat_models/'\n",
    "savedir = 'oneat_images/result/'\n",
    "model_name = 'cellsplitdetector'\n",
    "star_model_name = 'starmodel'\n",
    "mask_model_name = 'maskmodel'\n",
    "division_categories_json = model_dir + 'Celleventcategories.json'\n",
    "catconfig = load_json(division_categories_json)\n",
    "division_cord_json = model_dir + 'Celleventcord.json'\n",
    "cordconfig = load_json(division_cord_json)\n",
    "n_tiles = (1,1)\n",
    "overlap_percent = 0.8\n",
    "event_threshold = 0.5\n",
    "iou_threshold = 0.01\n",
    "downsamplefactor = 1\n",
    "fidelity = 5\n",
    "maskfilter = 10\n",
    "remove_normal_markers = True\n",
    "model = NEATDynamic(None, model_dir , model_name,catconfig, cordconfig)\n",
    "\n",
    "\n"
   ]
  },
  {
   "cell_type": "code",
   "execution_count": null,
   "id": "ideal-depth",
   "metadata": {},
   "outputs": [],
   "source": [
    "markers, marker_tree, watershed, mask = model.get_markers(imagename, star_model_name, mask_model_name, savedir, n_tiles, downsamplefactor = downsamplefactor, remove_markers = remove_normal_markers)\n",
    "\n",
    "model.predict(imagename, savedir, n_tiles = n_tiles, overlap_percent = overlap_percent, event_threshold = event_threshold, iou_threshold = iou_threshold, \n",
    "fidelity = fidelity, downsamplefactor = downsamplefactor, maskfilter = 10, markers = markers, marker_tree = marker_tree, watershed = watershed, maskimage = mask, remove_markers = remove_normal_markers)"
   ]
  }
 ],
 "metadata": {
  "kernelspec": {
   "display_name": "Python 3",
   "language": "python",
   "name": "python3"
  },
  "language_info": {
   "codemirror_mode": {
    "name": "ipython",
    "version": 3
   },
   "file_extension": ".py",
   "mimetype": "text/x-python",
   "name": "python",
   "nbconvert_exporter": "python",
   "pygments_lexer": "ipython3",
   "version": "3.9.0"
  }
 },
 "nbformat": 4,
 "nbformat_minor": 5
}
