{
 "cells": [
  {
   "cell_type": "code",
   "execution_count": 1,
   "id": "3ddbb873",
   "metadata": {},
   "outputs": [
    {
     "name": "stderr",
     "output_type": "stream",
     "text": [
      "napari.manifest -> 'skeleton-finder' could not be imported: Cannot find module 'skeleton_finder' declared in entrypoint: 'skeleton_finder:napari.yaml'\n"
     ]
    },
    {
     "ename": "ValueError",
     "evalue": "Inputs have incompatible shapes. Received shapes (32, 32, 1) and (64, 32, 256)",
     "output_type": "error",
     "traceback": [
      "\u001b[1;31m---------------------------------------------------------------------------\u001b[0m",
      "\u001b[1;31mValueError\u001b[0m                                Traceback (most recent call last)",
      "Input \u001b[1;32mIn [1]\u001b[0m, in \u001b[0;36m<cell line: 4>\u001b[1;34m()\u001b[0m\n\u001b[0;32m      2\u001b[0m model_keras \u001b[38;5;241m=\u001b[39m nets\u001b[38;5;241m.\u001b[39mresnet_lstm_v2\n\u001b[0;32m      3\u001b[0m input_shape \u001b[38;5;241m=\u001b[39m (\u001b[38;5;241m64\u001b[39m,\u001b[38;5;241m64\u001b[39m,\u001b[38;5;241m4\u001b[39m)\n\u001b[1;32m----> 4\u001b[0m Trainingmodel \u001b[38;5;241m=\u001b[39m \u001b[43mmodel_keras\u001b[49m\u001b[43m(\u001b[49m\u001b[43minput_shape\u001b[49m\u001b[43m,\u001b[49m\u001b[43m \u001b[49m\u001b[38;5;241;43m16\u001b[39;49m\u001b[43m,\u001b[49m\u001b[43m \u001b[49m\u001b[43mbox_vector\u001b[49m\u001b[38;5;241;43m=\u001b[39;49m\u001b[43m \u001b[49m\u001b[38;5;241;43m4\u001b[39;49m\u001b[43m,\u001b[49m\n\u001b[0;32m      5\u001b[0m \u001b[43m                                              \u001b[49m\u001b[43mnboxes\u001b[49m\u001b[38;5;241;43m=\u001b[39;49m\u001b[38;5;241;43m1\u001b[39;49m\u001b[43m,\u001b[49m\u001b[43m \u001b[49m\u001b[43mstage_number\u001b[49m\u001b[38;5;241;43m=\u001b[39;49m\u001b[38;5;241;43m3\u001b[39;49m\u001b[43m,\u001b[49m\n\u001b[0;32m      6\u001b[0m \u001b[43m                                               \u001b[49m\u001b[43mdepth\u001b[49m\u001b[38;5;241;43m=\u001b[39;49m\u001b[38;5;241;43m29\u001b[39;49m\u001b[43m,\u001b[49m\n\u001b[0;32m      7\u001b[0m \u001b[43m                                              \u001b[49m\u001b[43mstart_kernel\u001b[49m\u001b[38;5;241;43m=\u001b[39;49m\u001b[38;5;241;43m3\u001b[39;49m\u001b[43m,\u001b[49m\u001b[43m \u001b[49m\u001b[43mmid_kernel\u001b[49m\u001b[43m \u001b[49m\u001b[38;5;241;43m=\u001b[39;49m\u001b[43m \u001b[49m\u001b[38;5;241;43m3\u001b[39;49m\u001b[43m,\u001b[49m\n\u001b[0;32m      8\u001b[0m \u001b[43m                                              \u001b[49m\u001b[43mstartfilter\u001b[49m\u001b[38;5;241;43m=\u001b[39;49m\u001b[38;5;241;43m32\u001b[39;49m\u001b[43m,\u001b[49m\u001b[43m \u001b[49m\u001b[43mlast_activation\u001b[49m\u001b[38;5;241;43m=\u001b[39;49m\u001b[38;5;124;43m'\u001b[39;49m\u001b[38;5;124;43mrelu\u001b[39;49m\u001b[38;5;124;43m'\u001b[39;49m\u001b[43m,\u001b[49m\n\u001b[0;32m      9\u001b[0m \u001b[43m                                              \u001b[49m\u001b[43minput_weights\u001b[49m\u001b[38;5;241;43m=\u001b[39;49m\u001b[38;5;28;43;01mNone\u001b[39;49;00m\u001b[43m)\u001b[49m\n\u001b[0;32m     10\u001b[0m Trainingmodel\u001b[38;5;241m.\u001b[39msummary()\n",
      "File \u001b[1;32mc:\\users\\rando\\downloads\\caped-ai-oneat\\oneat\\NEATModels\\nets.py:530\u001b[0m, in \u001b[0;36mresnet_lstm_v2\u001b[1;34m(input_shape, categories, box_vector, nboxes, stage_number, depth, start_kernel, mid_kernel, startfilter, input_weights, last_activation)\u001b[0m\n\u001b[0;32m    520\u001b[0m         \u001b[38;5;28;01mif\u001b[39;00m res_block \u001b[38;5;241m==\u001b[39m \u001b[38;5;241m0\u001b[39m:\n\u001b[0;32m    521\u001b[0m             \u001b[38;5;66;03m# linear projection residual shortcut connection to match\u001b[39;00m\n\u001b[0;32m    522\u001b[0m             \u001b[38;5;66;03m# changed dims\u001b[39;00m\n\u001b[0;32m    523\u001b[0m             x \u001b[38;5;241m=\u001b[39m resnet_lstm_layer(inputs\u001b[38;5;241m=\u001b[39mx,\n\u001b[0;32m    524\u001b[0m                              num_filters\u001b[38;5;241m=\u001b[39mnum_filters_out,\n\u001b[0;32m    525\u001b[0m                              kernel_size\u001b[38;5;241m=\u001b[39m\u001b[38;5;241m1\u001b[39m,\n\u001b[0;32m    526\u001b[0m                              strides\u001b[38;5;241m=\u001b[39mstrides,\n\u001b[0;32m    527\u001b[0m                              activation\u001b[38;5;241m=\u001b[39m\u001b[38;5;28;01mNone\u001b[39;00m,\n\u001b[0;32m    528\u001b[0m                              batch_normalization\u001b[38;5;241m=\u001b[39m\u001b[38;5;28;01mFalse\u001b[39;00m)\n\u001b[1;32m--> 530\u001b[0m         x \u001b[38;5;241m=\u001b[39m \u001b[43mK\u001b[49m\u001b[38;5;241;43m.\u001b[39;49m\u001b[43mlayers\u001b[49m\u001b[38;5;241;43m.\u001b[39;49m\u001b[43madd\u001b[49m\u001b[43m(\u001b[49m\u001b[43m[\u001b[49m\u001b[43mx\u001b[49m\u001b[43m,\u001b[49m\u001b[43m \u001b[49m\u001b[43my\u001b[49m\u001b[43m]\u001b[49m\u001b[43m)\u001b[49m\n\u001b[0;32m    532\u001b[0m     num_filters_in \u001b[38;5;241m=\u001b[39m num_filters_out\n\u001b[0;32m    534\u001b[0m \u001b[38;5;66;03m# Add classifier on top.\u001b[39;00m\n\u001b[0;32m    535\u001b[0m \u001b[38;5;66;03m# v2 has BN-ReLU before Pooling\u001b[39;00m\n",
      "File \u001b[1;32m~\\anaconda3\\envs\\naparienv\\lib\\site-packages\\keras\\layers\\merging\\add.py:91\u001b[0m, in \u001b[0;36madd\u001b[1;34m(inputs, **kwargs)\u001b[0m\n\u001b[0;32m     60\u001b[0m \u001b[38;5;129m@keras_export\u001b[39m(\u001b[38;5;124m'\u001b[39m\u001b[38;5;124mkeras.layers.add\u001b[39m\u001b[38;5;124m'\u001b[39m)\n\u001b[0;32m     61\u001b[0m \u001b[38;5;28;01mdef\u001b[39;00m \u001b[38;5;21madd\u001b[39m(inputs, \u001b[38;5;241m*\u001b[39m\u001b[38;5;241m*\u001b[39mkwargs):\n\u001b[0;32m     62\u001b[0m   \u001b[38;5;124;03m\"\"\"Functional interface to the `tf.keras.layers.Add` layer.\u001b[39;00m\n\u001b[0;32m     63\u001b[0m \n\u001b[0;32m     64\u001b[0m \u001b[38;5;124;03m  Args:\u001b[39;00m\n\u001b[1;32m   (...)\u001b[0m\n\u001b[0;32m     89\u001b[0m \n\u001b[0;32m     90\u001b[0m \u001b[38;5;124;03m  \"\"\"\u001b[39;00m\n\u001b[1;32m---> 91\u001b[0m   \u001b[38;5;28;01mreturn\u001b[39;00m \u001b[43mAdd\u001b[49m\u001b[43m(\u001b[49m\u001b[38;5;241;43m*\u001b[39;49m\u001b[38;5;241;43m*\u001b[39;49m\u001b[43mkwargs\u001b[49m\u001b[43m)\u001b[49m\u001b[43m(\u001b[49m\u001b[43minputs\u001b[49m\u001b[43m)\u001b[49m\n",
      "File \u001b[1;32m~\\anaconda3\\envs\\naparienv\\lib\\site-packages\\keras\\utils\\traceback_utils.py:67\u001b[0m, in \u001b[0;36mfilter_traceback.<locals>.error_handler\u001b[1;34m(*args, **kwargs)\u001b[0m\n\u001b[0;32m     65\u001b[0m \u001b[38;5;28;01mexcept\u001b[39;00m \u001b[38;5;167;01mException\u001b[39;00m \u001b[38;5;28;01mas\u001b[39;00m e:  \u001b[38;5;66;03m# pylint: disable=broad-except\u001b[39;00m\n\u001b[0;32m     66\u001b[0m   filtered_tb \u001b[38;5;241m=\u001b[39m _process_traceback_frames(e\u001b[38;5;241m.\u001b[39m__traceback__)\n\u001b[1;32m---> 67\u001b[0m   \u001b[38;5;28;01mraise\u001b[39;00m e\u001b[38;5;241m.\u001b[39mwith_traceback(filtered_tb) \u001b[38;5;28;01mfrom\u001b[39;00m \u001b[38;5;28mNone\u001b[39m\n\u001b[0;32m     68\u001b[0m \u001b[38;5;28;01mfinally\u001b[39;00m:\n\u001b[0;32m     69\u001b[0m   \u001b[38;5;28;01mdel\u001b[39;00m filtered_tb\n",
      "File \u001b[1;32m~\\anaconda3\\envs\\naparienv\\lib\\site-packages\\keras\\layers\\merging\\base_merge.py:73\u001b[0m, in \u001b[0;36m_Merge._compute_elemwise_op_output_shape\u001b[1;34m(self, shape1, shape2)\u001b[0m\n\u001b[0;32m     71\u001b[0m   \u001b[38;5;28;01melse\u001b[39;00m:\n\u001b[0;32m     72\u001b[0m     \u001b[38;5;28;01mif\u001b[39;00m i \u001b[38;5;241m!=\u001b[39m j:\n\u001b[1;32m---> 73\u001b[0m       \u001b[38;5;28;01mraise\u001b[39;00m \u001b[38;5;167;01mValueError\u001b[39;00m(\n\u001b[0;32m     74\u001b[0m           \u001b[38;5;124m'\u001b[39m\u001b[38;5;124mInputs have incompatible shapes. \u001b[39m\u001b[38;5;124m'\u001b[39m\n\u001b[0;32m     75\u001b[0m           \u001b[38;5;124mf\u001b[39m\u001b[38;5;124m'\u001b[39m\u001b[38;5;124mReceived shapes \u001b[39m\u001b[38;5;132;01m{\u001b[39;00mshape1\u001b[38;5;132;01m}\u001b[39;00m\u001b[38;5;124m and \u001b[39m\u001b[38;5;132;01m{\u001b[39;00mshape2\u001b[38;5;132;01m}\u001b[39;00m\u001b[38;5;124m'\u001b[39m)\n\u001b[0;32m     76\u001b[0m     output_shape\u001b[38;5;241m.\u001b[39mappend(i)\n\u001b[0;32m     77\u001b[0m \u001b[38;5;28;01mreturn\u001b[39;00m \u001b[38;5;28mtuple\u001b[39m(output_shape)\n",
      "\u001b[1;31mValueError\u001b[0m: Inputs have incompatible shapes. Received shapes (32, 32, 1) and (64, 32, 256)"
     ]
    }
   ],
   "source": [
    "from oneat.NEATModels import nets\n",
    "model_keras = nets.resnet_lstm_v2\n",
    "input_shape = (64,64,4)\n",
    "Trainingmodel = model_keras(input_shape, 16, box_vector= 4,\n",
    "                                              nboxes=1, stage_number=3,\n",
    "                                               depth=29,\n",
    "                                              start_kernel=3, mid_kernel = 3,\n",
    "                                              startfilter=32, last_activation='relu',\n",
    "                                              input_weights=None)\n",
    "Trainingmodel.summary()"
   ]
  },
  {
   "cell_type": "code",
   "execution_count": null,
   "id": "74758e4c",
   "metadata": {},
   "outputs": [],
   "source": [
    "model_keras = nets.resnet_v2\n",
    "input_shape = (64,64,4)\n",
    "Trainingmodel = model_keras(input_shape, 16, box_vector= 4,\n",
    "                                              nboxes=1, stage_number=3,\n",
    "                                               depth=29,\n",
    "                                              start_kernel=3, mid_kernel = 3,\n",
    "                                              startfilter=32, last_activation='relu',\n",
    "                                              input_weights=None)\n",
    "Trainingmodel.summary()"
   ]
  },
  {
   "cell_type": "code",
   "execution_count": null,
   "id": "06a4296e",
   "metadata": {},
   "outputs": [],
   "source": []
  }
 ],
 "metadata": {
  "kernelspec": {
   "display_name": "Python 3 (ipykernel)",
   "language": "python",
   "name": "python3"
  },
  "language_info": {
   "codemirror_mode": {
    "name": "ipython",
    "version": 3
   },
   "file_extension": ".py",
   "mimetype": "text/x-python",
   "name": "python",
   "nbconvert_exporter": "python",
   "pygments_lexer": "ipython3",
   "version": "3.9.0"
  }
 },
 "nbformat": 4,
 "nbformat_minor": 5
}
