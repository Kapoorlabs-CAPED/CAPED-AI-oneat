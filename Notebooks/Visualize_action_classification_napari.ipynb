{
 "cells": [
  {
   "cell_type": "code",
   "execution_count": 17,
   "id": "7fbce8da",
   "metadata": {},
   "outputs": [
    {
     "data": {
      "text/plain": [
       "<Figure size 432x288 with 0 Axes>"
      ]
     },
     "metadata": {},
     "output_type": "display_data"
    }
   ],
   "source": [
    "\n",
    "import sys\n",
    "import os\n",
    "import glob\n",
    "\n",
    "from oneat.NEATUtils import NEATViz\n",
    "\n",
    "%gui qt"
   ]
  },
  {
   "cell_type": "code",
   "execution_count": 19,
   "id": "eab77c93",
   "metadata": {
    "scrolled": false
   },
   "outputs": [
    {
     "name": "stderr",
     "output_type": "stream",
     "text": [
      "WARNING: DirectWrite: CreateFontFaceFromHDC() failed (Indicates an error in an input file such as a font file.) for QFontDef(Family=\"\", pointsize=12, pixelsize=16, styleHint=5, weight=50, stretch=100, hintingPreference=0) LOGFONT(\"MS Sans Serif\", lfWidth=0, lfHeight=-16) dpi=96\n",
      "C:\\Users\\rando\\AppData\\Roaming\\Python\\Python39\\site-packages\\napari\\plugins\\_plugin_manager.py:511: UserWarning: Plugin 'napari-time-slicer' has already registered a function widget 'convert to 2d timelapse' which has now been overwritten\n",
      "  warn(message=warn_message)\n",
      "C:\\Users\\rando\\AppData\\Roaming\\Python\\Python39\\site-packages\\napari\\plugins\\_plugin_manager.py:511: UserWarning: Plugin 'napari_skimage_regionprops2' has already registered a function widget 'duplicate current frame' which has now been overwritten\n",
      "  warn(message=warn_message)\n",
      "C:\\Users\\rando\\AppData\\Roaming\\Python\\Python39\\site-packages\\napari\\plugins\\_plugin_manager.py:511: UserWarning: Plugin 'napari-simpleitk-image-processing' has already registered a function widget 'median filter' which has now been overwritten\n",
      "  warn(message=warn_message)\n",
      "C:\\Users\\rando\\AppData\\Roaming\\Python\\Python39\\site-packages\\napari\\plugins\\_plugin_manager.py:511: UserWarning: Plugin 'napari-simpleitk-image-processing' has already registered a function widget 'gaussian blur' which has now been overwritten\n",
      "  warn(message=warn_message)\n",
      "C:\\Users\\rando\\AppData\\Roaming\\Python\\Python39\\site-packages\\napari\\plugins\\_plugin_manager.py:511: UserWarning: Plugin 'napari-simpleitk-image-processing' has already registered a function widget 'threshold otsu' which has now been overwritten\n",
      "  warn(message=warn_message)\n",
      "C:\\Users\\rando\\AppData\\Roaming\\Python\\Python39\\site-packages\\napari\\plugins\\_plugin_manager.py:511: UserWarning: Plugin 'napari-simpleitk-image-processing' has already registered a function widget 'threshold intermodes' which has now been overwritten\n",
      "  warn(message=warn_message)\n",
      "C:\\Users\\rando\\AppData\\Roaming\\Python\\Python39\\site-packages\\napari\\plugins\\_plugin_manager.py:511: UserWarning: Plugin 'napari-simpleitk-image-processing' has already registered a function widget 'threshold kittler illingworth' which has now been overwritten\n",
      "  warn(message=warn_message)\n",
      "C:\\Users\\rando\\AppData\\Roaming\\Python\\Python39\\site-packages\\napari\\plugins\\_plugin_manager.py:511: UserWarning: Plugin 'napari-simpleitk-image-processing' has already registered a function widget 'threshold li' which has now been overwritten\n",
      "  warn(message=warn_message)\n",
      "C:\\Users\\rando\\AppData\\Roaming\\Python\\Python39\\site-packages\\napari\\plugins\\_plugin_manager.py:511: UserWarning: Plugin 'napari-simpleitk-image-processing' has already registered a function widget 'threshold moments' which has now been overwritten\n",
      "  warn(message=warn_message)\n",
      "C:\\Users\\rando\\AppData\\Roaming\\Python\\Python39\\site-packages\\napari\\plugins\\_plugin_manager.py:511: UserWarning: Plugin 'napari-simpleitk-image-processing' has already registered a function widget 'threshold renyi entropy' which has now been overwritten\n",
      "  warn(message=warn_message)\n",
      "C:\\Users\\rando\\AppData\\Roaming\\Python\\Python39\\site-packages\\napari\\plugins\\_plugin_manager.py:511: UserWarning: Plugin 'napari-simpleitk-image-processing' has already registered a function widget 'threshold shanbhag' which has now been overwritten\n",
      "  warn(message=warn_message)\n",
      "C:\\Users\\rando\\AppData\\Roaming\\Python\\Python39\\site-packages\\napari\\plugins\\_plugin_manager.py:511: UserWarning: Plugin 'napari-simpleitk-image-processing' has already registered a function widget 'threshold yen' which has now been overwritten\n",
      "  warn(message=warn_message)\n",
      "C:\\Users\\rando\\AppData\\Roaming\\Python\\Python39\\site-packages\\napari\\plugins\\_plugin_manager.py:511: UserWarning: Plugin 'napari-simpleitk-image-processing' has already registered a function widget 'threshold isodata' which has now been overwritten\n",
      "  warn(message=warn_message)\n",
      "C:\\Users\\rando\\AppData\\Roaming\\Python\\Python39\\site-packages\\napari\\plugins\\_plugin_manager.py:511: UserWarning: Plugin 'napari-simpleitk-image-processing' has already registered a function widget 'threshold triangle' which has now been overwritten\n",
      "  warn(message=warn_message)\n",
      "C:\\Users\\rando\\AppData\\Roaming\\Python\\Python39\\site-packages\\napari\\plugins\\_plugin_manager.py:511: UserWarning: Plugin 'napari-simpleitk-image-processing' has already registered a function widget 'threshold huang' which has now been overwritten\n",
      "  warn(message=warn_message)\n",
      "C:\\Users\\rando\\AppData\\Roaming\\Python\\Python39\\site-packages\\napari\\plugins\\_plugin_manager.py:511: UserWarning: Plugin 'napari-simpleitk-image-processing' has already registered a function widget 'threshold maximum entropy' which has now been overwritten\n",
      "  warn(message=warn_message)\n",
      "C:\\Users\\rando\\AppData\\Roaming\\Python\\Python39\\site-packages\\napari\\plugins\\_plugin_manager.py:511: UserWarning: Plugin 'napari-simpleitk-image-processing' has already registered a function widget 'signed maurer distance map' which has now been overwritten\n",
      "  warn(message=warn_message)\n",
      "C:\\Users\\rando\\AppData\\Roaming\\Python\\Python39\\site-packages\\napari\\plugins\\_plugin_manager.py:511: UserWarning: Plugin 'napari-simpleitk-image-processing' has already registered a function widget 'morphological watershed' which has now been overwritten\n",
      "  warn(message=warn_message)\n",
      "C:\\Users\\rando\\AppData\\Roaming\\Python\\Python39\\site-packages\\napari\\plugins\\_plugin_manager.py:511: UserWarning: Plugin 'napari-simpleitk-image-processing' has already registered a function widget 'morphological gradient' which has now been overwritten\n",
      "  warn(message=warn_message)\n",
      "C:\\Users\\rando\\AppData\\Roaming\\Python\\Python39\\site-packages\\napari\\plugins\\_plugin_manager.py:511: UserWarning: Plugin 'napari-simpleitk-image-processing' has already registered a function widget 'standard deviation filter' which has now been overwritten\n",
      "  warn(message=warn_message)\n",
      "C:\\Users\\rando\\AppData\\Roaming\\Python\\Python39\\site-packages\\napari\\plugins\\_plugin_manager.py:511: UserWarning: Plugin 'napari-simpleitk-image-processing' has already registered a function widget 'simple linear iterative clustering' which has now been overwritten\n",
      "  warn(message=warn_message)\n",
      "C:\\Users\\rando\\AppData\\Roaming\\Python\\Python39\\site-packages\\napari\\plugins\\_plugin_manager.py:511: UserWarning: Plugin 'napari-simpleitk-image-processing' has already registered a function widget 'scalar image k means clustering' which has now been overwritten\n",
      "  warn(message=warn_message)\n",
      "C:\\Users\\rando\\AppData\\Roaming\\Python\\Python39\\site-packages\\napari\\plugins\\_plugin_manager.py:511: UserWarning: Plugin 'napari-simpleitk-image-processing' has already registered a function widget 'connected component labeling' which has now been overwritten\n",
      "  warn(message=warn_message)\n",
      "C:\\Users\\rando\\AppData\\Roaming\\Python\\Python39\\site-packages\\napari\\plugins\\_plugin_manager.py:511: UserWarning: Plugin 'napari-simpleitk-image-processing' has already registered a function widget 'touching objects labeling' which has now been overwritten\n",
      "  warn(message=warn_message)\n",
      "C:\\Users\\rando\\AppData\\Roaming\\Python\\Python39\\site-packages\\napari\\plugins\\_plugin_manager.py:511: UserWarning: Plugin 'napari-simpleitk-image-processing' has already registered a function widget 'watershed otsu labeling' which has now been overwritten\n",
      "  warn(message=warn_message)\n",
      "C:\\Users\\rando\\AppData\\Roaming\\Python\\Python39\\site-packages\\napari\\plugins\\_plugin_manager.py:511: UserWarning: Plugin 'napari-simpleitk-image-processing' has already registered a function widget 'binary fill holes' which has now been overwritten\n",
      "  warn(message=warn_message)\n",
      "C:\\Users\\rando\\AppData\\Roaming\\Python\\Python39\\site-packages\\napari\\plugins\\_plugin_manager.py:511: UserWarning: Plugin 'napari-simpleitk-image-processing' has already registered a function widget 'invert intensity' which has now been overwritten\n",
      "  warn(message=warn_message)\n",
      "C:\\Users\\rando\\AppData\\Roaming\\Python\\Python39\\site-packages\\napari\\plugins\\_plugin_manager.py:511: UserWarning: Plugin 'napari-simpleitk-image-processing' has already registered a function widget 'bilateral filter' which has now been overwritten\n",
      "  warn(message=warn_message)\n",
      "C:\\Users\\rando\\AppData\\Roaming\\Python\\Python39\\site-packages\\napari\\plugins\\_plugin_manager.py:511: UserWarning: Plugin 'napari-simpleitk-image-processing' has already registered a function widget 'laplacian filter' which has now been overwritten\n",
      "  warn(message=warn_message)\n",
      "C:\\Users\\rando\\AppData\\Roaming\\Python\\Python39\\site-packages\\napari\\plugins\\_plugin_manager.py:511: UserWarning: Plugin 'napari-simpleitk-image-processing' has already registered a function widget 'laplacian of gaussian filter' which has now been overwritten\n",
      "  warn(message=warn_message)\n",
      "C:\\Users\\rando\\AppData\\Roaming\\Python\\Python39\\site-packages\\napari\\plugins\\_plugin_manager.py:511: UserWarning: Plugin 'napari-simpleitk-image-processing' has already registered a function widget 'binominal blur filter' which has now been overwritten\n",
      "  warn(message=warn_message)\n",
      "C:\\Users\\rando\\AppData\\Roaming\\Python\\Python39\\site-packages\\napari\\plugins\\_plugin_manager.py:511: UserWarning: Plugin 'napari-simpleitk-image-processing' has already registered a function widget 'canny edge detection' which has now been overwritten\n",
      "  warn(message=warn_message)\n",
      "C:\\Users\\rando\\AppData\\Roaming\\Python\\Python39\\site-packages\\napari\\plugins\\_plugin_manager.py:511: UserWarning: Plugin 'napari-simpleitk-image-processing' has already registered a function widget 'gradient magnitude' which has now been overwritten\n",
      "  warn(message=warn_message)\n",
      "C:\\Users\\rando\\AppData\\Roaming\\Python\\Python39\\site-packages\\napari\\plugins\\_plugin_manager.py:511: UserWarning: Plugin 'napari-simpleitk-image-processing' has already registered a function widget 'h maxima' which has now been overwritten\n",
      "  warn(message=warn_message)\n",
      "C:\\Users\\rando\\AppData\\Roaming\\Python\\Python39\\site-packages\\napari\\plugins\\_plugin_manager.py:511: UserWarning: Plugin 'napari-simpleitk-image-processing' has already registered a function widget 'h minima' which has now been overwritten\n",
      "  warn(message=warn_message)\n",
      "C:\\Users\\rando\\AppData\\Roaming\\Python\\Python39\\site-packages\\napari\\plugins\\_plugin_manager.py:511: UserWarning: Plugin 'napari-simpleitk-image-processing' has already registered a function widget 'otsu multiple thresholds' which has now been overwritten\n",
      "  warn(message=warn_message)\n",
      "C:\\Users\\rando\\AppData\\Roaming\\Python\\Python39\\site-packages\\napari\\plugins\\_plugin_manager.py:511: UserWarning: Plugin 'napari-simpleitk-image-processing' has already registered a function widget 'regional maxima' which has now been overwritten\n",
      "  warn(message=warn_message)\n",
      "C:\\Users\\rando\\AppData\\Roaming\\Python\\Python39\\site-packages\\napari\\plugins\\_plugin_manager.py:511: UserWarning: Plugin 'napari-simpleitk-image-processing' has already registered a function widget 'regional minima' which has now been overwritten\n",
      "  warn(message=warn_message)\n",
      "C:\\Users\\rando\\AppData\\Roaming\\Python\\Python39\\site-packages\\napari\\plugins\\_plugin_manager.py:511: UserWarning: Plugin 'napari-simpleitk-image-processing' has already registered a function widget 'richardson lucy deconvolution' which has now been overwritten\n",
      "  warn(message=warn_message)\n",
      "C:\\Users\\rando\\AppData\\Roaming\\Python\\Python39\\site-packages\\napari\\plugins\\_plugin_manager.py:511: UserWarning: Plugin 'napari-simpleitk-image-processing' has already registered a function widget 'wiener deconvolution' which has now been overwritten\n",
      "  warn(message=warn_message)\n",
      "C:\\Users\\rando\\AppData\\Roaming\\Python\\Python39\\site-packages\\napari\\plugins\\_plugin_manager.py:511: UserWarning: Plugin 'napari-simpleitk-image-processing' has already registered a function widget 'tikhonov deconvolution' which has now been overwritten\n",
      "  warn(message=warn_message)\n",
      "C:\\Users\\rando\\AppData\\Roaming\\Python\\Python39\\site-packages\\napari\\plugins\\_plugin_manager.py:511: UserWarning: Plugin 'napari-simpleitk-image-processing' has already registered a function widget 'rescale intensity' which has now been overwritten\n",
      "  warn(message=warn_message)\n",
      "C:\\Users\\rando\\AppData\\Roaming\\Python\\Python39\\site-packages\\napari\\plugins\\_plugin_manager.py:511: UserWarning: Plugin 'napari-simpleitk-image-processing' has already registered a function widget 'sobel' which has now been overwritten\n",
      "  warn(message=warn_message)\n",
      "C:\\Users\\rando\\AppData\\Roaming\\Python\\Python39\\site-packages\\napari\\plugins\\_plugin_manager.py:511: UserWarning: Plugin 'napari-simpleitk-image-processing' has already registered a function widget 'black top hat' which has now been overwritten\n",
      "  warn(message=warn_message)\n",
      "C:\\Users\\rando\\AppData\\Roaming\\Python\\Python39\\site-packages\\napari\\plugins\\_plugin_manager.py:511: UserWarning: Plugin 'napari-simpleitk-image-processing' has already registered a function widget 'white top hat' which has now been overwritten\n",
      "  warn(message=warn_message)\n",
      "C:\\Users\\rando\\AppData\\Roaming\\Python\\Python39\\site-packages\\napari\\plugins\\_plugin_manager.py:511: UserWarning: Plugin 'napari-simpleitk-image-processing' has already registered a function widget 'adaptive histogram equalization' which has now been overwritten\n",
      "  warn(message=warn_message)\n",
      "C:\\Users\\rando\\AppData\\Roaming\\Python\\Python39\\site-packages\\napari\\plugins\\_plugin_manager.py:511: UserWarning: Plugin 'napari-simpleitk-image-processing' has already registered a function widget 'curvature flow denoise' which has now been overwritten\n",
      "  warn(message=warn_message)\n",
      "C:\\Users\\rando\\AppData\\Roaming\\Python\\Python39\\site-packages\\napari\\plugins\\_plugin_manager.py:511: UserWarning: Plugin 'napari-simpleitk-image-processing' has already registered a function widget 'relabel component' which has now been overwritten\n",
      "  warn(message=warn_message)\n",
      "C:\\Users\\rando\\AppData\\Roaming\\Python\\Python39\\site-packages\\napari\\plugins\\_plugin_manager.py:511: UserWarning: Plugin 'napari-simpleitk-image-processing' has already registered a function widget 'label contour' which has now been overwritten\n",
      "  warn(message=warn_message)\n",
      "C:\\Users\\rando\\AppData\\Roaming\\Python\\Python39\\site-packages\\napari\\plugins\\_plugin_manager.py:511: UserWarning: Plugin 'napari-simpleitk-image-processing' has already registered a function widget 'label statistics' which has now been overwritten\n",
      "  warn(message=warn_message)\n",
      "C:\\Users\\rando\\anaconda3\\envs\\naparienv\\lib\\site-packages\\napari_tools_menu\\__init__.py:165: FutureWarning: Public access to Window.qt_viewer is deprecated and will be removed in\n",
      "v0.5.0. It is considered an \"implementation detail\" of the napari\n",
      "application, not part of the napari viewer model. If your use case\n",
      "requires access to qt_viewer, please open an issue to discuss.\n",
      "  self.tools_menu = ToolsMenu(self, self.qt_viewer.viewer)\n"
     ]
    },
    {
     "data": {
      "text/plain": [
       "<Figure size 432x288 with 0 Axes>"
      ]
     },
     "metadata": {},
     "output_type": "display_data"
    },
    {
     "data": {
      "image/png": "[encoded data removed]",
      "text/plain": [
       "<Figure size 288x288 with 1 Axes>"
      ]
     },
     "metadata": {
      "needs_background": "light"
     },
     "output_type": "display_data"
    }
   ],
   "source": [
    "imagedir = 'D:/TestDatasets/Oneat/Hela_flou/'\n",
    "heatmapdir ='D:/TestDatasets/Oneat/Hela_flou/results_d29f32s3/'\n",
    "csvdir = 'D:/TestDatasets/Oneat/Hela_flou/results_d29f32s3/'\n",
    "categories_json = 'D:/TrainingModels/Oneat/Cellsplithelafloucategories.json'\n",
    "fileextension = '*tif'\n",
    "thresh = 0.99999\n",
    "event_threshold = [thresh, thresh]\n",
    "Vizdetections = NEATViz(imagedir, None, csvdir, categories_json, event_threshold, fileextension = fileextension)"
   ]
  },
  {
   "cell_type": "code",
   "execution_count": null,
   "id": "0d35ad3f",
   "metadata": {},
   "outputs": [],
   "source": []
  },
  {
   "cell_type": "code",
   "execution_count": null,
   "id": "f0b8671e",
   "metadata": {},
   "outputs": [],
   "source": []
  }
 ],
 "metadata": {
  "kernelspec": {
   "display_name": "Python [conda env:naparienv] *",
   "language": "python",
   "name": "conda-env-naparienv-py"
  },
  "language_info": {
   "codemirror_mode": {
    "name": "ipython",
    "version": 3
   },
   "file_extension": ".py",
   "mimetype": "text/x-python",
   "name": "python",
   "nbconvert_exporter": "python",
   "pygments_lexer": "ipython3",
   "version": "3.9.0"
  }
 },
 "nbformat": 4,
 "nbformat_minor": 5
}
