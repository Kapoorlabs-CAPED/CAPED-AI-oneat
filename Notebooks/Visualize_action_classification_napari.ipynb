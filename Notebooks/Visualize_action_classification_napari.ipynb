{
 "cells": [
  {
   "cell_type": "code",
   "execution_count": null,
   "id": "7fbce8da",
   "metadata": {},
   "outputs": [],
   "source": [
    "\n",
    "import sys\n",
    "import os\n",
    "import glob\n",
    "\n",
    "from oneat.NEATUtils import NEATViz\n",
    "\n",
    "%gui qt"
   ]
  },
  {
   "cell_type": "code",
   "execution_count": null,
   "id": "eab77c93",
   "metadata": {
    "scrolled": false
   },
   "outputs": [],
   "source": [
    "imagedir = 'D:/TestDatasets/Oneat/Hela_brightfield/'\n",
    "heatmapdir ='D:/TestDatasets/Oneat/Hela_brightfield/results_d29f32s3/'\n",
    "csvdir = 'D:/TestDatasets/Oneat/Hela_brightfield/results_d29f32s3/'\n",
    "categories_json = 'D:/TrainingModels/Oneat/Cellsplithelafloucategories.json'\n",
    "fileextension = '*tif'\n",
    "thresh = 1.0 - 1.0E-6\n",
    "event_threshold = [thresh, thresh]\n",
    "Vizdetections = NEATViz(imagedir, heatmapdir, csvdir, categories_json, event_threshold, fileextension = fileextension)"
   ]
  },
  {
   "cell_type": "code",
   "execution_count": null,
   "id": "0d35ad3f",
   "metadata": {},
   "outputs": [],
   "source": []
  },
  {
   "cell_type": "code",
   "execution_count": null,
   "id": "f0b8671e",
   "metadata": {},
   "outputs": [],
   "source": []
  }
 ],
 "metadata": {
  "kernelspec": {
   "display_name": "Python [conda env:naparienv] *",
   "language": "python",
   "name": "conda-env-naparienv-py"
  },
  "language_info": {
   "codemirror_mode": {
    "name": "ipython",
    "version": 3
   },
   "file_extension": ".py",
   "mimetype": "text/x-python",
   "name": "python",
   "nbconvert_exporter": "python",
   "pygments_lexer": "ipython3",
   "version": "3.9.0"
  }
 },
 "nbformat": 4,
 "nbformat_minor": 5
}
