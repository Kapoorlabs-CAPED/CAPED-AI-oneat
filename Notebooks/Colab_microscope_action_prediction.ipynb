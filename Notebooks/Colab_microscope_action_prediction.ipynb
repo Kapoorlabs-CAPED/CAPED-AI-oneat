{
 "cells": [
  {
   "cell_type": "code",
   "execution_count": null,
   "id": "58a1f3d0",
   "metadata": {},
   "outputs": [],
   "source": [
    "from google.colab import drive\n",
    "drive.mount('/content/drive', force_remount = True)\n",
    "%tensorflow_version 2.x"
   ]
  },
  {
   "cell_type": "code",
   "execution_count": null,
   "id": "a4f22987",
   "metadata": {},
   "outputs": [],
   "source": [
    "!pip uninstall keras -y\n",
    "!pip uninstall keras-nightly -y\n",
    "!pip uninstall keras-Preprocessing -y\n",
    "!pip uninstall keras-vis -y\n",
    "!pip uninstall tensorflow -y\n",
    "\n",
    "!pip install tensorflow==2.9.0\n",
    "!pip install keras==2.9.0\n",
    "!pip install oneat"
   ]
  },
  {
   "cell_type": "code",
   "execution_count": null,
   "id": "medieval-cabin",
   "metadata": {},
   "outputs": [],
   "source": [
    "import sys\n",
    "import os\n",
    "from glob import glob\n",
    "from oneat.NEATModels import NEATPredict\n",
    "from oneat.NEATUtils.helpers import load_json\n",
    "os.environ[\"CUDA_VISIBLE_DEVICES\"]=\"0\"\n",
    "os.environ[\"HDF5_USE_FILE_LOCKING\"] = \"FALSE\""
   ]
  },
  {
   "cell_type": "code",
   "execution_count": null,
   "id": "handy-mediterranean",
   "metadata": {},
   "outputs": [],
   "source": [
    "Z_imagedir = 'Z_raw/'\n",
    "imagedir = 'Projected_raw/'\n",
    "model_dir =  '/Oneat_models/'\n",
    "model_name = 'Cellsplitpredictor'\n",
    "\n",
    "division_categories_json = model_dir + 'MicroscopeCategories.json'\n",
    "catconfig = load_json(division_categories_json)\n",
    "division_cord_json = model_dir + 'MicroscopeCord.json'\n",
    "cordconfig = load_json(division_cord_json)\n",
    "fileextension = '*TIF'\n",
    "\n",
    "model = NEATPredict(None, model_dir , model_name,catconfig, cordconfig)\n",
    "projection_model = ProjectionCARE(config = None, name = projection_model_name, basedir = model_dir)"
   ]
  },
  {
   "cell_type": "code",
   "execution_count": null,
   "id": "interstate-satin",
   "metadata": {},
   "outputs": [],
   "source": [
    "n_tiles = (1,1)\n",
    "Z_n_tiles = (1,2,2)\n",
    "event_threshold = 1.0 - 1.0E-4\n",
    "iou_threshold = 0.1\n",
    "nb_predictions = 30\n",
    "fidelity = 8\n",
    "downsample = 1"
   ]
  },
  {
   "cell_type": "code",
   "execution_count": null,
   "id": "sweet-statement",
   "metadata": {
    "scrolled": false
   },
   "outputs": [],
   "source": [
    "model.predict_microscope(imagedir, \n",
    "              [], \n",
    "              [], \n",
    "              Z_imagedir, \n",
    "              [], \n",
    "              [],  \n",
    "              0, \n",
    "              0,\n",
    "              downsample = downsample,\n",
    "              fileextension = fileextension, \n",
    "              nb_prediction = nb_predictions, \n",
    "              n_tiles = n_tiles, \n",
    "              Z_n_tiles = Z_n_tiles, \n",
    "              event_threshold = event_threshold, \n",
    "              iou_threshold = iou_threshold,\n",
    "              fidelity = fidelity)\n",
    "\n"
   ]
  }
 ],
 "metadata": {
  "kernelspec": {
   "display_name": "Python 3 (ipykernel)",
   "language": "python",
   "name": "python3"
  },
  "language_info": {
   "codemirror_mode": {
    "name": "ipython",
    "version": 3
   },
   "file_extension": ".py",
   "mimetype": "text/x-python",
   "name": "python",
   "nbconvert_exporter": "python",
   "pygments_lexer": "ipython3",
   "version": "3.9.0"
  }
 },
 "nbformat": 4,
 "nbformat_minor": 5
}
