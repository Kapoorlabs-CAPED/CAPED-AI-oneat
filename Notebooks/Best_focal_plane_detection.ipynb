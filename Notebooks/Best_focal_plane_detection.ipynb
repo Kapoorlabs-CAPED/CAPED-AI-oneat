{
 "cells": [
  {
   "cell_type": "code",
   "execution_count": null,
   "id": "87ec8896",
   "metadata": {},
   "outputs": [],
   "source": [
    "import sys\n",
    "import os\n",
    "import glob\n",
    "from oneat.NEATModels import NEATFocus\n",
    "from oneat.NEATUtils.helpers import load_json\n",
    "os.environ[\"CUDA_VISIBLE_DEVICES\"]=\"0\"\n",
    "os.environ[\"HDF5_USE_FILE_LOCKING\"] = \"FALSE\"\n",
    "from pathlib import Path"
   ]
  },
  {
   "cell_type": "code",
   "execution_count": null,
   "id": "b843f28a",
   "metadata": {},
   "outputs": [],
   "source": [
    "imagedir = '/Z_raw/'\n",
    "model_dir = '/Oneat_models/'\n",
    "savedir= '/Save_dir/'\n",
    "\n",
    "model_name = 'cadhistonefocus'\n",
    "focus_categories_json = model_dir + 'FocusCategories.json'\n",
    "catconfig = load_json(focus_categories_json)\n",
    "focus_cord_json = model_dir + 'FocusCord.json'\n",
    "cordconfig = load_json(focus_cord_json)\n",
    "model = NEATFocus(None, model_dir , model_name,catconfig, cordconfig)\n",
    "Path(savedir).mkdir(exist_ok=True)\n",
    "n_tiles = (1,1)\n"
   ]
  },
  {
   "cell_type": "markdown",
   "id": "59554497",
   "metadata": {},
   "source": [
    "# In the code block below compute the markers and make a dictionary for each image"
   ]
  },
  {
   "cell_type": "code",
   "execution_count": null,
   "id": "510d2e87",
   "metadata": {
    "scrolled": false
   },
   "outputs": [],
   "source": [
    "Raw_path = os.path.join(imagedir, '*tif')\n",
    "X = glob.glob(Raw_path)\n",
    "\n",
    "\n",
    "for imagename in X:\n",
    "     \n",
    "         model.predict(imagename, \n",
    "                       savedir, \n",
    "                       n_tiles = n_tiles)"
   ]
  }
 ],
 "metadata": {
  "kernelspec": {
   "display_name": "Python 3 (ipykernel)",
   "language": "python",
   "name": "python3"
  },
  "language_info": {
   "codemirror_mode": {
    "name": "ipython",
    "version": 3
   },
   "file_extension": ".py",
   "mimetype": "text/x-python",
   "name": "python",
   "nbconvert_exporter": "python",
   "pygments_lexer": "ipython3",
   "version": "3.9.0"
  }
 },
 "nbformat": 4,
 "nbformat_minor": 5
}
