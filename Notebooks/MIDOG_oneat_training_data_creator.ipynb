{
 "cells": [
  {
   "cell_type": "code",
   "execution_count": 1,
   "id": "15392b8c",
   "metadata": {},
   "outputs": [
    {
     "name": "stderr",
     "output_type": "stream",
     "text": [
      "napari.manifest -> 'skeleton-finder' could not be imported: Cannot find module 'skeleton_finder' declared in entrypoint: 'skeleton_finder:napari.yaml'\n"
     ]
    }
   ],
   "source": [
    "\n",
    "import numpy as np\n",
    "from tifffile import imread \n",
    "import sys\n",
    "import os\n",
    "import cv2\n",
    "import glob\n",
    "from tqdm import tqdm\n",
    "import pandas as pd\n",
    "from oneat.NEATUtils import MovieCreator\n",
    "from oneat.NEATUtils.helpers import save_json, load_json\n",
    "from oneat.NEATModels.MidogConfig import MidogConfig\n",
    "from pathlib import Path"
   ]
  },
  {
   "cell_type": "code",
   "execution_count": 2,
   "id": "e1bcf2d0",
   "metadata": {},
   "outputs": [],
   "source": [
    "#Specify the directory containing images\n",
    "midog_folder = 'C:/Users/rando/Downloads/MIDOG_Challenge_2022/images/'\n",
    "#Specify the directory contaiing csv files\n",
    "annotation_file = 'C:/Users/rando/Downloads/MIDOG_Challenge_2022/MIDOG2022_training.json'\n",
    "#Specify the model directory where we store the json of categories, training model and parameters\n",
    "model_dir = 'D:/TrainingModels/MIDOG_Challenge_2022/'\n",
    "#Directory for storing center ONEAT training data \n",
    "save_dir = 'D:/TrainingData/MIDOG_Challenge_2022_p256/'\n",
    "Path(model_dir).mkdir(exist_ok = True)\n",
    "Path(save_dir).mkdir(exist_ok = True)"
   ]
  },
  {
   "cell_type": "code",
   "execution_count": 3,
   "id": "c748ba9e",
   "metadata": {},
   "outputs": [],
   "source": [
    "Normal = \"Normal\"\n",
    "human_breast_cancer = \"human breast cancer\"\n",
    "canine_lung_cancer = \"canine lung cancer\"\n",
    "canine_lymphoma = \"canine lymphoma\"\n",
    "canine_cancer = \"canine cutaneous mast cell tumor\" \n",
    "human_tumor = \"human neuroendocrine tumor\"\n",
    "human_melanoma = \"human melanoma\"\n",
    "\n",
    "event_type_name_label = {Normal : 0, human_breast_cancer : 1,canine_lung_cancer : 2, canine_lymphoma : 3, canine_cancer : 4,\n",
    "                   human_tumor : 5,human_melanoma : 6}\n",
    "\n",
    "midog_ids = list(range(1, 151))\n",
    "clc_ids = list(range(151,195))\n",
    "cly_ids = list(range(195,250))\n",
    "ccmct_ids = list(range(250,300))\n",
    "net_ids = list(range(300,355))\n",
    "mel_ids = list(range(355,406))\n",
    "\n",
    "all_ids = {human_breast_cancer: midog_ids, canine_lung_cancer: clc_ids, canine_lymphoma : cly_ids, canine_cancer : ccmct_ids,\n",
    "        human_tumor : net_ids, human_melanoma : mel_ids}\n",
    "\n",
    "trainshapex = 256\n",
    "trainshapey = 256\n",
    "npz_name = 'MIDOG_256'\n",
    "npz_val_name = 'MIDOG_256val'\n",
    "crop_size = [trainshapex,trainshapey]\n"
   ]
  },
  {
   "cell_type": "code",
   "execution_count": 4,
   "id": "c9f4b367",
   "metadata": {},
   "outputs": [],
   "source": [
    "#X Y T dynamic events\n",
    "\n",
    "\n",
    "\n",
    "\n",
    "event_position_name = [\"x\", \"y\", \"h\", \"w\", \"c\"]\n",
    "event_position_label = [0, 1, 2, 3, 4]\n",
    "\n",
    "config = MidogConfig(event_position_name, event_position_label)\n",
    "\n",
    "cord_json = config.to_json()\n",
    "\n",
    "save_json(event_type_name_label, model_dir + \"Midogcategories\" + '.json')\n",
    "\n",
    "save_json(cord_json, model_dir + \"Midogcord\" + '.json')        "
   ]
  },
  {
   "cell_type": "code",
   "execution_count": 5,
   "id": "940983e3",
   "metadata": {
    "scrolled": false
   },
   "outputs": [],
   "source": [
    "MovieCreator.Midog_to_oneat(midog_folder, annotation_file,event_type_name_label, all_ids, crop_size, save_dir)"
   ]
  },
  {
   "cell_type": "code",
   "execution_count": 6,
   "id": "ba5f3a93",
   "metadata": {},
   "outputs": [
    {
     "ename": "MemoryError",
     "evalue": "Unable to allocate 1.00 MiB for an array with shape (262144,) and data type float32",
     "output_type": "error",
     "traceback": [
      "\u001b[1;31m---------------------------------------------------------------------------\u001b[0m",
      "\u001b[1;31mMemoryError\u001b[0m                               Traceback (most recent call last)",
      "Input \u001b[1;32mIn [6]\u001b[0m, in \u001b[0;36m<cell line: 1>\u001b[1;34m()\u001b[0m\n\u001b[1;32m----> 1\u001b[0m \u001b[43mMovieCreator\u001b[49m\u001b[38;5;241;43m.\u001b[39;49m\u001b[43mcreateNPZ\u001b[49m\u001b[43m(\u001b[49m\u001b[43msave_dir\u001b[49m\u001b[43m,\u001b[49m\u001b[43m \u001b[49m\u001b[43maxes\u001b[49m\u001b[43m \u001b[49m\u001b[38;5;241;43m=\u001b[39;49m\u001b[43m \u001b[49m\u001b[38;5;124;43m'\u001b[39;49m\u001b[38;5;124;43mSXYC\u001b[39;49m\u001b[38;5;124;43m'\u001b[39;49m\u001b[43m,\u001b[49m\u001b[43m \u001b[49m\u001b[43msave_name\u001b[49m\u001b[43m \u001b[49m\u001b[38;5;241;43m=\u001b[39;49m\u001b[43m \u001b[49m\u001b[43mnpz_name\u001b[49m\u001b[43m,\u001b[49m\u001b[43m \u001b[49m\u001b[43msave_name_val\u001b[49m\u001b[43m \u001b[49m\u001b[38;5;241;43m=\u001b[39;49m\u001b[43m \u001b[49m\u001b[43mnpz_val_name\u001b[49m\u001b[43m,\u001b[49m\u001b[43m \u001b[49m\u001b[43mexpand\u001b[49m\u001b[43m \u001b[49m\u001b[38;5;241;43m=\u001b[39;49m\u001b[43m \u001b[49m\u001b[38;5;28;43;01mFalse\u001b[39;49;00m\u001b[43m)\u001b[49m\n",
      "File \u001b[1;32mc:\\users\\rando\\downloads\\caped-ai-oneat\\oneat\\NEATUtils\\MovieCreator.py:802\u001b[0m, in \u001b[0;36mcreateNPZ\u001b[1;34m(save_dir, axes, save_name, save_name_val, expand, static, flip_channel_axis)\u001b[0m\n\u001b[0;32m    800\u001b[0m files_raw \u001b[38;5;241m=\u001b[39m glob\u001b[38;5;241m.\u001b[39mglob(raw_path)\n\u001b[0;32m    801\u001b[0m files_raw\u001b[38;5;241m.\u001b[39msort\n\u001b[1;32m--> 802\u001b[0m NormalizeImages\u001b[38;5;241m=\u001b[39m [imread(fname) \u001b[38;5;28;01mfor\u001b[39;00m fname \u001b[38;5;129;01min\u001b[39;00m files_raw]\n\u001b[0;32m    804\u001b[0m names \u001b[38;5;241m=\u001b[39m [Readname(fname)  \u001b[38;5;28;01mfor\u001b[39;00m fname \u001b[38;5;129;01min\u001b[39;00m files_raw]\n\u001b[0;32m    805\u001b[0m \u001b[38;5;66;03m#Normalize everything before it goes inside the training\u001b[39;00m\n",
      "File \u001b[1;32mc:\\users\\rando\\downloads\\caped-ai-oneat\\oneat\\NEATUtils\\MovieCreator.py:802\u001b[0m, in \u001b[0;36m<listcomp>\u001b[1;34m(.0)\u001b[0m\n\u001b[0;32m    800\u001b[0m files_raw \u001b[38;5;241m=\u001b[39m glob\u001b[38;5;241m.\u001b[39mglob(raw_path)\n\u001b[0;32m    801\u001b[0m files_raw\u001b[38;5;241m.\u001b[39msort\n\u001b[1;32m--> 802\u001b[0m NormalizeImages\u001b[38;5;241m=\u001b[39m [\u001b[43mimread\u001b[49m\u001b[43m(\u001b[49m\u001b[43mfname\u001b[49m\u001b[43m)\u001b[49m \u001b[38;5;28;01mfor\u001b[39;00m fname \u001b[38;5;129;01min\u001b[39;00m files_raw]\n\u001b[0;32m    804\u001b[0m names \u001b[38;5;241m=\u001b[39m [Readname(fname)  \u001b[38;5;28;01mfor\u001b[39;00m fname \u001b[38;5;129;01min\u001b[39;00m files_raw]\n\u001b[0;32m    805\u001b[0m \u001b[38;5;66;03m#Normalize everything before it goes inside the training\u001b[39;00m\n",
      "File \u001b[1;32m~\\anaconda3\\envs\\naparienv\\lib\\site-packages\\tifffile\\tifffile.py:903\u001b[0m, in \u001b[0;36mimread\u001b[1;34m(files, aszarr, **kwargs)\u001b[0m\n\u001b[0;32m    901\u001b[0m             \u001b[38;5;28;01mif\u001b[39;00m aszarr:\n\u001b[0;32m    902\u001b[0m                 \u001b[38;5;28;01mreturn\u001b[39;00m tif\u001b[38;5;241m.\u001b[39maszarr(\u001b[38;5;241m*\u001b[39m\u001b[38;5;241m*\u001b[39mkwargs)\n\u001b[1;32m--> 903\u001b[0m             \u001b[38;5;28;01mreturn\u001b[39;00m tif\u001b[38;5;241m.\u001b[39masarray(\u001b[38;5;241m*\u001b[39m\u001b[38;5;241m*\u001b[39mkwargs)\n\u001b[0;32m    905\u001b[0m \u001b[38;5;28;01melif\u001b[39;00m \u001b[38;5;28misinstance\u001b[39m(files, (FileHandle, BinaryIO)):\n\u001b[0;32m    906\u001b[0m     \u001b[38;5;28;01mraise\u001b[39;00m \u001b[38;5;167;01mValueError\u001b[39;00m(\u001b[38;5;124m'\u001b[39m\u001b[38;5;124mBinaryIO not supported\u001b[39m\u001b[38;5;124m'\u001b[39m)\n",
      "File \u001b[1;32m~\\anaconda3\\envs\\naparienv\\lib\\site-packages\\tifffile\\tifffile.py:3594\u001b[0m, in \u001b[0;36mTiffFile.asarray\u001b[1;34m(self, key, series, level, squeeze, out, maxworkers)\u001b[0m\n\u001b[0;32m   3592\u001b[0m             out \u001b[38;5;241m=\u001b[39m create_output(out, shape, series\u001b[38;5;241m.\u001b[39mdtype)\n\u001b[0;32m   3593\u001b[0m         \u001b[38;5;28mself\u001b[39m\u001b[38;5;241m.\u001b[39mfilehandle\u001b[38;5;241m.\u001b[39mseek(series\u001b[38;5;241m.\u001b[39mdataoffset)\n\u001b[1;32m-> 3594\u001b[0m         result \u001b[38;5;241m=\u001b[39m \u001b[38;5;28;43mself\u001b[39;49m\u001b[38;5;241;43m.\u001b[39;49m\u001b[43mfilehandle\u001b[49m\u001b[38;5;241;43m.\u001b[39;49m\u001b[43mread_array\u001b[49m\u001b[43m(\u001b[49m\n\u001b[0;32m   3595\u001b[0m \u001b[43m            \u001b[49m\u001b[43mtypecode\u001b[49m\u001b[43m,\u001b[49m\u001b[43m \u001b[49m\u001b[43mseries\u001b[49m\u001b[38;5;241;43m.\u001b[39;49m\u001b[43msize\u001b[49m\u001b[43m,\u001b[49m\u001b[43m \u001b[49m\u001b[43mout\u001b[49m\u001b[38;5;241;43m=\u001b[39;49m\u001b[43mout\u001b[49m\n\u001b[0;32m   3596\u001b[0m \u001b[43m        \u001b[49m\u001b[43m)\u001b[49m\n\u001b[0;32m   3597\u001b[0m \u001b[38;5;28;01melif\u001b[39;00m \u001b[38;5;28mlen\u001b[39m(pages) \u001b[38;5;241m==\u001b[39m \u001b[38;5;241m1\u001b[39m:\n\u001b[0;32m   3598\u001b[0m     page0 \u001b[38;5;241m=\u001b[39m pages[\u001b[38;5;241m0\u001b[39m]\n",
      "File \u001b[1;32m~\\anaconda3\\envs\\naparienv\\lib\\site-packages\\tifffile\\tifffile.py:11693\u001b[0m, in \u001b[0;36mFileHandle.read_array\u001b[1;34m(self, dtype, count, out)\u001b[0m\n\u001b[0;32m  11690\u001b[0m \u001b[38;5;28;01melse\u001b[39;00m:\n\u001b[0;32m  11691\u001b[0m     nbytes \u001b[38;5;241m=\u001b[39m count \u001b[38;5;241m*\u001b[39m dtype\u001b[38;5;241m.\u001b[39mitemsize\n\u001b[1;32m> 11693\u001b[0m result \u001b[38;5;241m=\u001b[39m \u001b[43mnumpy\u001b[49m\u001b[38;5;241;43m.\u001b[39;49m\u001b[43mempty\u001b[49m\u001b[43m(\u001b[49m\u001b[43mcount\u001b[49m\u001b[43m,\u001b[49m\u001b[43m \u001b[49m\u001b[43mdtype\u001b[49m\u001b[43m)\u001b[49m \u001b[38;5;28;01mif\u001b[39;00m out \u001b[38;5;129;01mis\u001b[39;00m \u001b[38;5;28;01mNone\u001b[39;00m \u001b[38;5;28;01melse\u001b[39;00m out\n\u001b[0;32m  11695\u001b[0m \u001b[38;5;28;01mif\u001b[39;00m result\u001b[38;5;241m.\u001b[39mnbytes \u001b[38;5;241m!=\u001b[39m nbytes:\n\u001b[0;32m  11696\u001b[0m     \u001b[38;5;28;01mraise\u001b[39;00m \u001b[38;5;167;01mValueError\u001b[39;00m(\u001b[38;5;124m'\u001b[39m\u001b[38;5;124msize mismatch\u001b[39m\u001b[38;5;124m'\u001b[39m)\n",
      "\u001b[1;31mMemoryError\u001b[0m: Unable to allocate 1.00 MiB for an array with shape (262144,) and data type float32"
     ]
    }
   ],
   "source": [
    "MovieCreator.createNPZ(save_dir, axes = 'SXYC', save_name = npz_name, save_name_val = npz_val_name, expand = False)"
   ]
  },
  {
   "cell_type": "code",
   "execution_count": null,
   "id": "47b0f81e",
   "metadata": {},
   "outputs": [],
   "source": []
  },
  {
   "cell_type": "code",
   "execution_count": null,
   "id": "7ef17d1b",
   "metadata": {},
   "outputs": [],
   "source": []
  }
 ],
 "metadata": {
  "kernelspec": {
   "display_name": "Python 3 (ipykernel)",
   "language": "python",
   "name": "python3"
  },
  "language_info": {
   "codemirror_mode": {
    "name": "ipython",
    "version": 3
   },
   "file_extension": ".py",
   "mimetype": "text/x-python",
   "name": "python",
   "nbconvert_exporter": "python",
   "pygments_lexer": "ipython3",
   "version": "3.9.0"
  }
 },
 "nbformat": 4,
 "nbformat_minor": 5
}
