{
 "cells": [
  {
   "cell_type": "code",
   "execution_count": null,
   "id": "15392b8c",
   "metadata": {},
   "outputs": [],
   "source": [
    "\n",
    "import numpy as np\n",
    "from tifffile import imread \n",
    "import sys\n",
    "import os\n",
    "import cv2\n",
    "import glob\n",
    "from tqdm import tqdm\n",
    "import pandas as pd\n",
    "from oneat.NEATUtils import MovieCreator\n",
    "from oneat.NEATUtils.helpers import save_json, load_json\n",
    "from oneat.NEATModels.MidogConfig import MidogConfig\n",
    "from pathlib import Path"
   ]
  },
  {
   "cell_type": "code",
   "execution_count": null,
   "id": "e1bcf2d0",
   "metadata": {},
   "outputs": [],
   "source": [
    "#Specify the directory containing images\n",
    "midog_folder = 'C:/Users/rando/Downloads/MIDOG_Challenge_2022/images/'\n",
    "#Specify the directory contaiing csv files\n",
    "annotation_file = 'C:/Users/rando/Downloads/MIDOG_Challenge_2022/MIDOG2022_training.json'\n",
    "#Specify the model directory where we store the json of categories, training model and parameters\n",
    "model_dir = 'D:/TrainingModels/MIDOG_Challenge_2022/'\n",
    "#Directory for storing center ONEAT training data \n",
    "save_dir = 'D:/TrainingData/MIDOG_Challenge_2022_p256/'\n",
    "Path(model_dir).mkdir(exist_ok = True)\n",
    "Path(save_dir).mkdir(exist_ok = True)"
   ]
  },
  {
   "cell_type": "code",
   "execution_count": null,
   "id": "c748ba9e",
   "metadata": {},
   "outputs": [],
   "source": [
    "human_breast_cancer = \"human breast cancer\"\n",
    "canine_lung_cancer = \"canine lung cancer\"\n",
    "canine_lymphoma = \"canine lymphoma\"\n",
    "canine_cancer = \"canine cutaneous mast cell tumor\" \n",
    "human_tumor = \"human neuroendocrine tumor\"\n",
    "human_melanoma = \"human melanoma\"\n",
    "\n",
    "negative_human_breast_cancer = \"negative human breast cancer\"\n",
    "negative_canine_lung_cancer = \"negative canine lung cancer\"\n",
    "negative_canine_lymphoma = \"negative canine lymphoma\"\n",
    "negative_canine_cancer = \"negative canine cutaneous mast cell tumor\" \n",
    "negative_human_tumor = \"negative human neuroendocrine tumor\"\n",
    "negative_human_melanoma = \"negative human melanoma\"\n",
    "\n",
    "event_type_name_label = {human_breast_cancer : 0,canine_lung_cancer : 1, canine_lymphoma : 2, canine_cancer : 3,\n",
    "human_tumor : 4,human_melanoma : 5, negative_human_breast_cancer :6 ,negative_canine_lung_cancer : 7, \n",
    "negative_canine_lymphoma : 8, negative_canine_cancer : 9, negative_human_tumor : 10, negative_human_melanoma : 11 }\n",
    "\n",
    "midog_ids = list(range(1, 151))\n",
    "clc_ids = list(range(151,195))\n",
    "cly_ids = list(range(195,250))\n",
    "ccmct_ids = list(range(250,300))\n",
    "net_ids = list(range(300,355))\n",
    "mel_ids = list(range(355,406))\n",
    "\n",
    "all_ids = {human_breast_cancer: midog_ids, canine_lung_cancer: clc_ids, canine_lymphoma : cly_ids, canine_cancer : ccmct_ids,\n",
    "        human_tumor : net_ids, human_melanoma : mel_ids}\n",
    "\n",
    "trainshapex = 256\n",
    "trainshapey = 256\n",
    "npz_name = 'MIDOG_256'\n",
    "npz_val_name = 'MIDOG_256val'\n",
    "crop_size = [trainshapex,trainshapey]\n"
   ]
  },
  {
   "cell_type": "code",
   "execution_count": null,
   "id": "c9f4b367",
   "metadata": {},
   "outputs": [],
   "source": [
    "#X Y T dynamic events\n",
    "\n",
    "\n",
    "\n",
    "\n",
    "event_position_name = [\"x\", \"y\", \"h\", \"w\", \"c\"]\n",
    "event_position_label = [0, 1, 2, 3, 4]\n",
    "\n",
    "config = MidogConfig(event_position_name, event_position_label)\n",
    "\n",
    "cord_json = config.to_json()\n",
    "\n",
    "save_json(event_type_name_label, model_dir + \"Midogcategories\" + '.json')\n",
    "\n",
    "save_json(cord_json, model_dir + \"Midogcord\" + '.json')        "
   ]
  },
  {
   "cell_type": "code",
   "execution_count": null,
   "id": "940983e3",
   "metadata": {
    "scrolled": false
   },
   "outputs": [],
   "source": [
    "MovieCreator.Midog_to_oneat(midog_folder, annotation_file,event_type_name_label, all_ids, crop_size, save_dir)"
   ]
  },
  {
   "cell_type": "code",
   "execution_count": null,
   "id": "ba5f3a93",
   "metadata": {},
   "outputs": [],
   "source": [
    "MovieCreator.createNPZ(save_dir, axes = 'SXYC', save_name = npz_name, save_name_val = npz_val_name, expand = False)"
   ]
  },
  {
   "cell_type": "code",
   "execution_count": null,
   "id": "47b0f81e",
   "metadata": {},
   "outputs": [],
   "source": []
  },
  {
   "cell_type": "code",
   "execution_count": null,
   "id": "7ef17d1b",
   "metadata": {},
   "outputs": [],
   "source": []
  }
 ],
 "metadata": {
  "kernelspec": {
   "display_name": "Python 3 (ipykernel)",
   "language": "python",
   "name": "python3"
  },
  "language_info": {
   "codemirror_mode": {
    "name": "ipython",
    "version": 3
   },
   "file_extension": ".py",
   "mimetype": "text/x-python",
   "name": "python",
   "nbconvert_exporter": "python",
   "pygments_lexer": "ipython3",
   "version": "3.9.0"
  }
 },
 "nbformat": 4,
 "nbformat_minor": 5
}
