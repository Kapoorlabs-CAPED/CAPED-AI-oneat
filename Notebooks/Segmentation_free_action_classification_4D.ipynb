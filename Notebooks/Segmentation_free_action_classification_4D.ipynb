{
 "cells": [
  {
   "cell_type": "code",
   "execution_count": 1,
   "id": "87ec8896",
   "metadata": {},
   "outputs": [],
   "source": [
    "\n",
    "import sys\n",
    "import os\n",
    "import glob\n",
    "from csbdeep.models import  CARE\n",
    "from oneat.NEATModels import NEATSynamic\n",
    "from oneat.NEATModels.config import dynamic_config\n",
    "from oneat.NEATUtils import helpers\n",
    "from oneat.NEATUtils.helpers import load_json\n",
    "os.environ[\"CUDA_VISIBLE_DEVICES\"]=\"0\"\n",
    "os.environ[\"HDF5_USE_FILE_LOCKING\"] = \"FALSE\"\n",
    "from pathlib import Path\n"
   ]
  },
  {
   "cell_type": "code",
   "execution_count": 4,
   "id": "99de2206",
   "metadata": {},
   "outputs": [],
   "source": [
    "n_tiles = (8,8)\n",
    "event_threshold = 0.9\n",
    "event_confidence = 0.9\n",
    "iou_threshold = 0.4\n",
    "fidelity = 8\n",
    "downsamplefactor = 1\n",
    "#For a Z of 0 to 22 this setup takes the slices from 11 - 4 = 7 to 11 + 1 = 12\n",
    "start_project_mid = 4\n",
    "end_project_mid = 1\n",
    "normalize = True"
   ]
  },
  {
   "cell_type": "code",
   "execution_count": null,
   "id": "b843f28a",
   "metadata": {
    "scrolled": false
   },
   "outputs": [
    {
     "name": "stdout",
     "output_type": "stream",
     "text": [
      "Image (41, 22, 1112, 1112) is 4 dimensional, projecting around the center 11 - 4 to 11 + 1\n",
      "Detecting event locations\n"
     ]
    },
    {
     "name": "stderr",
     "output_type": "stream",
     "text": [
      "  5%|████                                                                               | 2/41 [00:21<06:32, 10.06s/it]"
     ]
    },
    {
     "name": "stdout",
     "output_type": "stream",
     "text": [
      "[{'Normal': 6.190713e-07, 'Division': 0.9999994, 'xstart': 266, 'ystart': 631, 'tstart': 1.0, 'xcenterraw': 0.47554925084114075, 'ycenterraw': 0.5091658234596252, 'tcenterraw': 0.49569880962371826, 'xcenter': 296.435152053833, 'ycenter': 663.586612701416, 'real_time_event': 2.0, 'box_time_event': 0.0, 'height': 27.26141929626465, 'width': 23.225669860839844, 'confidence': 0.9801874756813049, 'realangle': 2, 'rawangle': 2}, {'Normal': 6.472403e-05, 'Division': 0.99993527, 'xstart': 151, 'ystart': 520, 'tstart': 0.0, 'xcenterraw': 0.5053550004959106, 'ycenterraw': 0.49297961592674255, 'tcenterraw': 0.5152685642242432, 'xcenter': 183.34272003173828, 'ycenter': 551.5506954193115, 'real_time_event': 1.0, 'box_time_event': 0.0, 'height': 29.366960525512695, 'width': 36.821800231933594, 'confidence': 0.9818790555000305, 'realangle': 2, 'rawangle': 2}]\n"
     ]
    },
    {
     "name": "stderr",
     "output_type": "stream",
     "text": [
      "\r",
      "  7%|██████                                                                             | 3/41 [00:28<05:45,  9.09s/it]"
     ]
    },
    {
     "name": "stdout",
     "output_type": "stream",
     "text": [
      "[{'Normal': 3.6727803e-07, 'Division': 0.99999964, 'xstart': 349, 'ystart': 952, 'tstart': 2.0, 'xcenterraw': 0.494354248046875, 'ycenterraw': 0.4818583130836487, 'tcenterraw': 0.5023370981216431, 'xcenter': 380.638671875, 'ycenter': 982.8389320373535, 'real_time_event': 3.0, 'box_time_event': 0.0, 'height': 38.68436050415039, 'width': 29.685623168945312, 'confidence': 0.9058628678321838, 'realangle': 2, 'rawangle': 2}]\n"
     ]
    },
    {
     "name": "stderr",
     "output_type": "stream",
     "text": [
      "\r",
      " 10%|████████                                                                           | 4/41 [00:36<05:15,  8.54s/it]"
     ]
    },
    {
     "name": "stdout",
     "output_type": "stream",
     "text": [
      "[{'Normal': 9.776242e-07, 'Division': 0.99999905, 'xstart': 512, 'ystart': 1049, 'tstart': 3.0, 'xcenterraw': 0.4713508188724518, 'ycenterraw': 0.5040842890739441, 'tcenterraw': 0.511944591999054, 'xcenter': 542.1664524078369, 'ycenter': 1081.2613945007324, 'real_time_event': 4.0, 'box_time_event': 0.0, 'height': 32.52998733520508, 'width': 35.519256591796875, 'confidence': 0.9748719334602356, 'realangle': 2, 'rawangle': 2}, {'Normal': 0.00010752762, 'Division': 0.9998925, 'xstart': 397, 'ystart': 1047, 'tstart': 3.0, 'xcenterraw': 0.5016771554946899, 'ycenterraw': 0.48909321427345276, 'tcenterraw': 0.4968302547931671, 'xcenter': 429.10733795166016, 'ycenter': 1078.301965713501, 'real_time_event': 4.0, 'box_time_event': 0.0, 'height': 22.16312026977539, 'width': 20.41570472717285, 'confidence': 0.9228178262710571, 'realangle': 2, 'rawangle': 2}, {'Normal': 0.000556179, 'Division': 0.9994438, 'xstart': 349, 'ystart': 964, 'tstart': 3.0, 'xcenterraw': 0.47223782539367676, 'ycenterraw': 0.4839363992214203, 'tcenterraw': 0.5038230419158936, 'xcenter': 379.2232208251953, 'ycenter': 994.9719295501709, 'real_time_event': 4.0, 'box_time_event': 0.0, 'height': 28.33156394958496, 'width': 25.00345230102539, 'confidence': 0.9749416708946228, 'realangle': 2, 'rawangle': 2}]\n"
     ]
    },
    {
     "name": "stderr",
     "output_type": "stream",
     "text": [
      "\r",
      " 12%|██████████                                                                         | 5/41 [00:44<04:58,  8.30s/it]"
     ]
    },
    {
     "name": "stdout",
     "output_type": "stream",
     "text": [
      "[{'Normal': 4.1521585e-06, 'Division': 0.9999958, 'xstart': 516, 'ystart': 1051, 'tstart': 4.0, 'xcenterraw': 0.46202635765075684, 'ycenterraw': 0.4964454770088196, 'tcenterraw': 0.4997650384902954, 'xcenter': 545.5696868896484, 'ycenter': 1082.7725105285645, 'real_time_event': 5.0, 'box_time_event': 0.0, 'height': 31.271547317504883, 'width': 19.82884407043457, 'confidence': 0.973896861076355, 'realangle': 2, 'rawangle': 2}, {'Normal': 5.066685e-06, 'Division': 0.9999949, 'xstart': 337, 'ystart': 964, 'tstart': 4.0, 'xcenterraw': 0.4922821521759033, 'ycenterraw': 0.48468005657196045, 'tcenterraw': 0.5181061625480652, 'xcenter': 368.5060577392578, 'ycenter': 995.0195236206055, 'real_time_event': 5.0, 'box_time_event': 0.0, 'height': 28.118640899658203, 'width': 32.49942398071289, 'confidence': 0.9838168621063232, 'realangle': 2, 'rawangle': 2}]\n"
     ]
    },
    {
     "name": "stderr",
     "output_type": "stream",
     "text": [
      "\r",
      " 15%|████████████▏                                                                      | 6/41 [00:52<04:46,  8.19s/it]"
     ]
    },
    {
     "name": "stdout",
     "output_type": "stream",
     "text": [
      "[{'Normal': 0.004882732, 'Division': 0.9951173, 'xstart': 512, 'ystart': 1045, 'tstart': 5.0, 'xcenterraw': 0.507517397403717, 'ycenterraw': 0.4968729019165039, 'tcenterraw': 0.48756927251815796, 'xcenter': 544.4811134338379, 'ycenter': 1076.7998657226562, 'real_time_event': 6.0, 'box_time_event': 0.0, 'height': 27.75448989868164, 'width': 26.8442440032959, 'confidence': 0.9080602526664734, 'realangle': 2, 'rawangle': 2}]\n"
     ]
    },
    {
     "name": "stderr",
     "output_type": "stream",
     "text": [
      "\r",
      " 17%|██████████████▏                                                                    | 7/41 [01:00<04:34,  8.07s/it]"
     ]
    },
    {
     "name": "stdout",
     "output_type": "stream",
     "text": [
      "[{'Normal': 0.0001207408, 'Division': 0.99987924, 'xstart': 464, 'ystart': 337, 'tstart': 6.0, 'xcenterraw': 0.5029882192611694, 'ycenterraw': 0.5088602304458618, 'tcenterraw': 0.5097786784172058, 'xcenter': 496.19124603271484, 'ycenter': 369.56705474853516, 'real_time_event': 7.0, 'box_time_event': 0.0, 'height': 32.787899017333984, 'width': 35.61228942871094, 'confidence': 0.9184238314628601, 'realangle': 2, 'rawangle': 2}, {'Normal': 0.00018302996, 'Division': 0.99981695, 'xstart': 504, 'ystart': 1011, 'tstart': 6.0, 'xcenterraw': 0.493521511554718, 'ycenterraw': 0.4923774003982544, 'tcenterraw': 0.5153406858444214, 'xcenter': 535.585376739502, 'ycenter': 1042.5121536254883, 'real_time_event': 7.0, 'box_time_event': 0.0, 'height': 25.75362205505371, 'width': 25.653520584106445, 'confidence': 0.9181948304176331, 'realangle': 2, 'rawangle': 2}]\n"
     ]
    },
    {
     "name": "stderr",
     "output_type": "stream",
     "text": [
      "\r",
      " 20%|████████████████▏                                                                  | 8/41 [01:08<04:25,  8.05s/it]"
     ]
    },
    {
     "name": "stdout",
     "output_type": "stream",
     "text": [
      "[{'Normal': 0.0011473928, 'Division': 0.9988526, 'xstart': 520, 'ystart': 1027, 'tstart': 7.0, 'xcenterraw': 0.48580315709114075, 'ycenterraw': 0.513651430606842, 'tcenterraw': 0.48508960008621216, 'xcenter': 551.091402053833, 'ycenter': 1059.873691558838, 'real_time_event': 8.0, 'box_time_event': 0.0, 'height': 42.49285125732422, 'width': 43.565486907958984, 'confidence': 0.9246037602424622, 'realangle': 2, 'rawangle': 2}]\n"
     ]
    },
    {
     "name": "stderr",
     "output_type": "stream",
     "text": [
      "\r",
      " 22%|██████████████████▏                                                                | 9/41 [01:16<04:15,  8.00s/it]"
     ]
    },
    {
     "name": "stdout",
     "output_type": "stream",
     "text": [
      "[{'Normal': 3.5935943e-06, 'Division': 0.9999964, 'xstart': 520, 'ystart': 1047, 'tstart': 8.0, 'xcenterraw': 0.5139641761779785, 'ycenterraw': 0.5036199688911438, 'tcenterraw': 0.4977119266986847, 'xcenter': 552.8937072753906, 'ycenter': 1079.2316780090332, 'real_time_event': 9.0, 'box_time_event': 0.0, 'height': 34.13192367553711, 'width': 30.66009521484375, 'confidence': 0.9527372717857361, 'realangle': 2, 'rawangle': 2}]\n"
     ]
    },
    {
     "name": "stderr",
     "output_type": "stream",
     "text": [
      "\r",
      " 24%|████████████████████                                                              | 10/41 [01:24<04:07,  7.98s/it]"
     ]
    },
    {
     "name": "stdout",
     "output_type": "stream",
     "text": [
      "[]\n"
     ]
    },
    {
     "name": "stderr",
     "output_type": "stream",
     "text": [
      "\r",
      " 27%|██████████████████████                                                            | 11/41 [01:39<05:08, 10.28s/it]"
     ]
    },
    {
     "name": "stdout",
     "output_type": "stream",
     "text": [
      "[]\n"
     ]
    },
    {
     "name": "stderr",
     "output_type": "stream",
     "text": [
      "\r",
      " 29%|████████████████████████                                                          | 12/41 [01:47<04:35,  9.49s/it]"
     ]
    },
    {
     "name": "stdout",
     "output_type": "stream",
     "text": [
      "[]\n"
     ]
    },
    {
     "name": "stderr",
     "output_type": "stream",
     "text": [
      "\r",
      " 32%|██████████████████████████                                                        | 13/41 [01:55<04:13,  9.04s/it]"
     ]
    },
    {
     "name": "stdout",
     "output_type": "stream",
     "text": [
      "[]\n"
     ]
    },
    {
     "name": "stderr",
     "output_type": "stream",
     "text": [
      "\r",
      " 34%|████████████████████████████                                                      | 14/41 [02:03<03:54,  8.68s/it]"
     ]
    },
    {
     "name": "stdout",
     "output_type": "stream",
     "text": [
      "[{'Normal': 0.00028063313, 'Division': 0.9997193, 'xstart': 841, 'ystart': 1045, 'tstart': 13.0, 'xcenterraw': 0.4905065596103668, 'ycenterraw': 0.5052188038825989, 'tcenterraw': 0.5006469488143921, 'xcenter': 872.3924198150635, 'ycenter': 1077.3340034484863, 'real_time_event': 14.0, 'box_time_event': 0.0, 'height': 24.50672721862793, 'width': 22.866708755493164, 'confidence': 0.9203436970710754, 'realangle': 2, 'rawangle': 2}]\n"
     ]
    },
    {
     "name": "stderr",
     "output_type": "stream",
     "text": [
      "\r",
      " 37%|██████████████████████████████                                                    | 15/41 [02:11<03:40,  8.48s/it]"
     ]
    },
    {
     "name": "stdout",
     "output_type": "stream",
     "text": [
      "[]\n"
     ]
    },
    {
     "name": "stderr",
     "output_type": "stream",
     "text": [
      "\r",
      " 39%|████████████████████████████████                                                  | 16/41 [02:19<03:29,  8.39s/it]"
     ]
    },
    {
     "name": "stdout",
     "output_type": "stream",
     "text": [
      "[{'Normal': 7.74227e-09, 'Division': 1.0, 'xstart': 997, 'ystart': 385, 'tstart': 15.0, 'xcenterraw': 0.4773379862308502, 'ycenterraw': 0.4966503381729126, 'tcenterraw': 0.49883031845092773, 'xcenter': 1027.5496311187744, 'ycenter': 416.7856216430664, 'real_time_event': 16.0, 'box_time_event': 0.0, 'height': 34.549293518066406, 'width': 33.259864807128906, 'confidence': 0.9069611430168152, 'realangle': 2, 'rawangle': 2}]\n"
     ]
    }
   ],
   "source": [
    "imagedir = 'D:/TestDatasets/Oneat/Xenopus_oneat/'\n",
    "model_dir = 'D:/TrainingModels/Oneat/'\n",
    "savedir= 'D:/TestDatasets/Oneat/Xenopus_oneat/results_d29f8_fid8_iou0.4/'\n",
    "model_name = 'Cellsplitsxenopus_xy64_tm1tp1_s3d29f8'\n",
    "\n",
    "\n",
    "division_categories_json = model_dir + 'Cellsplitcategoriesxenopus.json'\n",
    "catconfig = load_json(division_categories_json)\n",
    "division_cord_json = model_dir + 'Cellsplitcordxenopus.json'\n",
    "cordconfig = load_json(division_cord_json)\n",
    "model = NEATSynamic(None, model_dir , model_name,catconfig, cordconfig)\n",
    "\n",
    "Path(savedir).mkdir(exist_ok=True)\n",
    "\n",
    "Raw_path = os.path.join(imagedir, '*tif')\n",
    "X = glob.glob(Raw_path)\n",
    " \n",
    "for imagename in X:\n",
    "\n",
    "     model.predict_synamic(imagename,\n",
    "                           savedir, \n",
    "                           n_tiles = n_tiles, \n",
    "                           event_threshold = event_threshold, \n",
    "                           event_confidence = event_confidence,\n",
    "                           iou_threshold = iou_threshold,\n",
    "                           fidelity = fidelity,\n",
    "                           downsamplefactor = downsamplefactor,\n",
    "                           start_project_mid = start_project_mid,\n",
    "                           end_project_mid = end_project_mid,\n",
    "                           normalize = normalize)"
   ]
  },
  {
   "cell_type": "code",
   "execution_count": null,
   "id": "d70d9171",
   "metadata": {},
   "outputs": [],
   "source": []
  },
  {
   "cell_type": "code",
   "execution_count": null,
   "id": "624de70c",
   "metadata": {},
   "outputs": [],
   "source": []
  }
 ],
 "metadata": {
  "kernelspec": {
   "display_name": "Python [conda env:naparienv] *",
   "language": "python",
   "name": "conda-env-naparienv-py"
  },
  "language_info": {
   "codemirror_mode": {
    "name": "ipython",
    "version": 3
   },
   "file_extension": ".py",
   "mimetype": "text/x-python",
   "name": "python",
   "nbconvert_exporter": "python",
   "pygments_lexer": "ipython3",
   "version": "3.9.0"
  }
 },
 "nbformat": 4,
 "nbformat_minor": 5
}
