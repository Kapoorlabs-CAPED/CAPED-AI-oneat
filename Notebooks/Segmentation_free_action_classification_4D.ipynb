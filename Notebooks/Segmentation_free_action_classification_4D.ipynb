{
 "cells": [
  {
   "cell_type": "code",
   "execution_count": 1,
   "id": "87ec8896",
   "metadata": {},
   "outputs": [],
   "source": [
    "\n",
    "import sys\n",
    "import os\n",
    "import glob\n",
    "from csbdeep.models import  CARE\n",
    "from oneat.NEATModels import NEATSynamic\n",
    "from oneat.NEATModels.config import dynamic_config\n",
    "from oneat.NEATUtils import helpers\n",
    "from oneat.NEATUtils.helpers import load_json\n",
    "os.environ[\"CUDA_VISIBLE_DEVICES\"]=\"0\"\n",
    "os.environ[\"HDF5_USE_FILE_LOCKING\"] = \"FALSE\"\n",
    "from pathlib import Path\n"
   ]
  },
  {
   "cell_type": "code",
   "execution_count": 10,
   "id": "99de2206",
   "metadata": {},
   "outputs": [],
   "source": [
    "n_tiles = (8,8)\n",
    "event_threshold = 0.999\n",
    "event_confidence = 0.9\n",
    "iou_threshold = 0.4\n",
    "fidelity = 16\n",
    "downsamplefactor = 1\n",
    "#For a Z of 0 to 22 this setup takes the slices from 11 - 4 = 7 to 11 + 1 = 12\n",
    "start_project_mid = 4\n",
    "end_project_mid = 1\n",
    "normalize = True"
   ]
  },
  {
   "cell_type": "code",
   "execution_count": 11,
   "id": "b843f28a",
   "metadata": {
    "scrolled": false
   },
   "outputs": [
    {
     "name": "stdout",
     "output_type": "stream",
     "text": [
      "Image (41, 22, 1112, 1112) is 4 dimensional, projecting around the center 11 - 4 to 11 + 1\n",
      "Detecting event locations\n"
     ]
    },
    {
     "name": "stderr",
     "output_type": "stream",
     "text": [
      "  7%|██████                                                                             | 3/41 [01:52<21:34, 34.06s/it]"
     ]
    },
    {
     "name": "stdout",
     "output_type": "stream",
     "text": [
      "[{'Normal': 3.393488e-09, 'Division': 1.0, 'xstart': 793, 'ystart': 595, 'tstart': 1.0, 'xcenterraw': 0.508395791053772, 'ycenterraw': 0.49775680899620056, 'tcenterraw': 0.5113528370857239, 'xcenter': 825.5373306274414, 'ycenter': 626.8564357757568, 'real_time_event': 2.0, 'box_time_event': 0.0, 'height': 26.23011016845703, 'width': 26.37488555908203, 'confidence': 0.9295715689659119, 'realangle': 2, 'rawangle': 2}, {'Normal': 1.0130001e-08, 'Division': 1.0, 'xstart': 793, 'ystart': 607, 'tstart': 1.0, 'xcenterraw': 0.5011088848114014, 'ycenterraw': 0.5031896829605103, 'tcenterraw': 0.49023813009262085, 'xcenter': 825.0709686279297, 'ycenter': 639.2041397094727, 'real_time_event': 2.0, 'box_time_event': 0.0, 'height': 30.345191955566406, 'width': 25.449411392211914, 'confidence': 0.9328165054321289, 'realangle': 2, 'rawangle': 2}, {'Normal': 4.8858045e-08, 'Division': 1.0, 'xstart': 389, 'ystart': 222, 'tstart': 0.0, 'xcenterraw': 0.49217689037323, 'ycenterraw': 0.4989417493343353, 'tcenterraw': 0.5050904750823975, 'xcenter': 420.4993209838867, 'ycenter': 253.93227195739746, 'real_time_event': 1.0, 'box_time_event': 0.0, 'height': 27.155689239501953, 'width': 22.98245620727539, 'confidence': 0.9544615745544434, 'realangle': 2, 'rawangle': 2}, {'Normal': 3.6318195e-07, 'Division': 0.99999964, 'xstart': 690, 'ystart': 559, 'tstart': 0.0, 'xcenterraw': 0.5027980804443359, 'ycenterraw': 0.507127046585083, 'tcenterraw': 0.4965533912181854, 'xcenter': 722.1790771484375, 'ycenter': 591.4561309814453, 'real_time_event': 1.0, 'box_time_event': 0.0, 'height': 40.70863342285156, 'width': 43.998722076416016, 'confidence': 0.9189102053642273, 'realangle': 2, 'rawangle': 2}, {'Normal': 1.4996727e-06, 'Division': 0.99999845, 'xstart': 468, 'ystart': 559, 'tstart': 1.0, 'xcenterraw': 0.5034942030906677, 'ycenterraw': 0.49718767404556274, 'tcenterraw': 0.494054913520813, 'xcenter': 500.22362899780273, 'ycenter': 590.820011138916, 'real_time_event': 2.0, 'box_time_event': 0.0, 'height': 27.19599723815918, 'width': 27.196680068969727, 'confidence': 0.907444179058075, 'realangle': 2, 'rawangle': 2}]\n"
     ]
    },
    {
     "name": "stderr",
     "output_type": "stream",
     "text": [
      " 17%|██████████████▏                                                                    | 7/41 [03:55<16:51, 29.74s/it]"
     ]
    },
    {
     "name": "stdout",
     "output_type": "stream",
     "text": [
      "[{'Normal': 1.3090256e-08, 'Division': 1.0, 'xstart': 563, 'ystart': 373, 'tstart': 4.0, 'xcenterraw': 0.5044922828674316, 'ycenterraw': 0.49857237935066223, 'tcenterraw': 0.49860212206840515, 'xcenter': 595.2875061035156, 'ycenter': 404.9086322784424, 'real_time_event': 5.0, 'box_time_event': 0.0, 'height': 35.84221649169922, 'width': 28.848989486694336, 'confidence': 0.945493221282959, 'realangle': 2, 'rawangle': 2}, {'Normal': 5.6033233e-08, 'Division': 1.0, 'xstart': 805, 'ystart': 472, 'tstart': 6.0, 'xcenterraw': 0.5240322947502136, 'ycenterraw': 0.49226805567741394, 'tcenterraw': 0.49822747707366943, 'xcenter': 838.5380668640137, 'ycenter': 503.5051555633545, 'real_time_event': 7.0, 'box_time_event': 0.0, 'height': 27.7417049407959, 'width': 23.097135543823242, 'confidence': 0.906066358089447, 'realangle': 2, 'rawangle': 2}, {'Normal': 7.817339e-09, 'Division': 1.0, 'xstart': 559, 'ystart': 365, 'tstart': 4.0, 'xcenterraw': 0.5068920850753784, 'ycenterraw': 0.49982738494873047, 'tcenterraw': 0.4993240535259247, 'xcenter': 591.4410934448242, 'ycenter': 396.98895263671875, 'real_time_event': 5.0, 'box_time_event': 0.0, 'height': 28.566654205322266, 'width': 26.540430068969727, 'confidence': 0.9563388824462891, 'realangle': 2, 'rawangle': 2}, {'Normal': 1.8773614e-08, 'Division': 1.0, 'xstart': 928, 'ystart': 373, 'tstart': 6.0, 'xcenterraw': 0.5047734975814819, 'ycenterraw': 0.49270859360694885, 'tcenterraw': 0.49159249663352966, 'xcenter': 960.3055038452148, 'ycenter': 404.5333499908447, 'real_time_event': 7.0, 'box_time_event': 0.0, 'height': 26.029006958007812, 'width': 29.906044006347656, 'confidence': 0.9386027455329895, 'realangle': 2, 'rawangle': 2}, {'Normal': 2.2531689e-08, 'Division': 1.0, 'xstart': 805, 'ystart': 456, 'tstart': 6.0, 'xcenterraw': 0.4853169322013855, 'ycenterraw': 0.5009610652923584, 'tcenterraw': 0.49117565155029297, 'xcenter': 836.0602836608887, 'ycenter': 488.06150817871094, 'real_time_event': 7.0, 'box_time_event': 0.0, 'height': 24.211505889892578, 'width': 27.64008903503418, 'confidence': 0.9123066663742065, 'realangle': 2, 'rawangle': 2}]\n"
     ]
    },
    {
     "name": "stderr",
     "output_type": "stream",
     "text": [
      " 22%|██████████████████▏                                                                | 9/41 [04:33<13:01, 24.44s/it]"
     ]
    },
    {
     "name": "stdout",
     "output_type": "stream",
     "text": [
      "[{'Normal': 1.3933687e-11, 'Division': 1.0, 'xstart': 924, 'ystart': 369, 'tstart': 7.0, 'xcenterraw': 0.5024694204330444, 'ycenterraw': 0.49060237407684326, 'tcenterraw': 0.5060184001922607, 'xcenter': 956.1580429077148, 'ycenter': 400.39855194091797, 'real_time_event': 8.0, 'box_time_event': 0.0, 'height': 24.83981704711914, 'width': 23.260841369628906, 'confidence': 0.9365478754043579, 'realangle': 2, 'rawangle': 2}, {'Normal': 4.592293e-08, 'Division': 1.0, 'xstart': 179, 'ystart': 563, 'tstart': 7.0, 'xcenterraw': 0.51227205991745, 'ycenterraw': 0.511640727519989, 'tcenterraw': 0.4942706823348999, 'xcenter': 211.7854118347168, 'ycenter': 595.7450065612793, 'real_time_event': 8.0, 'box_time_event': 0.0, 'height': 31.58358383178711, 'width': 32.99094009399414, 'confidence': 0.962378978729248, 'realangle': 2, 'rawangle': 2}, {'Normal': 2.0793071e-07, 'Division': 0.99999976, 'xstart': 40, 'ystart': 353, 'tstart': 8.0, 'xcenterraw': 0.4844757914543152, 'ycenterraw': 0.5069872140884399, 'tcenterraw': 0.49371129274368286, 'xcenter': 71.00645065307617, 'ycenter': 385.44718170166016, 'real_time_event': 9.0, 'box_time_event': 0.0, 'height': 19.19786834716797, 'width': 21.410860061645508, 'confidence': 0.9716264605522156, 'realangle': 2, 'rawangle': 2}, {'Normal': 4.753937e-06, 'Division': 0.99999523, 'xstart': 571, 'ystart': 357, 'tstart': 8.0, 'xcenterraw': 0.4916377365589142, 'ycenterraw': 0.495542973279953, 'tcenterraw': 0.49914827942848206, 'xcenter': 602.4648151397705, 'ycenter': 388.714750289917, 'real_time_event': 9.0, 'box_time_event': 0.0, 'height': 29.877552032470703, 'width': 25.846202850341797, 'confidence': 0.9214213490486145, 'realangle': 2, 'rawangle': 2}]\n"
     ]
    },
    {
     "name": "stderr",
     "output_type": "stream",
     "text": [
      " 29%|████████████████████████                                                          | 12/41 [06:24<14:20, 29.67s/it]"
     ]
    },
    {
     "name": "stdout",
     "output_type": "stream",
     "text": [
      "[{'Normal': 2.0696629e-09, 'Division': 1.0, 'xstart': 167, 'ystart': 262, 'tstart': 12.0, 'xcenterraw': 0.5095597505569458, 'ycenterraw': 0.48955830931663513, 'tcenterraw': 0.4980302155017853, 'xcenter': 199.61182403564453, 'ycenter': 293.33173179626465, 'real_time_event': 13.0, 'box_time_event': 0.0, 'height': 20.985353469848633, 'width': 21.282011032104492, 'confidence': 0.9492350816726685, 'realangle': 2, 'rawangle': 2}, {'Normal': 3.7622303e-08, 'Division': 1.0, 'xstart': 801, 'ystart': 409, 'tstart': 10.0, 'xcenterraw': 0.4991198778152466, 'ycenterraw': 0.4940410852432251, 'tcenterraw': 0.49767494201660156, 'xcenter': 832.9436721801758, 'ycenter': 440.6186294555664, 'real_time_event': 11.0, 'box_time_event': 0.0, 'height': 17.082191467285156, 'width': 28.104578018188477, 'confidence': 0.9665530920028687, 'realangle': 2, 'rawangle': 2}, {'Normal': 1.0864194e-06, 'Division': 0.9999989, 'xstart': 821, 'ystart': 401, 'tstart': 11.0, 'xcenterraw': 0.5065199136734009, 'ycenterraw': 0.509460985660553, 'tcenterraw': 0.49858447909355164, 'xcenter': 853.4172744750977, 'ycenter': 433.6055030822754, 'real_time_event': 12.0, 'box_time_event': 0.0, 'height': 25.411766052246094, 'width': 35.93055725097656, 'confidence': 0.9093965888023376, 'realangle': 2, 'rawangle': 2}, {'Normal': 1.6042104e-06, 'Division': 0.99999845, 'xstart': 587, 'ystart': 615, 'tstart': 12.0, 'xcenterraw': 0.5144569873809814, 'ycenterraw': 0.5000909566879272, 'tcenterraw': 0.49723318219184875, 'xcenter': 619.9252471923828, 'ycenter': 647.0058212280273, 'real_time_event': 13.0, 'box_time_event': 0.0, 'height': 30.760759353637695, 'width': 32.17353057861328, 'confidence': 0.9368209838867188, 'realangle': 2, 'rawangle': 2}]\n"
     ]
    },
    {
     "name": "stderr",
     "output_type": "stream",
     "text": [
      " 39%|████████████████████████████████                                                  | 16/41 [08:09<10:26, 25.05s/it]"
     ]
    },
    {
     "name": "stdout",
     "output_type": "stream",
     "text": [
      "[{'Normal': 9.552221e-10, 'Division': 1.0, 'xstart': 916, 'ystart': 250, 'tstart': 14.0, 'xcenterraw': 0.5058449506759644, 'ycenterraw': 0.5081563591957092, 'tcenterraw': 0.5025649070739746, 'xcenter': 948.3740768432617, 'ycenter': 282.5220069885254, 'real_time_event': 15.0, 'box_time_event': 0.0, 'height': 29.7661075592041, 'width': 31.078983306884766, 'confidence': 0.9381256699562073, 'realangle': 2, 'rawangle': 2}, {'Normal': 2.0708326e-08, 'Division': 1.0, 'xstart': 999, 'ystart': 393, 'tstart': 14.0, 'xcenterraw': 0.5089576840400696, 'ycenterraw': 0.49467000365257263, 'tcenterraw': 0.4891871213912964, 'xcenter': 1031.5732917785645, 'ycenter': 424.65888023376465, 'real_time_event': 15.0, 'box_time_event': 0.0, 'height': 26.694604873657227, 'width': 28.632614135742188, 'confidence': 0.9794690608978271, 'realangle': 2, 'rawangle': 2}, {'Normal': 6.683525e-10, 'Division': 1.0, 'xstart': 993, 'ystart': 401, 'tstart': 14.0, 'xcenterraw': 0.4969496726989746, 'ycenterraw': 0.5014315843582153, 'tcenterraw': 0.48952099680900574, 'xcenter': 1024.8047790527344, 'ycenter': 433.0916213989258, 'real_time_event': 15.0, 'box_time_event': 0.0, 'height': 28.14723014831543, 'width': 21.011981964111328, 'confidence': 0.9118021726608276, 'realangle': 2, 'rawangle': 2}, {'Normal': 3.2480476e-09, 'Division': 1.0, 'xstart': 900, 'ystart': 242, 'tstart': 14.0, 'xcenterraw': 0.5305370092391968, 'ycenterraw': 0.4943075180053711, 'tcenterraw': 0.4962725341320038, 'xcenter': 933.9543685913086, 'ycenter': 273.63568115234375, 'real_time_event': 15.0, 'box_time_event': 0.0, 'height': 28.337364196777344, 'width': 19.801530838012695, 'confidence': 0.9502338171005249, 'realangle': 2, 'rawangle': 2}, {'Normal': 1.2049531e-09, 'Division': 1.0, 'xstart': 900, 'ystart': 234, 'tstart': 14.0, 'xcenterraw': 0.5087130665779114, 'ycenterraw': 0.5046492218971252, 'tcenterraw': 0.49900081753730774, 'xcenter': 932.5576362609863, 'ycenter': 266.297550201416, 'real_time_event': 15.0, 'box_time_event': 0.0, 'height': 30.984586715698242, 'width': 36.14458084106445, 'confidence': 0.9413965940475464, 'realangle': 2, 'rawangle': 2}, {'Normal': 1.47940415e-08, 'Division': 1.0, 'xstart': 678, 'ystart': 262, 'tstart': 15.0, 'xcenterraw': 0.4956360161304474, 'ycenterraw': 0.5034433007240295, 'tcenterraw': 0.503594696521759, 'xcenter': 709.7207050323486, 'ycenter': 294.2203712463379, 'real_time_event': 16.0, 'box_time_event': 0.0, 'height': 38.8811149597168, 'width': 28.780902862548828, 'confidence': 0.9176852107048035, 'realangle': 2, 'rawangle': 2}, {'Normal': 5.015616e-08, 'Division': 1.0, 'xstart': 738, 'ystart': 460, 'tstart': 15.0, 'xcenterraw': 0.5240399241447449, 'ycenterraw': 0.5056869983673096, 'tcenterraw': 0.5012794733047485, 'xcenter': 771.5385551452637, 'ycenter': 492.3639678955078, 'real_time_event': 16.0, 'box_time_event': 0.0, 'height': 29.471832275390625, 'width': 18.956985473632812, 'confidence': 0.9404851198196411, 'realangle': 2, 'rawangle': 2}, {'Normal': 5.6340696e-08, 'Division': 1.0, 'xstart': 993, 'ystart': 377, 'tstart': 15.0, 'xcenterraw': 0.48634839057922363, 'ycenterraw': 0.491610050201416, 'tcenterraw': 0.4826430380344391, 'xcenter': 1024.1262969970703, 'ycenter': 408.4630432128906, 'real_time_event': 16.0, 'box_time_event': 0.0, 'height': 27.217472076416016, 'width': 21.335800170898438, 'confidence': 0.9214023351669312, 'realangle': 2, 'rawangle': 2}, {'Normal': 2.7548026e-07, 'Division': 0.99999976, 'xstart': 583, 'ystart': 615, 'tstart': 13.0, 'xcenterraw': 0.5039347410202026, 'ycenterraw': 0.5040486454963684, 'tcenterraw': 0.5043784976005554, 'xcenter': 615.251823425293, 'ycenter': 647.2591133117676, 'real_time_event': 14.0, 'box_time_event': 0.0, 'height': 24.859329223632812, 'width': 27.95552635192871, 'confidence': 0.9160060286521912, 'realangle': 2, 'rawangle': 2}]\n"
     ]
    },
    {
     "name": "stderr",
     "output_type": "stream",
     "text": [
      " 44%|████████████████████████████████████                                              | 18/41 [09:09<10:47, 28.17s/it]"
     ]
    },
    {
     "name": "stdout",
     "output_type": "stream",
     "text": [
      "[{'Normal': 6.2379018e-09, 'Division': 1.0, 'xstart': 738, 'ystart': 460, 'tstart': 16.0, 'xcenterraw': 0.5264802575111389, 'ycenterraw': 0.5066310167312622, 'tcenterraw': 0.5060458779335022, 'xcenter': 771.6947364807129, 'ycenter': 492.4243850708008, 'real_time_event': 17.0, 'box_time_event': 0.0, 'height': 28.692922592163086, 'width': 27.79255485534668, 'confidence': 0.9375811815261841, 'realangle': 2, 'rawangle': 2}, {'Normal': 2.702153e-08, 'Division': 1.0, 'xstart': 845, 'ystart': 809, 'tstart': 17.0, 'xcenterraw': 0.4995226562023163, 'ycenterraw': 0.5044769048690796, 'tcenterraw': 0.5013957023620605, 'xcenter': 876.9694499969482, 'ycenter': 841.2865219116211, 'real_time_event': 18.0, 'box_time_event': 0.0, 'height': 26.195112228393555, 'width': 34.31052780151367, 'confidence': 0.9359855055809021, 'realangle': 2, 'rawangle': 2}, {'Normal': 2.122563e-08, 'Division': 1.0, 'xstart': 690, 'ystart': 250, 'tstart': 16.0, 'xcenterraw': 0.5255026817321777, 'ycenterraw': 0.49201154708862305, 'tcenterraw': 0.49619540572166443, 'xcenter': 723.6321716308594, 'ycenter': 281.4887390136719, 'real_time_event': 17.0, 'box_time_event': 0.0, 'height': 38.058406829833984, 'width': 39.519874572753906, 'confidence': 0.9420204162597656, 'realangle': 2, 'rawangle': 2}, {'Normal': 1.1884326e-09, 'Division': 1.0, 'xstart': 916, 'ystart': 397, 'tstart': 17.0, 'xcenterraw': 0.4925268590450287, 'ycenterraw': 0.4960923492908478, 'tcenterraw': 0.5005787014961243, 'xcenter': 947.5217189788818, 'ycenter': 428.74991035461426, 'real_time_event': 18.0, 'box_time_event': 0.0, 'height': 18.038799285888672, 'width': 18.56804847717285, 'confidence': 0.9247379899024963, 'realangle': 2, 'rawangle': 2}, {'Normal': 1.9554413e-08, 'Division': 1.0, 'xstart': 167, 'ystart': 587, 'tstart': 17.0, 'xcenterraw': 0.50464928150177, 'ycenterraw': 0.4861738979816437, 'tcenterraw': 0.5022875666618347, 'xcenter': 199.29755401611328, 'ycenter': 618.1151294708252, 'real_time_event': 18.0, 'box_time_event': 0.0, 'height': 22.741743087768555, 'width': 30.902772903442383, 'confidence': 0.9464476704597473, 'realangle': 2, 'rawangle': 2}, {'Normal': 2.1251596e-08, 'Division': 1.0, 'xstart': 246, 'ystart': 4, 'tstart': 17.0, 'xcenterraw': 0.5053447484970093, 'ycenterraw': 0.508646547794342, 'tcenterraw': 0.5001161098480225, 'xcenter': 278.3420639038086, 'ycenter': 36.55337905883789, 'real_time_event': 18.0, 'box_time_event': 0.0, 'height': 25.432361602783203, 'width': 26.641023635864258, 'confidence': 0.9443524479866028, 'realangle': 2, 'rawangle': 2}, {'Normal': 4.054779e-12, 'Division': 1.0, 'xstart': 678, 'ystart': 246, 'tstart': 16.0, 'xcenterraw': 0.4803816080093384, 'ycenterraw': 0.4978289008140564, 'tcenterraw': 0.4871029257774353, 'xcenter': 708.7444229125977, 'ycenter': 277.8610496520996, 'real_time_event': 17.0, 'box_time_event': 0.0, 'height': 27.62546730041504, 'width': 37.272525787353516, 'confidence': 0.9163809418678284, 'realangle': 2, 'rawangle': 2}, {'Normal': 4.2882675e-08, 'Division': 1.0, 'xstart': 591, 'ystart': 163, 'tstart': 16.0, 'xcenterraw': 0.49566900730133057, 'ycenterraw': 0.5019472241401672, 'tcenterraw': 0.49731189012527466, 'xcenter': 622.7228164672852, 'ycenter': 195.1246223449707, 'real_time_event': 17.0, 'box_time_event': 0.0, 'height': 23.87801170349121, 'width': 23.939332962036133, 'confidence': 0.9286582469940186, 'realangle': 2, 'rawangle': 2}, {'Normal': 1.0028468e-06, 'Division': 0.99999905, 'xstart': 999, 'ystart': 357, 'tstart': 17.0, 'xcenterraw': 0.5000527501106262, 'ycenterraw': 0.5015285015106201, 'tcenterraw': 0.4771355092525482, 'xcenter': 1031.00337600708, 'ycenter': 389.0978240966797, 'real_time_event': 18.0, 'box_time_event': 0.0, 'height': 22.052541732788086, 'width': 17.7145938873291, 'confidence': 0.9825019836425781, 'realangle': 2, 'rawangle': 2}, {'Normal': 2.5485829e-06, 'Division': 0.9999975, 'xstart': 817, 'ystart': 1049, 'tstart': 16.0, 'xcenterraw': 0.49612942337989807, 'ycenterraw': 0.504245400428772, 'tcenterraw': 0.5019605159759521, 'xcenter': 848.7522830963135, 'ycenter': 1081.2717056274414, 'real_time_event': 17.0, 'box_time_event': 0.0, 'height': 29.882856369018555, 'width': 28.68694496154785, 'confidence': 0.9523842334747314, 'realangle': 2, 'rawangle': 2}]\n"
     ]
    },
    {
     "name": "stderr",
     "output_type": "stream",
     "text": [
      " 54%|████████████████████████████████████████████                                      | 22/41 [10:58<07:35, 23.98s/it]"
     ]
    },
    {
     "name": "stdout",
     "output_type": "stream",
     "text": [
      "[{'Normal': 1.618541e-08, 'Division': 1.0, 'xstart': 916, 'ystart': 393, 'tstart': 20.0, 'xcenterraw': 0.4857914447784424, 'ycenterraw': 0.4990272521972656, 'tcenterraw': 0.4918488562107086, 'xcenter': 947.0906524658203, 'ycenter': 424.937744140625, 'real_time_event': 21.0, 'box_time_event': 0.0, 'height': 25.560157775878906, 'width': 20.26857566833496, 'confidence': 0.9329186081886292, 'realangle': 2, 'rawangle': 2}, {'Normal': 2.994561e-08, 'Division': 1.0, 'xstart': 670, 'ystart': 163, 'tstart': 19.0, 'xcenterraw': 0.5352299809455872, 'ycenterraw': 0.5109634399414062, 'tcenterraw': 0.4974187910556793, 'xcenter': 704.2547187805176, 'ycenter': 195.70166015625, 'real_time_event': 20.0, 'box_time_event': 0.0, 'height': 43.36061477661133, 'width': 37.34785461425781, 'confidence': 0.9307640790939331, 'realangle': 2, 'rawangle': 2}, {'Normal': 6.921638e-11, 'Division': 1.0, 'xstart': 480, 'ystart': 397, 'tstart': 19.0, 'xcenterraw': 0.467979371547699, 'ycenterraw': 0.4969934821128845, 'tcenterraw': 0.5027107000350952, 'xcenter': 509.95067977905273, 'ycenter': 428.8075828552246, 'real_time_event': 20.0, 'box_time_event': 0.0, 'height': 26.45903968811035, 'width': 34.55360794067383, 'confidence': 0.9399049282073975, 'realangle': 2, 'rawangle': 2}, {'Normal': 2.730404e-08, 'Division': 1.0, 'xstart': 401, 'ystart': 230, 'tstart': 21.0, 'xcenterraw': 0.5169175863265991, 'ycenterraw': 0.4868331849575043, 'tcenterraw': 0.49878180027008057, 'xcenter': 434.08272552490234, 'ycenter': 261.1573238372803, 'real_time_event': 22.0, 'box_time_event': 0.0, 'height': 30.216035842895508, 'width': 32.6460075378418, 'confidence': 0.9427524209022522, 'realangle': 2, 'rawangle': 2}, {'Normal': 4.762949e-08, 'Division': 1.0, 'xstart': 817, 'ystart': 20, 'tstart': 21.0, 'xcenterraw': 0.5050228238105774, 'ycenterraw': 0.4916655719280243, 'tcenterraw': 0.5088105201721191, 'xcenter': 849.321460723877, 'ycenter': 51.466596603393555, 'real_time_event': 22.0, 'box_time_event': 0.0, 'height': 38.53033447265625, 'width': 26.82777976989746, 'confidence': 0.9300687313079834, 'realangle': 2, 'rawangle': 2}, {'Normal': 3.524769e-08, 'Division': 1.0, 'xstart': 155, 'ystart': 920, 'tstart': 20.0, 'xcenterraw': 0.48074692487716675, 'ycenterraw': 0.49878156185150146, 'tcenterraw': 0.4935341477394104, 'xcenter': 185.76780319213867, 'ycenter': 951.9220199584961, 'real_time_event': 21.0, 'box_time_event': 0.0, 'height': 25.462947845458984, 'width': 30.328311920166016, 'confidence': 0.9434853196144104, 'realangle': 2, 'rawangle': 2}, {'Normal': 2.4493069e-08, 'Division': 1.0, 'xstart': 163, 'ystart': 908, 'tstart': 20.0, 'xcenterraw': 0.5114704966545105, 'ycenterraw': 0.5009034872055054, 'tcenterraw': 0.503763735294342, 'xcenter': 195.73411178588867, 'ycenter': 940.0578231811523, 'real_time_event': 21.0, 'box_time_event': 0.0, 'height': 33.920345306396484, 'width': 37.66543197631836, 'confidence': 0.9478439092636108, 'realangle': 2, 'rawangle': 2}, {'Normal': 4.530641e-09, 'Division': 1.0, 'xstart': 472, 'ystart': 381, 'tstart': 19.0, 'xcenterraw': 0.5193780064582825, 'ycenterraw': 0.503472626209259, 'tcenterraw': 0.5082840323448181, 'xcenter': 505.2401924133301, 'ycenter': 413.2222480773926, 'real_time_event': 20.0, 'box_time_event': 0.0, 'height': 22.302791595458984, 'width': 28.138561248779297, 'confidence': 0.9511295557022095, 'realangle': 2, 'rawangle': 2}, {'Normal': 3.434211e-08, 'Division': 1.0, 'xstart': 920, 'ystart': 361, 'tstart': 21.0, 'xcenterraw': 0.4989628791809082, 'ycenterraw': 0.5007650852203369, 'tcenterraw': 0.49045270681381226, 'xcenter': 951.9336242675781, 'ycenter': 393.04896545410156, 'real_time_event': 22.0, 'box_time_event': 0.0, 'height': 22.466463088989258, 'width': 30.62256622314453, 'confidence': 0.9234995245933533, 'realangle': 2, 'rawangle': 2}, {'Normal': 5.0655214e-12, 'Division': 1.0, 'xstart': 472, 'ystart': 389, 'tstart': 19.0, 'xcenterraw': 0.49542105197906494, 'ycenterraw': 0.5042603611946106, 'tcenterraw': 0.4974345564842224, 'xcenter': 503.70694732666016, 'ycenter': 421.2726631164551, 'real_time_event': 20.0, 'box_time_event': 0.0, 'height': 26.651315689086914, 'width': 22.00479507446289, 'confidence': 0.9484283924102783, 'realangle': 2, 'rawangle': 2}, {'Normal': 1.3213574e-08, 'Division': 1.0, 'xstart': 159, 'ystart': 599, 'tstart': 19.0, 'xcenterraw': 0.512340784072876, 'ycenterraw': 0.5088404417037964, 'tcenterraw': 0.5064830183982849, 'xcenter': 191.78981018066406, 'ycenter': 631.565788269043, 'real_time_event': 20.0, 'box_time_event': 0.0, 'height': 27.57624053955078, 'width': 29.198884963989258, 'confidence': 0.9172896146774292, 'realangle': 2, 'rawangle': 2}, {'Normal': 1.6969065e-07, 'Division': 0.9999999, 'xstart': 908, 'ystart': 393, 'tstart': 21.0, 'xcenterraw': 0.4785324037075043, 'ycenterraw': 0.5035253167152405, 'tcenterraw': 0.5063531398773193, 'xcenter': 938.6260738372803, 'ycenter': 425.2256202697754, 'real_time_event': 22.0, 'box_time_event': 0.0, 'height': 34.6444206237793, 'width': 37.516597747802734, 'confidence': 0.9271260499954224, 'realangle': 2, 'rawangle': 2}]\n"
     ]
    },
    {
     "name": "stderr",
     "output_type": "stream",
     "text": [
      " 59%|████████████████████████████████████████████████                                  | 24/41 [11:26<05:19, 18.80s/it]"
     ]
    },
    {
     "name": "stdout",
     "output_type": "stream",
     "text": [
      "[{'Normal': 5.996106e-09, 'Division': 1.0, 'xstart': 706, 'ystart': 131, 'tstart': 23.0, 'xcenterraw': 0.4820527732372284, 'ycenterraw': 0.5012624263763428, 'tcenterraw': 0.482272744178772, 'xcenter': 736.8513774871826, 'ycenter': 163.08079528808594, 'real_time_event': 24.0, 'box_time_event': 0.0, 'height': 29.472089767456055, 'width': 41.01409149169922, 'confidence': 0.9694487452507019, 'realangle': 2, 'rawangle': 2}, {'Normal': 5.1702212e-08, 'Division': 1.0, 'xstart': 702, 'ystart': 115, 'tstart': 22.0, 'xcenterraw': 0.4961003363132477, 'ycenterraw': 0.4857052266597748, 'tcenterraw': 0.504547655582428, 'xcenter': 733.7504215240479, 'ycenter': 146.0851345062256, 'real_time_event': 23.0, 'box_time_event': 0.0, 'height': 23.38043212890625, 'width': 32.20701599121094, 'confidence': 0.9269231557846069, 'realangle': 2, 'rawangle': 2}, {'Normal': 2.6167768e-10, 'Division': 1.0, 'xstart': 460, 'ystart': 738, 'tstart': 23.0, 'xcenterraw': 0.5211968421936035, 'ycenterraw': 0.4991515874862671, 'tcenterraw': 0.49174734950065613, 'xcenter': 493.3565979003906, 'ycenter': 769.9457015991211, 'real_time_event': 24.0, 'box_time_event': 0.0, 'height': 36.327030181884766, 'width': 33.46964645385742, 'confidence': 0.929212212562561, 'realangle': 2, 'rawangle': 2}, {'Normal': 1.0388202e-08, 'Division': 1.0, 'xstart': 714, 'ystart': 801, 'tstart': 23.0, 'xcenterraw': 0.5123708844184875, 'ycenterraw': 0.49564892053604126, 'tcenterraw': 0.4883447289466858, 'xcenter': 746.7917366027832, 'ycenter': 832.7215309143066, 'real_time_event': 24.0, 'box_time_event': 0.0, 'height': 27.53739356994629, 'width': 33.758758544921875, 'confidence': 0.9233905673027039, 'realangle': 2, 'rawangle': 2}, {'Normal': 1.1631039e-08, 'Division': 1.0, 'xstart': 361, 'ystart': 504, 'tstart': 24.0, 'xcenterraw': 0.5040466785430908, 'ycenterraw': 0.49162182211875916, 'tcenterraw': 0.49143391847610474, 'xcenter': 393.2589874267578, 'ycenter': 535.4637966156006, 'real_time_event': 25.0, 'box_time_event': 0.0, 'height': 28.843828201293945, 'width': 34.42955780029297, 'confidence': 0.9190630912780762, 'realangle': 2, 'rawangle': 2}, {'Normal': 2.5604363e-08, 'Division': 1.0, 'xstart': 682, 'ystart': 163, 'tstart': 24.0, 'xcenterraw': 0.48072350025177, 'ycenterraw': 0.49397149682044983, 'tcenterraw': 0.5003597736358643, 'xcenter': 712.7663040161133, 'ycenter': 194.6141757965088, 'real_time_event': 25.0, 'box_time_event': 0.0, 'height': 32.59318923950195, 'width': 45.72307205200195, 'confidence': 0.9333863258361816, 'realangle': 2, 'rawangle': 2}, {'Normal': 3.2532327e-08, 'Division': 1.0, 'xstart': 448, 'ystart': 341, 'tstart': 23.0, 'xcenterraw': 0.5230909585952759, 'ycenterraw': 0.49871817231178284, 'tcenterraw': 0.5056240558624268, 'xcenter': 481.47782135009766, 'ycenter': 372.9179630279541, 'real_time_event': 24.0, 'box_time_event': 0.0, 'height': 28.460121154785156, 'width': 27.76435661315918, 'confidence': 0.93951416015625, 'realangle': 2, 'rawangle': 2}, {'Normal': 2.337136e-08, 'Division': 1.0, 'xstart': 155, 'ystart': 920, 'tstart': 22.0, 'xcenterraw': 0.5121618509292603, 'ycenterraw': 0.4989481568336487, 'tcenterraw': 0.4962359070777893, 'xcenter': 187.77835845947266, 'ycenter': 951.9326820373535, 'real_time_event': 23.0, 'box_time_event': 0.0, 'height': 26.587194442749023, 'width': 28.666805267333984, 'confidence': 0.9353169798851013, 'realangle': 2, 'rawangle': 2}, {'Normal': 2.0700727e-06, 'Division': 0.999998, 'xstart': 254, 'ystart': 985, 'tstart': 23.0, 'xcenterraw': 0.4823620617389679, 'ycenterraw': 0.5031898617744446, 'tcenterraw': 0.5023562908172607, 'xcenter': 284.87117195129395, 'ycenter': 1017.2041511535645, 'real_time_event': 24.0, 'box_time_event': 0.0, 'height': 37.73549270629883, 'width': 36.070343017578125, 'confidence': 0.9279441833496094, 'realangle': 2, 'rawangle': 2}]\n"
     ]
    },
    {
     "name": "stderr",
     "output_type": "stream",
     "text": [
      " 66%|██████████████████████████████████████████████████████                            | 27/41 [12:28<04:21, 18.68s/it]"
     ]
    },
    {
     "name": "stdout",
     "output_type": "stream",
     "text": [
      "[{'Normal': 5.3473705e-08, 'Division': 1.0, 'xstart': 369, 'ystart': 504, 'tstart': 25.0, 'xcenterraw': 0.5050523281097412, 'ycenterraw': 0.48854175209999084, 'tcenterraw': 0.4946681261062622, 'xcenter': 401.32334899902344, 'ycenter': 535.2666721343994, 'real_time_event': 26.0, 'box_time_event': 0.0, 'height': 28.706634521484375, 'width': 20.76020622253418, 'confidence': 0.923943042755127, 'realangle': 2, 'rawangle': 2}, {'Normal': 4.8992238e-08, 'Division': 1.0, 'xstart': 385, 'ystart': 555, 'tstart': 25.0, 'xcenterraw': 0.507257342338562, 'ycenterraw': 0.5063903331756592, 'tcenterraw': 0.5021203756332397, 'xcenter': 417.46446990966797, 'ycenter': 587.4089813232422, 'real_time_event': 26.0, 'box_time_event': 0.0, 'height': 38.0727424621582, 'width': 41.027435302734375, 'confidence': 0.9444825649261475, 'realangle': 2, 'rawangle': 2}, {'Normal': 1.4467775e-08, 'Division': 1.0, 'xstart': 389, 'ystart': 559, 'tstart': 25.0, 'xcenterraw': 0.5188928842544556, 'ycenterraw': 0.49797311425209045, 'tcenterraw': 0.4906485378742218, 'xcenter': 422.20914459228516, 'ycenter': 590.8702793121338, 'real_time_event': 26.0, 'box_time_event': 0.0, 'height': 21.540014266967773, 'width': 20.052391052246094, 'confidence': 0.9462348222732544, 'realangle': 2, 'rawangle': 2}, {'Normal': 9.644384e-09, 'Division': 1.0, 'xstart': 555, 'ystart': 1035, 'tstart': 25.0, 'xcenterraw': 0.490334153175354, 'ycenterraw': 0.4990140497684479, 'tcenterraw': 0.48734936118125916, 'xcenter': 586.3813858032227, 'ycenter': 1066.9368991851807, 'real_time_event': 26.0, 'box_time_event': 0.0, 'height': 23.813146591186523, 'width': 23.820558547973633, 'confidence': 0.9749924540519714, 'realangle': 2, 'rawangle': 2}, {'Normal': 2.5807896e-07, 'Division': 0.99999976, 'xstart': 714, 'ystart': 801, 'tstart': 25.0, 'xcenterraw': 0.5025046467781067, 'ycenterraw': 0.5038610696792603, 'tcenterraw': 0.494558721780777, 'xcenter': 746.1602973937988, 'ycenter': 833.2471084594727, 'real_time_event': 26.0, 'box_time_event': 0.0, 'height': 23.941646575927734, 'width': 29.283096313476562, 'confidence': 0.9349453449249268, 'realangle': 2, 'rawangle': 2}, {'Normal': 4.3412211e-07, 'Division': 0.9999995, 'xstart': 555, 'ystart': 785, 'tstart': 26.0, 'xcenterraw': 0.5084068179130554, 'ycenterraw': 0.48704731464385986, 'tcenterraw': 0.4970504939556122, 'xcenter': 587.5380363464355, 'ycenter': 816.171028137207, 'real_time_event': 27.0, 'box_time_event': 0.0, 'height': 32.630306243896484, 'width': 31.401710510253906, 'confidence': 0.9733296036720276, 'realangle': 2, 'rawangle': 2}, {'Normal': 1.8454504e-06, 'Division': 0.9999982, 'xstart': 377, 'ystart': 397, 'tstart': 25.0, 'xcenterraw': 0.4996495246887207, 'ycenterraw': 0.5015507936477661, 'tcenterraw': 0.5061655044555664, 'xcenter': 408.9775695800781, 'ycenter': 429.09925079345703, 'real_time_event': 26.0, 'box_time_event': 0.0, 'height': 30.65144157409668, 'width': 32.21070861816406, 'confidence': 0.9131243824958801, 'realangle': 2, 'rawangle': 2}, {'Normal': 2.258256e-06, 'Division': 0.99999774, 'xstart': 238, 'ystart': 20, 'tstart': 27.0, 'xcenterraw': 0.49088889360427856, 'ycenterraw': 0.49827924370765686, 'tcenterraw': 0.4855163097381592, 'xcenter': 269.4168891906738, 'ycenter': 51.88987159729004, 'real_time_event': 28.0, 'box_time_event': 0.0, 'height': 24.4638671875, 'width': 26.81589126586914, 'confidence': 0.9092815518379211, 'realangle': 2, 'rawangle': 2}, {'Normal': 1.6212887e-05, 'Division': 0.9999838, 'xstart': 563, 'ystart': 1035, 'tstart': 25.0, 'xcenterraw': 0.49456214904785156, 'ycenterraw': 0.5029737949371338, 'tcenterraw': 0.5154522061347961, 'xcenter': 594.6519775390625, 'ycenter': 1067.1903228759766, 'real_time_event': 26.0, 'box_time_event': 0.0, 'height': 39.58134460449219, 'width': 35.247840881347656, 'confidence': 0.9343202114105225, 'realangle': 2, 'rawangle': 2}, {'Normal': 3.615869e-05, 'Division': 0.9999639, 'xstart': 389, 'ystart': 337, 'tstart': 25.0, 'xcenterraw': 0.4977578818798065, 'ycenterraw': 0.4997599124908447, 'tcenterraw': 0.4962526857852936, 'xcenter': 420.8565044403076, 'ycenter': 368.98463439941406, 'real_time_event': 26.0, 'box_time_event': 0.0, 'height': 30.952524185180664, 'width': 31.63572120666504, 'confidence': 0.9046733379364014, 'realangle': 2, 'rawangle': 2}]\n"
     ]
    },
    {
     "name": "stderr",
     "output_type": "stream",
     "text": [
      " 73%|████████████████████████████████████████████████████████████                      | 30/41 [13:29<03:22, 18.37s/it]"
     ]
    },
    {
     "name": "stdout",
     "output_type": "stream",
     "text": [
      "[{'Normal': 6.0674427e-10, 'Division': 1.0, 'xstart': 587, 'ystart': 809, 'tstart': 28.0, 'xcenterraw': 0.47836533188819885, 'ycenterraw': 0.5027906894683838, 'tcenterraw': 0.4959219992160797, 'xcenter': 617.6153812408447, 'ycenter': 841.1786041259766, 'real_time_event': 29.0, 'box_time_event': 0.0, 'height': 18.79155921936035, 'width': 25.792877197265625, 'confidence': 0.9430363178253174, 'realangle': 2, 'rawangle': 2}, {'Normal': 5.6353775e-09, 'Division': 1.0, 'xstart': 369, 'ystart': 274, 'tstart': 30.0, 'xcenterraw': 0.4935036599636078, 'ycenterraw': 0.5104166865348816, 'tcenterraw': 0.4897098243236542, 'xcenter': 400.5842342376709, 'ycenter': 306.6666679382324, 'real_time_event': 31.0, 'box_time_event': 0.0, 'height': 22.36682891845703, 'width': 23.700315475463867, 'confidence': 0.9415073990821838, 'realangle': 2, 'rawangle': 2}, {'Normal': 4.7471772e-08, 'Division': 1.0, 'xstart': 698, 'ystart': 131, 'tstart': 29.0, 'xcenterraw': 0.5001517534255981, 'ycenterraw': 0.4942227005958557, 'tcenterraw': 0.4923100173473358, 'xcenter': 730.0097122192383, 'ycenter': 162.63025283813477, 'real_time_event': 30.0, 'box_time_event': 0.0, 'height': 23.55632972717285, 'width': 24.479095458984375, 'confidence': 0.9400222301483154, 'realangle': 2, 'rawangle': 2}, {'Normal': 4.6225566e-09, 'Division': 1.0, 'xstart': 702, 'ystart': 135, 'tstart': 28.0, 'xcenterraw': 0.4961540102958679, 'ycenterraw': 0.49299103021621704, 'tcenterraw': 0.49063336849212646, 'xcenter': 733.7538566589355, 'ycenter': 166.5514259338379, 'real_time_event': 29.0, 'box_time_event': 0.0, 'height': 40.444698333740234, 'width': 40.327064514160156, 'confidence': 0.9348191618919373, 'realangle': 2, 'rawangle': 2}, {'Normal': 1.8245013e-08, 'Division': 1.0, 'xstart': 155, 'ystart': 908, 'tstart': 30.0, 'xcenterraw': 0.4987134039402008, 'ycenterraw': 0.49462613463401794, 'tcenterraw': 0.5017324090003967, 'xcenter': 186.91765785217285, 'ycenter': 939.6560726165771, 'real_time_event': 31.0, 'box_time_event': 0.0, 'height': 24.145763397216797, 'width': 25.09358024597168, 'confidence': 0.9484066963195801, 'realangle': 2, 'rawangle': 2}, {'Normal': 1.3577684e-07, 'Division': 0.9999999, 'xstart': 599, 'ystart': 809, 'tstart': 30.0, 'xcenterraw': 0.503260612487793, 'ycenterraw': 0.4986385405063629, 'tcenterraw': 0.4874081313610077, 'xcenter': 631.2086791992188, 'ycenter': 840.9128665924072, 'real_time_event': 31.0, 'box_time_event': 0.0, 'height': 24.464401245117188, 'width': 25.603471755981445, 'confidence': 0.9233839511871338, 'realangle': 2, 'rawangle': 2}, {'Normal': 1.15806735e-07, 'Division': 0.9999999, 'xstart': 694, 'ystart': 123, 'tstart': 30.0, 'xcenterraw': 0.5037548542022705, 'ycenterraw': 0.49541613459587097, 'tcenterraw': 0.48510676622390747, 'xcenter': 726.2403106689453, 'ycenter': 154.70663261413574, 'real_time_event': 31.0, 'box_time_event': 0.0, 'height': 22.96944236755371, 'width': 34.240699768066406, 'confidence': 0.9146848917007446, 'realangle': 2, 'rawangle': 2}, {'Normal': 7.806302e-08, 'Division': 0.9999999, 'xstart': 369, 'ystart': 278, 'tstart': 30.0, 'xcenterraw': 0.4946935176849365, 'ycenterraw': 0.5012891888618469, 'tcenterraw': 0.4917548596858978, 'xcenter': 400.66038513183594, 'ycenter': 310.0825080871582, 'real_time_event': 31.0, 'box_time_event': 0.0, 'height': 32.38380813598633, 'width': 34.924293518066406, 'confidence': 0.9453818798065186, 'realangle': 2, 'rawangle': 2}, {'Normal': 1.2882793e-07, 'Division': 0.9999999, 'xstart': 627, 'ystart': 1029, 'tstart': 30.0, 'xcenterraw': 0.5032200217247009, 'ycenterraw': 0.5123992562294006, 'tcenterraw': 0.49424833059310913, 'xcenter': 659.2060813903809, 'ycenter': 1061.7935523986816, 'real_time_event': 31.0, 'box_time_event': 0.0, 'height': 24.86802101135254, 'width': 38.02130126953125, 'confidence': 0.9300520420074463, 'realangle': 2, 'rawangle': 2}, {'Normal': 2.487058e-07, 'Division': 0.99999976, 'xstart': 1027, 'ystart': 484, 'tstart': 29.0, 'xcenterraw': 0.5146052241325378, 'ycenterraw': 0.5002828240394592, 'tcenterraw': 0.48924073576927185, 'xcenter': 1059.9347343444824, 'ycenter': 516.0181007385254, 'real_time_event': 30.0, 'box_time_event': 0.0, 'height': 20.5958309173584, 'width': 22.23311996459961, 'confidence': 0.9541705846786499, 'realangle': 2, 'rawangle': 2}, {'Normal': 4.0543938e-07, 'Division': 0.99999964, 'xstart': 837, 'ystart': 139, 'tstart': 28.0, 'xcenterraw': 0.4785992503166199, 'ycenterraw': 0.4853519797325134, 'tcenterraw': 0.49393269419670105, 'xcenter': 867.6303520202637, 'ycenter': 170.06252670288086, 'real_time_event': 29.0, 'box_time_event': 0.0, 'height': 25.774511337280273, 'width': 28.421321868896484, 'confidence': 0.9432841539382935, 'realangle': 2, 'rawangle': 2}, {'Normal': 5.252643e-07, 'Division': 0.9999995, 'xstart': 1031, 'ystart': 480, 'tstart': 29.0, 'xcenterraw': 0.5036747455596924, 'ycenterraw': 0.4990823566913605, 'tcenterraw': 0.4873618185520172, 'xcenter': 1063.2351837158203, 'ycenter': 511.94127082824707, 'real_time_event': 30.0, 'box_time_event': 0.0, 'height': 32.763004302978516, 'width': 26.17308807373047, 'confidence': 0.9579080939292908, 'realangle': 2, 'rawangle': 2}, {'Normal': 8.861417e-07, 'Division': 0.99999917, 'xstart': 1005, 'ystart': 960, 'tstart': 28.0, 'xcenterraw': 0.5072207450866699, 'ycenterraw': 0.49923762679100037, 'tcenterraw': 0.4936308264732361, 'xcenter': 1037.4621276855469, 'ycenter': 991.951208114624, 'real_time_event': 29.0, 'box_time_event': 0.0, 'height': 39.6258430480957, 'width': 40.138206481933594, 'confidence': 0.9597120881080627, 'realangle': 2, 'rawangle': 2}, {'Normal': 1.141689e-06, 'Division': 0.9999988, 'xstart': 1049, 'ystart': 492, 'tstart': 29.0, 'xcenterraw': 0.4893735945224762, 'ycenterraw': 0.5013594627380371, 'tcenterraw': 0.4980893135070801, 'xcenter': 1080.3199100494385, 'ycenter': 524.0870056152344, 'real_time_event': 30.0, 'box_time_event': 0.0, 'height': 19.993207931518555, 'width': 21.100492477416992, 'confidence': 0.9746923446655273, 'realangle': 2, 'rawangle': 2}, {'Normal': 1.3320788e-06, 'Division': 0.9999987, 'xstart': 607, 'ystart': 809, 'tstart': 30.0, 'xcenterraw': 0.5103340744972229, 'ycenterraw': 0.49278169870376587, 'tcenterraw': 0.49278226494789124, 'xcenter': 639.6613807678223, 'ycenter': 840.538028717041, 'real_time_event': 31.0, 'box_time_event': 0.0, 'height': 28.505901336669922, 'width': 34.62282943725586, 'confidence': 0.9210474491119385, 'realangle': 2, 'rawangle': 2}, {'Normal': 1.620551e-06, 'Division': 0.99999833, 'xstart': 599, 'ystart': 1023, 'tstart': 28.0, 'xcenterraw': 0.5196552872657776, 'ycenterraw': 0.49273034930229187, 'tcenterraw': 0.4933828115463257, 'xcenter': 632.2579383850098, 'ycenter': 1054.5347423553467, 'real_time_event': 29.0, 'box_time_event': 0.0, 'height': 23.198383331298828, 'width': 24.162532806396484, 'confidence': 0.9481605887413025, 'realangle': 2, 'rawangle': 2}, {'Normal': 5.3204076e-06, 'Division': 0.99999464, 'xstart': 619, 'ystart': 1027, 'tstart': 29.0, 'xcenterraw': 0.5002069473266602, 'ycenterraw': 0.4934835135936737, 'tcenterraw': 0.5035969614982605, 'xcenter': 651.0132446289062, 'ycenter': 1058.5829448699951, 'real_time_event': 30.0, 'box_time_event': 0.0, 'height': 20.125375747680664, 'width': 28.785903930664062, 'confidence': 0.9404282569885254, 'realangle': 2, 'rawangle': 2}]\n"
     ]
    },
    {
     "name": "stderr",
     "output_type": "stream",
     "text": [
      " 80%|██████████████████████████████████████████████████████████████████                | 33/41 [14:17<02:10, 16.28s/it]"
     ]
    },
    {
     "name": "stdout",
     "output_type": "stream",
     "text": [
      "[{'Normal': 3.980337e-08, 'Division': 1.0, 'xstart': 611, 'ystart': 0, 'tstart': 32.0, 'xcenterraw': 0.5013986825942993, 'ycenterraw': 0.49538055062294006, 'tcenterraw': 0.4993112087249756, 'xcenter': 643.0895156860352, 'ycenter': 31.704355239868164, 'real_time_event': 33.0, 'box_time_event': 0.0, 'height': 24.94322967529297, 'width': 30.529327392578125, 'confidence': 0.9422938227653503, 'realangle': 2, 'rawangle': 2}, {'Normal': 4.1073034e-09, 'Division': 1.0, 'xstart': 964, 'ystart': 904, 'tstart': 32.0, 'xcenterraw': 0.5005068182945251, 'ycenterraw': 0.49495837092399597, 'tcenterraw': 0.5107585191726685, 'xcenter': 996.0324363708496, 'ycenter': 935.6773357391357, 'real_time_event': 33.0, 'box_time_event': 0.0, 'height': 28.914941787719727, 'width': 29.472877502441406, 'confidence': 0.9216763973236084, 'realangle': 2, 'rawangle': 2}, {'Normal': 9.5824845e-08, 'Division': 0.9999999, 'xstart': 187, 'ystart': 722, 'tstart': 32.0, 'xcenterraw': 0.49966856837272644, 'ycenterraw': 0.50485759973526, 'tcenterraw': 0.5104067921638489, 'xcenter': 218.9787883758545, 'ycenter': 754.3108863830566, 'real_time_event': 33.0, 'box_time_event': 0.0, 'height': 26.29902458190918, 'width': 39.54426574707031, 'confidence': 0.9617558717727661, 'realangle': 2, 'rawangle': 2}, {'Normal': 1.2951458e-07, 'Division': 0.9999999, 'xstart': 183, 'ystart': 924, 'tstart': 32.0, 'xcenterraw': 0.508118212223053, 'ycenterraw': 0.5163359642028809, 'tcenterraw': 0.5197538137435913, 'xcenter': 215.5195655822754, 'ycenter': 957.0455017089844, 'real_time_event': 33.0, 'box_time_event': 0.0, 'height': 28.64391326904297, 'width': 28.426170349121094, 'confidence': 0.9557552933692932, 'realangle': 2, 'rawangle': 2}, {'Normal': 3.2124185e-06, 'Division': 0.9999968, 'xstart': 131, 'ystart': 694, 'tstart': 31.0, 'xcenterraw': 0.5113531947135925, 'ycenterraw': 0.49730443954467773, 'tcenterraw': 0.4951658248901367, 'xcenter': 163.72660446166992, 'ycenter': 725.8274841308594, 'real_time_event': 32.0, 'box_time_event': 0.0, 'height': 21.629915237426758, 'width': 27.392759323120117, 'confidence': 0.9114397764205933, 'realangle': 2, 'rawangle': 2}, {'Normal': 8.4947016e-05, 'Division': 0.999915, 'xstart': 1003, 'ystart': 397, 'tstart': 32.0, 'xcenterraw': 0.510333240032196, 'ycenterraw': 0.5006048679351807, 'tcenterraw': 0.4999814033508301, 'xcenter': 1035.6613273620605, 'ycenter': 429.03871154785156, 'real_time_event': 33.0, 'box_time_event': 0.0, 'height': 28.863027572631836, 'width': 32.532264709472656, 'confidence': 0.9253319501876831, 'realangle': 2, 'rawangle': 2}]\n"
     ]
    },
    {
     "name": "stderr",
     "output_type": "stream",
     "text": [
      " 88%|████████████████████████████████████████████████████████████████████████          | 36/41 [15:16<01:26, 17.21s/it]"
     ]
    },
    {
     "name": "stdout",
     "output_type": "stream",
     "text": [
      "[{'Normal': 6.559632e-10, 'Division': 1.0, 'xstart': 928, 'ystart': 349, 'tstart': 35.0, 'xcenterraw': 0.5131930112838745, 'ycenterraw': 0.5013163089752197, 'tcenterraw': 0.4988939166069031, 'xcenter': 960.844352722168, 'ycenter': 381.08424377441406, 'real_time_event': 36.0, 'box_time_event': 0.0, 'height': 25.808670043945312, 'width': 30.9848575592041, 'confidence': 0.9142848253250122, 'realangle': 2, 'rawangle': 2}, {'Normal': 1.1681284e-08, 'Division': 1.0, 'xstart': 981, 'ystart': 254, 'tstart': 34.0, 'xcenterraw': 0.5281540751457214, 'ycenterraw': 0.5000714659690857, 'tcenterraw': 0.49526625871658325, 'xcenter': 1014.8018608093262, 'ycenter': 286.0045738220215, 'real_time_event': 35.0, 'box_time_event': 0.0, 'height': 18.170679092407227, 'width': 24.484132766723633, 'confidence': 0.9146848917007446, 'realangle': 2, 'rawangle': 2}, {'Normal': 8.535427e-09, 'Division': 1.0, 'xstart': 64, 'ystart': 246, 'tstart': 34.0, 'xcenterraw': 0.498440146446228, 'ycenterraw': 0.5113784670829773, 'tcenterraw': 0.49592146277427673, 'xcenter': 95.9001693725586, 'ycenter': 278.72822189331055, 'real_time_event': 35.0, 'box_time_event': 0.0, 'height': 36.257102966308594, 'width': 28.033775329589844, 'confidence': 0.9266553521156311, 'realangle': 2, 'rawangle': 2}, {'Normal': 7.8285e-09, 'Division': 1.0, 'xstart': 484, 'ystart': 246, 'tstart': 35.0, 'xcenterraw': 0.5132123827934265, 'ycenterraw': 0.5142269730567932, 'tcenterraw': 0.4994441568851471, 'xcenter': 516.8455924987793, 'ycenter': 278.91052627563477, 'real_time_event': 36.0, 'box_time_event': 0.0, 'height': 36.124656677246094, 'width': 32.011898040771484, 'confidence': 0.9527094960212708, 'realangle': 2, 'rawangle': 2}, {'Normal': 2.3248194e-09, 'Division': 1.0, 'xstart': 940, 'ystart': 718, 'tstart': 35.0, 'xcenterraw': 0.5114278197288513, 'ycenterraw': 0.5031492114067078, 'tcenterraw': 0.4959970712661743, 'xcenter': 972.7313804626465, 'ycenter': 750.2015495300293, 'real_time_event': 36.0, 'box_time_event': 0.0, 'height': 30.03001594543457, 'width': 23.489295959472656, 'confidence': 0.901749312877655, 'realangle': 2, 'rawangle': 2}, {'Normal': 1.6038851e-12, 'Division': 1.0, 'xstart': 948, 'ystart': 698, 'tstart': 36.0, 'xcenterraw': 0.5036885142326355, 'ycenterraw': 0.49952182173728943, 'tcenterraw': 0.4868806004524231, 'xcenter': 980.2360649108887, 'ycenter': 729.9693965911865, 'real_time_event': 37.0, 'box_time_event': 0.0, 'height': 29.100341796875, 'width': 32.464176177978516, 'confidence': 0.9140726327896118, 'realangle': 2, 'rawangle': 2}, {'Normal': 9.200594e-09, 'Division': 1.0, 'xstart': 956, 'ystart': 627, 'tstart': 34.0, 'xcenterraw': 0.5011472702026367, 'ycenterraw': 0.5042130947113037, 'tcenterraw': 0.488655149936676, 'xcenter': 988.0734252929688, 'ycenter': 659.2696380615234, 'real_time_event': 35.0, 'box_time_event': 0.0, 'height': 32.308326721191406, 'width': 27.343215942382812, 'confidence': 0.9277442693710327, 'realangle': 2, 'rawangle': 2}, {'Normal': 1.2711448e-07, 'Division': 0.9999999, 'xstart': 183, 'ystart': 734, 'tstart': 35.0, 'xcenterraw': 0.5107493996620178, 'ycenterraw': 0.5134968757629395, 'tcenterraw': 0.5022721886634827, 'xcenter': 215.68796157836914, 'ycenter': 766.8638000488281, 'real_time_event': 36.0, 'box_time_event': 0.0, 'height': 31.271575927734375, 'width': 33.278316497802734, 'confidence': 0.9509804248809814, 'realangle': 2, 'rawangle': 2}, {'Normal': 7.2067687e-06, 'Division': 0.99999285, 'xstart': 357, 'ystart': 258, 'tstart': 34.0, 'xcenterraw': 0.5085412859916687, 'ycenterraw': 0.5012469291687012, 'tcenterraw': 0.5061308145523071, 'xcenter': 389.5466423034668, 'ycenter': 290.0798034667969, 'real_time_event': 35.0, 'box_time_event': 0.0, 'height': 26.532684326171875, 'width': 26.31499481201172, 'confidence': 0.9217830300331116, 'realangle': 2, 'rawangle': 2}, {'Normal': 1.7933631e-05, 'Division': 0.9999821, 'xstart': 726, 'ystart': 222, 'tstart': 36.0, 'xcenterraw': 0.5126389861106873, 'ycenterraw': 0.5026000142097473, 'tcenterraw': 0.5025859475135803, 'xcenter': 758.808895111084, 'ycenter': 254.16640090942383, 'real_time_event': 37.0, 'box_time_event': 0.0, 'height': 31.30620002746582, 'width': 30.304210662841797, 'confidence': 0.9318267107009888, 'realangle': 2, 'rawangle': 2}]\n"
     ]
    },
    {
     "name": "stderr",
     "output_type": "stream",
     "text": [
      "100%|██████████████████████████████████████████████████████████████████████████████████| 41/41 [16:08<00:00, 23.62s/it]\n"
     ]
    }
   ],
   "source": [
    "imagedir = 'D:/TestDatasets/Oneat/Xenopus_oneat/'\n",
    "model_dir = 'D:/TrainingModels/Oneat/'\n",
    "savedir= 'D:/TestDatasets/Oneat/Xenopus_oneat/results_d29f32_fid16_iou0.4/'\n",
    "model_name = 'Cellsplitsxenopus_xy64_tm1tp1_s3d29f32'\n",
    "\n",
    "\n",
    "division_categories_json = model_dir + 'Cellsplitcategoriesxenopus.json'\n",
    "catconfig = load_json(division_categories_json)\n",
    "division_cord_json = model_dir + 'Cellsplitcordxenopus.json'\n",
    "cordconfig = load_json(division_cord_json)\n",
    "model = NEATSynamic(None, model_dir , model_name,catconfig, cordconfig)\n",
    "\n",
    "Path(savedir).mkdir(exist_ok=True)\n",
    "\n",
    "Raw_path = os.path.join(imagedir, '*tif')\n",
    "X = glob.glob(Raw_path)\n",
    " \n",
    "for imagename in X:\n",
    "\n",
    "     model.predict_synamic(imagename,\n",
    "                           savedir, \n",
    "                           n_tiles = n_tiles, \n",
    "                           event_threshold = event_threshold, \n",
    "                           event_confidence = event_confidence,\n",
    "                           iou_threshold = iou_threshold,\n",
    "                           fidelity = fidelity,\n",
    "                           downsamplefactor = downsamplefactor,\n",
    "                           start_project_mid = start_project_mid,\n",
    "                           end_project_mid = end_project_mid,\n",
    "                           normalize = normalize)"
   ]
  },
  {
   "cell_type": "code",
   "execution_count": null,
   "id": "d70d9171",
   "metadata": {},
   "outputs": [],
   "source": []
  },
  {
   "cell_type": "code",
   "execution_count": null,
   "id": "624de70c",
   "metadata": {},
   "outputs": [],
   "source": []
  }
 ],
 "metadata": {
  "kernelspec": {
   "display_name": "Python [conda env:naparienv] *",
   "language": "python",
   "name": "conda-env-naparienv-py"
  },
  "language_info": {
   "codemirror_mode": {
    "name": "ipython",
    "version": 3
   },
   "file_extension": ".py",
   "mimetype": "text/x-python",
   "name": "python",
   "nbconvert_exporter": "python",
   "pygments_lexer": "ipython3",
   "version": "3.9.0"
  }
 },
 "nbformat": 4,
 "nbformat_minor": 5
}
