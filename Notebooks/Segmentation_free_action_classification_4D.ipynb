{
 "cells": [
  {
   "cell_type": "code",
   "execution_count": 1,
   "id": "87ec8896",
   "metadata": {},
   "outputs": [],
   "source": [
    "\n",
    "import sys\n",
    "import os\n",
    "import glob\n",
    "from csbdeep.models import  CARE\n",
    "from oneat.NEATModels import NEATSynamic\n",
    "from oneat.NEATModels.config import dynamic_config\n",
    "from oneat.NEATUtils import helpers\n",
    "from oneat.NEATUtils.helpers import load_json\n",
    "os.environ[\"CUDA_VISIBLE_DEVICES\"]=\"0\"\n",
    "os.environ[\"HDF5_USE_FILE_LOCKING\"] = \"FALSE\"\n",
    "from pathlib import Path\n"
   ]
  },
  {
   "cell_type": "code",
   "execution_count": 2,
   "id": "99de2206",
   "metadata": {},
   "outputs": [],
   "source": [
    "n_tiles = (8,8)\n",
    "event_threshold = 0.9\n",
    "event_confidence = 0.9\n",
    "iou_threshold = 0.4\n",
    "fidelity = 8\n",
    "downsamplefactor = 1\n",
    "#For a Z of 0 to 22 this setup takes the slices from 11 - 4 = 7 to 11 + 1 = 12\n",
    "start_project_mid = 4\n",
    "end_project_mid = 1\n",
    "normalize = True"
   ]
  },
  {
   "cell_type": "code",
   "execution_count": 3,
   "id": "b843f28a",
   "metadata": {
    "scrolled": false
   },
   "outputs": [
    {
     "name": "stdout",
     "output_type": "stream",
     "text": [
      "Loading network weights from 'weights_best.h5'.\n",
      "Image (41, 22, 1112, 1112) is 4 dimensional, projecting around the center 11 - 4 to 11 + 1\n",
      "Generating mask, hang on\n"
     ]
    },
    {
     "name": "stderr",
     "output_type": "stream",
     "text": [
      "100%|██████████████████████████████████████████████████████████████████████████████████| 64/64 [00:02<00:00, 25.50it/s]\n",
      "100%|██████████████████████████████████████████████████████████████████████████████████| 64/64 [00:02<00:00, 24.02it/s]\n",
      "100%|██████████████████████████████████████████████████████████████████████████████████| 64/64 [00:02<00:00, 22.11it/s]\n",
      "100%|██████████████████████████████████████████████████████████████████████████████████| 64/64 [00:02<00:00, 22.14it/s]\n",
      "100%|██████████████████████████████████████████████████████████████████████████████████| 64/64 [00:02<00:00, 21.36it/s]\n",
      "100%|██████████████████████████████████████████████████████████████████████████████████| 64/64 [00:02<00:00, 22.43it/s]\n",
      "100%|██████████████████████████████████████████████████████████████████████████████████| 64/64 [00:02<00:00, 22.56it/s]\n",
      "100%|██████████████████████████████████████████████████████████████████████████████████| 64/64 [00:02<00:00, 22.40it/s]\n",
      "100%|██████████████████████████████████████████████████████████████████████████████████| 64/64 [00:02<00:00, 21.99it/s]\n",
      "100%|██████████████████████████████████████████████████████████████████████████████████| 64/64 [00:03<00:00, 20.61it/s]\n",
      "100%|██████████████████████████████████████████████████████████████████████████████████| 64/64 [00:02<00:00, 22.54it/s]\n",
      "100%|██████████████████████████████████████████████████████████████████████████████████| 64/64 [00:02<00:00, 22.07it/s]\n",
      "100%|██████████████████████████████████████████████████████████████████████████████████| 64/64 [00:02<00:00, 21.55it/s]\n",
      "100%|██████████████████████████████████████████████████████████████████████████████████| 64/64 [00:02<00:00, 21.52it/s]\n",
      "100%|██████████████████████████████████████████████████████████████████████████████████| 64/64 [00:03<00:00, 21.28it/s]\n",
      "100%|██████████████████████████████████████████████████████████████████████████████████| 64/64 [00:03<00:00, 21.22it/s]\n",
      "100%|██████████████████████████████████████████████████████████████████████████████████| 64/64 [00:03<00:00, 18.74it/s]\n",
      "100%|██████████████████████████████████████████████████████████████████████████████████| 64/64 [00:03<00:00, 18.65it/s]\n",
      "100%|██████████████████████████████████████████████████████████████████████████████████| 64/64 [00:03<00:00, 20.42it/s]\n",
      "100%|██████████████████████████████████████████████████████████████████████████████████| 64/64 [00:03<00:00, 20.45it/s]\n",
      "100%|██████████████████████████████████████████████████████████████████████████████████| 64/64 [00:03<00:00, 20.45it/s]\n",
      "100%|██████████████████████████████████████████████████████████████████████████████████| 64/64 [00:03<00:00, 20.92it/s]\n",
      "100%|██████████████████████████████████████████████████████████████████████████████████| 64/64 [00:02<00:00, 22.38it/s]\n",
      "100%|██████████████████████████████████████████████████████████████████████████████████| 64/64 [00:02<00:00, 22.13it/s]\n",
      "100%|██████████████████████████████████████████████████████████████████████████████████| 64/64 [00:02<00:00, 22.01it/s]\n",
      "100%|██████████████████████████████████████████████████████████████████████████████████| 64/64 [00:02<00:00, 24.11it/s]\n",
      "100%|██████████████████████████████████████████████████████████████████████████████████| 64/64 [00:02<00:00, 22.08it/s]\n",
      "100%|██████████████████████████████████████████████████████████████████████████████████| 64/64 [00:02<00:00, 21.84it/s]\n",
      "100%|██████████████████████████████████████████████████████████████████████████████████| 64/64 [00:02<00:00, 21.53it/s]\n",
      "100%|██████████████████████████████████████████████████████████████████████████████████| 64/64 [00:03<00:00, 21.14it/s]\n",
      "100%|██████████████████████████████████████████████████████████████████████████████████| 64/64 [00:03<00:00, 19.65it/s]\n",
      "100%|██████████████████████████████████████████████████████████████████████████████████| 64/64 [00:03<00:00, 21.30it/s]\n",
      "100%|██████████████████████████████████████████████████████████████████████████████████| 64/64 [00:02<00:00, 21.96it/s]\n",
      "100%|██████████████████████████████████████████████████████████████████████████████████| 64/64 [00:03<00:00, 19.96it/s]\n",
      "100%|██████████████████████████████████████████████████████████████████████████████████| 64/64 [00:03<00:00, 20.20it/s]\n",
      "100%|██████████████████████████████████████████████████████████████████████████████████| 64/64 [00:03<00:00, 21.14it/s]\n",
      "100%|██████████████████████████████████████████████████████████████████████████████████| 64/64 [00:02<00:00, 21.99it/s]\n",
      "100%|██████████████████████████████████████████████████████████████████████████████████| 64/64 [00:03<00:00, 20.31it/s]\n",
      "100%|██████████████████████████████████████████████████████████████████████████████████| 64/64 [00:02<00:00, 21.59it/s]\n",
      "100%|██████████████████████████████████████████████████████████████████████████████████| 64/64 [00:03<00:00, 20.84it/s]\n",
      "100%|██████████████████████████████████████████████████████████████████████████████████| 64/64 [00:02<00:00, 21.71it/s]\n"
     ]
    },
    {
     "ename": "TypeError",
     "evalue": "binary_erosion() got an unexpected keyword argument 'size'",
     "output_type": "error",
     "traceback": [
      "\u001b[1;31m---------------------------------------------------------------------------\u001b[0m",
      "\u001b[1;31mTypeError\u001b[0m                                 Traceback (most recent call last)",
      "\u001b[1;32m~\\AppData\\Local\\Temp/ipykernel_3984/3627778615.py\u001b[0m in \u001b[0;36m<module>\u001b[1;34m\u001b[0m\n\u001b[0;32m     24\u001b[0m \u001b[1;32mfor\u001b[0m \u001b[0mimagename\u001b[0m \u001b[1;32min\u001b[0m \u001b[0mX\u001b[0m\u001b[1;33m:\u001b[0m\u001b[1;33m\u001b[0m\u001b[1;33m\u001b[0m\u001b[0m\n\u001b[0;32m     25\u001b[0m \u001b[1;33m\u001b[0m\u001b[0m\n\u001b[1;32m---> 26\u001b[1;33m      model.predict_synamic(imagename,\n\u001b[0m\u001b[0;32m     27\u001b[0m                            \u001b[0msavedir\u001b[0m\u001b[1;33m,\u001b[0m\u001b[1;33m\u001b[0m\u001b[1;33m\u001b[0m\u001b[0m\n\u001b[0;32m     28\u001b[0m                            \u001b[0mn_tiles\u001b[0m \u001b[1;33m=\u001b[0m \u001b[0mn_tiles\u001b[0m\u001b[1;33m,\u001b[0m\u001b[1;33m\u001b[0m\u001b[1;33m\u001b[0m\u001b[0m\n",
      "\u001b[1;32mc:\\users\\rando\\downloads\\caped-ai-oneat\\oneat\\NEATModels\\neat_faststandard.py\u001b[0m in \u001b[0;36mpredict_synamic\u001b[1;34m(self, imagename, savedir, n_tiles, overlap_percent, event_threshold, event_confidence, iou_threshold, fidelity, downsamplefactor, maskfilter, start_project_mid, end_project_mid, maskmodel, maskdir, normalize)\u001b[0m\n\u001b[0;32m     19\u001b[0m      downsamplefactor = 1, maskfilter = 10,start_project_mid = 4, end_project_mid = 4, maskmodel = None, maskdir = None, normalize = True):\n\u001b[0;32m     20\u001b[0m \u001b[1;33m\u001b[0m\u001b[0m\n\u001b[1;32m---> 21\u001b[1;33m         self.predict(imagename,savedir,n_tiles = n_tiles, overlap_percent = overlap_percent, event_threshold = event_threshold, event_confidence = event_confidence, iou_threshold = iou_threshold, \n\u001b[0m\u001b[0;32m     22\u001b[0m         \u001b[0mfidelity\u001b[0m \u001b[1;33m=\u001b[0m \u001b[0mfidelity\u001b[0m\u001b[1;33m,\u001b[0m \u001b[0mstart_project_mid\u001b[0m \u001b[1;33m=\u001b[0m \u001b[0mstart_project_mid\u001b[0m\u001b[1;33m,\u001b[0m \u001b[0mend_project_mid\u001b[0m \u001b[1;33m=\u001b[0m \u001b[0mend_project_mid\u001b[0m\u001b[1;33m,\u001b[0m \u001b[0mdownsamplefactor\u001b[0m \u001b[1;33m=\u001b[0m \u001b[0mdownsamplefactor\u001b[0m\u001b[1;33m,\u001b[0m \u001b[0mmaskfilter\u001b[0m \u001b[1;33m=\u001b[0m \u001b[0mmaskfilter\u001b[0m\u001b[1;33m,\u001b[0m  \u001b[0mmarkers\u001b[0m \u001b[1;33m=\u001b[0m \u001b[1;32mNone\u001b[0m\u001b[1;33m,\u001b[0m \u001b[0mmarker_tree\u001b[0m \u001b[1;33m=\u001b[0m \u001b[1;32mNone\u001b[0m\u001b[1;33m,\u001b[0m\u001b[1;33m\u001b[0m\u001b[1;33m\u001b[0m\u001b[0m\n\u001b[0;32m     23\u001b[0m          remove_markers = None, maskmodel = maskmodel, maskdir = maskdir, normalize = normalize )\n",
      "\u001b[1;32mc:\\users\\rando\\downloads\\caped-ai-oneat\\oneat\\NEATModels\\neat_goldstandard.py\u001b[0m in \u001b[0;36mpredict\u001b[1;34m(self, imagename, savedir, n_tiles, overlap_percent, event_threshold, event_confidence, iou_threshold, fidelity, downsamplefactor, start_project_mid, end_project_mid, maskfilter, markers, marker_tree, watershed, remove_markers, maskmodel, maskdir, normalize)\u001b[0m\n\u001b[0;32m    381\u001b[0m             \u001b[0mPath\u001b[0m\u001b[1;33m(\u001b[0m\u001b[0mself\u001b[0m\u001b[1;33m.\u001b[0m\u001b[0mmaskdir\u001b[0m\u001b[1;33m)\u001b[0m\u001b[1;33m.\u001b[0m\u001b[0mmkdir\u001b[0m\u001b[1;33m(\u001b[0m\u001b[0mexist_ok\u001b[0m\u001b[1;33m=\u001b[0m\u001b[1;32mTrue\u001b[0m\u001b[1;33m)\u001b[0m\u001b[1;33m\u001b[0m\u001b[1;33m\u001b[0m\u001b[0m\n\u001b[0;32m    382\u001b[0m             \u001b[0mself\u001b[0m\u001b[1;33m.\u001b[0m\u001b[0mmaskimage\u001b[0m \u001b[1;33m=\u001b[0m \u001b[0mGenerate_only_mask\u001b[0m\u001b[1;33m(\u001b[0m\u001b[0mself\u001b[0m\u001b[1;33m.\u001b[0m\u001b[0mimage\u001b[0m\u001b[1;33m,\u001b[0m \u001b[0mself\u001b[0m\u001b[1;33m.\u001b[0m\u001b[0mmaskmodel\u001b[0m\u001b[1;33m,\u001b[0m \u001b[0mself\u001b[0m\u001b[1;33m.\u001b[0m\u001b[0mn_tiles\u001b[0m\u001b[1;33m)\u001b[0m\u001b[1;33m\u001b[0m\u001b[1;33m\u001b[0m\u001b[0m\n\u001b[1;32m--> 383\u001b[1;33m             \u001b[0mself\u001b[0m\u001b[1;33m.\u001b[0m\u001b[0mmaskimage\u001b[0m \u001b[1;33m=\u001b[0m \u001b[0mbinary_erosion\u001b[0m\u001b[1;33m(\u001b[0m\u001b[0mself\u001b[0m\u001b[1;33m.\u001b[0m\u001b[0mmaskimage\u001b[0m\u001b[1;33m,\u001b[0m \u001b[0msize\u001b[0m \u001b[1;33m=\u001b[0m \u001b[0mself\u001b[0m\u001b[1;33m.\u001b[0m\u001b[0mmaskfilter\u001b[0m\u001b[1;33m)\u001b[0m\u001b[1;33m\u001b[0m\u001b[1;33m\u001b[0m\u001b[0m\n\u001b[0m\u001b[0;32m    384\u001b[0m             \u001b[0mimwrite\u001b[0m\u001b[1;33m(\u001b[0m\u001b[0mself\u001b[0m\u001b[1;33m.\u001b[0m\u001b[0mmaskdir\u001b[0m \u001b[1;33m+\u001b[0m \u001b[1;34m'/'\u001b[0m \u001b[1;33m+\u001b[0m \u001b[0mself\u001b[0m\u001b[1;33m.\u001b[0m\u001b[0mName\u001b[0m \u001b[1;33m+\u001b[0m \u001b[1;34m'.tif'\u001b[0m\u001b[1;33m,\u001b[0m \u001b[0mself\u001b[0m\u001b[1;33m.\u001b[0m\u001b[0mmask\u001b[0m\u001b[1;33m.\u001b[0m\u001b[0mastype\u001b[0m\u001b[1;33m(\u001b[0m\u001b[1;34m'float32'\u001b[0m\u001b[1;33m)\u001b[0m\u001b[1;33m)\u001b[0m\u001b[1;33m\u001b[0m\u001b[1;33m\u001b[0m\u001b[0m\n\u001b[0;32m    385\u001b[0m             \u001b[0mprint\u001b[0m\u001b[1;33m(\u001b[0m\u001b[1;34mf'Mask generated and saved at {self.maskdir}'\u001b[0m\u001b[1;33m)\u001b[0m\u001b[1;33m\u001b[0m\u001b[1;33m\u001b[0m\u001b[0m\n",
      "\u001b[1;31mTypeError\u001b[0m: binary_erosion() got an unexpected keyword argument 'size'"
     ]
    }
   ],
   "source": [
    "imagedir = 'D:/TestDatasets/Oneat/Xenopus_oneat/'\n",
    "model_dir = 'D:/TrainingModels/Oneat/'\n",
    "savedir= 'D:/TestDatasets/Oneat/Xenopus_oneat/results_d29f32_fid8/'\n",
    "model_name = 'Cellsplitsxenopus_xy64_tm1tp1_s3d29f32'\n",
    "\n",
    "#Either load the mask model or provide the mask image that is pre computed\n",
    "mask_model_dir = 'D:/TrainingModels/MASKUNET/'\n",
    "mask_model_name =  'Roi_Nuclei_Xenopus'\n",
    "mask_model = CARE(None, mask_model_name,mask_model_dir)\n",
    "\n",
    "maskdir= 'D:/TestDatasets/Oneat/Xenopus_oneat/results/Mask/'\n",
    "\n",
    "division_categories_json = model_dir + 'Cellsplitcategoriesxenopus.json'\n",
    "catconfig = load_json(division_categories_json)\n",
    "division_cord_json = model_dir + 'Cellsplitcordxenopus.json'\n",
    "cordconfig = load_json(division_cord_json)\n",
    "model = NEATSynamic(None, model_dir , model_name,catconfig, cordconfig)\n",
    "\n",
    "Path(savedir).mkdir(exist_ok=True)\n",
    "\n",
    "Raw_path = os.path.join(imagedir, '*tif')\n",
    "X = glob.glob(Raw_path)\n",
    " \n",
    "for imagename in X:\n",
    "\n",
    "     model.predict_synamic(imagename,\n",
    "                           savedir, \n",
    "                           n_tiles = n_tiles, \n",
    "                           event_threshold = event_threshold, \n",
    "                           event_confidence = event_confidence,\n",
    "                           iou_threshold = iou_threshold,\n",
    "                           fidelity = fidelity,\n",
    "                           downsamplefactor = downsamplefactor,\n",
    "                           start_project_mid = start_project_mid,\n",
    "                           end_project_mid = end_project_mid,\n",
    "                           maskmodel = mask_model,\n",
    "                           maskdir = maskdir,\n",
    "                           normalize = normalize)"
   ]
  },
  {
   "cell_type": "code",
   "execution_count": null,
   "id": "d70d9171",
   "metadata": {},
   "outputs": [],
   "source": []
  },
  {
   "cell_type": "code",
   "execution_count": null,
   "id": "624de70c",
   "metadata": {},
   "outputs": [],
   "source": []
  }
 ],
 "metadata": {
  "kernelspec": {
   "display_name": "Python [conda env:naparienv] *",
   "language": "python",
   "name": "conda-env-naparienv-py"
  },
  "language_info": {
   "codemirror_mode": {
    "name": "ipython",
    "version": 3
   },
   "file_extension": ".py",
   "mimetype": "text/x-python",
   "name": "python",
   "nbconvert_exporter": "python",
   "pygments_lexer": "ipython3",
   "version": "3.9.0"
  }
 },
 "nbformat": 4,
 "nbformat_minor": 5
}
