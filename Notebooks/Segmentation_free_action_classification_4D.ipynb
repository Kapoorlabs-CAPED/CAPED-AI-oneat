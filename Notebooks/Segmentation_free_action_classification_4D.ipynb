{
 "cells": [
  {
   "cell_type": "code",
   "execution_count": 1,
   "id": "87ec8896",
   "metadata": {},
   "outputs": [],
   "source": [
    "\n",
    "import sys\n",
    "import os\n",
    "import glob\n",
    "from csbdeep.models import  CARE\n",
    "from oneat.NEATModels import NEATSynamic\n",
    "from oneat.NEATModels.config import dynamic_config\n",
    "from oneat.NEATUtils import helpers\n",
    "from oneat.NEATUtils.helpers import load_json\n",
    "os.environ[\"CUDA_VISIBLE_DEVICES\"]=\"0\"\n",
    "os.environ[\"HDF5_USE_FILE_LOCKING\"] = \"FALSE\"\n",
    "from pathlib import Path\n"
   ]
  },
  {
   "cell_type": "code",
   "execution_count": 2,
   "id": "99de2206",
   "metadata": {},
   "outputs": [],
   "source": [
    "n_tiles = (8,8)\n",
    "event_threshold = 0.99\n",
    "event_confidence = 0.8\n",
    "iou_threshold = 0.6\n",
    "fidelity = 8\n",
    "downsamplefactor = 1\n",
    "#For a Z of 0 to 22 this setup takes the slices from 11 - 4 = 7 to 11 - 0 = 11\n",
    "start_project_mid = 4\n",
    "end_project_mid = 0"
   ]
  },
  {
   "cell_type": "code",
   "execution_count": 3,
   "id": "b843f28a",
   "metadata": {},
   "outputs": [
    {
     "name": "stdout",
     "output_type": "stream",
     "text": [
      "Loading network weights from 'weights_best.h5'.\n",
      "Image (41, 22, 1112, 1112) is 4 dimensional, projecting around the center 22 - 4 to 22 - 0\n"
     ]
    },
    {
     "name": "stderr",
     "output_type": "stream",
     "text": [
      "100%|██████████████████████████████████████████████████████████████████████████████████| 64/64 [00:02<00:00, 23.17it/s]\n",
      "100%|██████████████████████████████████████████████████████████████████████████████████| 64/64 [00:03<00:00, 20.42it/s]\n",
      "100%|██████████████████████████████████████████████████████████████████████████████████| 64/64 [00:03<00:00, 19.92it/s]\n",
      "100%|██████████████████████████████████████████████████████████████████████████████████| 64/64 [00:03<00:00, 19.76it/s]\n",
      "100%|██████████████████████████████████████████████████████████████████████████████████| 64/64 [00:03<00:00, 18.82it/s]\n",
      "100%|██████████████████████████████████████████████████████████████████████████████████| 64/64 [00:03<00:00, 19.13it/s]\n",
      "100%|██████████████████████████████████████████████████████████████████████████████████| 64/64 [00:03<00:00, 19.51it/s]\n",
      "100%|██████████████████████████████████████████████████████████████████████████████████| 64/64 [00:03<00:00, 18.23it/s]\n",
      "100%|██████████████████████████████████████████████████████████████████████████████████| 64/64 [00:03<00:00, 19.06it/s]\n",
      "100%|██████████████████████████████████████████████████████████████████████████████████| 64/64 [00:03<00:00, 18.77it/s]\n",
      "100%|██████████████████████████████████████████████████████████████████████████████████| 64/64 [00:03<00:00, 19.43it/s]\n",
      "100%|██████████████████████████████████████████████████████████████████████████████████| 64/64 [00:03<00:00, 18.35it/s]\n",
      "100%|██████████████████████████████████████████████████████████████████████████████████| 64/64 [00:03<00:00, 18.48it/s]\n",
      "100%|██████████████████████████████████████████████████████████████████████████████████| 64/64 [00:03<00:00, 19.16it/s]\n",
      "100%|██████████████████████████████████████████████████████████████████████████████████| 64/64 [00:03<00:00, 18.23it/s]\n",
      "100%|██████████████████████████████████████████████████████████████████████████████████| 64/64 [00:03<00:00, 18.50it/s]\n",
      "100%|██████████████████████████████████████████████████████████████████████████████████| 64/64 [00:03<00:00, 18.93it/s]\n",
      "100%|██████████████████████████████████████████████████████████████████████████████████| 64/64 [00:03<00:00, 17.98it/s]\n",
      "100%|██████████████████████████████████████████████████████████████████████████████████| 64/64 [00:03<00:00, 19.08it/s]\n",
      "100%|██████████████████████████████████████████████████████████████████████████████████| 64/64 [00:03<00:00, 18.71it/s]\n",
      "100%|██████████████████████████████████████████████████████████████████████████████████| 64/64 [00:03<00:00, 18.57it/s]\n",
      "100%|██████████████████████████████████████████████████████████████████████████████████| 64/64 [00:03<00:00, 18.50it/s]\n",
      "100%|██████████████████████████████████████████████████████████████████████████████████| 64/64 [00:03<00:00, 19.08it/s]\n",
      "100%|██████████████████████████████████████████████████████████████████████████████████| 64/64 [00:03<00:00, 20.60it/s]\n",
      "100%|██████████████████████████████████████████████████████████████████████████████████| 64/64 [00:03<00:00, 19.88it/s]\n",
      "100%|██████████████████████████████████████████████████████████████████████████████████| 64/64 [00:03<00:00, 20.12it/s]\n",
      "100%|██████████████████████████████████████████████████████████████████████████████████| 64/64 [00:03<00:00, 19.90it/s]\n",
      "100%|██████████████████████████████████████████████████████████████████████████████████| 64/64 [00:03<00:00, 19.56it/s]\n",
      "100%|██████████████████████████████████████████████████████████████████████████████████| 64/64 [00:03<00:00, 18.53it/s]\n",
      "100%|██████████████████████████████████████████████████████████████████████████████████| 64/64 [00:03<00:00, 19.87it/s]\n",
      "100%|██████████████████████████████████████████████████████████████████████████████████| 64/64 [00:03<00:00, 18.18it/s]\n",
      "100%|██████████████████████████████████████████████████████████████████████████████████| 64/64 [00:03<00:00, 19.15it/s]\n",
      "100%|██████████████████████████████████████████████████████████████████████████████████| 64/64 [00:03<00:00, 19.69it/s]\n",
      "100%|██████████████████████████████████████████████████████████████████████████████████| 64/64 [00:03<00:00, 19.70it/s]\n",
      "100%|██████████████████████████████████████████████████████████████████████████████████| 64/64 [00:03<00:00, 19.18it/s]\n",
      "100%|██████████████████████████████████████████████████████████████████████████████████| 64/64 [00:03<00:00, 19.71it/s]\n",
      "100%|██████████████████████████████████████████████████████████████████████████████████| 64/64 [00:03<00:00, 19.85it/s]\n",
      "100%|██████████████████████████████████████████████████████████████████████████████████| 64/64 [00:03<00:00, 19.51it/s]\n",
      "100%|██████████████████████████████████████████████████████████████████████████████████| 64/64 [00:03<00:00, 19.55it/s]\n",
      "100%|██████████████████████████████████████████████████████████████████████████████████| 64/64 [00:03<00:00, 19.34it/s]\n",
      "100%|██████████████████████████████████████████████████████████████████████████████████| 64/64 [00:03<00:00, 19.38it/s]\n"
     ]
    },
    {
     "ename": "FileNotFoundError",
     "evalue": "[Errno 2] No such file or directory: 'D:\\\\TestDatasets\\\\Oneat\\\\Xenopus_oneat\\\\results\\\\Mask\\\\C1-for_oneat_prediction.tif'",
     "output_type": "error",
     "traceback": [
      "\u001b[1;31m---------------------------------------------------------------------------\u001b[0m",
      "\u001b[1;31mFileNotFoundError\u001b[0m                         Traceback (most recent call last)",
      "\u001b[1;32m~\\AppData\\Local\\Temp/ipykernel_43832/3238053111.py\u001b[0m in \u001b[0;36m<module>\u001b[1;34m\u001b[0m\n\u001b[0;32m     18\u001b[0m \u001b[1;32mfor\u001b[0m \u001b[0mimagename\u001b[0m \u001b[1;32min\u001b[0m \u001b[0mX\u001b[0m\u001b[1;33m:\u001b[0m\u001b[1;33m\u001b[0m\u001b[1;33m\u001b[0m\u001b[0m\n\u001b[0;32m     19\u001b[0m \u001b[1;33m\u001b[0m\u001b[0m\n\u001b[1;32m---> 20\u001b[1;33m      model.predict_synamic(imagename,\n\u001b[0m\u001b[0;32m     21\u001b[0m                            \u001b[0msavedir\u001b[0m\u001b[1;33m,\u001b[0m\u001b[1;33m\u001b[0m\u001b[1;33m\u001b[0m\u001b[0m\n\u001b[0;32m     22\u001b[0m                            \u001b[0mn_tiles\u001b[0m \u001b[1;33m=\u001b[0m \u001b[0mn_tiles\u001b[0m\u001b[1;33m,\u001b[0m\u001b[1;33m\u001b[0m\u001b[1;33m\u001b[0m\u001b[0m\n",
      "\u001b[1;32mc:\\users\\rando\\downloads\\caped-ai-oneat\\oneat\\NEATModels\\neat_faststandard.py\u001b[0m in \u001b[0;36mpredict_synamic\u001b[1;34m(self, imagename, savedir, n_tiles, overlap_percent, event_threshold, event_confidence, iou_threshold, fidelity, downsamplefactor, maskimage, maskfilter, start_project_mid, end_project_mid, maskmodel)\u001b[0m\n\u001b[0;32m     19\u001b[0m      downsamplefactor = 1, maskimage = None, maskfilter = 10,start_project_mid = 4, end_project_mid = 4, maskmodel = None):\n\u001b[0;32m     20\u001b[0m \u001b[1;33m\u001b[0m\u001b[0m\n\u001b[1;32m---> 21\u001b[1;33m         self.predict(imagename,savedir,n_tiles = n_tiles, overlap_percent = overlap_percent, event_threshold = event_threshold, event_confidence = event_confidence, iou_threshold = iou_threshold, \n\u001b[0m\u001b[0;32m     22\u001b[0m         \u001b[0mfidelity\u001b[0m \u001b[1;33m=\u001b[0m \u001b[0mfidelity\u001b[0m\u001b[1;33m,\u001b[0m \u001b[0mstart_project_mid\u001b[0m \u001b[1;33m=\u001b[0m \u001b[0mstart_project_mid\u001b[0m\u001b[1;33m,\u001b[0m \u001b[0mend_project_mid\u001b[0m \u001b[1;33m=\u001b[0m \u001b[0mend_project_mid\u001b[0m\u001b[1;33m,\u001b[0m \u001b[0mdownsamplefactor\u001b[0m \u001b[1;33m=\u001b[0m \u001b[0mdownsamplefactor\u001b[0m\u001b[1;33m,\u001b[0m \u001b[0mmaskimage\u001b[0m \u001b[1;33m=\u001b[0m \u001b[0mmaskimage\u001b[0m\u001b[1;33m,\u001b[0m \u001b[0mmaskfilter\u001b[0m \u001b[1;33m=\u001b[0m \u001b[0mmaskfilter\u001b[0m\u001b[1;33m,\u001b[0m  \u001b[0mmarkers\u001b[0m \u001b[1;33m=\u001b[0m \u001b[1;32mNone\u001b[0m\u001b[1;33m,\u001b[0m \u001b[0mmarker_tree\u001b[0m \u001b[1;33m=\u001b[0m \u001b[1;32mNone\u001b[0m\u001b[1;33m,\u001b[0m\u001b[1;33m\u001b[0m\u001b[1;33m\u001b[0m\u001b[0m\n\u001b[0;32m     23\u001b[0m          remove_markers = None, maskmodel = maskmodel )\n",
      "\u001b[1;32mc:\\users\\rando\\downloads\\caped-ai-oneat\\oneat\\NEATModels\\neat_goldstandard.py\u001b[0m in \u001b[0;36mpredict\u001b[1;34m(self, imagename, savedir, n_tiles, overlap_percent, event_threshold, event_confidence, iou_threshold, fidelity, downsamplefactor, start_project_mid, end_project_mid, maskfilter, markers, marker_tree, watershed, maskimage, remove_markers, maskmodel)\u001b[0m\n\u001b[0;32m    371\u001b[0m             \u001b[0mprint\u001b[0m\u001b[1;33m(\u001b[0m\u001b[1;34mf'Generating mask, hang on'\u001b[0m\u001b[1;33m)\u001b[0m\u001b[1;33m\u001b[0m\u001b[1;33m\u001b[0m\u001b[0m\n\u001b[0;32m    372\u001b[0m             \u001b[0mself\u001b[0m\u001b[1;33m.\u001b[0m\u001b[0mmaskdir\u001b[0m \u001b[1;33m=\u001b[0m \u001b[0mself\u001b[0m\u001b[1;33m.\u001b[0m\u001b[0msavedir\u001b[0m \u001b[1;33m+\u001b[0m \u001b[1;34m'/'\u001b[0m \u001b[1;33m+\u001b[0m \u001b[1;34m'Mask'\u001b[0m\u001b[1;33m\u001b[0m\u001b[1;33m\u001b[0m\u001b[0m\n\u001b[1;32m--> 373\u001b[1;33m             \u001b[0mself\u001b[0m\u001b[1;33m.\u001b[0m\u001b[0mmask\u001b[0m \u001b[1;33m=\u001b[0m \u001b[0mGenerate_only_mask\u001b[0m\u001b[1;33m(\u001b[0m\u001b[0mself\u001b[0m\u001b[1;33m.\u001b[0m\u001b[0mimage\u001b[0m\u001b[1;33m,\u001b[0m \u001b[0mself\u001b[0m\u001b[1;33m.\u001b[0m\u001b[0mmaskmodel\u001b[0m\u001b[1;33m,\u001b[0m \u001b[0mself\u001b[0m\u001b[1;33m.\u001b[0m\u001b[0mn_tiles\u001b[0m\u001b[1;33m)\u001b[0m\u001b[1;33m\u001b[0m\u001b[1;33m\u001b[0m\u001b[0m\n\u001b[0m\u001b[0;32m    374\u001b[0m             \u001b[0mimwrite\u001b[0m\u001b[1;33m(\u001b[0m\u001b[0mself\u001b[0m\u001b[1;33m.\u001b[0m\u001b[0mmaskdir\u001b[0m \u001b[1;33m+\u001b[0m \u001b[1;34m'/'\u001b[0m \u001b[1;33m+\u001b[0m \u001b[0mself\u001b[0m\u001b[1;33m.\u001b[0m\u001b[0mName\u001b[0m \u001b[1;33m+\u001b[0m \u001b[1;34m'.tif'\u001b[0m\u001b[1;33m,\u001b[0m \u001b[0mself\u001b[0m\u001b[1;33m.\u001b[0m\u001b[0mmask\u001b[0m\u001b[1;33m.\u001b[0m\u001b[0mastype\u001b[0m\u001b[1;33m(\u001b[0m\u001b[1;34m'float32'\u001b[0m\u001b[1;33m)\u001b[0m\u001b[1;33m)\u001b[0m\u001b[1;33m\u001b[0m\u001b[1;33m\u001b[0m\u001b[0m\n\u001b[0;32m    375\u001b[0m             \u001b[0mprint\u001b[0m\u001b[1;33m(\u001b[0m\u001b[1;34mf'Mask generated and saved at {self.maskdir}'\u001b[0m\u001b[1;33m)\u001b[0m\u001b[1;33m\u001b[0m\u001b[1;33m\u001b[0m\u001b[0m\n",
      "\u001b[1;32m~\\anaconda3\\envs\\naparienv\\lib\\site-packages\\tifffile\\tifffile.py\u001b[0m in \u001b[0;36mimwrite\u001b[1;34m(file, data, shape, dtype, **kwargs)\u001b[0m\n\u001b[0;32m    963\u001b[0m         \u001b[0mtifargs\u001b[0m\u001b[1;33m[\u001b[0m\u001b[1;34m'byteorder'\u001b[0m\u001b[1;33m]\u001b[0m \u001b[1;33m=\u001b[0m \u001b[0mbyteorder\u001b[0m\u001b[1;33m\u001b[0m\u001b[1;33m\u001b[0m\u001b[0m\n\u001b[0;32m    964\u001b[0m \u001b[1;33m\u001b[0m\u001b[0m\n\u001b[1;32m--> 965\u001b[1;33m     \u001b[1;32mwith\u001b[0m \u001b[0mTiffWriter\u001b[0m\u001b[1;33m(\u001b[0m\u001b[0mfile\u001b[0m\u001b[1;33m,\u001b[0m \u001b[1;33m**\u001b[0m\u001b[0mtifargs\u001b[0m\u001b[1;33m)\u001b[0m \u001b[1;32mas\u001b[0m \u001b[0mtif\u001b[0m\u001b[1;33m:\u001b[0m\u001b[1;33m\u001b[0m\u001b[1;33m\u001b[0m\u001b[0m\n\u001b[0m\u001b[0;32m    966\u001b[0m         \u001b[0mresult\u001b[0m \u001b[1;33m=\u001b[0m \u001b[0mtif\u001b[0m\u001b[1;33m.\u001b[0m\u001b[0mwrite\u001b[0m\u001b[1;33m(\u001b[0m\u001b[0mdata\u001b[0m\u001b[1;33m,\u001b[0m \u001b[0mshape\u001b[0m\u001b[1;33m,\u001b[0m \u001b[0mdtype\u001b[0m\u001b[1;33m,\u001b[0m \u001b[1;33m**\u001b[0m\u001b[0mkwargs\u001b[0m\u001b[1;33m)\u001b[0m\u001b[1;33m\u001b[0m\u001b[1;33m\u001b[0m\u001b[0m\n\u001b[0;32m    967\u001b[0m     \u001b[1;32mreturn\u001b[0m \u001b[0mresult\u001b[0m\u001b[1;33m\u001b[0m\u001b[1;33m\u001b[0m\u001b[0m\n",
      "\u001b[1;32m~\\anaconda3\\envs\\naparienv\\lib\\site-packages\\tifffile\\tifffile.py\u001b[0m in \u001b[0;36m__init__\u001b[1;34m(self, file, bigtiff, byteorder, append, imagej, ome)\u001b[0m\n\u001b[0;32m   1203\u001b[0m             \u001b[0mself\u001b[0m\u001b[1;33m.\u001b[0m\u001b[0m_fh\u001b[0m\u001b[1;33m.\u001b[0m\u001b[0mseek\u001b[0m\u001b[1;33m(\u001b[0m\u001b[1;36m0\u001b[0m\u001b[1;33m,\u001b[0m \u001b[0mos\u001b[0m\u001b[1;33m.\u001b[0m\u001b[0mSEEK_END\u001b[0m\u001b[1;33m)\u001b[0m\u001b[1;33m\u001b[0m\u001b[1;33m\u001b[0m\u001b[0m\n\u001b[0;32m   1204\u001b[0m         \u001b[1;32melse\u001b[0m\u001b[1;33m:\u001b[0m\u001b[1;33m\u001b[0m\u001b[1;33m\u001b[0m\u001b[0m\n\u001b[1;32m-> 1205\u001b[1;33m             \u001b[0mself\u001b[0m\u001b[1;33m.\u001b[0m\u001b[0m_fh\u001b[0m \u001b[1;33m=\u001b[0m \u001b[0mFileHandle\u001b[0m\u001b[1;33m(\u001b[0m\u001b[0mfile\u001b[0m\u001b[1;33m,\u001b[0m \u001b[0mmode\u001b[0m\u001b[1;33m=\u001b[0m\u001b[1;34m'wb'\u001b[0m\u001b[1;33m,\u001b[0m \u001b[0msize\u001b[0m\u001b[1;33m=\u001b[0m\u001b[1;36m0\u001b[0m\u001b[1;33m)\u001b[0m\u001b[1;33m\u001b[0m\u001b[1;33m\u001b[0m\u001b[0m\n\u001b[0m\u001b[0;32m   1206\u001b[0m             \u001b[0mself\u001b[0m\u001b[1;33m.\u001b[0m\u001b[0m_fh\u001b[0m\u001b[1;33m.\u001b[0m\u001b[0mwrite\u001b[0m\u001b[1;33m(\u001b[0m\u001b[1;33m{\u001b[0m\u001b[1;34m'<'\u001b[0m\u001b[1;33m:\u001b[0m \u001b[1;34mb'II'\u001b[0m\u001b[1;33m,\u001b[0m \u001b[1;34m'>'\u001b[0m\u001b[1;33m:\u001b[0m \u001b[1;34mb'MM'\u001b[0m\u001b[1;33m}\u001b[0m\u001b[1;33m[\u001b[0m\u001b[0mbyteorder\u001b[0m\u001b[1;33m]\u001b[0m\u001b[1;33m)\u001b[0m\u001b[1;33m\u001b[0m\u001b[1;33m\u001b[0m\u001b[0m\n\u001b[0;32m   1207\u001b[0m             \u001b[1;32mif\u001b[0m \u001b[0mbigtiff\u001b[0m\u001b[1;33m:\u001b[0m\u001b[1;33m\u001b[0m\u001b[1;33m\u001b[0m\u001b[0m\n",
      "\u001b[1;32m~\\anaconda3\\envs\\naparienv\\lib\\site-packages\\tifffile\\tifffile.py\u001b[0m in \u001b[0;36m__init__\u001b[1;34m(self, file, mode, name, offset, size)\u001b[0m\n\u001b[0;32m  10445\u001b[0m         \u001b[0mself\u001b[0m\u001b[1;33m.\u001b[0m\u001b[0mis_file\u001b[0m \u001b[1;33m=\u001b[0m \u001b[1;32mNone\u001b[0m\u001b[1;33m\u001b[0m\u001b[1;33m\u001b[0m\u001b[0m\n\u001b[0;32m  10446\u001b[0m         \u001b[0mself\u001b[0m\u001b[1;33m.\u001b[0m\u001b[0m_lock\u001b[0m \u001b[1;33m=\u001b[0m \u001b[0mNullContext\u001b[0m\u001b[1;33m(\u001b[0m\u001b[1;33m)\u001b[0m\u001b[1;33m\u001b[0m\u001b[1;33m\u001b[0m\u001b[0m\n\u001b[1;32m> 10447\u001b[1;33m         \u001b[0mself\u001b[0m\u001b[1;33m.\u001b[0m\u001b[0mopen\u001b[0m\u001b[1;33m(\u001b[0m\u001b[1;33m)\u001b[0m\u001b[1;33m\u001b[0m\u001b[1;33m\u001b[0m\u001b[0m\n\u001b[0m\u001b[0;32m  10448\u001b[0m \u001b[1;33m\u001b[0m\u001b[0m\n\u001b[0;32m  10449\u001b[0m     \u001b[1;32mdef\u001b[0m \u001b[0mopen\u001b[0m\u001b[1;33m(\u001b[0m\u001b[0mself\u001b[0m\u001b[1;33m)\u001b[0m\u001b[1;33m:\u001b[0m\u001b[1;33m\u001b[0m\u001b[1;33m\u001b[0m\u001b[0m\n",
      "\u001b[1;32m~\\anaconda3\\envs\\naparienv\\lib\\site-packages\\tifffile\\tifffile.py\u001b[0m in \u001b[0;36mopen\u001b[1;34m(self)\u001b[0m\n\u001b[0;32m  10458\u001b[0m             \u001b[0mself\u001b[0m\u001b[1;33m.\u001b[0m\u001b[0m_file\u001b[0m \u001b[1;33m=\u001b[0m \u001b[0mos\u001b[0m\u001b[1;33m.\u001b[0m\u001b[0mpath\u001b[0m\u001b[1;33m.\u001b[0m\u001b[0mrealpath\u001b[0m\u001b[1;33m(\u001b[0m\u001b[0mself\u001b[0m\u001b[1;33m.\u001b[0m\u001b[0m_file\u001b[0m\u001b[1;33m)\u001b[0m\u001b[1;33m\u001b[0m\u001b[1;33m\u001b[0m\u001b[0m\n\u001b[0;32m  10459\u001b[0m             \u001b[0mself\u001b[0m\u001b[1;33m.\u001b[0m\u001b[0m_dir\u001b[0m\u001b[1;33m,\u001b[0m \u001b[0mself\u001b[0m\u001b[1;33m.\u001b[0m\u001b[0m_name\u001b[0m \u001b[1;33m=\u001b[0m \u001b[0mos\u001b[0m\u001b[1;33m.\u001b[0m\u001b[0mpath\u001b[0m\u001b[1;33m.\u001b[0m\u001b[0msplit\u001b[0m\u001b[1;33m(\u001b[0m\u001b[0mself\u001b[0m\u001b[1;33m.\u001b[0m\u001b[0m_file\u001b[0m\u001b[1;33m)\u001b[0m\u001b[1;33m\u001b[0m\u001b[1;33m\u001b[0m\u001b[0m\n\u001b[1;32m> 10460\u001b[1;33m             \u001b[0mself\u001b[0m\u001b[1;33m.\u001b[0m\u001b[0m_fh\u001b[0m \u001b[1;33m=\u001b[0m \u001b[0mopen\u001b[0m\u001b[1;33m(\u001b[0m\u001b[0mself\u001b[0m\u001b[1;33m.\u001b[0m\u001b[0m_file\u001b[0m\u001b[1;33m,\u001b[0m \u001b[0mself\u001b[0m\u001b[1;33m.\u001b[0m\u001b[0m_mode\u001b[0m\u001b[1;33m)\u001b[0m\u001b[1;33m\u001b[0m\u001b[1;33m\u001b[0m\u001b[0m\n\u001b[0m\u001b[0;32m  10461\u001b[0m             \u001b[0mself\u001b[0m\u001b[1;33m.\u001b[0m\u001b[0m_close\u001b[0m \u001b[1;33m=\u001b[0m \u001b[1;32mTrue\u001b[0m\u001b[1;33m\u001b[0m\u001b[1;33m\u001b[0m\u001b[0m\n\u001b[0;32m  10462\u001b[0m             \u001b[1;32mif\u001b[0m \u001b[0mself\u001b[0m\u001b[1;33m.\u001b[0m\u001b[0m_offset\u001b[0m \u001b[1;32mis\u001b[0m \u001b[1;32mNone\u001b[0m\u001b[1;33m:\u001b[0m\u001b[1;33m\u001b[0m\u001b[1;33m\u001b[0m\u001b[0m\n",
      "\u001b[1;31mFileNotFoundError\u001b[0m: [Errno 2] No such file or directory: 'D:\\\\TestDatasets\\\\Oneat\\\\Xenopus_oneat\\\\results\\\\Mask\\\\C1-for_oneat_prediction.tif'"
     ]
    }
   ],
   "source": [
    "imagedir = 'D:/TestDatasets/Oneat/Xenopus_oneat/'\n",
    "model_dir = 'D:/TrainingModels/Oneat/'\n",
    "savedir= 'D:/TestDatasets/Oneat/Xenopus_oneat/results/'\n",
    "model_name = 'Cellsplitsxenopussmalls3d11f48'\n",
    "mask_model_dir = 'D:/TrainingModels/MASKUNET/'\n",
    "mask_model_name =  'Roi_Nuclei_Xenopus'\n",
    "division_categories_json = model_dir + 'Cellsplitcategoriesxenopus.json'\n",
    "catconfig = load_json(division_categories_json)\n",
    "division_cord_json = model_dir + 'Cellsplitcordxenopus.json'\n",
    "cordconfig = load_json(division_cord_json)\n",
    "model = NEATSynamic(None, model_dir , model_name,catconfig, cordconfig)\n",
    "mask_model = CARE(None, mask_model_name,mask_model_dir)\n",
    "Path(savedir).mkdir(exist_ok=True)\n",
    "\n",
    "Raw_path = os.path.join(imagedir, '*tif')\n",
    "X = glob.glob(Raw_path)\n",
    "\n",
    "for imagename in X:\n",
    "\n",
    "     model.predict_synamic(imagename,\n",
    "                           savedir, \n",
    "                           n_tiles = n_tiles, \n",
    "                           event_threshold = event_threshold, \n",
    "                           event_confidence = event_confidence,\n",
    "                           iou_threshold = iou_threshold,\n",
    "                           fidelity = fidelity,\n",
    "                           downsamplefactor = downsamplefactor,\n",
    "                           start_project_mid = start_project_mid,\n",
    "                           end_project_mid = end_project_mid,\n",
    "                           maskmodel = mask_model)"
   ]
  },
  {
   "cell_type": "code",
   "execution_count": null,
   "id": "df671764",
   "metadata": {},
   "outputs": [],
   "source": []
  }
 ],
 "metadata": {
  "kernelspec": {
   "display_name": "Python [conda env:naparienv] *",
   "language": "python",
   "name": "conda-env-naparienv-py"
  },
  "language_info": {
   "codemirror_mode": {
    "name": "ipython",
    "version": 3
   },
   "file_extension": ".py",
   "mimetype": "text/x-python",
   "name": "python",
   "nbconvert_exporter": "python",
   "pygments_lexer": "ipython3",
   "version": "3.9.0"
  }
 },
 "nbformat": 4,
 "nbformat_minor": 5
}
