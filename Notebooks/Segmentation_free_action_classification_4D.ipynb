{
 "cells": [
  {
   "cell_type": "code",
   "execution_count": 1,
   "id": "87ec8896",
   "metadata": {},
   "outputs": [],
   "source": [
    "\n",
    "import sys\n",
    "import os\n",
    "import glob\n",
    "from csbdeep.models import  CARE\n",
    "from oneat.NEATModels import NEATSynamic\n",
    "from oneat.NEATModels.config import dynamic_config\n",
    "from oneat.NEATUtils import helpers\n",
    "from oneat.NEATUtils.helpers import load_json\n",
    "os.environ[\"CUDA_VISIBLE_DEVICES\"]=\"0\"\n",
    "os.environ[\"HDF5_USE_FILE_LOCKING\"] = \"FALSE\"\n",
    "from pathlib import Path\n"
   ]
  },
  {
   "cell_type": "code",
   "execution_count": 2,
   "id": "99de2206",
   "metadata": {},
   "outputs": [],
   "source": [
    "n_tiles = (8,8)\n",
    "event_threshold = 0.8\n",
    "event_confidence = 0.5\n",
    "iou_threshold = 0.6\n",
    "fidelity = 1\n",
    "downsamplefactor = 1\n",
    "#For a Z of 0 to 22 this setup takes the slices from 11 - 4 = 7 to 11 + 1 = 12\n",
    "start_project_mid = 4\n",
    "end_project_mid = 1\n",
    "normalize = False"
   ]
  },
  {
   "cell_type": "code",
   "execution_count": 3,
   "id": "b843f28a",
   "metadata": {
    "scrolled": false
   },
   "outputs": [
    {
     "name": "stdout",
     "output_type": "stream",
     "text": [
      "Loading network weights from 'weights_best.h5'.\n",
      "Image (41, 22, 1112, 1112) is 4 dimensional, projecting around the center 11 - 4 to 11 + 1\n",
      "Detecting event locations\n"
     ]
    },
    {
     "name": "stderr",
     "output_type": "stream",
     "text": [
      "  2%|██▏                                                                                     | 1/41 [00:24<16:03, 24.08s/it]"
     ]
    },
    {
     "name": "stdout",
     "output_type": "stream",
     "text": [
      "{'Normal': 0.17662182, 'Division': 0.82337815, 'xstart': 571, 'ystart': 0, 'tstart': 0.0, 'xcenterraw': 0.6451201438903809, 'ycenterraw': 0.3714243769645691, 'tcenterraw': 0.5306639075279236, 'xcenter': 653.5753784179688, 'ycenter': 47.542320251464844, 'real_time_event': 4.0, 'box_time_event': 0.0, 'height': 47.29958724975586, 'width': 55.44936752319336, 'confidence': 0.6135278344154358, 'realangle': 2, 'rawangle': 2}\n",
      "{'Normal': 0.19472052, 'Division': 0.80527943, 'xstart': 777, 'ystart': 460, 'tstart': 0.0, 'xcenterraw': 0.5872551202774048, 'ycenterraw': 0.3217705190181732, 'tcenterraw': 0.517752468585968, 'xcenter': 852.1686553955078, 'ycenter': 501.1866264343262, 'real_time_event': 4.0, 'box_time_event': 0.0, 'height': 42.95890808105469, 'width': 61.57384490966797, 'confidence': 0.5589480400085449, 'realangle': 2, 'rawangle': 2}\n",
      "{'Normal': 0.17393409, 'Division': 0.82606584, 'xstart': 571, 'ystart': 682, 'tstart': 0.0, 'xcenterraw': 0.7218138575553894, 'ycenterraw': 0.3143523633480072, 'tcenterraw': 0.6235960721969604, 'xcenter': 663.3921737670898, 'ycenter': 722.2371025085449, 'real_time_event': 5.0, 'box_time_event': 0.0, 'height': 57.02214050292969, 'width': 48.11307144165039, 'confidence': 0.758882999420166, 'realangle': 2, 'rawangle': 2}\n",
      "{'Normal': 0.15398268, 'Division': 0.84601724, 'xstart': 793, 'ystart': 682, 'tstart': 0.0, 'xcenterraw': 0.39066940546035767, 'ycenterraw': 0.5124189853668213, 'tcenterraw': 0.6285852193832397, 'xcenter': 843.0056838989258, 'ycenter': 747.5896301269531, 'real_time_event': 5.0, 'box_time_event': 0.0, 'height': 49.66299819946289, 'width': 62.59069061279297, 'confidence': 0.6779781579971313, 'realangle': 2, 'rawangle': 2}\n",
      "{'Normal': 0.19874094, 'Division': 0.8012591, 'xstart': 793, 'ystart': 777, 'tstart': 0.0, 'xcenterraw': 0.5598392486572266, 'ycenterraw': 0.5566225051879883, 'tcenterraw': 0.7619930505752563, 'xcenter': 864.659423828125, 'ycenter': 848.2476806640625, 'real_time_event': 6.0, 'box_time_event': 0.0, 'height': 66.38480377197266, 'width': 49.2872200012207, 'confidence': 0.785864531993866, 'realangle': 2, 'rawangle': 2}\n"
     ]
    },
    {
     "name": "stderr",
     "output_type": "stream",
     "text": [
      "\r",
      "  5%|████▎                                                                                   | 2/41 [00:40<12:40, 19.51s/it]"
     ]
    },
    {
     "name": "stdout",
     "output_type": "stream",
     "text": [
      "{'Normal': 0.17662182, 'Division': 0.82337815, 'xstart': 571, 'ystart': 0, 'tstart': 0.0, 'xcenterraw': 0.6451201438903809, 'ycenterraw': 0.3714243769645691, 'tcenterraw': 0.5306639075279236, 'xcenter': 653.5753784179688, 'ycenter': 47.542320251464844, 'real_time_event': 4.0, 'box_time_event': 0.0, 'height': 47.29958724975586, 'width': 55.44936752319336, 'confidence': 0.6135278344154358, 'realangle': 2, 'rawangle': 2}\n",
      "{'Normal': 0.19472052, 'Division': 0.80527943, 'xstart': 777, 'ystart': 460, 'tstart': 0.0, 'xcenterraw': 0.5872551202774048, 'ycenterraw': 0.3217705190181732, 'tcenterraw': 0.517752468585968, 'xcenter': 852.1686553955078, 'ycenter': 501.1866264343262, 'real_time_event': 4.0, 'box_time_event': 0.0, 'height': 42.95890808105469, 'width': 61.57384490966797, 'confidence': 0.5589480400085449, 'realangle': 2, 'rawangle': 2}\n",
      "{'Normal': 0.17393409, 'Division': 0.82606584, 'xstart': 571, 'ystart': 682, 'tstart': 0.0, 'xcenterraw': 0.7218138575553894, 'ycenterraw': 0.3143523633480072, 'tcenterraw': 0.6235960721969604, 'xcenter': 663.3921737670898, 'ycenter': 722.2371025085449, 'real_time_event': 5.0, 'box_time_event': 0.0, 'height': 57.02214050292969, 'width': 48.11307144165039, 'confidence': 0.758882999420166, 'realangle': 2, 'rawangle': 2}\n",
      "{'Normal': 0.15398268, 'Division': 0.84601724, 'xstart': 793, 'ystart': 682, 'tstart': 0.0, 'xcenterraw': 0.39066940546035767, 'ycenterraw': 0.5124189853668213, 'tcenterraw': 0.6285852193832397, 'xcenter': 843.0056838989258, 'ycenter': 747.5896301269531, 'real_time_event': 5.0, 'box_time_event': 0.0, 'height': 49.66299819946289, 'width': 62.59069061279297, 'confidence': 0.6779781579971313, 'realangle': 2, 'rawangle': 2}\n",
      "{'Normal': 0.19874094, 'Division': 0.8012591, 'xstart': 793, 'ystart': 777, 'tstart': 0.0, 'xcenterraw': 0.5598392486572266, 'ycenterraw': 0.5566225051879883, 'tcenterraw': 0.7619930505752563, 'xcenter': 864.659423828125, 'ycenter': 848.2476806640625, 'real_time_event': 6.0, 'box_time_event': 0.0, 'height': 66.38480377197266, 'width': 49.2872200012207, 'confidence': 0.785864531993866, 'realangle': 2, 'rawangle': 2}\n",
      "{'Normal': 0.18075919, 'Division': 0.8192408, 'xstart': 333, 'ystart': 460, 'tstart': 1.0, 'xcenterraw': 0.5514400005340576, 'ycenterraw': 0.3180992603302002, 'tcenterraw': 0.5056586265563965, 'xcenter': 403.5843200683594, 'ycenter': 500.7167053222656, 'real_time_event': 5.0, 'box_time_event': 0.0, 'height': 51.52124786376953, 'width': 58.57258224487305, 'confidence': 0.6634216904640198, 'realangle': 2, 'rawangle': 2}\n",
      "{'Normal': 0.1349334, 'Division': 0.8650666, 'xstart': 444, 'ystart': 571, 'tstart': 1.0, 'xcenterraw': 0.4943683445453644, 'ycenterraw': 0.454415887594223, 'tcenterraw': 0.6406494975090027, 'xcenter': 507.27914810180664, 'ycenter': 629.1652336120605, 'real_time_event': 6.0, 'box_time_event': 0.0, 'height': 30.5560359954834, 'width': 69.13338470458984, 'confidence': 0.776315450668335, 'realangle': 2, 'rawangle': 2}\n",
      "{'Normal': 0.16044465, 'Division': 0.8395554, 'xstart': 666, 'ystart': 555, 'tstart': 1.0, 'xcenterraw': 0.5950046181678772, 'ycenterraw': 0.5277884006500244, 'tcenterraw': 0.6253827810287476, 'xcenter': 742.1605911254883, 'ycenter': 622.5569152832031, 'real_time_event': 6.0, 'box_time_event': 0.0, 'height': 61.58330154418945, 'width': 45.12504959106445, 'confidence': 0.6166872382164001, 'realangle': 2, 'rawangle': 2}\n"
     ]
    },
    {
     "name": "stderr",
     "output_type": "stream",
     "text": [
      "\r",
      "  7%|██████▍                                                                                 | 3/41 [00:56<11:28, 18.11s/it]"
     ]
    },
    {
     "name": "stdout",
     "output_type": "stream",
     "text": [
      "{'Normal': 0.17372842, 'Division': 0.82627153, 'xstart': 460, 'ystart': 555, 'tstart': 2.0, 'xcenterraw': 0.7094498872756958, 'ycenterraw': 0.46932458877563477, 'tcenterraw': 0.6679339408874512, 'xcenter': 550.8095855712891, 'ycenter': 615.0735473632812, 'real_time_event': 8.0, 'box_time_event': 0.0, 'height': 79.67424011230469, 'width': 38.63548278808594, 'confidence': 0.7257283329963684, 'realangle': 2, 'rawangle': 2}\n",
      "{'Normal': 0.17646804, 'Division': 0.8235319, 'xstart': 777, 'ystart': 571, 'tstart': 2.0, 'xcenterraw': 0.33089151978492737, 'ycenterraw': 0.5438368320465088, 'tcenterraw': 0.6976386308670044, 'xcenter': 819.3541145324707, 'ycenter': 640.6111145019531, 'real_time_event': 8.0, 'box_time_event': 0.0, 'height': 80.84080505371094, 'width': 48.38605880737305, 'confidence': 0.7911542057991028, 'realangle': 2, 'rawangle': 2}\n"
     ]
    },
    {
     "name": "stderr",
     "output_type": "stream",
     "text": [
      "\r",
      " 10%|████████▌                                                                               | 4/41 [01:13<10:50, 17.58s/it]"
     ]
    },
    {
     "name": "stdout",
     "output_type": "stream",
     "text": [
      "{'Normal': 0.18472439, 'Division': 0.8152756, 'xstart': 16, 'ystart': 333, 'tstart': 3.0, 'xcenterraw': 0.535017728805542, 'ycenterraw': 0.4064719080924988, 'tcenterraw': 0.4751705825328827, 'xcenter': 84.48226928710938, 'ycenter': 385.02840423583984, 'real_time_event': 7.0, 'box_time_event': 0.0, 'height': 58.82426071166992, 'width': 76.88541412353516, 'confidence': 0.5337814092636108, 'realangle': 2, 'rawangle': 2}\n",
      "{'Normal': 0.17880157, 'Division': 0.82119846, 'xstart': 888, 'ystart': 349, 'tstart': 3.0, 'xcenterraw': 0.5653895735740662, 'ycenterraw': 0.3882187306880951, 'tcenterraw': 0.6353599429130554, 'xcenter': 960.3698654174805, 'ycenter': 398.6919975280762, 'real_time_event': 8.0, 'box_time_event': 0.0, 'height': 45.921356201171875, 'width': 39.607975006103516, 'confidence': 0.6541765332221985, 'realangle': 2, 'rawangle': 2}\n",
      "{'Normal': 0.18173733, 'Division': 0.8182627, 'xstart': 222, 'ystart': 460, 'tstart': 3.0, 'xcenterraw': 0.6494290828704834, 'ycenterraw': 0.3594522178173065, 'tcenterraw': 0.5925836563110352, 'xcenter': 305.1269226074219, 'ycenter': 506.00988388061523, 'real_time_event': 8.0, 'box_time_event': 0.0, 'height': 36.75779724121094, 'width': 70.57157897949219, 'confidence': 0.6190553903579712, 'realangle': 2, 'rawangle': 2}\n",
      "{'Normal': 0.18560292, 'Division': 0.8143971, 'xstart': 888, 'ystart': 460, 'tstart': 3.0, 'xcenterraw': 0.43899333477020264, 'ycenterraw': 0.6127921938896179, 'tcenterraw': 0.7204582691192627, 'xcenter': 944.1911468505859, 'ycenter': 538.4374008178711, 'real_time_event': 9.0, 'box_time_event': 0.0, 'height': 58.89064407348633, 'width': 57.18607711791992, 'confidence': 0.6360699534416199, 'realangle': 2, 'rawangle': 2}\n",
      "{'Normal': 0.18627259, 'Division': 0.81372744, 'xstart': 111, 'ystart': 571, 'tstart': 3.0, 'xcenterraw': 0.6979939937591553, 'ycenterraw': 0.31861576437950134, 'tcenterraw': 0.6148492693901062, 'xcenter': 200.34323120117188, 'ycenter': 611.7828178405762, 'real_time_event': 8.0, 'box_time_event': 0.0, 'height': 65.35467529296875, 'width': 43.950843811035156, 'confidence': 0.6154789328575134, 'realangle': 2, 'rawangle': 2}\n",
      "{'Normal': 0.17160511, 'Division': 0.82839483, 'xstart': 682, 'ystart': 682, 'tstart': 3.0, 'xcenterraw': 0.47470247745513916, 'ycenterraw': 0.21661052107810974, 'tcenterraw': 0.46854645013809204, 'xcenter': 742.7619171142578, 'ycenter': 709.726146697998, 'real_time_event': 7.0, 'box_time_event': 0.0, 'height': 51.79338836669922, 'width': 87.8656234741211, 'confidence': 0.684922993183136, 'realangle': 2, 'rawangle': 2}\n"
     ]
    },
    {
     "name": "stderr",
     "output_type": "stream",
     "text": [
      "\r",
      " 12%|██████████▋                                                                             | 5/41 [01:30<10:18, 17.19s/it]"
     ]
    },
    {
     "name": "stdout",
     "output_type": "stream",
     "text": [
      "{'Normal': 0.16890408, 'Division': 0.83109593, 'xstart': 238, 'ystart': 238, 'tstart': 4.0, 'xcenterraw': 0.6806126236915588, 'ycenterraw': 0.3425873816013336, 'tcenterraw': 0.5285143852233887, 'xcenter': 325.11841583251953, 'ycenter': 281.8511848449707, 'real_time_event': 8.0, 'box_time_event': 0.0, 'height': 62.6515007019043, 'width': 71.1993408203125, 'confidence': 0.6600947380065918, 'realangle': 2, 'rawangle': 2}\n",
      "{'Normal': 0.13173033, 'Division': 0.8682696, 'xstart': 888, 'ystart': 349, 'tstart': 4.0, 'xcenterraw': 0.6952915787696838, 'ycenterraw': 0.3392086327075958, 'tcenterraw': 0.48098206520080566, 'xcenter': 976.9973220825195, 'ycenter': 392.41870498657227, 'real_time_event': 8.0, 'box_time_event': 0.0, 'height': 56.35511016845703, 'width': 49.579078674316406, 'confidence': 0.5676591396331787, 'realangle': 2, 'rawangle': 2}\n",
      "{'Normal': 0.12029147, 'Division': 0.87970847, 'xstart': 555, 'ystart': 989, 'tstart': 4.0, 'xcenterraw': 0.5901882648468018, 'ycenterraw': 0.23751850426197052, 'tcenterraw': 0.645049512386322, 'xcenter': 630.5440979003906, 'ycenter': 1019.4023685455322, 'real_time_event': 9.0, 'box_time_event': 0.0, 'height': 53.7344856262207, 'width': 42.894798278808594, 'confidence': 0.6825030446052551, 'realangle': 2, 'rawangle': 2}\n"
     ]
    },
    {
     "name": "stderr",
     "output_type": "stream",
     "text": [
      "\r",
      " 15%|████████████▉                                                                           | 6/41 [01:46<09:54, 16.99s/it]"
     ]
    },
    {
     "name": "stdout",
     "output_type": "stream",
     "text": [
      "{'Normal': 0.16284728, 'Division': 0.83715266, 'xstart': 555, 'ystart': 16, 'tstart': 5.0, 'xcenterraw': 0.5650023221969604, 'ycenterraw': 0.3746474087238312, 'tcenterraw': 0.5673555135726929, 'xcenter': 627.3202972412109, 'ycenter': 63.95486831665039, 'real_time_event': 10.0, 'box_time_event': 0.0, 'height': 37.804359436035156, 'width': 51.85622787475586, 'confidence': 0.6460126042366028, 'realangle': 2, 'rawangle': 2}\n",
      "{'Normal': 0.11380296, 'Division': 0.88619703, 'xstart': 222, 'ystart': 127, 'tstart': 5.0, 'xcenterraw': 0.6735933423042297, 'ycenterraw': 0.3991752862930298, 'tcenterraw': 0.6586746573448181, 'xcenter': 308.2199478149414, 'ycenter': 178.0944366455078, 'real_time_event': 10.0, 'box_time_event': 0.0, 'height': 76.80488586425781, 'width': 56.913917541503906, 'confidence': 0.7526968717575073, 'realangle': 2, 'rawangle': 2}\n",
      "{'Normal': 0.16220208, 'Division': 0.83779794, 'xstart': 238, 'ystart': 238, 'tstart': 5.0, 'xcenterraw': 0.5818355083465576, 'ycenterraw': 0.39426136016845703, 'tcenterraw': 0.5774956941604614, 'xcenter': 312.4749450683594, 'ycenter': 288.4654541015625, 'real_time_event': 10.0, 'box_time_event': 0.0, 'height': 64.93302154541016, 'width': 67.83307647705078, 'confidence': 0.7220216393470764, 'realangle': 2, 'rawangle': 2}\n",
      "{'Normal': 0.19854073, 'Division': 0.80145925, 'xstart': 16, 'ystart': 333, 'tstart': 5.0, 'xcenterraw': 0.4613560438156128, 'ycenterraw': 0.3743833303451538, 'tcenterraw': 0.4420504868030548, 'xcenter': 75.05357360839844, 'ycenter': 380.9210662841797, 'real_time_event': 8.0, 'box_time_event': 0.0, 'height': 33.27452087402344, 'width': 64.73158264160156, 'confidence': 0.5713731050491333, 'realangle': 2, 'rawangle': 2}\n",
      "{'Normal': 0.19655217, 'Division': 0.80344784, 'xstart': 555, 'ystart': 460, 'tstart': 5.0, 'xcenterraw': 0.6055954694747925, 'ycenterraw': 0.26475271582603455, 'tcenterraw': 0.8026638031005859, 'xcenter': 632.5162200927734, 'ycenter': 493.8883476257324, 'real_time_event': 12.0, 'box_time_event': 0.0, 'height': 65.60574340820312, 'width': 80.35700225830078, 'confidence': 0.672980010509491, 'realangle': 2, 'rawangle': 2}\n",
      "{'Normal': 0.15617067, 'Division': 0.84382933, 'xstart': 333, 'ystart': 888, 'tstart': 5.0, 'xcenterraw': 0.6101833581924438, 'ycenterraw': 0.509117603302002, 'tcenterraw': 0.5525044202804565, 'xcenter': 411.1034698486328, 'ycenter': 953.1670532226562, 'real_time_event': 9.0, 'box_time_event': 0.0, 'height': 51.74177551269531, 'width': 48.310935974121094, 'confidence': 0.603325605392456, 'realangle': 2, 'rawangle': 2}\n"
     ]
    },
    {
     "name": "stderr",
     "output_type": "stream",
     "text": [
      "\r",
      " 17%|███████████████                                                                         | 7/41 [02:03<09:32, 16.85s/it]"
     ]
    },
    {
     "name": "stdout",
     "output_type": "stream",
     "text": [
      "{'Normal': 0.14256097, 'Division': 0.85743904, 'xstart': 16, 'ystart': 333, 'tstart': 6.0, 'xcenterraw': 0.5484591126441956, 'ycenterraw': 0.49606582522392273, 'tcenterraw': 0.5542204976081848, 'xcenter': 86.20276641845703, 'ycenter': 396.4964256286621, 'real_time_event': 10.0, 'box_time_event': 0.0, 'height': 48.90449142456055, 'width': 46.49528884887695, 'confidence': 0.6529547572135925, 'realangle': 2, 'rawangle': 2}\n",
      "{'Normal': 0.18565011, 'Division': 0.81434983, 'xstart': 777, 'ystart': 349, 'tstart': 6.0, 'xcenterraw': 0.512996256351471, 'ycenterraw': 0.39308154582977295, 'tcenterraw': 0.6243656873703003, 'xcenter': 842.6635208129883, 'ycenter': 399.31443786621094, 'real_time_event': 11.0, 'box_time_event': 0.0, 'height': 54.3780632019043, 'width': 63.167911529541016, 'confidence': 0.6816723346710205, 'realangle': 2, 'rawangle': 2}\n",
      "{'Normal': 0.16570418, 'Division': 0.8342958, 'xstart': 682, 'ystart': 444, 'tstart': 6.0, 'xcenterraw': 0.5529226064682007, 'ycenterraw': 0.7001669406890869, 'tcenterraw': 0.43255698680877686, 'xcenter': 752.7740936279297, 'ycenter': 533.6213684082031, 'real_time_event': 9.0, 'box_time_event': 0.0, 'height': 66.28618621826172, 'width': 58.70640563964844, 'confidence': 0.7234134078025818, 'realangle': 2, 'rawangle': 2}\n",
      "{'Normal': 0.14721675, 'Division': 0.85278326, 'xstart': 666, 'ystart': 682, 'tstart': 6.0, 'xcenterraw': 0.6416103839874268, 'ycenterraw': 0.40880176424980164, 'tcenterraw': 0.38271453976631165, 'xcenter': 748.1261291503906, 'ycenter': 734.3266258239746, 'real_time_event': 9.0, 'box_time_event': 0.0, 'height': 45.54700469970703, 'width': 24.270109176635742, 'confidence': 0.6642834544181824, 'realangle': 2, 'rawangle': 2}\n",
      "{'Normal': 0.17573856, 'Division': 0.8242614, 'xstart': 333, 'ystart': 888, 'tstart': 6.0, 'xcenterraw': 0.6462440490722656, 'ycenterraw': 0.5550477504730225, 'tcenterraw': 0.6616391539573669, 'xcenter': 415.71923828125, 'ycenter': 959.0461120605469, 'real_time_event': 11.0, 'box_time_event': 0.0, 'height': 55.370933532714844, 'width': 64.92741394042969, 'confidence': 0.6695274710655212, 'realangle': 2, 'rawangle': 2}\n",
      "{'Normal': 0.1948611, 'Division': 0.80513895, 'xstart': 349, 'ystart': 989, 'tstart': 6.0, 'xcenterraw': 0.6169151067733765, 'ycenterraw': 0.22974778711795807, 'tcenterraw': 0.47821497917175293, 'xcenter': 427.9651336669922, 'ycenter': 1018.4077167510986, 'real_time_event': 10.0, 'box_time_event': 0.0, 'height': 60.61451721191406, 'width': 47.603599548339844, 'confidence': 0.6457343101501465, 'realangle': 2, 'rawangle': 2}\n"
     ]
    },
    {
     "name": "stderr",
     "output_type": "stream",
     "text": [
      "\r",
      " 20%|█████████████████▏                                                                      | 8/41 [02:19<09:14, 16.79s/it]"
     ]
    },
    {
     "name": "stdout",
     "output_type": "stream",
     "text": [
      "{'Normal': 0.13885246, 'Division': 0.8611476, 'xstart': 111, 'ystart': 238, 'tstart': 7.0, 'xcenterraw': 0.3766883313655853, 'ycenterraw': 0.22070762515068054, 'tcenterraw': 0.5470929741859436, 'xcenter': 159.21610641479492, 'ycenter': 266.2505760192871, 'real_time_event': 11.0, 'box_time_event': 0.0, 'height': 39.50727081298828, 'width': 70.79808044433594, 'confidence': 0.760063111782074, 'realangle': 2, 'rawangle': 2}\n",
      "{'Normal': 0.15159371, 'Division': 0.8484063, 'xstart': 111, 'ystart': 349, 'tstart': 7.0, 'xcenterraw': 0.37726661562919617, 'ycenterraw': 0.26100078225135803, 'tcenterraw': 0.4046812951564789, 'xcenter': 159.2901268005371, 'ycenter': 382.4081001281738, 'real_time_event': 10.0, 'box_time_event': 0.0, 'height': 68.11663055419922, 'width': 43.5262451171875, 'confidence': 0.8160325884819031, 'realangle': 2, 'rawangle': 2}\n",
      "{'Normal': 0.167636, 'Division': 0.83236396, 'xstart': 904, 'ystart': 666, 'tstart': 7.0, 'xcenterraw': 0.4870127737522125, 'ycenterraw': 0.28435903787612915, 'tcenterraw': 0.5412801504135132, 'xcenter': 966.3376350402832, 'ycenter': 702.3979568481445, 'real_time_event': 11.0, 'box_time_event': 0.0, 'height': 42.81338119506836, 'width': 72.22284698486328, 'confidence': 0.5779814124107361, 'realangle': 2, 'rawangle': 2}\n",
      "{'Normal': 0.16403814, 'Division': 0.8359619, 'xstart': 333, 'ystart': 973, 'tstart': 7.0, 'xcenterraw': 0.34009379148483276, 'ycenterraw': 0.532865583896637, 'tcenterraw': 0.578967809677124, 'xcenter': 376.5320053100586, 'ycenter': 1041.2067947387695, 'real_time_event': 12.0, 'box_time_event': 0.0, 'height': 54.99750518798828, 'width': 40.94795227050781, 'confidence': 0.7540792226791382, 'realangle': 2, 'rawangle': 2}\n",
      "{'Normal': 0.16523053, 'Division': 0.8347694, 'xstart': 973, 'ystart': 460, 'tstart': 7.0, 'xcenterraw': 0.5679821372032166, 'ycenterraw': 0.4800387918949127, 'tcenterraw': 0.6331819295883179, 'xcenter': 1045.7017135620117, 'ycenter': 521.4449653625488, 'real_time_event': 12.0, 'box_time_event': 0.0, 'height': 69.07026672363281, 'width': 27.206369400024414, 'confidence': 0.5556886196136475, 'realangle': 2, 'rawangle': 2}\n"
     ]
    },
    {
     "name": "stderr",
     "output_type": "stream",
     "text": [
      "\r",
      " 22%|███████████████████▎                                                                    | 9/41 [02:36<08:56, 16.76s/it]"
     ]
    },
    {
     "name": "stdout",
     "output_type": "stream",
     "text": [
      "{'Normal': 0.1067593, 'Division': 0.8932407, 'xstart': 111, 'ystart': 238, 'tstart': 8.0, 'xcenterraw': 0.38584643602371216, 'ycenterraw': 0.2580239772796631, 'tcenterraw': 0.5790576338768005, 'xcenter': 160.38834381103516, 'ycenter': 271.0270690917969, 'real_time_event': 13.0, 'box_time_event': 0.0, 'height': 41.02448272705078, 'width': 49.75422668457031, 'confidence': 0.7973947525024414, 'realangle': 2, 'rawangle': 2}\n",
      "{'Normal': 0.19892244, 'Division': 0.8010776, 'xstart': 777, 'ystart': 460, 'tstart': 8.0, 'xcenterraw': 0.6955631971359253, 'ycenterraw': 0.39990776777267456, 'tcenterraw': 0.5259808301925659, 'xcenter': 866.0320892333984, 'ycenter': 511.18819427490234, 'real_time_event': 12.0, 'box_time_event': 0.0, 'height': 69.53939056396484, 'width': 52.52138900756836, 'confidence': 0.6628077626228333, 'realangle': 2, 'rawangle': 2}\n",
      "{'Normal': 0.14153019, 'Division': 0.8584698, 'xstart': 973, 'ystart': 460, 'tstart': 8.0, 'xcenterraw': 0.5443441271781921, 'ycenterraw': 0.45552659034729004, 'tcenterraw': 0.6067627668380737, 'xcenter': 1042.6760482788086, 'ycenter': 518.3074035644531, 'real_time_event': 13.0, 'box_time_event': 0.0, 'height': 69.61869049072266, 'width': 22.747949600219727, 'confidence': 0.6069527864456177, 'realangle': 2, 'rawangle': 2}\n"
     ]
    },
    {
     "name": "stderr",
     "output_type": "stream",
     "text": [
      "\r",
      " 24%|█████████████████████▏                                                                 | 10/41 [02:53<08:38, 16.72s/it]"
     ]
    },
    {
     "name": "stdout",
     "output_type": "stream",
     "text": [
      "{'Normal': 0.1748358, 'Division': 0.82516426, 'xstart': 222, 'ystart': 238, 'tstart': 9.0, 'xcenterraw': 0.4664905369281769, 'ycenterraw': 0.3602459728717804, 'tcenterraw': 0.6475171446800232, 'xcenter': 281.71078872680664, 'ycenter': 284.1114845275879, 'real_time_event': 14.0, 'box_time_event': 0.0, 'height': 71.65147399902344, 'width': 65.78382873535156, 'confidence': 0.5079022645950317, 'realangle': 2, 'rawangle': 2}\n",
      "{'Normal': 0.18382281, 'Division': 0.8161772, 'xstart': 444, 'ystart': 238, 'tstart': 9.0, 'xcenterraw': 0.4660041630268097, 'ycenterraw': 0.5267865061759949, 'tcenterraw': 0.6837600469589233, 'xcenter': 503.64853286743164, 'ycenter': 305.42867279052734, 'real_time_event': 15.0, 'box_time_event': 0.0, 'height': 63.52596664428711, 'width': 56.53706741333008, 'confidence': 0.6298161745071411, 'realangle': 2, 'rawangle': 2}\n",
      "{'Normal': 0.19346742, 'Division': 0.80653256, 'xstart': 111, 'ystart': 333, 'tstart': 9.0, 'xcenterraw': 0.40947484970092773, 'ycenterraw': 0.4745454490184784, 'tcenterraw': 0.5318915843963623, 'xcenter': 163.41278076171875, 'ycenter': 393.74181747436523, 'real_time_event': 13.0, 'box_time_event': 0.0, 'height': 46.07203674316406, 'width': 61.70073318481445, 'confidence': 0.6970301866531372, 'realangle': 2, 'rawangle': 2}\n",
      "{'Normal': 0.18431577, 'Division': 0.81568426, 'xstart': 555, 'ystart': 349, 'tstart': 9.0, 'xcenterraw': 0.6287641525268555, 'ycenterraw': 0.4326061010360718, 'tcenterraw': 0.6183673143386841, 'xcenter': 635.4818115234375, 'ycenter': 404.3735809326172, 'real_time_event': 14.0, 'box_time_event': 0.0, 'height': 47.156185150146484, 'width': 71.43649291992188, 'confidence': 0.6666761636734009, 'realangle': 2, 'rawangle': 2}\n",
      "{'Normal': 0.092326865, 'Division': 0.9076731, 'xstart': 777, 'ystart': 460, 'tstart': 9.0, 'xcenterraw': 0.6538916230201721, 'ycenterraw': 0.4003593623638153, 'tcenterraw': 0.6735467910766602, 'xcenter': 860.698127746582, 'ycenter': 511.24599838256836, 'real_time_event': 15.0, 'box_time_event': 0.0, 'height': 70.77191925048828, 'width': 55.050968170166016, 'confidence': 0.5678569674491882, 'realangle': 2, 'rawangle': 2}\n",
      "{'Normal': 0.19036931, 'Division': 0.8096307, 'xstart': 904, 'ystart': 571, 'tstart': 9.0, 'xcenterraw': 0.5997737050056458, 'ycenterraw': 0.255295068025589, 'tcenterraw': 0.5543541312217712, 'xcenter': 980.7710342407227, 'ycenter': 603.6777687072754, 'real_time_event': 13.0, 'box_time_event': 0.0, 'height': 66.82345581054688, 'width': 68.88424682617188, 'confidence': 0.6447669863700867, 'realangle': 2, 'rawangle': 2}\n",
      "{'Normal': 0.16523194, 'Division': 0.8347681, 'xstart': 333, 'ystart': 777, 'tstart': 9.0, 'xcenterraw': 0.3226214349269867, 'ycenterraw': 0.5397660732269287, 'tcenterraw': 0.5903135538101196, 'xcenter': 374.2955436706543, 'ycenter': 846.0900573730469, 'real_time_event': 14.0, 'box_time_event': 0.0, 'height': 57.26017761230469, 'width': 52.2073974609375, 'confidence': 0.6139254570007324, 'realangle': 2, 'rawangle': 2}\n"
     ]
    },
    {
     "name": "stderr",
     "output_type": "stream",
     "text": [
      "\r",
      " 27%|███████████████████████▎                                                               | 11/41 [03:32<11:51, 23.73s/it]"
     ]
    },
    {
     "name": "stdout",
     "output_type": "stream",
     "text": [
      "{'Normal': 0.1070544, 'Division': 0.89294565, 'xstart': 333, 'ystart': 16, 'tstart': 10.0, 'xcenterraw': 0.6284265518188477, 'ycenterraw': 0.23552872240543365, 'tcenterraw': 0.5194299221038818, 'xcenter': 413.4385986328125, 'ycenter': 46.14767646789551, 'real_time_event': 14.0, 'box_time_event': 0.0, 'height': 53.815269470214844, 'width': 75.80474853515625, 'confidence': 0.6454123854637146, 'realangle': 2, 'rawangle': 2}\n",
      "{'Normal': 0.16657467, 'Division': 0.83342534, 'xstart': 571, 'ystart': 349, 'tstart': 10.0, 'xcenterraw': 0.603121817111969, 'ycenterraw': 0.37998104095458984, 'tcenterraw': 0.48208916187286377, 'xcenter': 648.199592590332, 'ycenter': 397.6375732421875, 'real_time_event': 14.0, 'box_time_event': 0.0, 'height': 49.74135971069336, 'width': 46.28349685668945, 'confidence': 0.5560764670372009, 'realangle': 2, 'rawangle': 2}\n",
      "{'Normal': 0.15523626, 'Division': 0.84476376, 'xstart': 555, 'ystart': 973, 'tstart': 10.0, 'xcenterraw': 0.2515287697315216, 'ycenterraw': 0.6222783327102661, 'tcenterraw': 0.4950975477695465, 'xcenter': 587.1956825256348, 'ycenter': 1052.651626586914, 'real_time_event': 14.0, 'box_time_event': 0.0, 'height': 51.334590911865234, 'width': 55.054603576660156, 'confidence': 0.6528345942497253, 'realangle': 2, 'rawangle': 2}\n"
     ]
    },
    {
     "name": "stderr",
     "output_type": "stream",
     "text": [
      "\r",
      " 29%|█████████████████████████▍                                                             | 12/41 [03:49<10:22, 21.48s/it]"
     ]
    },
    {
     "name": "stdout",
     "output_type": "stream",
     "text": [
      "{'Normal': 0.1879171, 'Division': 0.81208295, 'xstart': 333, 'ystart': 0, 'tstart': 11.0, 'xcenterraw': 0.5420273542404175, 'ycenterraw': 0.5425794124603271, 'tcenterraw': 0.6310708522796631, 'xcenter': 402.37950134277344, 'ycenter': 69.45016479492188, 'real_time_event': 16.0, 'box_time_event': 0.0, 'height': 59.833126068115234, 'width': 60.125431060791016, 'confidence': 0.573156476020813, 'realangle': 2, 'rawangle': 2}\n",
      "{'Normal': 0.105617054, 'Division': 0.89438295, 'xstart': 333, 'ystart': 16, 'tstart': 11.0, 'xcenterraw': 0.5385738015174866, 'ycenterraw': 0.3810586929321289, 'tcenterraw': 0.524080753326416, 'xcenter': 401.9374465942383, 'ycenter': 64.7755126953125, 'real_time_event': 15.0, 'box_time_event': 0.0, 'height': 69.01239776611328, 'width': 84.48668670654297, 'confidence': 0.5189217925071716, 'realangle': 2, 'rawangle': 2}\n",
      "{'Normal': 0.17644793, 'Division': 0.823552, 'xstart': 349, 'ystart': 16, 'tstart': 11.0, 'xcenterraw': 0.7229976654052734, 'ycenterraw': 0.5344873666763306, 'tcenterraw': 0.4388570785522461, 'xcenter': 441.543701171875, 'ycenter': 84.41438293457031, 'real_time_event': 14.0, 'box_time_event': 0.0, 'height': 50.869232177734375, 'width': 36.57550811767578, 'confidence': 0.6774536371231079, 'realangle': 2, 'rawangle': 2}\n",
      "{'Normal': 0.18570457, 'Division': 0.8142955, 'xstart': 888, 'ystart': 16, 'tstart': 11.0, 'xcenterraw': 0.4157862067222595, 'ycenterraw': 0.38103005290031433, 'tcenterraw': 0.48561400175094604, 'xcenter': 941.2206344604492, 'ycenter': 64.77184677124023, 'real_time_event': 15.0, 'box_time_event': 0.0, 'height': 41.07265853881836, 'width': 67.28056335449219, 'confidence': 0.7327263951301575, 'realangle': 2, 'rawangle': 2}\n",
      "{'Normal': 0.16486779, 'Division': 0.83513224, 'xstart': 793, 'ystart': 127, 'tstart': 11.0, 'xcenterraw': 0.6563816070556641, 'ycenterraw': 0.19869010150432587, 'tcenterraw': 0.49865543842315674, 'xcenter': 877.016845703125, 'ycenter': 152.4323329925537, 'real_time_event': 15.0, 'box_time_event': 0.0, 'height': 69.9969482421875, 'width': 40.421356201171875, 'confidence': 0.7768877148628235, 'realangle': 2, 'rawangle': 2}\n",
      "{'Normal': 0.16993, 'Division': 0.83007, 'xstart': 16, 'ystart': 222, 'tstart': 11.0, 'xcenterraw': 0.5923489928245544, 'ycenterraw': 0.5251295566558838, 'tcenterraw': 0.4904816150665283, 'xcenter': 91.82067108154297, 'ycenter': 289.2165832519531, 'real_time_event': 15.0, 'box_time_event': 0.0, 'height': 49.15805435180664, 'width': 69.34624481201172, 'confidence': 0.6852265000343323, 'realangle': 2, 'rawangle': 2}\n",
      "{'Normal': 0.16603297, 'Division': 0.833967, 'xstart': 349, 'ystart': 349, 'tstart': 11.0, 'xcenterraw': 0.7166393995285034, 'ycenterraw': 0.3427691161632538, 'tcenterraw': 0.3809139132499695, 'xcenter': 440.72984313964844, 'ycenter': 392.8744468688965, 'real_time_event': 14.0, 'box_time_event': 0.0, 'height': 74.37944793701172, 'width': 58.620338439941406, 'confidence': 0.6123436093330383, 'realangle': 2, 'rawangle': 2}\n",
      "{'Normal': 0.11412137, 'Division': 0.8858786, 'xstart': 555, 'ystart': 349, 'tstart': 11.0, 'xcenterraw': 0.5794353485107422, 'ycenterraw': 0.3419487178325653, 'tcenterraw': 0.33870354294776917, 'xcenter': 629.167724609375, 'ycenter': 392.76943588256836, 'real_time_event': 14.0, 'box_time_event': 0.0, 'height': 53.88154983520508, 'width': 59.17387008666992, 'confidence': 0.7999570369720459, 'realangle': 2, 'rawangle': 2}\n",
      "{'Normal': 0.12554453, 'Division': 0.8744554, 'xstart': 16, 'ystart': 460, 'tstart': 11.0, 'xcenterraw': 0.5137468576431274, 'ycenterraw': 0.33867475390434265, 'tcenterraw': 0.4490293860435486, 'xcenter': 81.75959777832031, 'ycenter': 503.35036849975586, 'real_time_event': 15.0, 'box_time_event': 0.0, 'height': 78.78783416748047, 'width': 55.42179489135742, 'confidence': 0.6776382327079773, 'realangle': 2, 'rawangle': 2}\n",
      "{'Normal': 0.15864201, 'Division': 0.84135795, 'xstart': 460, 'ystart': 460, 'tstart': 11.0, 'xcenterraw': 0.7030739784240723, 'ycenterraw': 0.3481806814670563, 'tcenterraw': 0.5553919076919556, 'xcenter': 549.9934692382812, 'ycenter': 504.5671272277832, 'real_time_event': 15.0, 'box_time_event': 0.0, 'height': 60.440032958984375, 'width': 56.68912124633789, 'confidence': 0.5810114741325378, 'realangle': 2, 'rawangle': 2}\n",
      "{'Normal': 0.16706727, 'Division': 0.8329327, 'xstart': 777, 'ystart': 460, 'tstart': 11.0, 'xcenterraw': 0.6011139154434204, 'ycenterraw': 0.5622227191925049, 'tcenterraw': 0.6365018486976624, 'xcenter': 853.9425811767578, 'ycenter': 531.9645080566406, 'real_time_event': 16.0, 'box_time_event': 0.0, 'height': 42.01518630981445, 'width': 53.74364471435547, 'confidence': 0.697648823261261, 'realangle': 2, 'rawangle': 2}\n",
      "{'Normal': 0.17398636, 'Division': 0.8260136, 'xstart': 222, 'ystart': 571, 'tstart': 11.0, 'xcenterraw': 0.511705756187439, 'ycenterraw': 0.6422870755195618, 'tcenterraw': 0.5096665620803833, 'xcenter': 287.4983367919922, 'ycenter': 653.2127456665039, 'real_time_event': 15.0, 'box_time_event': 0.0, 'height': 42.65216064453125, 'width': 49.594017028808594, 'confidence': 0.5349024534225464, 'realangle': 2, 'rawangle': 2}\n",
      "{'Normal': 0.18489785, 'Division': 0.8151022, 'xstart': 222, 'ystart': 682, 'tstart': 11.0, 'xcenterraw': 0.5854349732398987, 'ycenterraw': 0.6948695182800293, 'tcenterraw': 0.6159439086914062, 'xcenter': 296.93567657470703, 'ycenter': 770.9432983398438, 'real_time_event': 16.0, 'box_time_event': 0.0, 'height': 46.32103729248047, 'width': 68.65550994873047, 'confidence': 0.5387457013130188, 'realangle': 2, 'rawangle': 2}\n",
      "{'Normal': 0.177816, 'Division': 0.822184, 'xstart': 555, 'ystart': 973, 'tstart': 11.0, 'xcenterraw': 0.5956704616546631, 'ycenterraw': 0.6719770431518555, 'tcenterraw': 0.43222054839134216, 'xcenter': 631.2458190917969, 'ycenter': 1059.0130615234375, 'real_time_event': 14.0, 'box_time_event': 0.0, 'height': 58.96384811401367, 'width': 30.33355140686035, 'confidence': 0.6052153706550598, 'realangle': 2, 'rawangle': 2}\n",
      "{'Normal': 0.19398446, 'Division': 0.8060155, 'xstart': 973, 'ystart': 238, 'tstart': 11.0, 'xcenterraw': 0.5819219946861267, 'ycenterraw': 0.38531842827796936, 'tcenterraw': 0.5902900695800781, 'xcenter': 1047.4860153198242, 'ycenter': 287.3207588195801, 'real_time_event': 16.0, 'box_time_event': 0.0, 'height': 54.11042404174805, 'width': 60.391780853271484, 'confidence': 0.5355538725852966, 'realangle': 2, 'rawangle': 2}\n"
     ]
    },
    {
     "name": "stderr",
     "output_type": "stream",
     "text": [
      "\r",
      " 32%|███████████████████████████▌                                                           | 13/41 [04:05<09:18, 19.94s/it]"
     ]
    },
    {
     "name": "stdout",
     "output_type": "stream",
     "text": [
      "{'Normal': 0.06006535, 'Division': 0.9399346, 'xstart': 333, 'ystart': 16, 'tstart': 12.0, 'xcenterraw': 0.6354090571403503, 'ycenterraw': 0.3011760413646698, 'tcenterraw': 0.47068217396736145, 'xcenter': 414.33235931396484, 'ycenter': 54.550533294677734, 'real_time_event': 16.0, 'box_time_event': 0.0, 'height': 53.186500549316406, 'width': 61.323020935058594, 'confidence': 0.5353641510009766, 'realangle': 2, 'rawangle': 2}\n",
      "{'Normal': 0.17537215, 'Division': 0.8246278, 'xstart': 349, 'ystart': 349, 'tstart': 12.0, 'xcenterraw': 0.646310567855835, 'ycenterraw': 0.31852322816848755, 'tcenterraw': 0.617473840713501, 'xcenter': 431.7277526855469, 'ycenter': 389.7709732055664, 'real_time_event': 17.0, 'box_time_event': 0.0, 'height': 68.7134017944336, 'width': 79.83352661132812, 'confidence': 0.6038511991500854, 'realangle': 2, 'rawangle': 2}\n",
      "{'Normal': 0.18586034, 'Division': 0.8141396, 'xstart': 444, 'ystart': 349, 'tstart': 12.0, 'xcenterraw': 0.44770464301109314, 'ycenterraw': 0.3211284875869751, 'tcenterraw': 0.6974113583564758, 'xcenter': 501.3061943054199, 'ycenter': 390.1044464111328, 'real_time_event': 18.0, 'box_time_event': 0.0, 'height': 56.725502014160156, 'width': 56.975791931152344, 'confidence': 0.8228924870491028, 'realangle': 2, 'rawangle': 2}\n",
      "{'Normal': 0.16416058, 'Division': 0.8358394, 'xstart': 444, 'ystart': 444, 'tstart': 12.0, 'xcenterraw': 0.29180240631103516, 'ycenterraw': 0.7282032370567322, 'tcenterraw': 0.5575863718986511, 'xcenter': 481.3507080078125, 'ycenter': 537.2100143432617, 'real_time_event': 17.0, 'box_time_event': 0.0, 'height': 40.579490661621094, 'width': 25.461942672729492, 'confidence': 0.6049308776855469, 'realangle': 2, 'rawangle': 2}\n",
      "{'Normal': 0.19698618, 'Division': 0.80301386, 'xstart': 444, 'ystart': 460, 'tstart': 12.0, 'xcenterraw': 0.6214491128921509, 'ycenterraw': 0.4289984405040741, 'tcenterraw': 0.5242012739181519, 'xcenter': 523.5454864501953, 'ycenter': 514.9118003845215, 'real_time_event': 16.0, 'box_time_event': 0.0, 'height': 57.69697952270508, 'width': 20.107751846313477, 'confidence': 0.7097988128662109, 'realangle': 2, 'rawangle': 2}\n",
      "{'Normal': 0.08468996, 'Division': 0.9153101, 'xstart': 460, 'ystart': 460, 'tstart': 12.0, 'xcenterraw': 0.6734030842781067, 'ycenterraw': 0.38680747151374817, 'tcenterraw': 0.4913804233074188, 'xcenter': 546.1955947875977, 'ycenter': 509.51135635375977, 'real_time_event': 16.0, 'box_time_event': 0.0, 'height': 68.31221008300781, 'width': 77.8582534790039, 'confidence': 0.6606572866439819, 'realangle': 2, 'rawangle': 2}\n",
      "{'Normal': 0.15997888, 'Division': 0.84002113, 'xstart': 222, 'ystart': 682, 'tstart': 12.0, 'xcenterraw': 0.6598075032234192, 'ycenterraw': 0.6120014786720276, 'tcenterraw': 0.5905499458312988, 'xcenter': 306.45536041259766, 'ycenter': 760.3361892700195, 'real_time_event': 17.0, 'box_time_event': 0.0, 'height': 52.28671646118164, 'width': 71.37415313720703, 'confidence': 0.6346071362495422, 'realangle': 2, 'rawangle': 2}\n",
      "{'Normal': 0.19791187, 'Division': 0.8020881, 'xstart': 460, 'ystart': 793, 'tstart': 12.0, 'xcenterraw': 0.6838394999504089, 'ycenterraw': 0.23768295347690582, 'tcenterraw': 0.4908982217311859, 'xcenter': 547.5314559936523, 'ycenter': 823.423418045044, 'real_time_event': 16.0, 'box_time_event': 0.0, 'height': 39.55099105834961, 'width': 64.69013977050781, 'confidence': 0.8144151568412781, 'realangle': 2, 'rawangle': 2}\n",
      "{'Normal': 0.17701386, 'Division': 0.8229861, 'xstart': 666, 'ystart': 904, 'tstart': 12.0, 'xcenterraw': 0.48841580748558044, 'ycenterraw': 0.5164511203765869, 'tcenterraw': 0.5373511910438538, 'xcenter': 728.5172233581543, 'ycenter': 970.1057434082031, 'real_time_event': 16.0, 'box_time_event': 0.0, 'height': 52.1331672668457, 'width': 54.092864990234375, 'confidence': 0.7259806394577026, 'realangle': 2, 'rawangle': 2}\n"
     ]
    },
    {
     "name": "stderr",
     "output_type": "stream",
     "text": [
      "\r",
      " 34%|█████████████████████████████▋                                                         | 14/41 [04:22<08:30, 18.92s/it]"
     ]
    },
    {
     "name": "stdout",
     "output_type": "stream",
     "text": [
      "{'Normal': 0.12842914, 'Division': 0.8715708, 'xstart': 460, 'ystart': 0, 'tstart': 13.0, 'xcenterraw': 0.6963669657707214, 'ycenterraw': 0.6219673156738281, 'tcenterraw': 0.5369285345077515, 'xcenter': 549.1349716186523, 'ycenter': 79.61181640625, 'real_time_event': 17.0, 'box_time_event': 0.0, 'height': 66.29317474365234, 'width': 57.57410430908203, 'confidence': 0.5808859467506409, 'realangle': 2, 'rawangle': 2}\n",
      "{'Normal': 0.18553118, 'Division': 0.81446874, 'xstart': 888, 'ystart': 16, 'tstart': 13.0, 'xcenterraw': 0.5515055060386658, 'ycenterraw': 0.44944459199905396, 'tcenterraw': 0.6021899580955505, 'xcenter': 958.5927047729492, 'ycenter': 73.5289077758789, 'real_time_event': 18.0, 'box_time_event': 0.0, 'height': 59.099708557128906, 'width': 61.898494720458984, 'confidence': 0.7329196929931641, 'realangle': 2, 'rawangle': 2}\n",
      "{'Normal': 0.15296653, 'Division': 0.8470335, 'xstart': 888, 'ystart': 111, 'tstart': 13.0, 'xcenterraw': 0.45653271675109863, 'ycenterraw': 0.518006443977356, 'tcenterraw': 0.5466008186340332, 'xcenter': 946.4361877441406, 'ycenter': 177.30482482910156, 'real_time_event': 17.0, 'box_time_event': 0.0, 'height': 46.24811935424805, 'width': 47.416046142578125, 'confidence': 0.5456588268280029, 'realangle': 2, 'rawangle': 2}\n",
      "{'Normal': 0.10924631, 'Division': 0.8907537, 'xstart': 555, 'ystart': 460, 'tstart': 13.0, 'xcenterraw': 0.7067316174507141, 'ycenterraw': 0.4970296621322632, 'tcenterraw': 0.5868653655052185, 'xcenter': 645.4616470336914, 'ycenter': 523.6197967529297, 'real_time_event': 18.0, 'box_time_event': 0.0, 'height': 45.2862548828125, 'width': 63.00477981567383, 'confidence': 0.5434561967849731, 'realangle': 2, 'rawangle': 2}\n",
      "{'Normal': 0.06458134, 'Division': 0.93541867, 'xstart': 682, 'ystart': 904, 'tstart': 13.0, 'xcenterraw': 0.6887423992156982, 'ycenterraw': 0.1701493114233017, 'tcenterraw': 0.4379316568374634, 'xcenter': 770.1590270996094, 'ycenter': 925.7791118621826, 'real_time_event': 16.0, 'box_time_event': 0.0, 'height': 60.7660026550293, 'width': 58.749359130859375, 'confidence': 0.6869779825210571, 'realangle': 2, 'rawangle': 2}\n"
     ]
    },
    {
     "name": "stderr",
     "output_type": "stream",
     "text": [
      "\r",
      " 37%|███████████████████████████████▊                                                       | 15/41 [04:39<07:56, 18.33s/it]"
     ]
    },
    {
     "name": "stdout",
     "output_type": "stream",
     "text": [
      "{'Normal': 0.18682143, 'Division': 0.8131786, 'xstart': 793, 'ystart': 349, 'tstart': 14.0, 'xcenterraw': 0.5205457210540771, 'ycenterraw': 0.2954241931438446, 'tcenterraw': 0.5513179898262024, 'xcenter': 859.6298522949219, 'ycenter': 386.8142967224121, 'real_time_event': 18.0, 'box_time_event': 0.0, 'height': 54.158180236816406, 'width': 47.32035446166992, 'confidence': 0.764028012752533, 'realangle': 2, 'rawangle': 2}\n",
      "{'Normal': 0.18964931, 'Division': 0.8103507, 'xstart': 793, 'ystart': 666, 'tstart': 14.0, 'xcenterraw': 0.5204370617866516, 'ycenterraw': 0.48345747590065, 'tcenterraw': 0.42662379145622253, 'xcenter': 859.6159439086914, 'ycenter': 727.8825569152832, 'real_time_event': 17.0, 'box_time_event': 0.0, 'height': 58.577945709228516, 'width': 58.94541549682617, 'confidence': 0.7683702111244202, 'realangle': 2, 'rawangle': 2}\n",
      "{'Normal': 0.19479047, 'Division': 0.80520946, 'xstart': 777, 'ystart': 777, 'tstart': 14.0, 'xcenterraw': 0.36398303508758545, 'ycenterraw': 0.663880467414856, 'tcenterraw': 0.7267623543739319, 'xcenter': 823.5898284912109, 'ycenter': 861.9766998291016, 'real_time_event': 20.0, 'box_time_event': 0.0, 'height': 50.62309646606445, 'width': 75.21702575683594, 'confidence': 0.7186964750289917, 'realangle': 2, 'rawangle': 2}\n",
      "{'Normal': 0.18406692, 'Division': 0.8159331, 'xstart': 460, 'ystart': 904, 'tstart': 14.0, 'xcenterraw': 0.6127755641937256, 'ycenterraw': 0.34734511375427246, 'tcenterraw': 0.5111758708953857, 'xcenter': 538.4352722167969, 'ycenter': 948.4601745605469, 'real_time_event': 18.0, 'box_time_event': 0.0, 'height': 67.41514587402344, 'width': 59.192840576171875, 'confidence': 0.5959888696670532, 'realangle': 2, 'rawangle': 2}\n"
     ]
    },
    {
     "name": "stderr",
     "output_type": "stream",
     "text": [
      "\r",
      " 39%|█████████████████████████████████▉                                                     | 16/41 [04:55<07:26, 17.87s/it]"
     ]
    },
    {
     "name": "stdout",
     "output_type": "stream",
     "text": [
      "{'Normal': 0.14092195, 'Division': 0.859078, 'xstart': 111, 'ystart': 238, 'tstart': 15.0, 'xcenterraw': 0.5218979716300964, 'ycenterraw': 0.39949458837509155, 'tcenterraw': 0.5284067988395691, 'xcenter': 177.80294036865234, 'ycenter': 289.1353073120117, 'real_time_event': 19.0, 'box_time_event': 0.0, 'height': 66.2361068725586, 'width': 23.28243064880371, 'confidence': 0.760924220085144, 'realangle': 2, 'rawangle': 2}\n",
      "{'Normal': 0.16569003, 'Division': 0.83431, 'xstart': 238, 'ystart': 238, 'tstart': 15.0, 'xcenterraw': 0.6882539987564087, 'ycenterraw': 0.1681632250547409, 'tcenterraw': 0.23394596576690674, 'xcenter': 326.0965118408203, 'ycenter': 259.52489280700684, 'real_time_event': 17.0, 'box_time_event': 0.0, 'height': 57.68332290649414, 'width': 69.8545913696289, 'confidence': 0.777450680732727, 'realangle': 2, 'rawangle': 2}\n",
      "{'Normal': 0.14597026, 'Division': 0.8540297, 'xstart': 349, 'ystart': 349, 'tstart': 15.0, 'xcenterraw': 0.5854384899139404, 'ycenterraw': 0.3232245147228241, 'tcenterraw': 0.6474901437759399, 'xcenter': 423.9361267089844, 'ycenter': 390.3727378845215, 'real_time_event': 20.0, 'box_time_event': 0.0, 'height': 62.76401138305664, 'width': 66.19025421142578, 'confidence': 0.5753529667854309, 'realangle': 2, 'rawangle': 2}\n",
      "{'Normal': 0.17429528, 'Division': 0.82570475, 'xstart': 444, 'ystart': 571, 'tstart': 15.0, 'xcenterraw': 0.5226288437843323, 'ycenterraw': 0.44642719626426697, 'tcenterraw': 0.7813335657119751, 'xcenter': 510.89649200439453, 'ycenter': 628.1426811218262, 'real_time_event': 22.0, 'box_time_event': 0.0, 'height': 63.7053337097168, 'width': 74.70764923095703, 'confidence': 0.6487018465995789, 'realangle': 2, 'rawangle': 2}\n",
      "{'Normal': 0.18307188, 'Division': 0.8169281, 'xstart': 904, 'ystart': 571, 'tstart': 15.0, 'xcenterraw': 0.726538896560669, 'ycenterraw': 0.44153738021850586, 'tcenterraw': 0.33681467175483704, 'xcenter': 996.9969787597656, 'ycenter': 627.5167846679688, 'real_time_event': 18.0, 'box_time_event': 0.0, 'height': 54.32368850708008, 'width': 50.62705993652344, 'confidence': 0.6141003966331482, 'realangle': 2, 'rawangle': 2}\n",
      "{'Normal': 0.16017018, 'Division': 0.8398298, 'xstart': 777, 'ystart': 682, 'tstart': 15.0, 'xcenterraw': 0.5641659498214722, 'ycenterraw': 0.3584359586238861, 'tcenterraw': 0.6472693085670471, 'xcenter': 849.2132415771484, 'ycenter': 727.8798027038574, 'real_time_event': 20.0, 'box_time_event': 0.0, 'height': 56.725135803222656, 'width': 41.60517120361328, 'confidence': 0.79729163646698, 'realangle': 2, 'rawangle': 2}\n",
      "{'Normal': 0.18890366, 'Division': 0.8110963, 'xstart': 666, 'ystart': 904, 'tstart': 15.0, 'xcenterraw': 0.5606889724731445, 'ycenterraw': 0.5404834747314453, 'tcenterraw': 0.5141692161560059, 'xcenter': 737.7681884765625, 'ycenter': 973.181884765625, 'real_time_event': 19.0, 'box_time_event': 0.0, 'height': 48.66890335083008, 'width': 49.68892288208008, 'confidence': 0.7103415727615356, 'realangle': 2, 'rawangle': 2}\n",
      "{'Normal': 0.12472679, 'Division': 0.8752732, 'xstart': 444, 'ystart': 989, 'tstart': 15.0, 'xcenterraw': 0.5573534965515137, 'ycenterraw': 0.356534868478775, 'tcenterraw': 0.4388342499732971, 'xcenter': 515.3412475585938, 'ycenter': 1034.6364631652832, 'real_time_event': 18.0, 'box_time_event': 0.0, 'height': 44.880367279052734, 'width': 45.910064697265625, 'confidence': 0.6815721392631531, 'realangle': 2, 'rawangle': 2}\n",
      "{'Normal': 0.16044477, 'Division': 0.83955526, 'xstart': 777, 'ystart': 973, 'tstart': 15.0, 'xcenterraw': 0.5265093445777893, 'ycenterraw': 0.561143159866333, 'tcenterraw': 0.813206672668457, 'xcenter': 844.393196105957, 'ycenter': 1044.8263244628906, 'real_time_event': 22.0, 'box_time_event': 0.0, 'height': 57.59590530395508, 'width': 60.6014518737793, 'confidence': 0.773054838180542, 'realangle': 2, 'rawangle': 2}\n",
      "{'Normal': 0.19400935, 'Division': 0.80599064, 'xstart': 973, 'ystart': 238, 'tstart': 15.0, 'xcenterraw': 0.47170189023017883, 'ycenterraw': 0.4416062831878662, 'tcenterraw': 0.5766732096672058, 'xcenter': 1033.377841949463, 'ycenter': 294.5256042480469, 'real_time_event': 20.0, 'box_time_event': 0.0, 'height': 60.92393493652344, 'width': 51.36281967163086, 'confidence': 0.681930422782898, 'realangle': 2, 'rawangle': 2}\n",
      "{'Normal': 0.19974688, 'Division': 0.80025315, 'xstart': 973, 'ystart': 460, 'tstart': 15.0, 'xcenterraw': 0.41177093982696533, 'ycenterraw': 0.426929235458374, 'tcenterraw': 0.41161876916885376, 'xcenter': 1025.7066802978516, 'ycenter': 514.6469421386719, 'real_time_event': 18.0, 'box_time_event': 0.0, 'height': 49.729103088378906, 'width': 49.53936004638672, 'confidence': 0.7015460133552551, 'realangle': 2, 'rawangle': 2}\n",
      "{'Normal': 0.18450157, 'Division': 0.8154984, 'xstart': 973, 'ystart': 793, 'tstart': 15.0, 'xcenterraw': 0.4721338450908661, 'ycenterraw': 0.2354169338941574, 'tcenterraw': 0.42886868119239807, 'xcenter': 1033.4331321716309, 'ycenter': 823.1333675384521, 'real_time_event': 18.0, 'box_time_event': 0.0, 'height': 51.16207504272461, 'width': 55.946136474609375, 'confidence': 0.6465626955032349, 'realangle': 2, 'rawangle': 2}\n"
     ]
    },
    {
     "name": "stderr",
     "output_type": "stream",
     "text": [
      "\r",
      " 41%|████████████████████████████████████                                                   | 17/41 [05:12<07:01, 17.56s/it]"
     ]
    },
    {
     "name": "stdout",
     "output_type": "stream",
     "text": [
      "{'Normal': 0.1800302, 'Division': 0.8199698, 'xstart': 444, 'ystart': 571, 'tstart': 16.0, 'xcenterraw': 0.5223106145858765, 'ycenterraw': 0.38107559084892273, 'tcenterraw': 0.6102280020713806, 'xcenter': 510.8557586669922, 'ycenter': 619.7776756286621, 'real_time_event': 21.0, 'box_time_event': 0.0, 'height': 58.30830383300781, 'width': 66.40340423583984, 'confidence': 0.6985141038894653, 'realangle': 2, 'rawangle': 2}\n"
     ]
    },
    {
     "name": "stderr",
     "output_type": "stream",
     "text": [
      "\r",
      " 44%|██████████████████████████████████████▏                                                | 18/41 [05:29<06:38, 17.33s/it]"
     ]
    },
    {
     "name": "stdout",
     "output_type": "stream",
     "text": [
      "{'Normal': 0.15247175, 'Division': 0.8475282, 'xstart': 0, 'ystart': 333, 'tstart': 17.0, 'xcenterraw': 0.690906822681427, 'ycenterraw': 0.5992985963821411, 'tcenterraw': 0.6300689578056335, 'xcenter': 88.43607330322266, 'ycenter': 409.71022033691406, 'real_time_event': 22.0, 'box_time_event': 0.0, 'height': 45.15850830078125, 'width': 47.884796142578125, 'confidence': 0.8050220012664795, 'realangle': 2, 'rawangle': 2}\n",
      "{'Normal': 0.18215187, 'Division': 0.81784815, 'xstart': 16, 'ystart': 333, 'tstart': 17.0, 'xcenterraw': 0.5045920610427856, 'ycenterraw': 0.31509867310523987, 'tcenterraw': 0.6165279746055603, 'xcenter': 80.58778381347656, 'ycenter': 373.3326301574707, 'real_time_event': 22.0, 'box_time_event': 0.0, 'height': 72.56800842285156, 'width': 63.30866622924805, 'confidence': 0.7079869508743286, 'realangle': 2, 'rawangle': 2}\n",
      "{'Normal': 0.13885024, 'Division': 0.8611498, 'xstart': 333, 'ystart': 460, 'tstart': 17.0, 'xcenterraw': 0.5602759718894958, 'ycenterraw': 0.41138285398483276, 'tcenterraw': 0.6168339848518372, 'xcenter': 404.71532440185547, 'ycenter': 512.6570053100586, 'real_time_event': 22.0, 'box_time_event': 0.0, 'height': 66.69243621826172, 'width': 46.85633850097656, 'confidence': 0.6231935024261475, 'realangle': 2, 'rawangle': 2}\n",
      "{'Normal': 0.15453489, 'Division': 0.8454651, 'xstart': 666, 'ystart': 571, 'tstart': 17.0, 'xcenterraw': 0.47907209396362305, 'ycenterraw': 0.37712013721466064, 'tcenterraw': 0.4904923439025879, 'xcenter': 727.3212280273438, 'ycenter': 619.2713775634766, 'real_time_event': 21.0, 'box_time_event': 0.0, 'height': 70.49764251708984, 'width': 61.62504959106445, 'confidence': 0.6149657368659973, 'realangle': 2, 'rawangle': 2}\n",
      "{'Normal': 0.16867343, 'Division': 0.83132654, 'xstart': 222, 'ystart': 793, 'tstart': 17.0, 'xcenterraw': 0.6248002648353577, 'ycenterraw': 0.35156339406967163, 'tcenterraw': 0.4414510428905487, 'xcenter': 301.9744338989258, 'ycenter': 838.000114440918, 'real_time_event': 20.0, 'box_time_event': 0.0, 'height': 36.669578552246094, 'width': 58.09892654418945, 'confidence': 0.670247495174408, 'realangle': 2, 'rawangle': 2}\n",
      "{'Normal': 0.16674288, 'Division': 0.83325714, 'xstart': 666, 'ystart': 777, 'tstart': 17.0, 'xcenterraw': 0.5007027387619019, 'ycenterraw': 0.4315900206565857, 'tcenterraw': 0.7230058908462524, 'xcenter': 730.0899505615234, 'ycenter': 832.243522644043, 'real_time_event': 23.0, 'box_time_event': 0.0, 'height': 60.46287536621094, 'width': 46.27507400512695, 'confidence': 0.5650998950004578, 'realangle': 2, 'rawangle': 2}\n",
      "{'Normal': 0.18365626, 'Division': 0.8163437, 'xstart': 777, 'ystart': 904, 'tstart': 17.0, 'xcenterraw': 0.43538883328437805, 'ycenterraw': 0.19071108102798462, 'tcenterraw': 0.5594375133514404, 'xcenter': 832.7297706604004, 'ycenter': 928.411018371582, 'real_time_event': 22.0, 'box_time_event': 0.0, 'height': 56.21031188964844, 'width': 45.35857009887695, 'confidence': 0.6893030405044556, 'realangle': 2, 'rawangle': 2}\n",
      "{'Normal': 0.18424761, 'Division': 0.8157523, 'xstart': 444, 'ystart': 973, 'tstart': 17.0, 'xcenterraw': 0.47037577629089355, 'ycenterraw': 0.6145275831222534, 'tcenterraw': 0.674441397190094, 'xcenter': 504.2080993652344, 'ycenter': 1051.6595306396484, 'real_time_event': 23.0, 'box_time_event': 0.0, 'height': 54.466087341308594, 'width': 85.96696472167969, 'confidence': 0.6851102709770203, 'realangle': 2, 'rawangle': 2}\n",
      "{'Normal': 0.1900234, 'Division': 0.8099766, 'xstart': 989, 'ystart': 222, 'tstart': 17.0, 'xcenterraw': 0.6511901617050171, 'ycenterraw': 0.4706619679927826, 'tcenterraw': 0.471465528011322, 'xcenter': 1072.3523406982422, 'ycenter': 282.2447319030762, 'real_time_event': 21.0, 'box_time_event': 0.0, 'height': 45.332740783691406, 'width': 67.425048828125, 'confidence': 0.6884222030639648, 'realangle': 2, 'rawangle': 2}\n",
      "{'Normal': 0.16240105, 'Division': 0.837599, 'xstart': 973, 'ystart': 793, 'tstart': 17.0, 'xcenterraw': 0.5766760110855103, 'ycenterraw': 0.2226530760526657, 'tcenterraw': 0.48620128631591797, 'xcenter': 1046.8145294189453, 'ycenter': 821.4995937347412, 'real_time_event': 21.0, 'box_time_event': 0.0, 'height': 54.256065368652344, 'width': 47.61908721923828, 'confidence': 0.6545786261558533, 'realangle': 2, 'rawangle': 2}\n",
      "{'Normal': 0.1447286, 'Division': 0.8552714, 'xstart': 989, 'ystart': 793, 'tstart': 17.0, 'xcenterraw': 0.6515669226646423, 'ycenterraw': 0.2452193796634674, 'tcenterraw': 0.2636256515979767, 'xcenter': 1072.4005661010742, 'ycenter': 824.3880805969238, 'real_time_event': 19.0, 'box_time_event': 0.0, 'height': 38.30783462524414, 'width': 62.046661376953125, 'confidence': 0.6726371645927429, 'realangle': 2, 'rawangle': 2}\n"
     ]
    },
    {
     "name": "stderr",
     "output_type": "stream",
     "text": [
      "\r",
      " 46%|████████████████████████████████████████▎                                              | 19/41 [05:46<06:17, 17.16s/it]"
     ]
    },
    {
     "name": "stdout",
     "output_type": "stream",
     "text": [
      "{'Normal': 0.13792875, 'Division': 0.8620712, 'xstart': 333, 'ystart': 127, 'tstart': 18.0, 'xcenterraw': 0.5636423826217651, 'ycenterraw': 0.2660171389579773, 'tcenterraw': 0.5416785478591919, 'xcenter': 405.14622497558594, 'ycenter': 161.0501937866211, 'real_time_event': 22.0, 'box_time_event': 0.0, 'height': 56.778743743896484, 'width': 60.12126922607422, 'confidence': 0.757295548915863, 'realangle': 2, 'rawangle': 2}\n",
      "{'Normal': 0.15118662, 'Division': 0.8488134, 'xstart': 444, 'ystart': 349, 'tstart': 18.0, 'xcenterraw': 0.5464391112327576, 'ycenterraw': 0.35262247920036316, 'tcenterraw': 0.5140587091445923, 'xcenter': 513.944206237793, 'ycenter': 394.1356773376465, 'real_time_event': 22.0, 'box_time_event': 0.0, 'height': 72.64105987548828, 'width': 55.48823928833008, 'confidence': 0.674066960811615, 'realangle': 2, 'rawangle': 2}\n",
      "{'Normal': 0.1965371, 'Division': 0.80346286, 'xstart': 666, 'ystart': 777, 'tstart': 18.0, 'xcenterraw': 0.5078514218330383, 'ycenterraw': 0.4659878611564636, 'tcenterraw': 0.7742747068405151, 'xcenter': 731.0049819946289, 'ycenter': 836.6464462280273, 'real_time_event': 24.0, 'box_time_event': 0.0, 'height': 66.07275390625, 'width': 41.37104034423828, 'confidence': 0.6424555778503418, 'realangle': 2, 'rawangle': 2}\n"
     ]
    },
    {
     "name": "stderr",
     "output_type": "stream",
     "text": [
      "\r",
      " 49%|██████████████████████████████████████████▍                                            | 20/41 [06:03<05:57, 17.03s/it]"
     ]
    },
    {
     "name": "stdout",
     "output_type": "stream",
     "text": [
      "{'Normal': 0.17827423, 'Division': 0.8217258, 'xstart': 666, 'ystart': 16, 'tstart': 19.0, 'xcenterraw': 0.44869348406791687, 'ycenterraw': 0.4667131006717682, 'tcenterraw': 0.49981945753097534, 'xcenter': 723.4327659606934, 'ycenter': 75.73927688598633, 'real_time_event': 23.0, 'box_time_event': 0.0, 'height': 63.34272766113281, 'width': 61.139869689941406, 'confidence': 0.6625295281410217, 'realangle': 2, 'rawangle': 2}\n",
      "{'Normal': 0.18236467, 'Division': 0.8176353, 'xstart': 111, 'ystart': 333, 'tstart': 19.0, 'xcenterraw': 0.40689098834991455, 'ycenterraw': 0.5332595109939575, 'tcenterraw': 0.6775771975517273, 'xcenter': 163.08204650878906, 'ycenter': 401.25721740722656, 'real_time_event': 25.0, 'box_time_event': 0.0, 'height': 76.09964752197266, 'width': 26.394390106201172, 'confidence': 0.6767632961273193, 'realangle': 2, 'rawangle': 2}\n",
      "{'Normal': 0.18441671, 'Division': 0.8155833, 'xstart': 555, 'ystart': 460, 'tstart': 19.0, 'xcenterraw': 0.4457738995552063, 'ycenterraw': 0.4449659287929535, 'tcenterraw': 0.6251603364944458, 'xcenter': 612.0590591430664, 'ycenter': 516.955638885498, 'real_time_event': 24.0, 'box_time_event': 0.0, 'height': 64.95389556884766, 'width': 70.75141906738281, 'confidence': 0.5876935720443726, 'realangle': 2, 'rawangle': 2}\n",
      "{'Normal': 0.18628328, 'Division': 0.8137167, 'xstart': 777, 'ystart': 571, 'tstart': 19.0, 'xcenterraw': 0.41718921065330505, 'ycenterraw': 0.45769447088241577, 'tcenterraw': 0.5600435733795166, 'xcenter': 830.400218963623, 'ycenter': 629.5848922729492, 'real_time_event': 24.0, 'box_time_event': 0.0, 'height': 42.99977111816406, 'width': 70.09991455078125, 'confidence': 0.6700583696365356, 'realangle': 2, 'rawangle': 2}\n",
      "{'Normal': 0.08496299, 'Division': 0.915037, 'xstart': 666, 'ystart': 777, 'tstart': 19.0, 'xcenterraw': 0.599530816078186, 'ycenterraw': 0.4989156424999237, 'tcenterraw': 0.6356266736984253, 'xcenter': 742.7399444580078, 'ycenter': 840.8612022399902, 'real_time_event': 24.0, 'box_time_event': 0.0, 'height': 49.91263198852539, 'width': 42.59444046020508, 'confidence': 0.5680440664291382, 'realangle': 2, 'rawangle': 2}\n",
      "{'Normal': 0.17121936, 'Division': 0.82878065, 'xstart': 904, 'ystart': 793, 'tstart': 19.0, 'xcenterraw': 0.45429322123527527, 'ycenterraw': 0.569743812084198, 'tcenterraw': 0.6098411083221436, 'xcenter': 962.1495323181152, 'ycenter': 865.9272079467773, 'real_time_event': 24.0, 'box_time_event': 0.0, 'height': 48.909332275390625, 'width': 65.62281799316406, 'confidence': 0.7181930541992188, 'realangle': 2, 'rawangle': 2}\n",
      "{'Normal': 0.183253, 'Division': 0.81674707, 'xstart': 777, 'ystart': 904, 'tstart': 19.0, 'xcenterraw': 0.5189692378044128, 'ycenterraw': 0.4062425494194031, 'tcenterraw': 0.5267925262451172, 'xcenter': 843.4280624389648, 'ycenter': 955.9990463256836, 'real_time_event': 23.0, 'box_time_event': 0.0, 'height': 57.20338439941406, 'width': 65.73040008544922, 'confidence': 0.5730825662612915, 'realangle': 2, 'rawangle': 2}\n",
      "{'Normal': 0.19758493, 'Division': 0.80241513, 'xstart': 333, 'ystart': 989, 'tstart': 19.0, 'xcenterraw': 0.5868949294090271, 'ycenterraw': 0.4277724027633667, 'tcenterraw': 0.40501847863197327, 'xcenter': 408.12255096435547, 'ycenter': 1043.754867553711, 'real_time_event': 22.0, 'box_time_event': 0.0, 'height': 48.81586456298828, 'width': 58.72474670410156, 'confidence': 0.6103227734565735, 'realangle': 2, 'rawangle': 2}\n",
      "{'Normal': 0.15826623, 'Division': 0.8417338, 'xstart': 973, 'ystart': 888, 'tstart': 19.0, 'xcenterraw': 0.5884510278701782, 'ycenterraw': 0.6194642782211304, 'tcenterraw': 0.6412362456321716, 'xcenter': 1048.3217315673828, 'ycenter': 967.2914276123047, 'real_time_event': 24.0, 'box_time_event': 0.0, 'height': 49.435646057128906, 'width': 80.21244049072266, 'confidence': 0.6294786334037781, 'realangle': 2, 'rawangle': 2}\n"
     ]
    },
    {
     "name": "stderr",
     "output_type": "stream",
     "text": [
      "\r",
      " 51%|████████████████████████████████████████████▌                                          | 21/41 [06:42<07:55, 23.79s/it]"
     ]
    },
    {
     "name": "stdout",
     "output_type": "stream",
     "text": [
      "{'Normal': 0.12555979, 'Division': 0.8744402, 'xstart': 666, 'ystart': 16, 'tstart': 20.0, 'xcenterraw': 0.5452613234519958, 'ycenterraw': 0.44003480672836304, 'tcenterraw': 0.5053691864013672, 'xcenter': 735.7934494018555, 'ycenter': 72.32445526123047, 'real_time_event': 24.0, 'box_time_event': 0.0, 'height': 58.171661376953125, 'width': 46.426082611083984, 'confidence': 0.5769039988517761, 'realangle': 2, 'rawangle': 2}\n",
      "{'Normal': 0.06598537, 'Division': 0.9340147, 'xstart': 127, 'ystart': 111, 'tstart': 20.0, 'xcenterraw': 0.6328864693641663, 'ycenterraw': 0.27710235118865967, 'tcenterraw': 0.6094413995742798, 'xcenter': 208.00946807861328, 'ycenter': 146.46910095214844, 'real_time_event': 25.0, 'box_time_event': 0.0, 'height': 54.36594772338867, 'width': 52.15376663208008, 'confidence': 0.7895593643188477, 'realangle': 2, 'rawangle': 2}\n",
      "{'Normal': 0.18661705, 'Division': 0.813383, 'xstart': 777, 'ystart': 349, 'tstart': 20.0, 'xcenterraw': 0.47414979338645935, 'ycenterraw': 0.2953873574733734, 'tcenterraw': 0.5577950477600098, 'xcenter': 837.6911735534668, 'ycenter': 386.8095817565918, 'real_time_event': 25.0, 'box_time_event': 0.0, 'height': 58.41802978515625, 'width': 53.08079147338867, 'confidence': 0.6362292766571045, 'realangle': 2, 'rawangle': 2}\n",
      "{'Normal': 0.16032566, 'Division': 0.83967435, 'xstart': 444, 'ystart': 571, 'tstart': 20.0, 'xcenterraw': 0.6703075766563416, 'ycenterraw': 0.24720138311386108, 'tcenterraw': 0.47317183017730713, 'xcenter': 529.7993698120117, 'ycenter': 602.6417770385742, 'real_time_event': 24.0, 'box_time_event': 0.0, 'height': 55.26533508300781, 'width': 60.59136962890625, 'confidence': 0.6676489114761353, 'realangle': 2, 'rawangle': 2}\n",
      "{'Normal': 0.10646296, 'Division': 0.89353704, 'xstart': 777, 'ystart': 571, 'tstart': 20.0, 'xcenterraw': 0.42640233039855957, 'ycenterraw': 0.3512873649597168, 'tcenterraw': 0.46762150526046753, 'xcenter': 831.5794982910156, 'ycenter': 615.9647827148438, 'real_time_event': 24.0, 'box_time_event': 0.0, 'height': 61.69824981689453, 'width': 66.05496215820312, 'confidence': 0.7088686227798462, 'realangle': 2, 'rawangle': 2}\n",
      "{'Normal': 0.17540628, 'Division': 0.82459366, 'xstart': 666, 'ystart': 682, 'tstart': 20.0, 'xcenterraw': 0.48712214827537537, 'ycenterraw': 0.48332634568214417, 'tcenterraw': 0.7689356803894043, 'xcenter': 728.351634979248, 'ycenter': 743.8657722473145, 'real_time_event': 26.0, 'box_time_event': 0.0, 'height': 42.85409927368164, 'width': 54.73687744140625, 'confidence': 0.736571729183197, 'realangle': 2, 'rawangle': 2}\n",
      "{'Normal': 0.17208736, 'Division': 0.8279126, 'xstart': 888, 'ystart': 989, 'tstart': 20.0, 'xcenterraw': 0.5251060128211975, 'ycenterraw': 0.48312297463417053, 'tcenterraw': 0.37249794602394104, 'xcenter': 955.2135696411133, 'ycenter': 1050.8397407531738, 'real_time_event': 23.0, 'box_time_event': 0.0, 'height': 54.30964279174805, 'width': 63.592952728271484, 'confidence': 0.5921362638473511, 'realangle': 2, 'rawangle': 2}\n"
     ]
    },
    {
     "name": "stderr",
     "output_type": "stream",
     "text": [
      "\r",
      " 54%|██████████████████████████████████████████████▋                                        | 22/41 [06:59<06:51, 21.66s/it]"
     ]
    },
    {
     "name": "stdout",
     "output_type": "stream",
     "text": [
      "{'Normal': 0.13947237, 'Division': 0.8605276, 'xstart': 571, 'ystart': 222, 'tstart': 21.0, 'xcenterraw': 0.7333614826202393, 'ycenterraw': 0.42860397696495056, 'tcenterraw': 0.72481369972229, 'xcenter': 664.8702697753906, 'ycenter': 276.8613090515137, 'real_time_event': 27.0, 'box_time_event': 0.0, 'height': 65.37248992919922, 'width': 37.19185256958008, 'confidence': 0.5761216878890991, 'realangle': 2, 'rawangle': 2}\n",
      "{'Normal': 0.07001813, 'Division': 0.9299819, 'xstart': 349, 'ystart': 333, 'tstart': 21.0, 'xcenterraw': 0.717491090297699, 'ycenterraw': 0.4411454200744629, 'tcenterraw': 0.47790035605430603, 'xcenter': 440.83885955810547, 'ycenter': 389.46661376953125, 'real_time_event': 25.0, 'box_time_event': 0.0, 'height': 53.24993133544922, 'width': 57.960758209228516, 'confidence': 0.6084216237068176, 'realangle': 2, 'rawangle': 2}\n",
      "{'Normal': 0.19035675, 'Division': 0.80964327, 'xstart': 111, 'ystart': 682, 'tstart': 21.0, 'xcenterraw': 0.6536420583724976, 'ycenterraw': 0.45382705330848694, 'tcenterraw': 0.7519046664237976, 'xcenter': 194.6661834716797, 'ycenter': 740.0898628234863, 'real_time_event': 27.0, 'box_time_event': 0.0, 'height': 44.09650802612305, 'width': 41.930511474609375, 'confidence': 0.7270275354385376, 'realangle': 2, 'rawangle': 2}\n",
      "{'Normal': 0.10674203, 'Division': 0.893258, 'xstart': 777, 'ystart': 904, 'tstart': 21.0, 'xcenterraw': 0.47393909096717834, 'ycenterraw': 0.538327693939209, 'tcenterraw': 0.5557820796966553, 'xcenter': 837.6642036437988, 'ycenter': 972.9059448242188, 'real_time_event': 26.0, 'box_time_event': 0.0, 'height': 41.88620376586914, 'width': 31.839855194091797, 'confidence': 0.5876492857933044, 'realangle': 2, 'rawangle': 2}\n"
     ]
    },
    {
     "name": "stderr",
     "output_type": "stream",
     "text": [
      "\r",
      " 56%|████████████████████████████████████████████████▊                                      | 23/41 [07:16<06:03, 20.19s/it]"
     ]
    },
    {
     "name": "stdout",
     "output_type": "stream",
     "text": [
      "{'Normal': 0.10268982, 'Division': 0.89731014, 'xstart': 571, 'ystart': 222, 'tstart': 22.0, 'xcenterraw': 0.8403664827346802, 'ycenterraw': 0.5089986324310303, 'tcenterraw': 0.598480761051178, 'xcenter': 678.5669097900391, 'ycenter': 287.1518249511719, 'real_time_event': 27.0, 'box_time_event': 0.0, 'height': 44.97334289550781, 'width': 15.699827194213867, 'confidence': 0.6521285772323608, 'realangle': 2, 'rawangle': 2}\n",
      "{'Normal': 0.17234701, 'Division': 0.827653, 'xstart': 682, 'ystart': 238, 'tstart': 22.0, 'xcenterraw': 0.5493008494377136, 'ycenterraw': 0.435329407453537, 'tcenterraw': 0.5702138543128967, 'xcenter': 752.3105087280273, 'ycenter': 293.72216415405273, 'real_time_event': 27.0, 'box_time_event': 0.0, 'height': 50.07438278198242, 'width': 59.42965316772461, 'confidence': 0.6502822041511536, 'realangle': 2, 'rawangle': 2}\n",
      "{'Normal': 0.075021245, 'Division': 0.92497873, 'xstart': 349, 'ystart': 333, 'tstart': 22.0, 'xcenterraw': 0.6558200120925903, 'ycenterraw': 0.5666146278381348, 'tcenterraw': 0.5597413778305054, 'xcenter': 432.94496154785156, 'ycenter': 405.52667236328125, 'real_time_event': 27.0, 'box_time_event': 0.0, 'height': 50.7301025390625, 'width': 52.77723693847656, 'confidence': 0.5100113153457642, 'realangle': 2, 'rawangle': 2}\n",
      "{'Normal': 0.19881861, 'Division': 0.8011814, 'xstart': 444, 'ystart': 555, 'tstart': 22.0, 'xcenterraw': 0.32764485478401184, 'ycenterraw': 0.5341231822967529, 'tcenterraw': 0.6489572525024414, 'xcenter': 485.9385414123535, 'ycenter': 623.3677673339844, 'real_time_event': 27.0, 'box_time_event': 0.0, 'height': 82.26512908935547, 'width': 46.59230041503906, 'confidence': 0.6370632648468018, 'realangle': 2, 'rawangle': 2}\n",
      "{'Normal': 0.11657422, 'Division': 0.8834257, 'xstart': 111, 'ystart': 682, 'tstart': 22.0, 'xcenterraw': 0.714397132396698, 'ycenterraw': 0.505532443523407, 'tcenterraw': 0.6674594283103943, 'xcenter': 202.44283294677734, 'ycenter': 746.7081527709961, 'real_time_event': 28.0, 'box_time_event': 0.0, 'height': 56.38603591918945, 'width': 45.521827697753906, 'confidence': 0.6431094408035278, 'realangle': 2, 'rawangle': 2}\n",
      "{'Normal': 0.18225892, 'Division': 0.8177411, 'xstart': 555, 'ystart': 666, 'tstart': 22.0, 'xcenterraw': 0.48538511991500854, 'ycenterraw': 0.5359384417533875, 'tcenterraw': 0.7205049395561218, 'xcenter': 617.1292953491211, 'ycenter': 734.6001205444336, 'real_time_event': 28.0, 'box_time_event': 0.0, 'height': 53.9219970703125, 'width': 46.000850677490234, 'confidence': 0.6328214406967163, 'realangle': 2, 'rawangle': 2}\n",
      "{'Normal': 0.17507546, 'Division': 0.8249245, 'xstart': 555, 'ystart': 682, 'tstart': 22.0, 'xcenterraw': 0.5461348295211792, 'ycenterraw': 0.44150495529174805, 'tcenterraw': 0.6863882541656494, 'xcenter': 624.9052581787109, 'ycenter': 738.5126342773438, 'real_time_event': 28.0, 'box_time_event': 0.0, 'height': 65.75961303710938, 'width': 72.1948013305664, 'confidence': 0.6515806913375854, 'realangle': 2, 'rawangle': 2}\n",
      "{'Normal': 0.11834725, 'Division': 0.8816527, 'xstart': 555, 'ystart': 777, 'tstart': 22.0, 'xcenterraw': 0.4808172583580017, 'ycenterraw': 0.35417893528938293, 'tcenterraw': 0.5273721814155579, 'xcenter': 616.5446090698242, 'ycenter': 822.334903717041, 'real_time_event': 26.0, 'box_time_event': 0.0, 'height': 35.335140228271484, 'width': 74.15908813476562, 'confidence': 0.6605895161628723, 'realangle': 2, 'rawangle': 2}\n"
     ]
    },
    {
     "name": "stderr",
     "output_type": "stream",
     "text": [
      "\r",
      " 59%|██████████████████████████████████████████████████▉                                    | 24/41 [07:32<05:25, 19.17s/it]"
     ]
    },
    {
     "name": "stdout",
     "output_type": "stream",
     "text": [
      "{'Normal': 0.17190537, 'Division': 0.82809466, 'xstart': 904, 'ystart': 16, 'tstart': 23.0, 'xcenterraw': 0.45239683985710144, 'ycenterraw': 0.5727440714836121, 'tcenterraw': 0.5443362593650818, 'xcenter': 961.906795501709, 'ycenter': 89.31124114990234, 'real_time_event': 27.0, 'box_time_event': 0.0, 'height': 35.51932907104492, 'width': 63.25801086425781, 'confidence': 0.6427211165428162, 'realangle': 2, 'rawangle': 2}\n",
      "{'Normal': 0.14299491, 'Division': 0.85700506, 'xstart': 16, 'ystart': 111, 'tstart': 23.0, 'xcenterraw': 0.5876643061637878, 'ycenterraw': 0.49824315309524536, 'tcenterraw': 0.5418415665626526, 'xcenter': 91.22103118896484, 'ycenter': 174.7751235961914, 'real_time_event': 27.0, 'box_time_event': 0.0, 'height': 23.726213455200195, 'width': 93.49846649169922, 'confidence': 0.5881384611129761, 'realangle': 2, 'rawangle': 2}\n",
      "{'Normal': 0.17787349, 'Division': 0.8221265, 'xstart': 0, 'ystart': 460, 'tstart': 23.0, 'xcenterraw': 0.42646363377571106, 'ycenterraw': 0.38331592082977295, 'tcenterraw': 0.4946707487106323, 'xcenter': 54.587345123291016, 'ycenter': 509.06443786621094, 'real_time_event': 27.0, 'box_time_event': 0.0, 'height': 50.5757942199707, 'width': 55.764713287353516, 'confidence': 0.7533209919929504, 'realangle': 2, 'rawangle': 2}\n",
      "{'Normal': 0.15769945, 'Division': 0.8423006, 'xstart': 444, 'ystart': 460, 'tstart': 23.0, 'xcenterraw': 0.5416483879089355, 'ycenterraw': 0.30055850744247437, 'tcenterraw': 0.6485569477081299, 'xcenter': 513.3309936523438, 'ycenter': 498.4714889526367, 'real_time_event': 28.0, 'box_time_event': 0.0, 'height': 76.94174194335938, 'width': 38.734840393066406, 'confidence': 0.5692902207374573, 'realangle': 2, 'rawangle': 2}\n",
      "{'Normal': 0.14650223, 'Division': 0.8534978, 'xstart': 444, 'ystart': 555, 'tstart': 23.0, 'xcenterraw': 0.35761988162994385, 'ycenterraw': 0.2937804162502289, 'tcenterraw': 0.5786881446838379, 'xcenter': 489.7753448486328, 'ycenter': 592.6038932800293, 'real_time_event': 28.0, 'box_time_event': 0.0, 'height': 90.81819152832031, 'width': 45.93638229370117, 'confidence': 0.5817771553993225, 'realangle': 2, 'rawangle': 2}\n",
      "{'Normal': 0.13147505, 'Division': 0.8685249, 'xstart': 222, 'ystart': 888, 'tstart': 23.0, 'xcenterraw': 0.5865593552589417, 'ycenterraw': 0.6925577521324158, 'tcenterraw': 0.7101171016693115, 'xcenter': 297.07959747314453, 'ycenter': 976.6473922729492, 'real_time_event': 29.0, 'box_time_event': 0.0, 'height': 50.04536056518555, 'width': 49.16166305541992, 'confidence': 0.5891231298446655, 'realangle': 2, 'rawangle': 2}\n",
      "{'Normal': 0.110877514, 'Division': 0.8891224, 'xstart': 777, 'ystart': 904, 'tstart': 23.0, 'xcenterraw': 0.57779860496521, 'ycenterraw': 0.34286490082740784, 'tcenterraw': 0.5294790267944336, 'xcenter': 850.9582214355469, 'ycenter': 947.8867073059082, 'real_time_event': 27.0, 'box_time_event': 0.0, 'height': 53.555419921875, 'width': 52.72084426879883, 'confidence': 0.5732446908950806, 'realangle': 2, 'rawangle': 2}\n",
      "{'Normal': 0.19459967, 'Division': 0.8054004, 'xstart': 973, 'ystart': 793, 'tstart': 23.0, 'xcenterraw': 0.4559619426727295, 'ycenterraw': 0.5738340616226196, 'tcenterraw': 0.42323678731918335, 'xcenter': 1031.3631286621094, 'ycenter': 866.4507598876953, 'real_time_event': 26.0, 'box_time_event': 0.0, 'height': 40.9281120300293, 'width': 67.37999725341797, 'confidence': 0.5679473876953125, 'realangle': 2, 'rawangle': 2}\n"
     ]
    },
    {
     "name": "stderr",
     "output_type": "stream",
     "text": [
      "\r",
      " 61%|█████████████████████████████████████████████████████                                  | 25/41 [07:49<04:55, 18.47s/it]"
     ]
    },
    {
     "name": "stdout",
     "output_type": "stream",
     "text": [
      "{'Normal': 0.18121707, 'Division': 0.8187829, 'xstart': 682, 'ystart': 333, 'tstart': 24.0, 'xcenterraw': 0.46225908398628235, 'ycenterraw': 0.4807337522506714, 'tcenterraw': 0.5089314579963684, 'xcenter': 741.1691627502441, 'ycenter': 394.53392028808594, 'real_time_event': 28.0, 'box_time_event': 0.0, 'height': 53.986610412597656, 'width': 42.05365753173828, 'confidence': 0.7814123034477234, 'realangle': 2, 'rawangle': 2}\n",
      "{'Normal': 0.18955344, 'Division': 0.81044656, 'xstart': 0, 'ystart': 460, 'tstart': 24.0, 'xcenterraw': 0.6563687324523926, 'ycenterraw': 0.44997477531433105, 'tcenterraw': 0.5329899787902832, 'xcenter': 84.01519775390625, 'ycenter': 517.5967712402344, 'real_time_event': 28.0, 'box_time_event': 0.0, 'height': 40.49107360839844, 'width': 71.23722076416016, 'confidence': 0.7483636140823364, 'realangle': 2, 'rawangle': 2}\n",
      "{'Normal': 0.14601645, 'Division': 0.8539836, 'xstart': 666, 'ystart': 444, 'tstart': 24.0, 'xcenterraw': 0.3944936990737915, 'ycenterraw': 0.468146413564682, 'tcenterraw': 0.6160746812820435, 'xcenter': 716.4951934814453, 'ycenter': 503.9227409362793, 'real_time_event': 29.0, 'box_time_event': 0.0, 'height': 53.28696060180664, 'width': 37.85921096801758, 'confidence': 0.5825269222259521, 'realangle': 2, 'rawangle': 2}\n",
      "{'Normal': 0.18933289, 'Division': 0.8106671, 'xstart': 0, 'ystart': 571, 'tstart': 24.0, 'xcenterraw': 0.4364137053489685, 'ycenterraw': 0.3581956923007965, 'tcenterraw': 0.6552280187606812, 'xcenter': 55.86095428466797, 'ycenter': 616.849048614502, 'real_time_event': 29.0, 'box_time_event': 0.0, 'height': 41.50943374633789, 'width': 58.673160552978516, 'confidence': 0.7843698263168335, 'realangle': 2, 'rawangle': 2}\n",
      "{'Normal': 0.18356502, 'Division': 0.816435, 'xstart': 888, 'ystart': 682, 'tstart': 24.0, 'xcenterraw': 0.5409073829650879, 'ycenterraw': 0.3879900276660919, 'tcenterraw': 0.6427417993545532, 'xcenter': 957.2361450195312, 'ycenter': 731.6627235412598, 'real_time_event': 29.0, 'box_time_event': 0.0, 'height': 61.02304458618164, 'width': 50.82278823852539, 'confidence': 0.7301480770111084, 'realangle': 2, 'rawangle': 2}\n",
      "{'Normal': 0.09529843, 'Division': 0.90470153, 'xstart': 444, 'ystart': 904, 'tstart': 24.0, 'xcenterraw': 0.5816399455070496, 'ycenterraw': 0.31030526757240295, 'tcenterraw': 0.5769573450088501, 'xcenter': 518.4499130249023, 'ycenter': 943.7190742492676, 'real_time_event': 29.0, 'box_time_event': 0.0, 'height': 55.350711822509766, 'width': 44.77858352661133, 'confidence': 0.6476324200630188, 'realangle': 2, 'rawangle': 2}\n"
     ]
    },
    {
     "name": "stderr",
     "output_type": "stream",
     "text": [
      "\r",
      " 63%|███████████████████████████████████████████████████████▏                               | 26/41 [08:06<04:29, 18.00s/it]"
     ]
    },
    {
     "name": "stdout",
     "output_type": "stream",
     "text": [
      "{'Normal': 0.16116306, 'Division': 0.83883697, 'xstart': 333, 'ystart': 127, 'tstart': 25.0, 'xcenterraw': 0.61110520362854, 'ycenterraw': 0.3205322325229645, 'tcenterraw': 0.4380744993686676, 'xcenter': 411.2214660644531, 'ycenter': 168.02812576293945, 'real_time_event': 28.0, 'box_time_event': 0.0, 'height': 35.7889404296875, 'width': 48.94860076904297, 'confidence': 0.5779917240142822, 'realangle': 2, 'rawangle': 2}\n",
      "{'Normal': 0.11594752, 'Division': 0.8840525, 'xstart': 444, 'ystart': 333, 'tstart': 25.0, 'xcenterraw': 0.6158571243286133, 'ycenterraw': 0.48685696721076965, 'tcenterraw': 0.6888101696968079, 'xcenter': 522.8297119140625, 'ycenter': 395.3176918029785, 'real_time_event': 31.0, 'box_time_event': 0.0, 'height': 65.80664825439453, 'width': 81.2021484375, 'confidence': 0.6912034749984741, 'realangle': 2, 'rawangle': 2}\n",
      "{'Normal': 0.14302795, 'Division': 0.85697204, 'xstart': 904, 'ystart': 333, 'tstart': 25.0, 'xcenterraw': 0.5644104480743408, 'ycenterraw': 0.5130004286766052, 'tcenterraw': 0.6361324191093445, 'xcenter': 976.2445373535156, 'ycenter': 398.66405487060547, 'real_time_event': 30.0, 'box_time_event': 0.0, 'height': 40.67361068725586, 'width': 37.43769836425781, 'confidence': 0.6163762211799622, 'realangle': 2, 'rawangle': 2}\n",
      "{'Normal': 0.16366352, 'Division': 0.8363365, 'xstart': 111, 'ystart': 444, 'tstart': 25.0, 'xcenterraw': 0.6010742783546448, 'ycenterraw': 0.4760531187057495, 'tcenterraw': 0.7276626229286194, 'xcenter': 187.93750762939453, 'ycenter': 504.93479919433594, 'real_time_event': 31.0, 'box_time_event': 0.0, 'height': 69.1955795288086, 'width': 38.958133697509766, 'confidence': 0.7626338601112366, 'realangle': 2, 'rawangle': 2}\n",
      "{'Normal': 0.17640594, 'Division': 0.8235941, 'xstart': 0, 'ystart': 571, 'tstart': 25.0, 'xcenterraw': 0.529870331287384, 'ycenterraw': 0.29608631134033203, 'tcenterraw': 0.6397262811660767, 'xcenter': 67.82340240478516, 'ycenter': 608.8990478515625, 'real_time_event': 30.0, 'box_time_event': 0.0, 'height': 43.564208984375, 'width': 52.67195510864258, 'confidence': 0.6621737480163574, 'realangle': 2, 'rawangle': 2}\n",
      "{'Normal': 0.13823321, 'Division': 0.86176676, 'xstart': 555, 'ystart': 571, 'tstart': 25.0, 'xcenterraw': 0.6112805604934692, 'ycenterraw': 0.4713853597640991, 'tcenterraw': 0.7248302102088928, 'xcenter': 633.2439117431641, 'ycenter': 631.3373260498047, 'real_time_event': 31.0, 'box_time_event': 0.0, 'height': 49.19982147216797, 'width': 71.19815063476562, 'confidence': 0.7021422982215881, 'realangle': 2, 'rawangle': 2}\n",
      "{'Normal': 0.19780163, 'Division': 0.80219835, 'xstart': 571, 'ystart': 571, 'tstart': 25.0, 'xcenterraw': 0.7156688570976257, 'ycenterraw': 0.2975781261920929, 'tcenterraw': 0.5479727387428284, 'xcenter': 662.6056137084961, 'ycenter': 609.0900001525879, 'real_time_event': 29.0, 'box_time_event': 0.0, 'height': 77.02326202392578, 'width': 56.014095306396484, 'confidence': 0.8111032843589783, 'realangle': 2, 'rawangle': 2}\n",
      "{'Normal': 0.16934203, 'Division': 0.83065796, 'xstart': 888, 'ystart': 904, 'tstart': 25.0, 'xcenterraw': 0.5664193034172058, 'ycenterraw': 0.3031444251537323, 'tcenterraw': 0.6987592577934265, 'xcenter': 960.5016708374023, 'ycenter': 942.8024864196777, 'real_time_event': 31.0, 'box_time_event': 0.0, 'height': 58.85702133178711, 'width': 48.48381805419922, 'confidence': 0.8191877603530884, 'realangle': 2, 'rawangle': 2}\n",
      "{'Normal': 0.15826201, 'Division': 0.8417379, 'xstart': 460, 'ystart': 989, 'tstart': 25.0, 'xcenterraw': 0.7183214426040649, 'ycenterraw': 0.4001222848892212, 'tcenterraw': 0.5750422477722168, 'xcenter': 551.9451446533203, 'ycenter': 1040.2156524658203, 'real_time_event': 30.0, 'box_time_event': 0.0, 'height': 74.07494354248047, 'width': 48.25765609741211, 'confidence': 0.646409273147583, 'realangle': 2, 'rawangle': 2}\n",
      "{'Normal': 0.19101626, 'Division': 0.80898374, 'xstart': 989, 'ystart': 238, 'tstart': 25.0, 'xcenterraw': 0.47553399205207825, 'ycenterraw': 0.37970176339149475, 'tcenterraw': 0.5881791710853577, 'xcenter': 1049.868350982666, 'ycenter': 286.6018257141113, 'real_time_event': 30.0, 'box_time_event': 0.0, 'height': 39.979984283447266, 'width': 82.84493255615234, 'confidence': 0.6735053658485413, 'realangle': 2, 'rawangle': 2}\n"
     ]
    },
    {
     "name": "stderr",
     "output_type": "stream",
     "text": [
      "\r",
      " 66%|█████████████████████████████████████████████████████████▎                             | 27/41 [08:23<04:09, 17.82s/it]"
     ]
    },
    {
     "name": "stdout",
     "output_type": "stream",
     "text": [
      "{'Normal': 0.14369957, 'Division': 0.8563004, 'xstart': 333, 'ystart': 16, 'tstart': 26.0, 'xcenterraw': 0.614798367023468, 'ycenterraw': 0.30212563276290894, 'tcenterraw': 0.7807406783103943, 'xcenter': 411.6941909790039, 'ycenter': 54.672080993652344, 'real_time_event': 33.0, 'box_time_event': 0.0, 'height': 45.866722106933594, 'width': 50.161888122558594, 'confidence': 0.642998993396759, 'realangle': 2, 'rawangle': 2}\n",
      "{'Normal': 0.18643647, 'Division': 0.8135635, 'xstart': 666, 'ystart': 238, 'tstart': 26.0, 'xcenterraw': 0.7199912667274475, 'ycenterraw': 0.44538164138793945, 'tcenterraw': 0.747996985912323, 'xcenter': 758.1588821411133, 'ycenter': 295.00885009765625, 'real_time_event': 32.0, 'box_time_event': 0.0, 'height': 54.751792907714844, 'width': 61.237586975097656, 'confidence': 0.69382643699646, 'realangle': 2, 'rawangle': 2}\n",
      "{'Normal': 0.19262184, 'Division': 0.8073781, 'xstart': 444, 'ystart': 460, 'tstart': 26.0, 'xcenterraw': 0.46744415163993835, 'ycenterraw': 0.3615524470806122, 'tcenterraw': 0.6008121967315674, 'xcenter': 503.8328514099121, 'ycenter': 506.27871322631836, 'real_time_event': 31.0, 'box_time_event': 0.0, 'height': 75.2967529296875, 'width': 55.08028793334961, 'confidence': 0.731983482837677, 'realangle': 2, 'rawangle': 2}\n",
      "{'Normal': 0.104433455, 'Division': 0.8955665, 'xstart': 555, 'ystart': 571, 'tstart': 26.0, 'xcenterraw': 0.7482560873031616, 'ycenterraw': 0.42885395884513855, 'tcenterraw': 0.7289364337921143, 'xcenter': 650.7767791748047, 'ycenter': 625.8933067321777, 'real_time_event': 32.0, 'box_time_event': 0.0, 'height': 71.60663604736328, 'width': 48.28564453125, 'confidence': 0.6902786493301392, 'realangle': 2, 'rawangle': 2}\n",
      "{'Normal': 0.16659644, 'Division': 0.8334036, 'xstart': 973, 'ystart': 222, 'tstart': 26.0, 'xcenterraw': 0.614543616771698, 'ycenterraw': 0.5145072937011719, 'tcenterraw': 0.5821783542633057, 'xcenter': 1051.6615829467773, 'ycenter': 287.85693359375, 'real_time_event': 31.0, 'box_time_event': 0.0, 'height': 59.963253021240234, 'width': 52.51931381225586, 'confidence': 0.6982433795928955, 'realangle': 2, 'rawangle': 2}\n"
     ]
    },
    {
     "name": "stderr",
     "output_type": "stream",
     "text": [
      "\r",
      " 68%|███████████████████████████████████████████████████████████▍                           | 28/41 [08:41<03:49, 17.63s/it]"
     ]
    },
    {
     "name": "stdout",
     "output_type": "stream",
     "text": [
      "{'Normal': 0.08446103, 'Division': 0.9155389, 'xstart': 444, 'ystart': 111, 'tstart': 27.0, 'xcenterraw': 0.6280032992362976, 'ycenterraw': 0.6911852955818176, 'tcenterraw': 0.6336531043052673, 'xcenter': 524.3844223022461, 'ycenter': 199.47171783447266, 'real_time_event': 32.0, 'box_time_event': 0.0, 'height': 38.94234848022461, 'width': 49.419105529785156, 'confidence': 0.6755942702293396, 'realangle': 2, 'rawangle': 2}\n",
      "{'Normal': 0.17123565, 'Division': 0.8287644, 'xstart': 444, 'ystart': 127, 'tstart': 27.0, 'xcenterraw': 0.6317234039306641, 'ycenterraw': 0.40405261516571045, 'tcenterraw': 0.6200002431869507, 'xcenter': 524.860595703125, 'ycenter': 178.71873474121094, 'real_time_event': 32.0, 'box_time_event': 0.0, 'height': 40.563804626464844, 'width': 48.32827377319336, 'confidence': 0.7192835807800293, 'realangle': 2, 'rawangle': 2}\n",
      "{'Normal': 0.17352232, 'Division': 0.8264777, 'xstart': 111, 'ystart': 333, 'tstart': 27.0, 'xcenterraw': 0.5036818981170654, 'ycenterraw': 0.7090895771980286, 'tcenterraw': 0.713579535484314, 'xcenter': 175.47128295898438, 'ycenter': 423.76346588134766, 'real_time_event': 33.0, 'box_time_event': 0.0, 'height': 46.05122375488281, 'width': 57.99054718017578, 'confidence': 0.7307287454605103, 'realangle': 2, 'rawangle': 2}\n",
      "{'Normal': 0.16715795, 'Division': 0.832842, 'xstart': 0, 'ystart': 460, 'tstart': 27.0, 'xcenterraw': 0.6802415251731873, 'ycenterraw': 0.3686981201171875, 'tcenterraw': 0.5712356567382812, 'xcenter': 87.07091522216797, 'ycenter': 507.193359375, 'real_time_event': 32.0, 'box_time_event': 0.0, 'height': 40.507389068603516, 'width': 70.79969024658203, 'confidence': 0.522108256816864, 'realangle': 2, 'rawangle': 2}\n",
      "{'Normal': 0.12917913, 'Division': 0.8708209, 'xstart': 571, 'ystart': 555, 'tstart': 27.0, 'xcenterraw': 0.6177135705947876, 'ycenterraw': 0.613726794719696, 'tcenterraw': 0.5635412335395813, 'xcenter': 650.0673370361328, 'ycenter': 633.5570297241211, 'real_time_event': 32.0, 'box_time_event': 0.0, 'height': 60.5435791015625, 'width': 66.03559875488281, 'confidence': 0.5895934104919434, 'realangle': 2, 'rawangle': 2}\n",
      "{'Normal': 0.07909527, 'Division': 0.92090476, 'xstart': 555, 'ystart': 571, 'tstart': 27.0, 'xcenterraw': 0.6229539513587952, 'ycenterraw': 0.4913537800312042, 'tcenterraw': 0.7835871577262878, 'xcenter': 634.7381057739258, 'ycenter': 633.8932838439941, 'real_time_event': 34.0, 'box_time_event': 0.0, 'height': 37.66863250732422, 'width': 69.41322326660156, 'confidence': 0.5678849220275879, 'realangle': 2, 'rawangle': 2}\n",
      "{'Normal': 0.1864188, 'Division': 0.8135812, 'xstart': 571, 'ystart': 571, 'tstart': 27.0, 'xcenterraw': 0.6928073167800903, 'ycenterraw': 0.26752161979675293, 'tcenterraw': 0.6137551069259644, 'xcenter': 659.6793365478516, 'ycenter': 605.2427673339844, 'real_time_event': 32.0, 'box_time_event': 0.0, 'height': 50.49269104003906, 'width': 42.22995376586914, 'confidence': 0.7329904437065125, 'realangle': 2, 'rawangle': 2}\n",
      "{'Normal': 0.11281601, 'Division': 0.88718396, 'xstart': 222, 'ystart': 682, 'tstart': 27.0, 'xcenterraw': 0.7770832180976868, 'ycenterraw': 0.2149760127067566, 'tcenterraw': 0.5250281095504761, 'xcenter': 321.4666519165039, 'ycenter': 709.5169296264648, 'real_time_event': 31.0, 'box_time_event': 0.0, 'height': 61.2278938293457, 'width': 32.88378143310547, 'confidence': 0.700923502445221, 'realangle': 2, 'rawangle': 2}\n",
      "{'Normal': 0.17460507, 'Division': 0.82539487, 'xstart': 444, 'ystart': 666, 'tstart': 27.0, 'xcenterraw': 0.5060936212539673, 'ycenterraw': 0.7301381230354309, 'tcenterraw': 0.511363685131073, 'xcenter': 508.7799835205078, 'ycenter': 759.4576797485352, 'real_time_event': 31.0, 'box_time_event': 0.0, 'height': 48.98137283325195, 'width': 59.460018157958984, 'confidence': 0.6020156145095825, 'realangle': 2, 'rawangle': 2}\n",
      "{'Normal': 0.19283985, 'Division': 0.80716014, 'xstart': 904, 'ystart': 777, 'tstart': 27.0, 'xcenterraw': 0.6964458227157593, 'ycenterraw': 0.4255475699901581, 'tcenterraw': 0.5505661964416504, 'xcenter': 993.1450653076172, 'ycenter': 831.4700889587402, 'real_time_event': 31.0, 'box_time_event': 0.0, 'height': 60.273494720458984, 'width': 29.894733428955078, 'confidence': 0.6419150829315186, 'realangle': 2, 'rawangle': 2}\n",
      "{'Normal': 0.14366722, 'Division': 0.85633284, 'xstart': 888, 'ystart': 793, 'tstart': 27.0, 'xcenterraw': 0.5333750247955322, 'ycenterraw': 0.33056890964508057, 'tcenterraw': 0.39853447675704956, 'xcenter': 956.2720031738281, 'ycenter': 835.3128204345703, 'real_time_event': 30.0, 'box_time_event': 0.0, 'height': 64.35969543457031, 'width': 76.77735137939453, 'confidence': 0.7255489230155945, 'realangle': 2, 'rawangle': 2}\n",
      "{'Normal': 0.16773848, 'Division': 0.83226156, 'xstart': 973, 'ystart': 904, 'tstart': 27.0, 'xcenterraw': 0.7303909659385681, 'ycenterraw': 0.3345937430858612, 'tcenterraw': 0.5685626864433289, 'xcenter': 1066.4900436401367, 'ycenter': 946.8279991149902, 'real_time_event': 32.0, 'box_time_event': 0.0, 'height': 43.74833679199219, 'width': 58.264862060546875, 'confidence': 0.7110945582389832, 'realangle': 2, 'rawangle': 2}\n",
      "{'Normal': 0.16720513, 'Division': 0.8327949, 'xstart': 444, 'ystart': 127, 'tstart': 28.0, 'xcenterraw': 0.5145324468612671, 'ycenterraw': 0.44897952675819397, 'tcenterraw': 0.5920169353485107, 'xcenter': 509.8601531982422, 'ycenter': 184.46937942504883, 'real_time_event': 33.0, 'box_time_event': 0.0, 'height': 75.14398956298828, 'width': 44.942352294921875, 'confidence': 0.7664617896080017, 'realangle': 2, 'rawangle': 2}\n",
      "{'Normal': 0.082910605, 'Division': 0.91708934, 'xstart': 460, 'ystart': 127, 'tstart': 28.0, 'xcenterraw': 0.6272101402282715, 'ycenterraw': 0.39483875036239624, 'tcenterraw': 0.6267935633659363, 'xcenter': 540.2828979492188, 'ycenter': 177.53936004638672, 'real_time_event': 33.0, 'box_time_event': 0.0, 'height': 60.232913970947266, 'width': 37.550025939941406, 'confidence': 0.7131964564323425, 'realangle': 2, 'rawangle': 2}\n",
      "{'Normal': 0.19041318, 'Division': 0.80958676, 'xstart': 777, 'ystart': 127, 'tstart': 28.0, 'xcenterraw': 0.571020245552063, 'ycenterraw': 0.45608237385749817, 'tcenterraw': 0.5090653300285339, 'xcenter': 850.0905914306641, 'ycenter': 185.37854385375977, 'real_time_event': 32.0, 'box_time_event': 0.0, 'height': 62.63414001464844, 'width': 72.88064575195312, 'confidence': 0.5667245984077454, 'realangle': 2, 'rawangle': 2}\n",
      "{'Normal': 0.1931824, 'Division': 0.80681765, 'xstart': 238, 'ystart': 222, 'tstart': 28.0, 'xcenterraw': 0.8700817823410034, 'ycenterraw': 0.32610005140304565, 'tcenterraw': 0.427986741065979, 'xcenter': 349.37046813964844, 'ycenter': 263.74080657958984, 'real_time_event': 31.0, 'box_time_event': 0.0, 'height': 59.466522216796875, 'width': 23.070974349975586, 'confidence': 0.544708788394928, 'realangle': 2, 'rawangle': 2}\n",
      "{'Normal': 0.15461937, 'Division': 0.8453806, 'xstart': 333, 'ystart': 460, 'tstart': 28.0, 'xcenterraw': 0.5677908062934875, 'ycenterraw': 0.49098026752471924, 'tcenterraw': 0.7260069847106934, 'xcenter': 405.6772232055664, 'ycenter': 522.8454742431641, 'real_time_event': 34.0, 'box_time_event': 0.0, 'height': 55.66436767578125, 'width': 40.76585388183594, 'confidence': 0.7984006404876709, 'realangle': 2, 'rawangle': 2}\n",
      "{'Normal': 0.13621917, 'Division': 0.86378086, 'xstart': 222, 'ystart': 571, 'tstart': 28.0, 'xcenterraw': 0.6819626092910767, 'ycenterraw': 0.2803211212158203, 'tcenterraw': 0.6391541361808777, 'xcenter': 309.2912139892578, 'ycenter': 606.881103515625, 'real_time_event': 33.0, 'box_time_event': 0.0, 'height': 47.42487335205078, 'width': 51.02509307861328, 'confidence': 0.6212259531021118, 'realangle': 2, 'rawangle': 2}\n",
      "{'Normal': 0.039670017, 'Division': 0.96032995, 'xstart': 571, 'ystart': 555, 'tstart': 28.0, 'xcenterraw': 0.3666163980960846, 'ycenterraw': 0.49700939655303955, 'tcenterraw': 0.6202106475830078, 'xcenter': 617.9268989562988, 'ycenter': 618.6172027587891, 'real_time_event': 33.0, 'box_time_event': 0.0, 'height': 35.2438850402832, 'width': 55.41606140136719, 'confidence': 0.7104929685592651, 'realangle': 2, 'rawangle': 2}\n",
      "{'Normal': 0.04109607, 'Division': 0.95890397, 'xstart': 555, 'ystart': 571, 'tstart': 28.0, 'xcenterraw': 0.6427966952323914, 'ycenterraw': 0.43165114521980286, 'tcenterraw': 0.7509272694587708, 'xcenter': 637.2779769897461, 'ycenter': 626.2513465881348, 'real_time_event': 34.0, 'box_time_event': 0.0, 'height': 42.38157272338867, 'width': 74.87577819824219, 'confidence': 0.6592984795570374, 'realangle': 2, 'rawangle': 2}\n",
      "{'Normal': 0.18871348, 'Division': 0.81128645, 'xstart': 0, 'ystart': 682, 'tstart': 28.0, 'xcenterraw': 0.6185098886489868, 'ycenterraw': 0.27233126759529114, 'tcenterraw': 0.5745058655738831, 'xcenter': 79.16926574707031, 'ycenter': 716.8584022521973, 'real_time_event': 33.0, 'box_time_event': 0.0, 'height': 52.714290618896484, 'width': 48.643585205078125, 'confidence': 0.659493088722229, 'realangle': 2, 'rawangle': 2}\n",
      "{'Normal': 0.17602432, 'Division': 0.8239757, 'xstart': 682, 'ystart': 682, 'tstart': 28.0, 'xcenterraw': 0.6991201043128967, 'ycenterraw': 0.24243132770061493, 'tcenterraw': 0.5299290418624878, 'xcenter': 771.4873733520508, 'ycenter': 713.0312099456787, 'real_time_event': 32.0, 'box_time_event': 0.0, 'height': 64.2193832397461, 'width': 33.481597900390625, 'confidence': 0.6701743602752686, 'realangle': 2, 'rawangle': 2}\n",
      "{'Normal': 0.14921863, 'Division': 0.8507814, 'xstart': 904, 'ystart': 793, 'tstart': 28.0, 'xcenterraw': 0.5045831799507141, 'ycenterraw': 0.49240848422050476, 'tcenterraw': 0.5598175525665283, 'xcenter': 968.5866470336914, 'ycenter': 856.0282859802246, 'real_time_event': 33.0, 'box_time_event': 0.0, 'height': 43.36716842651367, 'width': 42.15782165527344, 'confidence': 0.664638340473175, 'realangle': 2, 'rawangle': 2}\n",
      "{'Normal': 0.18540879, 'Division': 0.81459117, 'xstart': 666, 'ystart': 888, 'tstart': 28.0, 'xcenterraw': 0.5208582878112793, 'ycenterraw': 0.4085034728050232, 'tcenterraw': 0.5388447046279907, 'xcenter': 732.6698608398438, 'ycenter': 940.288444519043, 'real_time_event': 32.0, 'box_time_event': 0.0, 'height': 66.74718475341797, 'width': 40.28168487548828, 'confidence': 0.6769068837165833, 'realangle': 2, 'rawangle': 2}\n",
      "{'Normal': 0.09114615, 'Division': 0.9088538, 'xstart': 973, 'ystart': 904, 'tstart': 28.0, 'xcenterraw': 0.7783734798431396, 'ycenterraw': 0.49863532185554504, 'tcenterraw': 0.5520967841148376, 'xcenter': 1072.6318054199219, 'ycenter': 967.8253211975098, 'real_time_event': 32.0, 'box_time_event': 0.0, 'height': 61.007530212402344, 'width': 70.93958282470703, 'confidence': 0.6329003572463989, 'realangle': 2, 'rawangle': 2}\n"
     ]
    },
    {
     "name": "stderr",
     "output_type": "stream",
     "text": [
      " 73%|███████████████████████████████████████████████████████████████▋                       | 30/41 [09:28<03:40, 20.08s/it]"
     ]
    },
    {
     "name": "stdout",
     "output_type": "stream",
     "text": [
      "{'Normal': 0.14750889, 'Division': 0.8524911, 'xstart': 777, 'ystart': 127, 'tstart': 29.0, 'xcenterraw': 0.5640468001365662, 'ycenterraw': 0.47377145290374756, 'tcenterraw': 0.4969237148761749, 'xcenter': 849.1979904174805, 'ycenter': 187.6427459716797, 'real_time_event': 33.0, 'box_time_event': 0.0, 'height': 73.04985046386719, 'width': 44.99360275268555, 'confidence': 0.7409300804138184, 'realangle': 2, 'rawangle': 2}\n",
      "{'Normal': 0.19936973, 'Division': 0.80063033, 'xstart': 127, 'ystart': 222, 'tstart': 29.0, 'xcenterraw': 0.6584665179252625, 'ycenterraw': 0.3406669795513153, 'tcenterraw': 0.7122885584831238, 'xcenter': 211.2837142944336, 'ycenter': 265.60537338256836, 'real_time_event': 35.0, 'box_time_event': 0.0, 'height': 28.75689697265625, 'width': 72.73339080810547, 'confidence': 0.5965511202812195, 'realangle': 2, 'rawangle': 2}\n",
      "{'Normal': 0.18042597, 'Division': 0.819574, 'xstart': 238, 'ystart': 222, 'tstart': 29.0, 'xcenterraw': 0.639106810092926, 'ycenterraw': 0.27478423714637756, 'tcenterraw': 0.3359033465385437, 'xcenter': 319.80567169189453, 'ycenter': 257.1723823547363, 'real_time_event': 32.0, 'box_time_event': 0.0, 'height': 75.45106506347656, 'width': 35.49380111694336, 'confidence': 0.6589545011520386, 'realangle': 2, 'rawangle': 2}\n",
      "{'Normal': 0.1943207, 'Division': 0.8056793, 'xstart': 555, 'ystart': 444, 'tstart': 29.0, 'xcenterraw': 0.6030497550964355, 'ycenterraw': 0.4425211548805237, 'tcenterraw': 0.6980221271514893, 'xcenter': 632.1903686523438, 'ycenter': 500.64270782470703, 'real_time_event': 35.0, 'box_time_event': 0.0, 'height': 50.386375427246094, 'width': 58.241355895996094, 'confidence': 0.7273653149604797, 'realangle': 2, 'rawangle': 2}\n",
      "{'Normal': 0.08959796, 'Division': 0.910402, 'xstart': 222, 'ystart': 571, 'tstart': 29.0, 'xcenterraw': 0.5754782557487488, 'ycenterraw': 0.4194197356700897, 'tcenterraw': 0.6744742393493652, 'xcenter': 295.66121673583984, 'ycenter': 624.6857261657715, 'real_time_event': 35.0, 'box_time_event': 0.0, 'height': 34.7631721496582, 'width': 42.99300765991211, 'confidence': 0.6929784417152405, 'realangle': 2, 'rawangle': 2}\n",
      "{'Normal': 0.16157588, 'Division': 0.83842415, 'xstart': 888, 'ystart': 793, 'tstart': 29.0, 'xcenterraw': 0.6428680419921875, 'ycenterraw': 0.35595619678497314, 'tcenterraw': 0.5040232539176941, 'xcenter': 970.287109375, 'ycenter': 838.5623931884766, 'real_time_event': 33.0, 'box_time_event': 0.0, 'height': 60.31987762451172, 'width': 54.99238967895508, 'confidence': 0.7636547088623047, 'realangle': 2, 'rawangle': 2}\n",
      "{'Normal': 0.15815492, 'Division': 0.84184504, 'xstart': 444, 'ystart': 973, 'tstart': 29.0, 'xcenterraw': 0.2609573006629944, 'ycenterraw': 0.4206520617008209, 'tcenterraw': 0.5757299661636353, 'xcenter': 477.4025344848633, 'ycenter': 1026.843463897705, 'real_time_event': 34.0, 'box_time_event': 0.0, 'height': 32.92506790161133, 'width': 50.80125045776367, 'confidence': 0.7499423623085022, 'realangle': 2, 'rawangle': 2}\n"
     ]
    },
    {
     "name": "stderr",
     "output_type": "stream",
     "text": [
      "\r",
      " 76%|█████████████████████████████████████████████████████████████████▊                     | 31/41 [09:51<03:29, 20.91s/it]"
     ]
    },
    {
     "name": "stdout",
     "output_type": "stream",
     "text": [
      "{'Normal': 0.16848063, 'Division': 0.8315193, 'xstart': 349, 'ystart': 0, 'tstart': 30.0, 'xcenterraw': 0.5699667930603027, 'ycenterraw': 0.40006840229034424, 'tcenterraw': 0.6275540590286255, 'xcenter': 421.95574951171875, 'ycenter': 51.20875549316406, 'real_time_event': 35.0, 'box_time_event': 0.0, 'height': 45.744354248046875, 'width': 52.80666732788086, 'confidence': 0.6987548470497131, 'realangle': 2, 'rawangle': 2}\n",
      "{'Normal': 0.18555738, 'Division': 0.8144426, 'xstart': 333, 'ystart': 16, 'tstart': 30.0, 'xcenterraw': 0.5606820583343506, 'ycenterraw': 0.31650033593177795, 'tcenterraw': 0.5164511203765869, 'xcenter': 404.7673034667969, 'ycenter': 56.51204299926758, 'real_time_event': 34.0, 'box_time_event': 0.0, 'height': 42.23468780517578, 'width': 75.90544891357422, 'confidence': 0.7217243313789368, 'realangle': 2, 'rawangle': 2}\n",
      "{'Normal': 0.15690136, 'Division': 0.84309864, 'xstart': 793, 'ystart': 111, 'tstart': 30.0, 'xcenterraw': 0.7295130491256714, 'ycenterraw': 0.49747762084007263, 'tcenterraw': 0.6587124466896057, 'xcenter': 886.3776702880859, 'ycenter': 174.6771354675293, 'real_time_event': 35.0, 'box_time_event': 0.0, 'height': 47.20637130737305, 'width': 41.497802734375, 'confidence': 0.7043377161026001, 'realangle': 2, 'rawangle': 2}\n",
      "{'Normal': 0.106610544, 'Division': 0.89338946, 'xstart': 333, 'ystart': 460, 'tstart': 30.0, 'xcenterraw': 0.551572859287262, 'ycenterraw': 0.47162196040153503, 'tcenterraw': 0.5209583640098572, 'xcenter': 403.60132598876953, 'ycenter': 520.3676109313965, 'real_time_event': 34.0, 'box_time_event': 0.0, 'height': 69.10594940185547, 'width': 31.83475112915039, 'confidence': 0.7596981525421143, 'realangle': 2, 'rawangle': 2}\n",
      "{'Normal': 0.1704747, 'Division': 0.82952535, 'xstart': 555, 'ystart': 444, 'tstart': 30.0, 'xcenterraw': 0.48981529474258423, 'ycenterraw': 0.45417308807373047, 'tcenterraw': 0.710614025592804, 'xcenter': 617.6963577270508, 'ycenter': 502.1341552734375, 'real_time_event': 36.0, 'box_time_event': 0.0, 'height': 51.363792419433594, 'width': 49.3393669128418, 'confidence': 0.8747107982635498, 'realangle': 2, 'rawangle': 2}\n",
      "{'Normal': 0.19258784, 'Division': 0.80741215, 'xstart': 222, 'ystart': 555, 'tstart': 30.0, 'xcenterraw': 0.4206700325012207, 'ycenterraw': 0.6195740103721619, 'tcenterraw': 0.5569549202919006, 'xcenter': 275.84576416015625, 'ycenter': 634.3054733276367, 'real_time_event': 35.0, 'box_time_event': 0.0, 'height': 73.92398071289062, 'width': 36.42463302612305, 'confidence': 0.5431966185569763, 'realangle': 2, 'rawangle': 2}\n",
      "{'Normal': 0.16634896, 'Division': 0.83365107, 'xstart': 460, 'ystart': 666, 'tstart': 30.0, 'xcenterraw': 0.5392031073570251, 'ycenterraw': 0.5962696671485901, 'tcenterraw': 0.5152865648269653, 'xcenter': 529.0179977416992, 'ycenter': 742.3225173950195, 'real_time_event': 34.0, 'box_time_event': 0.0, 'height': 38.94478988647461, 'width': 40.89894104003906, 'confidence': 0.7839086651802063, 'realangle': 2, 'rawangle': 2}\n",
      "{'Normal': 0.11902489, 'Division': 0.8809751, 'xstart': 682, 'ystart': 682, 'tstart': 30.0, 'xcenterraw': 0.8138289451599121, 'ycenterraw': 0.2650626599788666, 'tcenterraw': 0.3805510103702545, 'xcenter': 786.1701049804688, 'ycenter': 715.9280204772949, 'real_time_event': 33.0, 'box_time_event': 0.0, 'height': 48.25115203857422, 'width': 37.14761734008789, 'confidence': 0.6123042702674866, 'realangle': 2, 'rawangle': 2}\n",
      "{'Normal': 0.18433678, 'Division': 0.81566316, 'xstart': 888, 'ystart': 793, 'tstart': 30.0, 'xcenterraw': 0.6213731169700623, 'ycenterraw': 0.2671707272529602, 'tcenterraw': 0.3087288737297058, 'xcenter': 967.535758972168, 'ycenter': 827.1978530883789, 'real_time_event': 32.0, 'box_time_event': 0.0, 'height': 54.245811462402344, 'width': 41.3919563293457, 'confidence': 0.6492366790771484, 'realangle': 2, 'rawangle': 2}\n",
      "{'Normal': 0.1717449, 'Division': 0.8282552, 'xstart': 222, 'ystart': 904, 'tstart': 30.0, 'xcenterraw': 0.6162541508674622, 'ycenterraw': 0.5661207437515259, 'tcenterraw': 0.6484311819076538, 'xcenter': 300.88053131103516, 'ycenter': 976.4634552001953, 'real_time_event': 35.0, 'box_time_event': 0.0, 'height': 44.9045295715332, 'width': 51.99148178100586, 'confidence': 0.5999680757522583, 'realangle': 2, 'rawangle': 2}\n"
     ]
    },
    {
     "name": "stderr",
     "output_type": "stream",
     "text": [
      "100%|███████████████████████████████████████████████████████████████████████████████████████| 41/41 [10:13<00:00, 14.97s/it]"
     ]
    },
    {
     "name": "stdout",
     "output_type": "stream",
     "text": [
      "{'Normal': 0.11023913, 'Division': 0.8897608, 'xstart': 127, 'ystart': 0, 'tstart': 31.0, 'xcenterraw': 0.6045129299163818, 'ycenterraw': 0.3709360361099243, 'tcenterraw': 0.38422584533691406, 'xcenter': 204.37765502929688, 'ycenter': 47.47981262207031, 'real_time_event': 34.0, 'box_time_event': 0.0, 'height': 28.582365036010742, 'width': 62.95489501953125, 'confidence': 0.6479065418243408, 'realangle': 2, 'rawangle': 2}\n",
      "{'Normal': 0.19345567, 'Division': 0.80654436, 'xstart': 777, 'ystart': 127, 'tstart': 31.0, 'xcenterraw': 0.5426995754241943, 'ycenterraw': 0.42177122831344604, 'tcenterraw': 0.4501396119594574, 'xcenter': 846.4655456542969, 'ycenter': 180.9867172241211, 'real_time_event': 35.0, 'box_time_event': 0.0, 'height': 70.14342498779297, 'width': 32.162322998046875, 'confidence': 0.6336289644241333, 'realangle': 2, 'rawangle': 2}\n",
      "{'Normal': 0.17933913, 'Division': 0.8206608, 'xstart': 238, 'ystart': 333, 'tstart': 31.0, 'xcenterraw': 0.6385935544967651, 'ycenterraw': 0.4228071868419647, 'tcenterraw': 0.5694295167922974, 'xcenter': 319.73997497558594, 'ycenter': 387.1193199157715, 'real_time_event': 36.0, 'box_time_event': 0.0, 'height': 36.38858413696289, 'width': 83.98651123046875, 'confidence': 0.643867552280426, 'realangle': 2, 'rawangle': 2}\n",
      "{'Normal': 0.19527884, 'Division': 0.8047212, 'xstart': 666, 'ystart': 349, 'tstart': 31.0, 'xcenterraw': 0.6398919224739075, 'ycenterraw': 0.4022459387779236, 'tcenterraw': 0.6633456349372864, 'xcenter': 747.9061660766602, 'ycenter': 400.4874801635742, 'real_time_event': 36.0, 'box_time_event': 0.0, 'height': 69.1224594116211, 'width': 34.238094329833984, 'confidence': 0.6320676803588867, 'realangle': 2, 'rawangle': 2}\n",
      "{'Normal': 0.19132662, 'Division': 0.8086733, 'xstart': 666, 'ystart': 460, 'tstart': 31.0, 'xcenterraw': 0.664264976978302, 'ycenterraw': 0.23890618979930878, 'tcenterraw': 0.4905928671360016, 'xcenter': 751.0259170532227, 'ycenter': 490.5799922943115, 'real_time_event': 35.0, 'box_time_event': 0.0, 'height': 36.48623275756836, 'width': 56.0586051940918, 'confidence': 0.7445285320281982, 'realangle': 2, 'rawangle': 2}\n",
      "{'Normal': 0.12294518, 'Division': 0.8770548, 'xstart': 222, 'ystart': 555, 'tstart': 31.0, 'xcenterraw': 0.6402208209037781, 'ycenterraw': 0.48525044322013855, 'tcenterraw': 0.7537087202072144, 'xcenter': 303.9482650756836, 'ycenter': 617.1120567321777, 'real_time_event': 37.0, 'box_time_event': 0.0, 'height': 44.11204147338867, 'width': 54.62082290649414, 'confidence': 0.6413518786430359, 'realangle': 2, 'rawangle': 2}\n"
     ]
    },
    {
     "name": "stderr",
     "output_type": "stream",
     "text": [
      "\n"
     ]
    }
   ],
   "source": [
    "imagedir = 'D:/TestDatasets/Oneat/Xenopus_oneat/'\n",
    "model_dir = 'D:/TrainingModels/Oneat/'\n",
    "savedir= 'D:/TestDatasets/Oneat/Xenopus_oneat/results/'\n",
    "model_name = 'Cellsplitsxenopus_xy128_tm4tp4_s5d29'\n",
    "\n",
    "#Either load the mask model or provide the mask image that is pre computed\n",
    "mask_model_dir = 'D:/TrainingModels/MASKUNET/'\n",
    "mask_model_name =  'Roi_Nuclei_Xenopus'\n",
    "mask_model = CARE(None, mask_model_name,mask_model_dir)\n",
    "\n",
    "maskdir= 'D:/TestDatasets/Oneat/Xenopus_oneat/results/Mask/'\n",
    "\n",
    "division_categories_json = model_dir + 'Cellsplitcategoriesxenopus.json'\n",
    "catconfig = load_json(division_categories_json)\n",
    "division_cord_json = model_dir + 'Cellsplitcordxenopus.json'\n",
    "cordconfig = load_json(division_cord_json)\n",
    "model = NEATSynamic(None, model_dir , model_name,catconfig, cordconfig)\n",
    "\n",
    "Path(savedir).mkdir(exist_ok=True)\n",
    "\n",
    "Raw_path = os.path.join(imagedir, '*tif')\n",
    "X = glob.glob(Raw_path)\n",
    "\n",
    "for imagename in X:\n",
    "\n",
    "     model.predict_synamic(imagename,\n",
    "                           savedir, \n",
    "                           n_tiles = n_tiles, \n",
    "                           event_threshold = event_threshold, \n",
    "                           event_confidence = event_confidence,\n",
    "                           iou_threshold = iou_threshold,\n",
    "                           fidelity = fidelity,\n",
    "                           downsamplefactor = downsamplefactor,\n",
    "                           start_project_mid = start_project_mid,\n",
    "                           end_project_mid = end_project_mid,\n",
    "                           maskmodel = mask_model,\n",
    "                           maskdir = maskdir,\n",
    "                           normalize = normalize)"
   ]
  },
  {
   "cell_type": "code",
   "execution_count": null,
   "id": "d70d9171",
   "metadata": {},
   "outputs": [],
   "source": []
  },
  {
   "cell_type": "code",
   "execution_count": null,
   "id": "cef5e47f",
   "metadata": {},
   "outputs": [],
   "source": []
  }
 ],
 "metadata": {
  "kernelspec": {
   "display_name": "Python [conda env:naparienv] *",
   "language": "python",
   "name": "conda-env-naparienv-py"
  },
  "language_info": {
   "codemirror_mode": {
    "name": "ipython",
    "version": 3
   },
   "file_extension": ".py",
   "mimetype": "text/x-python",
   "name": "python",
   "nbconvert_exporter": "python",
   "pygments_lexer": "ipython3",
   "version": "3.9.0"
  }
 },
 "nbformat": 4,
 "nbformat_minor": 5
}
