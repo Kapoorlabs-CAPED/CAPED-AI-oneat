{
 "cells": [
  {
   "cell_type": "code",
   "execution_count": 1,
   "id": "87ec8896",
   "metadata": {},
   "outputs": [
    {
     "ename": "SyntaxError",
     "evalue": "keyword argument repeated: fileextension (neat_microscope.py, line 226)",
     "output_type": "error",
     "traceback": [
      "Traceback \u001b[1;36m(most recent call last)\u001b[0m:\n",
      "  File \u001b[0;32m\"C:\\Users\\rando\\anaconda3\\envs\\naparienv\\lib\\site-packages\\IPython\\core\\interactiveshell.py\"\u001b[0m, line \u001b[0;32m3457\u001b[0m, in \u001b[0;35mrun_code\u001b[0m\n    exec(code_obj, self.user_global_ns, self.user_ns)\n",
      "  File \u001b[0;32m\"C:\\Users\\rando\\AppData\\Local\\Temp/ipykernel_15616/1596555206.py\"\u001b[0m, line \u001b[0;32m5\u001b[0m, in \u001b[0;35m<module>\u001b[0m\n    from oneat.NEATModels import NEATSynamic\n",
      "  File \u001b[0;32m\"c:\\users\\rando\\downloads\\caped-ai-oneat\\oneat\\__init__.py\"\u001b[0m, line \u001b[0;32m1\u001b[0m, in \u001b[0;35m<module>\u001b[0m\n    from .NEATModels import *\n",
      "\u001b[1;36m  File \u001b[1;32m\"c:\\users\\rando\\downloads\\caped-ai-oneat\\oneat\\NEATModels\\__init__.py\"\u001b[1;36m, line \u001b[1;32m11\u001b[1;36m, in \u001b[1;35m<module>\u001b[1;36m\u001b[0m\n\u001b[1;33m    from .neat_microscope import NEATPredict\u001b[0m\n",
      "\u001b[1;36m  File \u001b[1;32m\"c:\\users\\rando\\downloads\\caped-ai-oneat\\oneat\\NEATModels\\neat_microscope.py\"\u001b[1;36m, line \u001b[1;32m226\u001b[0m\n\u001b[1;33m    self.predict(self.imagedir, self.Z_imagedir,\u001b[0m\n\u001b[1;37m                                                \n^\u001b[0m\n\u001b[1;31mSyntaxError\u001b[0m\u001b[1;31m:\u001b[0m keyword argument repeated: fileextension\n"
     ]
    }
   ],
   "source": [
    "\n",
    "import sys\n",
    "import os\n",
    "import glob\n",
    "from csbdeep.models import  CARE\n",
    "from oneat.NEATModels import NEATSynamic\n",
    "from oneat.NEATModels.config import dynamic_config\n",
    "from oneat.NEATUtils import helpers\n",
    "from oneat.NEATUtils.helpers import load_json\n",
    "os.environ[\"CUDA_VISIBLE_DEVICES\"]=\"0\"\n",
    "os.environ[\"HDF5_USE_FILE_LOCKING\"] = \"FALSE\"\n",
    "from pathlib import Path\n"
   ]
  },
  {
   "cell_type": "code",
   "execution_count": null,
   "id": "99de2206",
   "metadata": {},
   "outputs": [],
   "source": [
    "n_tiles = (8,8)\n",
    "event_threshold = 0.5\n",
    "event_confidence = 0.1\n",
    "iou_threshold = 0.6\n",
    "fidelity = 1\n",
    "downsamplefactor = 1\n",
    "#For a Z of 0 to 22 this setup takes the slices from 11 - 4 = 7 to 11 + 1 = 12\n",
    "start_project_mid = 4\n",
    "end_project_mid = 1\n",
    "normalize = False"
   ]
  },
  {
   "cell_type": "code",
   "execution_count": null,
   "id": "b843f28a",
   "metadata": {},
   "outputs": [],
   "source": [
    "imagedir = 'D:/TestDatasets/Oneat/Xenopus_oneat/'\n",
    "model_dir = 'D:/TrainingModels/Oneat/'\n",
    "savedir= 'D:/TestDatasets/Oneat/Xenopus_oneat/results/'\n",
    "model_name = 'Cellsplitsxenopus_xy128_tm1tp1_s5d29'\n",
    "\n",
    "#Either load the mask model or provide the mask image that is pre computed\n",
    "mask_model_dir = 'D:/TrainingModels/MASKUNET/'\n",
    "mask_model_name =  'Roi_Nuclei_Xenopus'\n",
    "mask_model = CARE(None, mask_model_name,mask_model_dir)\n",
    "\n",
    "maskdir= 'D:/TestDatasets/Oneat/Xenopus_oneat/results/Mask/'\n",
    "\n",
    "division_categories_json = model_dir + 'Cellsplitcategoriesxenopus.json'\n",
    "catconfig = load_json(division_categories_json)\n",
    "division_cord_json = model_dir + 'Cellsplitcordxenopus.json'\n",
    "cordconfig = load_json(division_cord_json)\n",
    "model = NEATSynamic(None, model_dir , model_name,catconfig, cordconfig)\n",
    "\n",
    "Path(savedir).mkdir(exist_ok=True)\n",
    "\n",
    "Raw_path = os.path.join(imagedir, '*tif')\n",
    "X = glob.glob(Raw_path)\n",
    "\n",
    "for imagename in X:\n",
    "\n",
    "     model.predict_synamic(imagename,\n",
    "                           savedir, \n",
    "                           n_tiles = n_tiles, \n",
    "                           event_threshold = event_threshold, \n",
    "                           event_confidence = event_confidence,\n",
    "                           iou_threshold = iou_threshold,\n",
    "                           fidelity = fidelity,\n",
    "                           downsamplefactor = downsamplefactor,\n",
    "                           start_project_mid = start_project_mid,\n",
    "                           end_project_mid = end_project_mid,\n",
    "                           maskmodel = mask_model,\n",
    "                           maskdir = maskdir,\n",
    "                           normalize = normalize)"
   ]
  },
  {
   "cell_type": "code",
   "execution_count": null,
   "id": "d70d9171",
   "metadata": {},
   "outputs": [],
   "source": []
  }
 ],
 "metadata": {
  "kernelspec": {
   "display_name": "Python [conda env:naparienv] *",
   "language": "python",
   "name": "conda-env-naparienv-py"
  },
  "language_info": {
   "codemirror_mode": {
    "name": "ipython",
    "version": 3
   },
   "file_extension": ".py",
   "mimetype": "text/x-python",
   "name": "python",
   "nbconvert_exporter": "python",
   "pygments_lexer": "ipython3",
   "version": "3.9.0"
  }
 },
 "nbformat": 4,
 "nbformat_minor": 5
}
