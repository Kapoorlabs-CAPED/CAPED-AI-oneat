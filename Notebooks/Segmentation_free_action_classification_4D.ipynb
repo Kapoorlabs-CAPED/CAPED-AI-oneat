{
 "cells": [
  {
   "cell_type": "code",
   "execution_count": 1,
   "id": "87ec8896",
   "metadata": {},
   "outputs": [],
   "source": [
    "\n",
    "import sys\n",
    "import os\n",
    "import glob\n",
    "from csbdeep.models import  CARE\n",
    "from oneat.NEATModels import NEATSynamic\n",
    "from oneat.NEATModels.config import dynamic_config\n",
    "from oneat.NEATUtils import helpers\n",
    "from oneat.NEATUtils.helpers import load_json\n",
    "os.environ[\"CUDA_VISIBLE_DEVICES\"]=\"0\"\n",
    "os.environ[\"HDF5_USE_FILE_LOCKING\"] = \"FALSE\"\n",
    "from pathlib import Path\n"
   ]
  },
  {
   "cell_type": "code",
   "execution_count": 2,
   "id": "99de2206",
   "metadata": {},
   "outputs": [],
   "source": [
    "n_tiles = (8,8)\n",
    "event_threshold = 0.8\n",
    "event_confidence = 0.5\n",
    "iou_threshold = 0.6\n",
    "fidelity = 1\n",
    "downsamplefactor = 1\n",
    "#For a Z of 0 to 22 this setup takes the slices from 11 - 4 = 7 to 11 + 1 = 12\n",
    "start_project_mid = 4\n",
    "end_project_mid = 1\n",
    "normalize = False"
   ]
  },
  {
   "cell_type": "code",
   "execution_count": null,
   "id": "b843f28a",
   "metadata": {
    "scrolled": false
   },
   "outputs": [
    {
     "name": "stdout",
     "output_type": "stream",
     "text": [
      "Loading network weights from 'weights_best.h5'.\n",
      "Image (41, 22, 1112, 1112) is 4 dimensional, projecting around the center 11 - 4 to 11 + 1\n",
      "Detecting event locations\n"
     ]
    },
    {
     "name": "stderr",
     "output_type": "stream",
     "text": [
      "  2%|██▏                                                                                     | 1/41 [00:24<16:17, 24.43s/it]"
     ]
    },
    {
     "name": "stdout",
     "output_type": "stream",
     "text": [
      "{'Normal': 0.17654683, 'Division': 0.8234532, 'xstart': 571, 'ystart': 0, 'tstart': 0.0, 'xcenterraw': 0.6452265381813049, 'ycenterraw': 0.37142887711524963, 'tcenterraw': 0.5305525064468384, 'xcenter': 653.588996887207, 'ycenter': 47.54289627075195, 'real_time_event': 4.0, 'box_time_event': 0.0, 'height': 47.28879928588867, 'width': 55.450401306152344, 'confidence': 0.61348956823349, 'realangle': 2, 'rawangle': 2}\n",
      "{'Normal': 0.19492713, 'Division': 0.80507284, 'xstart': 777, 'ystart': 460, 'tstart': 0.0, 'xcenterraw': 0.5871674418449402, 'ycenterraw': 0.3217722177505493, 'tcenterraw': 0.5177068114280701, 'xcenter': 852.1574325561523, 'ycenter': 501.1868438720703, 'real_time_event': 4.0, 'box_time_event': 0.0, 'height': 42.969818115234375, 'width': 61.57590103149414, 'confidence': 0.5590608716011047, 'realangle': 2, 'rawangle': 2}\n",
      "{'Normal': 0.17388375, 'Division': 0.8261162, 'xstart': 571, 'ystart': 682, 'tstart': 0.0, 'xcenterraw': 0.721828043460846, 'ycenterraw': 0.31438148021698, 'tcenterraw': 0.6235633492469788, 'xcenter': 663.3939895629883, 'ycenter': 722.2408294677734, 'real_time_event': 5.0, 'box_time_event': 0.0, 'height': 57.020057678222656, 'width': 48.12893295288086, 'confidence': 0.7589238286018372, 'realangle': 2, 'rawangle': 2}\n",
      "{'Normal': 0.15392132, 'Division': 0.8460787, 'xstart': 793, 'ystart': 682, 'tstart': 0.0, 'xcenterraw': 0.39073142409324646, 'ycenterraw': 0.5124235153198242, 'tcenterraw': 0.6285264492034912, 'xcenter': 843.0136222839355, 'ycenter': 747.5902099609375, 'real_time_event': 5.0, 'box_time_event': 0.0, 'height': 49.6586799621582, 'width': 62.587379455566406, 'confidence': 0.6779037117958069, 'realangle': 2, 'rawangle': 2}\n",
      "{'Normal': 0.1985953, 'Division': 0.8014048, 'xstart': 793, 'ystart': 777, 'tstart': 0.0, 'xcenterraw': 0.5597816705703735, 'ycenterraw': 0.5568337440490723, 'tcenterraw': 0.762001097202301, 'xcenter': 864.6520538330078, 'ycenter': 848.2747192382812, 'real_time_event': 6.0, 'box_time_event': 0.0, 'height': 66.3921890258789, 'width': 49.27978515625, 'confidence': 0.7858870625495911, 'realangle': 2, 'rawangle': 2}\n",
      "{'Normal': 0.17654683, 'Division': 0.8234532, 'xstart': 571, 'ystart': 0, 'tstart': 0.0, 'xcenterraw': 0.6452265381813049, 'ycenterraw': 0.37142887711524963, 'tcenterraw': 0.5305525064468384, 'xcenter': 653.588996887207, 'ycenter': 47.54289627075195, 'real_time_event': 4.0, 'box_time_event': 0.0, 'height': 47.28879928588867, 'width': 55.450401306152344, 'confidence': 0.61348956823349, 'realangle': 2, 'rawangle': 2}\n",
      "{'Normal': 0.19492713, 'Division': 0.80507284, 'xstart': 777, 'ystart': 460, 'tstart': 0.0, 'xcenterraw': 0.5871674418449402, 'ycenterraw': 0.3217722177505493, 'tcenterraw': 0.5177068114280701, 'xcenter': 852.1574325561523, 'ycenter': 501.1868438720703, 'real_time_event': 4.0, 'box_time_event': 0.0, 'height': 42.969818115234375, 'width': 61.57590103149414, 'confidence': 0.5590608716011047, 'realangle': 2, 'rawangle': 2}\n",
      "{'Normal': 0.17388375, 'Division': 0.8261162, 'xstart': 571, 'ystart': 682, 'tstart': 0.0, 'xcenterraw': 0.721828043460846, 'ycenterraw': 0.31438148021698, 'tcenterraw': 0.6235633492469788, 'xcenter': 663.3939895629883, 'ycenter': 722.2408294677734, 'real_time_event': 5.0, 'box_time_event': 0.0, 'height': 57.020057678222656, 'width': 48.12893295288086, 'confidence': 0.7589238286018372, 'realangle': 2, 'rawangle': 2}\n",
      "{'Normal': 0.15392132, 'Division': 0.8460787, 'xstart': 793, 'ystart': 682, 'tstart': 0.0, 'xcenterraw': 0.39073142409324646, 'ycenterraw': 0.5124235153198242, 'tcenterraw': 0.6285264492034912, 'xcenter': 843.0136222839355, 'ycenter': 747.5902099609375, 'real_time_event': 5.0, 'box_time_event': 0.0, 'height': 49.6586799621582, 'width': 62.587379455566406, 'confidence': 0.6779037117958069, 'realangle': 2, 'rawangle': 2}\n",
      "{'Normal': 0.1985953, 'Division': 0.8014048, 'xstart': 793, 'ystart': 777, 'tstart': 0.0, 'xcenterraw': 0.5597816705703735, 'ycenterraw': 0.5568337440490723, 'tcenterraw': 0.762001097202301, 'xcenter': 864.6520538330078, 'ycenter': 848.2747192382812, 'real_time_event': 6.0, 'box_time_event': 0.0, 'height': 66.3921890258789, 'width': 49.27978515625, 'confidence': 0.7858870625495911, 'realangle': 2, 'rawangle': 2}\n",
      "{'Normal': 0.1807554, 'Division': 0.81924456, 'xstart': 333, 'ystart': 460, 'tstart': 1.0, 'xcenterraw': 0.5513765215873718, 'ycenterraw': 0.3181053400039673, 'tcenterraw': 0.5055971741676331, 'xcenter': 403.5761947631836, 'ycenter': 500.7174835205078, 'real_time_event': 5.0, 'box_time_event': 0.0, 'height': 51.53065872192383, 'width': 58.56589889526367, 'confidence': 0.6633977890014648, 'realangle': 2, 'rawangle': 2}\n",
      "{'Normal': 0.13493794, 'Division': 0.86506206, 'xstart': 444, 'ystart': 571, 'tstart': 1.0, 'xcenterraw': 0.49427586793899536, 'ycenterraw': 0.4543575048446655, 'tcenterraw': 0.6406103372573853, 'xcenter': 507.2673110961914, 'ycenter': 629.1577606201172, 'real_time_event': 6.0, 'box_time_event': 0.0, 'height': 30.556608200073242, 'width': 69.1220932006836, 'confidence': 0.7763621211051941, 'realangle': 2, 'rawangle': 2}\n",
      "{'Normal': 0.16013408, 'Division': 0.8398659, 'xstart': 666, 'ystart': 555, 'tstart': 1.0, 'xcenterraw': 0.5950621366500854, 'ycenterraw': 0.5277667045593262, 'tcenterraw': 0.6252105832099915, 'xcenter': 742.1679534912109, 'ycenter': 622.5541381835938, 'real_time_event': 6.0, 'box_time_event': 0.0, 'height': 61.582271575927734, 'width': 45.141021728515625, 'confidence': 0.616590142250061, 'realangle': 2, 'rawangle': 2}\n"
     ]
    },
    {
     "name": "stderr",
     "output_type": "stream",
     "text": [
      "  7%|██████▍                                                                                 | 3/41 [01:14<15:08, 23.90s/it]"
     ]
    },
    {
     "name": "stdout",
     "output_type": "stream",
     "text": [
      "{'Normal': 0.1735108, 'Division': 0.82648927, 'xstart': 460, 'ystart': 555, 'tstart': 2.0, 'xcenterraw': 0.7093150019645691, 'ycenterraw': 0.46927401423454285, 'tcenterraw': 0.6678987741470337, 'xcenter': 550.7923202514648, 'ycenter': 615.0670738220215, 'real_time_event': 8.0, 'box_time_event': 0.0, 'height': 79.64046478271484, 'width': 38.64019012451172, 'confidence': 0.7257508039474487, 'realangle': 2, 'rawangle': 2}\n",
      "{'Normal': 0.17644672, 'Division': 0.82355326, 'xstart': 777, 'ystart': 571, 'tstart': 2.0, 'xcenterraw': 0.3308132588863373, 'ycenterraw': 0.5439523458480835, 'tcenterraw': 0.6976889967918396, 'xcenter': 819.3440971374512, 'ycenter': 640.6259002685547, 'real_time_event': 8.0, 'box_time_event': 0.0, 'height': 80.82495880126953, 'width': 48.4110107421875, 'confidence': 0.7910931706428528, 'realangle': 2, 'rawangle': 2}\n"
     ]
    },
    {
     "name": "stderr",
     "output_type": "stream",
     "text": [
      "\r",
      " 10%|████████▌                                                                               | 4/41 [01:31<12:58, 21.04s/it]"
     ]
    },
    {
     "name": "stdout",
     "output_type": "stream",
     "text": [
      "{'Normal': 0.18459097, 'Division': 0.81540906, 'xstart': 16, 'ystart': 333, 'tstart': 3.0, 'xcenterraw': 0.5350339412689209, 'ycenterraw': 0.4065026044845581, 'tcenterraw': 0.4752028286457062, 'xcenter': 84.48434448242188, 'ycenter': 385.03233337402344, 'real_time_event': 7.0, 'box_time_event': 0.0, 'height': 58.82820510864258, 'width': 76.88751983642578, 'confidence': 0.5338689088821411, 'realangle': 2, 'rawangle': 2}\n",
      "{'Normal': 0.1786217, 'Division': 0.82137835, 'xstart': 888, 'ystart': 349, 'tstart': 3.0, 'xcenterraw': 0.5653910040855408, 'ycenterraw': 0.3881530165672302, 'tcenterraw': 0.6352781653404236, 'xcenter': 960.3700485229492, 'ycenter': 398.68358612060547, 'real_time_event': 8.0, 'box_time_event': 0.0, 'height': 45.923179626464844, 'width': 39.59689712524414, 'confidence': 0.6541647911071777, 'realangle': 2, 'rawangle': 2}\n",
      "{'Normal': 0.18160811, 'Division': 0.81839186, 'xstart': 222, 'ystart': 460, 'tstart': 3.0, 'xcenterraw': 0.6495072245597839, 'ycenterraw': 0.35928964614868164, 'tcenterraw': 0.5925372242927551, 'xcenter': 305.13692474365234, 'ycenter': 505.98907470703125, 'real_time_event': 8.0, 'box_time_event': 0.0, 'height': 36.74161911010742, 'width': 70.5790023803711, 'confidence': 0.6191602349281311, 'realangle': 2, 'rawangle': 2}\n",
      "{'Normal': 0.1856402, 'Division': 0.8143598, 'xstart': 888, 'ystart': 460, 'tstart': 3.0, 'xcenterraw': 0.4389238953590393, 'ycenterraw': 0.6126705408096313, 'tcenterraw': 0.7205130457878113, 'xcenter': 944.182258605957, 'ycenter': 538.4218292236328, 'real_time_event': 9.0, 'box_time_event': 0.0, 'height': 58.8726921081543, 'width': 57.197227478027344, 'confidence': 0.635981559753418, 'realangle': 2, 'rawangle': 2}\n",
      "{'Normal': 0.18618293, 'Division': 0.813817, 'xstart': 111, 'ystart': 571, 'tstart': 3.0, 'xcenterraw': 0.6979568004608154, 'ycenterraw': 0.31853094696998596, 'tcenterraw': 0.6148256659507751, 'xcenter': 200.33847045898438, 'ycenter': 611.7719612121582, 'real_time_event': 8.0, 'box_time_event': 0.0, 'height': 65.34620666503906, 'width': 43.95692443847656, 'confidence': 0.6153976917266846, 'realangle': 2, 'rawangle': 2}\n",
      "{'Normal': 0.17145021, 'Division': 0.82854974, 'xstart': 682, 'ystart': 682, 'tstart': 3.0, 'xcenterraw': 0.4746139645576477, 'ycenterraw': 0.21662238240242004, 'tcenterraw': 0.46860232949256897, 'xcenter': 742.7505874633789, 'ycenter': 709.7276649475098, 'real_time_event': 7.0, 'box_time_event': 0.0, 'height': 51.778804779052734, 'width': 87.86316680908203, 'confidence': 0.684920608997345, 'realangle': 2, 'rawangle': 2}\n"
     ]
    },
    {
     "name": "stderr",
     "output_type": "stream",
     "text": [
      "\r",
      " 12%|██████████▋                                                                             | 5/41 [01:48<11:38, 19.39s/it]"
     ]
    },
    {
     "name": "stdout",
     "output_type": "stream",
     "text": [
      "{'Normal': 0.16890635, 'Division': 0.83109367, 'xstart': 238, 'ystart': 238, 'tstart': 4.0, 'xcenterraw': 0.6806431412696838, 'ycenterraw': 0.3424525260925293, 'tcenterraw': 0.5283695459365845, 'xcenter': 325.12232208251953, 'ycenter': 281.83392333984375, 'real_time_event': 8.0, 'box_time_event': 0.0, 'height': 62.65930938720703, 'width': 71.19837188720703, 'confidence': 0.66010981798172, 'realangle': 2, 'rawangle': 2}\n",
      "{'Normal': 0.13166134, 'Division': 0.86833864, 'xstart': 888, 'ystart': 349, 'tstart': 4.0, 'xcenterraw': 0.6952825784683228, 'ycenterraw': 0.33906763792037964, 'tcenterraw': 0.48105913400650024, 'xcenter': 976.9961700439453, 'ycenter': 392.4006576538086, 'real_time_event': 8.0, 'box_time_event': 0.0, 'height': 56.3612060546875, 'width': 49.580936431884766, 'confidence': 0.5674977898597717, 'realangle': 2, 'rawangle': 2}\n",
      "{'Normal': 0.12024863, 'Division': 0.8797514, 'xstart': 555, 'ystart': 989, 'tstart': 4.0, 'xcenterraw': 0.5901629328727722, 'ycenterraw': 0.23763425648212433, 'tcenterraw': 0.6451382637023926, 'xcenter': 630.5408554077148, 'ycenter': 1019.4171848297119, 'real_time_event': 9.0, 'box_time_event': 0.0, 'height': 53.725128173828125, 'width': 42.898414611816406, 'confidence': 0.6825277209281921, 'realangle': 2, 'rawangle': 2}\n"
     ]
    }
   ],
   "source": [
    "imagedir = 'D:/TestDatasets/Oneat/Xenopus_oneat/'\n",
    "model_dir = 'D:/TrainingModels/Oneat/'\n",
    "savedir= 'D:/TestDatasets/Oneat/Xenopus_oneat/results/'\n",
    "model_name = 'Cellsplitsxenopus_xy128_tm4tp4_s5d29'\n",
    "\n",
    "#Either load the mask model or provide the mask image that is pre computed\n",
    "mask_model_dir = 'D:/TrainingModels/MASKUNET/'\n",
    "mask_model_name =  'Roi_Nuclei_Xenopus'\n",
    "mask_model = CARE(None, mask_model_name,mask_model_dir)\n",
    "\n",
    "maskdir= 'D:/TestDatasets/Oneat/Xenopus_oneat/results/Mask/'\n",
    "\n",
    "division_categories_json = model_dir + 'Cellsplitcategoriesxenopus.json'\n",
    "catconfig = load_json(division_categories_json)\n",
    "division_cord_json = model_dir + 'Cellsplitcordxenopus.json'\n",
    "cordconfig = load_json(division_cord_json)\n",
    "model = NEATSynamic(None, model_dir , model_name,catconfig, cordconfig)\n",
    "\n",
    "Path(savedir).mkdir(exist_ok=True)\n",
    "\n",
    "Raw_path = os.path.join(imagedir, '*tif')\n",
    "X = glob.glob(Raw_path)\n",
    "\n",
    "for imagename in X:\n",
    "\n",
    "     model.predict_synamic(imagename,\n",
    "                           savedir, \n",
    "                           n_tiles = n_tiles, \n",
    "                           event_threshold = event_threshold, \n",
    "                           event_confidence = event_confidence,\n",
    "                           iou_threshold = iou_threshold,\n",
    "                           fidelity = fidelity,\n",
    "                           downsamplefactor = downsamplefactor,\n",
    "                           start_project_mid = start_project_mid,\n",
    "                           end_project_mid = end_project_mid,\n",
    "                           maskmodel = mask_model,\n",
    "                           maskdir = maskdir,\n",
    "                           normalize = normalize)"
   ]
  },
  {
   "cell_type": "code",
   "execution_count": null,
   "id": "d70d9171",
   "metadata": {},
   "outputs": [],
   "source": []
  },
  {
   "cell_type": "code",
   "execution_count": null,
   "id": "2d5c4b16",
   "metadata": {},
   "outputs": [],
   "source": []
  }
 ],
 "metadata": {
  "kernelspec": {
   "display_name": "Python [conda env:naparienv] *",
   "language": "python",
   "name": "conda-env-naparienv-py"
  },
  "language_info": {
   "codemirror_mode": {
    "name": "ipython",
    "version": 3
   },
   "file_extension": ".py",
   "mimetype": "text/x-python",
   "name": "python",
   "nbconvert_exporter": "python",
   "pygments_lexer": "ipython3",
   "version": "3.9.0"
  }
 },
 "nbformat": 4,
 "nbformat_minor": 5
}
