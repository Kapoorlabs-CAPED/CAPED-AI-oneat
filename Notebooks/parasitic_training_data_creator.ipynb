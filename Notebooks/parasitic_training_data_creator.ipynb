{
 "cells": [
  {
   "cell_type": "code",
   "execution_count": 1,
   "id": "15392b8c",
   "metadata": {},
   "outputs": [
    {
     "name": "stderr",
     "output_type": "stream",
     "text": [
      "napari.manifest -> 'skeleton-finder' could not be imported: Cannot find module 'skeleton_finder' declared in entrypoint: 'skeleton_finder:napari.yaml'\n"
     ]
    }
   ],
   "source": [
    "\n",
    "import numpy as np\n",
    "from tifffile import imread \n",
    "import sys\n",
    "import os\n",
    "import cv2\n",
    "import glob\n",
    "from tqdm import tqdm\n",
    "import pandas as pd\n",
    "from oneat.NEATUtils import MovieCreator\n",
    "from oneat.NEATUtils.helpers import save_json, load_json\n",
    "from oneat.NEATModels.MidogConfig import MidogConfig\n",
    "from pathlib import Path"
   ]
  },
  {
   "cell_type": "code",
   "execution_count": 2,
   "id": "e1bcf2d0",
   "metadata": {},
   "outputs": [],
   "source": [
    "#Specify the directory containing images\n",
    "data_folder = 'D:/TrainingData/cell_images/train/'\n",
    "#Specify the model directory where we store the json of categories, training model and parameters\n",
    "model_dir = 'D:/TrainingModels/parasitic/'\n",
    "#Directory for storing center ONEAT training data \n",
    "save_dir = 'D:/TrainingData/parasitic_uninfected/'\n",
    "Path(model_dir).mkdir(exist_ok = True)\n",
    "Path(save_dir).mkdir(exist_ok = True)"
   ]
  },
  {
   "cell_type": "code",
   "execution_count": 3,
   "id": "c748ba9e",
   "metadata": {},
   "outputs": [],
   "source": [
    "trainshapex = 128\n",
    "trainshapey = 128\n",
    "\n",
    "event_type_name_label = {\"uninfected\" : 0, \"parasitized\" : 1}\n",
    "total_categories = len(event_type_name_label)\n",
    "npz_name = 'parasitic'\n",
    "npz_val_name = 'parasiticval'\n",
    "size = [trainshapex,trainshapey]\n",
    "\n",
    "save_json(event_type_name_label, model_dir + \"parasiticcategories\" + '.json')"
   ]
  },
  {
   "cell_type": "code",
   "execution_count": null,
   "id": "940983e3",
   "metadata": {
    "scrolled": false
   },
   "outputs": [
    {
     "name": "stderr",
     "output_type": "stream",
     "text": [
      "  4%|██▊                                                                           | 460/12489 [00:08<04:23, 45.71it/s]"
     ]
    }
   ],
   "source": [
    "for root, dirs, files in os.walk(data_folder):\n",
    "   if dirs!=[]:  \n",
    "      for (k,v) in event_type_name_label.items(): \n",
    "           direc = os.path.join(root, k)\n",
    "           MovieCreator.Folder_to_oneat(direc, v, k, total_categories, size, save_dir)\n",
    "           "
   ]
  },
  {
   "cell_type": "code",
   "execution_count": null,
   "id": "ba5f3a93",
   "metadata": {},
   "outputs": [],
   "source": [
    "MovieCreator.createNPZ(save_dir, axes = 'SXYC', save_name = npz_name, save_name_val = npz_val_name)"
   ]
  },
  {
   "cell_type": "code",
   "execution_count": null,
   "id": "c9c968c4",
   "metadata": {},
   "outputs": [],
   "source": []
  }
 ],
 "metadata": {
  "kernelspec": {
   "display_name": "Python 3 (ipykernel)",
   "language": "python",
   "name": "python3"
  },
  "language_info": {
   "codemirror_mode": {
    "name": "ipython",
    "version": 3
   },
   "file_extension": ".py",
   "mimetype": "text/x-python",
   "name": "python",
   "nbconvert_exporter": "python",
   "pygments_lexer": "ipython3",
   "version": "3.9.0"
  }
 },
 "nbformat": 4,
 "nbformat_minor": 5
}
