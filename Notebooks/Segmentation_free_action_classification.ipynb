{
 "cells": [
  {
   "cell_type": "code",
   "execution_count": 1,
   "id": "87ec8896",
   "metadata": {},
   "outputs": [],
   "source": [
    "\n",
    "import sys\n",
    "import os\n",
    "import glob\n",
    "from oneat.NEATModels import NEATSynamic\n",
    "from oneat.NEATModels.config import dynamic_config\n",
    "from oneat.NEATUtils import helpers\n",
    "from oneat.NEATUtils.helpers import load_json\n",
    "os.environ[\"CUDA_VISIBLE_DEVICES\"]=\"0\"\n",
    "os.environ[\"HDF5_USE_FILE_LOCKING\"] = \"FALSE\"\n",
    "from pathlib import Path\n"
   ]
  },
  {
   "cell_type": "code",
   "execution_count": 2,
   "id": "b843f28a",
   "metadata": {},
   "outputs": [],
   "source": [
    "imagedir = 'D:/TestDatasets/Oneat/Hela_brightfield/'\n",
    "model_dir = 'D:/TrainingModels/Oneat/'\n",
    "savedir= 'D:/TestDatasets/Oneat/Hela_brightfield/results_d29f32s3/'\n",
    "model_name = 'Cellsplitdetectorbrightfieldd29f32s3'\n",
    "\n",
    "division_categories_json = model_dir + 'Cellsplithelafloucategories.json'\n",
    "catconfig = load_json(division_categories_json)\n",
    "division_cord_json = model_dir + 'Cellsplithelafloucord.json'\n",
    "cordconfig = load_json(division_cord_json)\n",
    "model = NEATSynamic(None, model_dir , model_name,catconfig, cordconfig)\n",
    "Path(savedir).mkdir(exist_ok=True)\n",
    "n_tiles = (4,4)\n",
    "event_threshold = 1 - 1.0E-4\n",
    "iou_threshold = 0.1\n",
    "fidelity = 8\n",
    "downsamplefactor = 1"
   ]
  },
  {
   "cell_type": "code",
   "execution_count": null,
   "id": "87cd3f1f",
   "metadata": {
    "scrolled": false
   },
   "outputs": [
    {
     "name": "stdout",
     "output_type": "stream",
     "text": [
      "Detecting event locations\n"
     ]
    },
    {
     "name": "stderr",
     "output_type": "stream",
     "text": [
      " 28%|██████████████████████▎                                                          | 66/240 [16:01<37:14, 12.84s/it]"
     ]
    }
   ],
   "source": [
    "Raw_path = os.path.join(imagedir, '*tif')\n",
    "X = glob.glob(Raw_path)\n",
    "\n",
    "for imagename in X:\n",
    "\n",
    "     model.predict_synamic(imagename,\n",
    "                           savedir, \n",
    "                           n_tiles = n_tiles, \n",
    "                           event_threshold = event_threshold, \n",
    "                           iou_threshold = iou_threshold,\n",
    "                           fidelity = fidelity,\n",
    "                           downsamplefactor = downsamplefactor )\n"
   ]
  },
  {
   "cell_type": "code",
   "execution_count": null,
   "id": "4efe10d5",
   "metadata": {},
   "outputs": [],
   "source": [
    "imagedir = 'D:/TestDatasets/Oneat/Hela_brightfield/'\n",
    "model_dir = 'D:/TrainingModels/Oneat/'\n",
    "savedir= 'D:/TestDatasets/Oneat/Hela_brightfield/results_d29f32s4/'\n",
    "model_name = 'Cellsplitdetectorbrightfieldd29f32s4'\n",
    "\n",
    "division_categories_json = model_dir + 'Cellsplithelafloucategories.json'\n",
    "catconfig = load_json(division_categories_json)\n",
    "division_cord_json = model_dir + 'Cellsplithelafloucord.json'\n",
    "cordconfig = load_json(division_cord_json)\n",
    "model = NEATSynamic(None, model_dir , model_name,catconfig, cordconfig)\n",
    "Path(savedir).mkdir(exist_ok=True)\n",
    "n_tiles = (4,4)\n",
    "event_threshold = 1 - 1.0E-4\n",
    "iou_threshold = 0.1\n",
    "fidelity = 8\n",
    "downsamplefactor = 1"
   ]
  },
  {
   "cell_type": "code",
   "execution_count": null,
   "id": "49ebe748",
   "metadata": {},
   "outputs": [],
   "source": [
    "Raw_path = os.path.join(imagedir, '*tif')\n",
    "X = glob.glob(Raw_path)\n",
    "\n",
    "for imagename in X:\n",
    "\n",
    "     model.predict_synamic(imagename,\n",
    "                           savedir, \n",
    "                           n_tiles = n_tiles, \n",
    "                           event_threshold = event_threshold, \n",
    "                           iou_threshold = iou_threshold,\n",
    "                           fidelity = fidelity,\n",
    "                           downsamplefactor = downsamplefactor )"
   ]
  },
  {
   "cell_type": "code",
   "execution_count": null,
   "id": "def8e620",
   "metadata": {},
   "outputs": [],
   "source": []
  }
 ],
 "metadata": {
  "kernelspec": {
   "display_name": "Python [conda env:naparienv] *",
   "language": "python",
   "name": "conda-env-naparienv-py"
  },
  "language_info": {
   "codemirror_mode": {
    "name": "ipython",
    "version": 3
   },
   "file_extension": ".py",
   "mimetype": "text/x-python",
   "name": "python",
   "nbconvert_exporter": "python",
   "pygments_lexer": "ipython3",
   "version": "3.9.0"
  }
 },
 "nbformat": 4,
 "nbformat_minor": 5
}
