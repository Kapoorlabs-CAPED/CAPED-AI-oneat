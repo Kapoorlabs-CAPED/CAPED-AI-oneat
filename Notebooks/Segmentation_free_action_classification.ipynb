{
 "cells": [
  {
   "cell_type": "code",
   "execution_count": 1,
   "id": "87ec8896",
   "metadata": {},
   "outputs": [],
   "source": [
    "\n",
    "import sys\n",
    "import os\n",
    "import glob\n",
    "from oneat.NEATModels import NEATSynamic\n",
    "from oneat.NEATModels.config import dynamic_config\n",
    "from oneat.NEATUtils import helpers\n",
    "from oneat.NEATUtils.helpers import load_json\n",
    "os.environ[\"CUDA_VISIBLE_DEVICES\"]=\"0\"\n",
    "os.environ[\"HDF5_USE_FILE_LOCKING\"] = \"FALSE\"\n",
    "from pathlib import Path\n"
   ]
  },
  {
   "cell_type": "code",
   "execution_count": 2,
   "id": "b843f28a",
   "metadata": {},
   "outputs": [],
   "source": [
    "imagedir = 'D:/TestDatasets/Oneat/Hela_brightfield/'\n",
    "model_dir = 'D:/TrainingModels/Oneat/'\n",
    "savedir= 'D:/TestDatasets/Oneat/Hela_brightfield/results_d29f32s3/'\n",
    "model_name = 'Cellsplitdetectorbrightfieldd29f32s3'\n",
    "\n",
    "division_categories_json = model_dir + 'Cellsplithelafloucategories.json'\n",
    "catconfig = load_json(division_categories_json)\n",
    "division_cord_json = model_dir + 'Cellsplithelafloucord.json'\n",
    "cordconfig = load_json(division_cord_json)\n",
    "model = NEATSynamic(None, model_dir , model_name,catconfig, cordconfig)\n",
    "Path(savedir).mkdir(exist_ok=True)\n",
    "n_tiles = (4,4)\n",
    "event_threshold = 1 - 1.0E-4\n",
    "iou_threshold = 0.1\n",
    "fidelity = 8\n",
    "downsamplefactor = 1"
   ]
  },
  {
   "cell_type": "code",
   "execution_count": 3,
   "id": "87cd3f1f",
   "metadata": {
    "scrolled": false
   },
   "outputs": [
    {
     "name": "stdout",
     "output_type": "stream",
     "text": [
      "Detecting event locations\n"
     ]
    },
    {
     "name": "stderr",
     "output_type": "stream",
     "text": [
      "  2%|█▋                                                                              | 5/240 [01:18<1:01:15, 15.64s/it]\n"
     ]
    },
    {
     "ename": "TypeError",
     "evalue": "dynamic_nms() takes 11 positional arguments but 13 were given",
     "output_type": "error",
     "traceback": [
      "\u001b[1;31m---------------------------------------------------------------------------\u001b[0m",
      "\u001b[1;31mTypeError\u001b[0m                                 Traceback (most recent call last)",
      "\u001b[1;32m~\\AppData\\Local\\Temp/ipykernel_40624/1423485639.py\u001b[0m in \u001b[0;36m<module>\u001b[1;34m\u001b[0m\n\u001b[0;32m      4\u001b[0m \u001b[1;32mfor\u001b[0m \u001b[0mimagename\u001b[0m \u001b[1;32min\u001b[0m \u001b[0mX\u001b[0m\u001b[1;33m:\u001b[0m\u001b[1;33m\u001b[0m\u001b[1;33m\u001b[0m\u001b[0m\n\u001b[0;32m      5\u001b[0m \u001b[1;33m\u001b[0m\u001b[0m\n\u001b[1;32m----> 6\u001b[1;33m      model.predict_synamic(imagename,\n\u001b[0m\u001b[0;32m      7\u001b[0m                            \u001b[0msavedir\u001b[0m\u001b[1;33m,\u001b[0m\u001b[1;33m\u001b[0m\u001b[1;33m\u001b[0m\u001b[0m\n\u001b[0;32m      8\u001b[0m                            \u001b[0mn_tiles\u001b[0m \u001b[1;33m=\u001b[0m \u001b[0mn_tiles\u001b[0m\u001b[1;33m,\u001b[0m\u001b[1;33m\u001b[0m\u001b[1;33m\u001b[0m\u001b[0m\n",
      "\u001b[1;32mc:\\users\\rando\\downloads\\caped-ai-oneat\\oneat\\NEATModels\\neat_faststandard.py\u001b[0m in \u001b[0;36mpredict_synamic\u001b[1;34m(self, imagename, savedir, n_tiles, overlap_percent, event_threshold, iou_threshold, fidelity, downsamplefactor, maskimage, maskfilter)\u001b[0m\n\u001b[0;32m     19\u001b[0m      downsamplefactor = 1, maskimage = None, maskfilter = 10):\n\u001b[0;32m     20\u001b[0m \u001b[1;33m\u001b[0m\u001b[0m\n\u001b[1;32m---> 21\u001b[1;33m         self.predict(imagename,savedir,n_tiles = n_tiles, overlap_percent = overlap_percent, event_threshold = event_threshold, iou_threshold = iou_threshold, \n\u001b[0m\u001b[0;32m     22\u001b[0m         \u001b[0mfidelity\u001b[0m \u001b[1;33m=\u001b[0m \u001b[0mfidelity\u001b[0m\u001b[1;33m,\u001b[0m \u001b[0mdownsamplefactor\u001b[0m \u001b[1;33m=\u001b[0m \u001b[0mdownsamplefactor\u001b[0m\u001b[1;33m,\u001b[0m \u001b[0mmaskimage\u001b[0m \u001b[1;33m=\u001b[0m \u001b[0mmaskimage\u001b[0m\u001b[1;33m,\u001b[0m \u001b[0mmaskfilter\u001b[0m \u001b[1;33m=\u001b[0m \u001b[0mmaskfilter\u001b[0m\u001b[1;33m,\u001b[0m  \u001b[0mmarkers\u001b[0m \u001b[1;33m=\u001b[0m \u001b[1;32mNone\u001b[0m\u001b[1;33m,\u001b[0m \u001b[0mmarker_tree\u001b[0m \u001b[1;33m=\u001b[0m \u001b[1;32mNone\u001b[0m\u001b[1;33m,\u001b[0m\u001b[1;33m\u001b[0m\u001b[1;33m\u001b[0m\u001b[0m\n\u001b[0;32m     23\u001b[0m          remove_markers = None )\n",
      "\u001b[1;32mc:\\users\\rando\\downloads\\caped-ai-oneat\\oneat\\NEATModels\\neat_goldstandard.py\u001b[0m in \u001b[0;36mpredict\u001b[1;34m(self, imagename, savedir, n_tiles, overlap_percent, event_threshold, iou_threshold, fidelity, downsamplefactor, maskfilter, markers, marker_tree, watershed, maskimage, remove_markers)\u001b[0m\n\u001b[0;32m    373\u001b[0m            \u001b[0mself\u001b[0m\u001b[1;33m.\u001b[0m\u001b[0msecond_pass_predict\u001b[0m\u001b[1;33m(\u001b[0m\u001b[1;33m)\u001b[0m\u001b[1;33m\u001b[0m\u001b[1;33m\u001b[0m\u001b[0m\n\u001b[0;32m    374\u001b[0m         \u001b[1;32mif\u001b[0m \u001b[0mself\u001b[0m\u001b[1;33m.\u001b[0m\u001b[0mremove_markers\u001b[0m \u001b[1;33m==\u001b[0m \u001b[1;32mNone\u001b[0m\u001b[1;33m:\u001b[0m\u001b[1;33m\u001b[0m\u001b[1;33m\u001b[0m\u001b[0m\n\u001b[1;32m--> 375\u001b[1;33m            \u001b[0mself\u001b[0m\u001b[1;33m.\u001b[0m\u001b[0mdefault_pass_predict\u001b[0m\u001b[1;33m(\u001b[0m\u001b[1;33m)\u001b[0m\u001b[1;33m\u001b[0m\u001b[1;33m\u001b[0m\u001b[0m\n\u001b[0m\u001b[0;32m    376\u001b[0m \u001b[1;33m\u001b[0m\u001b[0m\n\u001b[0;32m    377\u001b[0m     \u001b[1;32mdef\u001b[0m \u001b[0mdefault_pass_predict\u001b[0m\u001b[1;33m(\u001b[0m\u001b[0mself\u001b[0m\u001b[1;33m)\u001b[0m\u001b[1;33m:\u001b[0m\u001b[1;33m\u001b[0m\u001b[1;33m\u001b[0m\u001b[0m\n",
      "\u001b[1;32mc:\\users\\rando\\downloads\\caped-ai-oneat\\oneat\\NEATModels\\neat_goldstandard.py\u001b[0m in \u001b[0;36mdefault_pass_predict\u001b[1;34m(self)\u001b[0m\n\u001b[0;32m    429\u001b[0m                                 \u001b[1;32mif\u001b[0m \u001b[0minputtime\u001b[0m\u001b[1;33m%\u001b[0m\u001b[1;33m(\u001b[0m\u001b[0mself\u001b[0m\u001b[1;33m.\u001b[0m\u001b[0mimaget\u001b[0m\u001b[1;33m)\u001b[0m \u001b[1;33m==\u001b[0m \u001b[1;36m0\u001b[0m \u001b[1;32mand\u001b[0m \u001b[0minputtime\u001b[0m \u001b[1;33m>\u001b[0m \u001b[1;36m0\u001b[0m\u001b[1;33m:\u001b[0m\u001b[1;33m\u001b[0m\u001b[1;33m\u001b[0m\u001b[0m\n\u001b[0;32m    430\u001b[0m \u001b[1;33m\u001b[0m\u001b[0m\n\u001b[1;32m--> 431\u001b[1;33m                                     \u001b[0mself\u001b[0m\u001b[1;33m.\u001b[0m\u001b[0mnms\u001b[0m\u001b[1;33m(\u001b[0m\u001b[1;33m)\u001b[0m\u001b[1;33m\u001b[0m\u001b[1;33m\u001b[0m\u001b[0m\n\u001b[0m\u001b[0;32m    432\u001b[0m                                     \u001b[0mself\u001b[0m\u001b[1;33m.\u001b[0m\u001b[0mto_csv\u001b[0m\u001b[1;33m(\u001b[0m\u001b[1;33m)\u001b[0m\u001b[1;33m\u001b[0m\u001b[1;33m\u001b[0m\u001b[0m\n\u001b[0;32m    433\u001b[0m                                     \u001b[0meventboxes\u001b[0m \u001b[1;33m=\u001b[0m \u001b[1;33m[\u001b[0m\u001b[1;33m]\u001b[0m\u001b[1;33m\u001b[0m\u001b[1;33m\u001b[0m\u001b[0m\n",
      "\u001b[1;32mc:\\users\\rando\\downloads\\caped-ai-oneat\\oneat\\NEATModels\\neat_goldstandard.py\u001b[0m in \u001b[0;36mnms\u001b[1;34m(self)\u001b[0m\n\u001b[0;32m    658\u001b[0m \u001b[1;33m\u001b[0m\u001b[0m\n\u001b[0;32m    659\u001b[0m                \u001b[1;32mif\u001b[0m \u001b[0mself\u001b[0m\u001b[1;33m.\u001b[0m\u001b[0mremove_markers\u001b[0m \u001b[1;33m==\u001b[0m \u001b[1;32mNone\u001b[0m\u001b[1;33m:\u001b[0m\u001b[1;33m\u001b[0m\u001b[1;33m\u001b[0m\u001b[0m\n\u001b[1;32m--> 660\u001b[1;33m                    \u001b[0mbest_sorted_event_box\u001b[0m \u001b[1;33m=\u001b[0m \u001b[0mdynamic_nms\u001b[0m\u001b[1;33m(\u001b[0m\u001b[0mself\u001b[0m\u001b[1;33m.\u001b[0m\u001b[0mheatmap\u001b[0m\u001b[1;33m,\u001b[0m\u001b[0mself\u001b[0m\u001b[1;33m.\u001b[0m\u001b[0mmaskimage\u001b[0m\u001b[1;33m,\u001b[0m \u001b[0mself\u001b[0m\u001b[1;33m.\u001b[0m\u001b[0moriginalimage\u001b[0m\u001b[1;33m,\u001b[0m \u001b[0mself\u001b[0m\u001b[1;33m.\u001b[0m\u001b[0mclassedboxes\u001b[0m\u001b[1;33m,\u001b[0m \u001b[0mevent_name\u001b[0m\u001b[1;33m,\u001b[0m \u001b[0mevent_label\u001b[0m\u001b[1;33m,\u001b[0m \u001b[0mself\u001b[0m\u001b[1;33m.\u001b[0m\u001b[0mdownsamplefactor\u001b[0m\u001b[1;33m,\u001b[0m \u001b[0mself\u001b[0m\u001b[1;33m.\u001b[0m\u001b[0miou_threshold\u001b[0m\u001b[1;33m,\u001b[0m \u001b[0mself\u001b[0m\u001b[1;33m.\u001b[0m\u001b[0mevent_threshold\u001b[0m\u001b[1;33m,\u001b[0m \u001b[0mself\u001b[0m\u001b[1;33m.\u001b[0m\u001b[0mimagex\u001b[0m\u001b[1;33m,\u001b[0m \u001b[0mself\u001b[0m\u001b[1;33m.\u001b[0m\u001b[0mimagey\u001b[0m\u001b[1;33m,\u001b[0m \u001b[0mself\u001b[0m\u001b[1;33m.\u001b[0m\u001b[0mimaget\u001b[0m\u001b[1;33m,\u001b[0m \u001b[0mself\u001b[0m\u001b[1;33m.\u001b[0m\u001b[0mfidelity\u001b[0m \u001b[1;33m)\u001b[0m\u001b[1;33m\u001b[0m\u001b[1;33m\u001b[0m\u001b[0m\n\u001b[0m\u001b[0;32m    661\u001b[0m \u001b[1;33m\u001b[0m\u001b[0m\n\u001b[0;32m    662\u001b[0m \u001b[1;33m\u001b[0m\u001b[0m\n",
      "\u001b[1;31mTypeError\u001b[0m: dynamic_nms() takes 11 positional arguments but 13 were given"
     ]
    }
   ],
   "source": [
    "Raw_path = os.path.join(imagedir, '*tif')\n",
    "X = glob.glob(Raw_path)\n",
    "\n",
    "for imagename in X:\n",
    "\n",
    "     model.predict_synamic(imagename,\n",
    "                           savedir, \n",
    "                           n_tiles = n_tiles, \n",
    "                           event_threshold = event_threshold, \n",
    "                           iou_threshold = iou_threshold,\n",
    "                           fidelity = fidelity,\n",
    "                           downsamplefactor = downsamplefactor )\n"
   ]
  },
  {
   "cell_type": "code",
   "execution_count": null,
   "id": "48f5d3c9",
   "metadata": {},
   "outputs": [],
   "source": []
  }
 ],
 "metadata": {
  "kernelspec": {
   "display_name": "Python [conda env:naparienv] *",
   "language": "python",
   "name": "conda-env-naparienv-py"
  },
  "language_info": {
   "codemirror_mode": {
    "name": "ipython",
    "version": 3
   },
   "file_extension": ".py",
   "mimetype": "text/x-python",
   "name": "python",
   "nbconvert_exporter": "python",
   "pygments_lexer": "ipython3",
   "version": "3.9.0"
  }
 },
 "nbformat": 4,
 "nbformat_minor": 5
}
