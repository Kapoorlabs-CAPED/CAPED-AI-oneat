{
 "cells": [
  {
   "cell_type": "code",
   "execution_count": 2,
   "id": "4ce86979",
   "metadata": {},
   "outputs": [],
   "source": [
    "\n",
    "import sys\n",
    "import os\n",
    "import glob\n",
    "from oneat.NEATModels import NEATStatic, nets\n",
    "from oneat.NEATModels.Staticconfig import static_config\n",
    "from oneat.NEATUtils.helpers import load_json\n",
    "os.environ[\"CUDA_VISIBLE_DEVICES\"]=\"0\"\n",
    "os.environ[\"HDF5_USE_FILE_LOCKING\"] = \"FALSE\"\n",
    "from pathlib import Path"
   ]
  },
  {
   "cell_type": "code",
   "execution_count": null,
   "id": "fe958933",
   "metadata": {},
   "outputs": [],
   "source": [
    "imagedir = '/Static_raw/'\n",
    "model_dir = '/Oneat_models/'\n",
    "savedir= '/Save_dir/'\n",
    "model_name = 'CellNet'\n",
    "division_categories_json = model_dir + 'StaticCategories.json'\n",
    "catconfig = load_json(division_categories_json)\n",
    "division_cord_json = model_dir + 'StaticCord.json'\n",
    "cordconfig = load_json(division_cord_json)\n",
    "model = NEATStatic(None, model_dir , model_name,catconfig, cordconfig)\n",
    "Path(savedir).mkdir(exist_ok=True)\n",
    "n_tiles = (1,1)\n",
    "event_threshold = 0.9\n",
    "iou_threshold = 0.6"
   ]
  },
  {
   "cell_type": "code",
   "execution_count": null,
   "id": "fd893a03",
   "metadata": {
    "scrolled": false
   },
   "outputs": [],
   "source": [
    "Raw_path = os.path.join(imagedir, '*tif')\n",
    "X = glob.glob(Raw_path)\n",
    "for imagename in X:\n",
    "     model.predict(imagename, savedir, n_tiles = n_tiles, event_threshold = event_threshold, iou_threshold = iou_threshold)"
   ]
  },
  {
   "cell_type": "code",
   "execution_count": null,
   "id": "5824e242",
   "metadata": {},
   "outputs": [],
   "source": [
    "\n"
   ]
  },
  {
   "cell_type": "code",
   "execution_count": null,
   "id": "f3463152",
   "metadata": {},
   "outputs": [],
   "source": []
  }
 ],
 "metadata": {
  "kernelspec": {
   "display_name": "Python [conda env:naparienv] *",
   "language": "python",
   "name": "conda-env-naparienv-py"
  },
  "language_info": {
   "codemirror_mode": {
    "name": "ipython",
    "version": 3
   },
   "file_extension": ".py",
   "mimetype": "text/x-python",
   "name": "python",
   "nbconvert_exporter": "python",
   "pygments_lexer": "ipython3",
   "version": "3.9.0"
  }
 },
 "nbformat": 4,
 "nbformat_minor": 5
}
