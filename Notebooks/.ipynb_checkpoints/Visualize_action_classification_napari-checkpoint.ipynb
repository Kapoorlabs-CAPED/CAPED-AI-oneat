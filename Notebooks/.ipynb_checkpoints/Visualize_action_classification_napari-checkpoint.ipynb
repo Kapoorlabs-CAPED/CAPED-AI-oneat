{
 "cells": [
  {
   "cell_type": "code",
   "execution_count": 1,
   "id": "7fbce8da",
   "metadata": {},
   "outputs": [],
   "source": [
    "\n",
    "import sys\n",
    "import os\n",
    "import glob\n",
    "\n",
    "from oneat.NEATUtils import NEATViz\n",
    "\n",
    "%gui qt"
   ]
  },
  {
   "cell_type": "code",
   "execution_count": 2,
   "id": "eab77c93",
   "metadata": {
    "scrolled": false
   },
   "outputs": [
    {
     "ename": "TypeError",
     "evalue": "__init__() got multiple values for argument 'fileextension'",
     "output_type": "error",
     "traceback": [
      "\u001b[1;31m---------------------------------------------------------------------------\u001b[0m",
      "\u001b[1;31mTypeError\u001b[0m                                 Traceback (most recent call last)",
      "\u001b[1;32m~\\AppData\\Local\\Temp/ipykernel_8320/4067620501.py\u001b[0m in \u001b[0;36m<module>\u001b[1;34m\u001b[0m\n\u001b[0;32m      8\u001b[0m \u001b[0mend_project_mid\u001b[0m \u001b[1;33m=\u001b[0m \u001b[1;36m0\u001b[0m\u001b[1;33m\u001b[0m\u001b[1;33m\u001b[0m\u001b[0m\n\u001b[0;32m      9\u001b[0m \u001b[0mevent_threshold\u001b[0m \u001b[1;33m=\u001b[0m \u001b[1;33m[\u001b[0m\u001b[0mthresh\u001b[0m\u001b[1;33m,\u001b[0m \u001b[0mthresh\u001b[0m\u001b[1;33m]\u001b[0m\u001b[1;33m\u001b[0m\u001b[1;33m\u001b[0m\u001b[0m\n\u001b[1;32m---> 10\u001b[1;33m \u001b[0mVizdetections\u001b[0m \u001b[1;33m=\u001b[0m \u001b[0mNEATViz\u001b[0m\u001b[1;33m(\u001b[0m\u001b[0mimagedir\u001b[0m\u001b[1;33m,\u001b[0m \u001b[1;32mNone\u001b[0m\u001b[1;33m,\u001b[0m \u001b[0mcsvdir\u001b[0m\u001b[1;33m,\u001b[0m \u001b[0mcategories_json\u001b[0m\u001b[1;33m,\u001b[0m \u001b[0mstart_project_mid\u001b[0m\u001b[1;33m,\u001b[0m \u001b[0mend_project_mid\u001b[0m\u001b[1;33m,\u001b[0m \u001b[0mevent_threshold\u001b[0m\u001b[1;33m,\u001b[0m \u001b[0mfileextension\u001b[0m \u001b[1;33m=\u001b[0m \u001b[0mfileextension\u001b[0m\u001b[1;33m)\u001b[0m\u001b[1;33m\u001b[0m\u001b[1;33m\u001b[0m\u001b[0m\n\u001b[0m",
      "\u001b[1;31mTypeError\u001b[0m: __init__() got multiple values for argument 'fileextension'"
     ]
    }
   ],
   "source": [
    "imagedir = 'D:/TestDatasets/Oneat/Xenopus_oneat/'\n",
    "heatmapdir ='D:/TestDatasets/Oneat/Xenopus_oneat/results/'\n",
    "csvdir = 'D:/TestDatasets/Oneat/Xenopus_oneat/results/'\n",
    "categories_json = 'D:/TrainingModels/Oneat/Cellsplitcategoriesxenopus.json'\n",
    "fileextension = '*tif'\n",
    "thresh = 0.999\n",
    "start_project_mid = 4\n",
    "end_project_mid = 0\n",
    "event_threshold = [thresh, thresh]\n",
    "Vizdetections = NEATViz(imagedir, None, csvdir, categories_json,  event_threshold, fileextension = fileextension,start_project_mid = start_project_mid, end_project_mid = end_project_mid)"
   ]
  },
  {
   "cell_type": "code",
   "execution_count": null,
   "id": "0d35ad3f",
   "metadata": {},
   "outputs": [],
   "source": []
  },
  {
   "cell_type": "code",
   "execution_count": null,
   "id": "f0b8671e",
   "metadata": {},
   "outputs": [],
   "source": []
  }
 ],
 "metadata": {
  "kernelspec": {
   "display_name": "Python [conda env:naparienv] *",
   "language": "python",
   "name": "conda-env-naparienv-py"
  },
  "language_info": {
   "codemirror_mode": {
    "name": "ipython",
    "version": 3
   },
   "file_extension": ".py",
   "mimetype": "text/x-python",
   "name": "python",
   "nbconvert_exporter": "python",
   "pygments_lexer": "ipython3",
   "version": "3.9.0"
  }
 },
 "nbformat": 4,
 "nbformat_minor": 5
}
