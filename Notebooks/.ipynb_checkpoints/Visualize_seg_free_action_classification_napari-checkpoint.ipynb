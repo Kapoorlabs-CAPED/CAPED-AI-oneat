{
 "cells": [
  {
   "cell_type": "code",
   "execution_count": null,
   "id": "7fbce8da",
   "metadata": {},
   "outputs": [],
   "source": [
    "from oneat.NEATUtils import NEATViz\n"
   ]
  },
  {
   "cell_type": "code",
   "execution_count": null,
   "id": "eab77c93",
   "metadata": {
    "scrolled": false
   },
   "outputs": [],
   "source": [
    "imagedir = 'D:/TestDatasets/Oneat/Hela_flou_oneat/mcherry/'\n",
    "heatmapdir ='D:/TestDatasets/Oneat/Hela_flou_oneat/mcherry/Resultsdeep/'\n",
    "\n",
    "csvdir = 'D:/TestDatasets/Oneat/Hela_flou_oneat/mcherry/Resultsdeep/'\n",
    "categories_json = 'D:/TrainingModels/Oneat/Cellsplitcategorieshelaflou.json'\n",
    "fileextension = '*tif'\n",
    "thresh = 1 - 1.0E-6\n",
    "\n",
    "event_threshold = [thresh, thresh]\n",
    "Vizdetections = NEATViz(imagedir, \n",
    "                        heatmapdir, \n",
    "                        csvdir, \n",
    "                        categories_json,  \n",
    "                        event_threshold, \n",
    "                        fileextension = fileextension)"
   ]
  },
  {
   "cell_type": "code",
   "execution_count": 12,
   "id": "0d35ad3f",
   "metadata": {},
   "outputs": [
    {
     "ename": "TypeError",
     "evalue": "imread() got an unexpected keyword argument 'chunks'",
     "output_type": "error",
     "traceback": [
      "\u001b[1;31m---------------------------------------------------------------------------\u001b[0m",
      "\u001b[1;31mTypeError\u001b[0m                                 Traceback (most recent call last)",
      "Input \u001b[1;32mIn [12]\u001b[0m, in \u001b[0;36m<cell line: 10>\u001b[1;34m()\u001b[0m\n\u001b[0;32m      9\u001b[0m X \u001b[38;5;241m=\u001b[39m glob\u001b[38;5;241m.\u001b[39mglob(Raw_path)\n\u001b[0;32m     10\u001b[0m \u001b[38;5;28;01mfor\u001b[39;00m fname \u001b[38;5;129;01min\u001b[39;00m X:\n\u001b[1;32m---> 11\u001b[0m     imagedask \u001b[38;5;241m=\u001b[39m \u001b[43mdaskread\u001b[49m\u001b[43m(\u001b[49m\u001b[43mfname\u001b[49m\u001b[43m,\u001b[49m\u001b[43m \u001b[49m\u001b[43mchunks\u001b[49m\u001b[38;5;241;43m=\u001b[39;49m\u001b[43m(\u001b[49m\u001b[38;5;241;43m1\u001b[39;49m\u001b[43m,\u001b[49m\u001b[43m \u001b[49m\u001b[38;5;241;43m128\u001b[39;49m\u001b[43m,\u001b[49m\u001b[43m \u001b[49m\u001b[38;5;241;43m128\u001b[39;49m\u001b[43m)\u001b[49m\u001b[43m)\u001b[49m[\u001b[38;5;241m0\u001b[39m]\n\u001b[0;32m     12\u001b[0m     \u001b[38;5;28mprint\u001b[39m(imagedask\u001b[38;5;241m.\u001b[39mshape)\n\u001b[0;32m     13\u001b[0m     red_image \u001b[38;5;241m=\u001b[39m imagedask[\u001b[38;5;241m2\u001b[39m,:]\n",
      "\u001b[1;31mTypeError\u001b[0m: imread() got an unexpected keyword argument 'chunks'"
     ]
    }
   ],
   "source": [
    "import numpy as np\n",
    "from dask.array.image import imread as daskread\n",
    "import matplotlib.pyplot as plt\n",
    "import os\n",
    "import glob\n",
    "\n",
    "imagedir = 'D:/TestDatasets/Oneat/Hela_flou_oneat/mcherry/'\n",
    "Raw_path = os.path.join(imagedir, '*.tif')\n",
    "X = glob.glob(Raw_path)\n",
    "for fname in X:\n",
    "    imagedask = daskread(fname)[0]\n",
    "    print(imagedask.shape)\n",
    "    red_image = imagedask[2,:]\n",
    "    print(red_image.shape)"
   ]
  },
  {
   "cell_type": "code",
   "execution_count": 11,
   "id": "f0b8671e",
   "metadata": {},
   "outputs": [],
   "source": [
    "import dask.array as da\n",
    "\n",
    "# huge along 0th axis\n",
    "x = da.random.random((10000, 128, 128), chunks=(1, 128, 128))\n",
    "slc = np.asarray(x[0])  # calls compute for first slice without you manually calling it\n",
    "\n",
    "assert np.allclose(slc, x[0].compute())"
   ]
  },
  {
   "cell_type": "code",
   "execution_count": null,
   "id": "1af1b352",
   "metadata": {},
   "outputs": [],
   "source": []
  }
 ],
 "metadata": {
  "kernelspec": {
   "display_name": "Python 3 (ipykernel)",
   "language": "python",
   "name": "python3"
  },
  "language_info": {
   "codemirror_mode": {
    "name": "ipython",
    "version": 3
   },
   "file_extension": ".py",
   "mimetype": "text/x-python",
   "name": "python",
   "nbconvert_exporter": "python",
   "pygments_lexer": "ipython3",
   "version": "3.10.4"
  }
 },
 "nbformat": 4,
 "nbformat_minor": 5
}
