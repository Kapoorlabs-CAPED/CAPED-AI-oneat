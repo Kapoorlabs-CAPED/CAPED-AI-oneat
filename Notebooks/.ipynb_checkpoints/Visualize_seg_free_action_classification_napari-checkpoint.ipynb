{
 "cells": [
  {
   "cell_type": "code",
   "execution_count": null,
   "id": "7fbce8da",
   "metadata": {},
   "outputs": [],
   "source": [
    "from oneat.NEATUtils import NEATViz\n"
   ]
  },
  {
   "cell_type": "code",
   "execution_count": null,
   "id": "eab77c93",
   "metadata": {
    "scrolled": false
   },
   "outputs": [],
   "source": [
    "imagedir = 'D:/TestDatasets/Oneat/Hela_flou/Hela_flou_oneat/'\n",
    "heatmapdir ='D:/TestDatasets/Oneat/Hela_flou/Hela_flou_oneat/silver_DPC_high_fid8/'\n",
    "\n",
    "csvdir = 'D:/TestDatasets/Oneat/Hela_flou/Hela_flou_oneat/silver_DPC_high_fid8/'\n",
    "categories_json = 'D:/TrainingModels/Oneat/Cellsplithelafloucategories.json'\n",
    "fileextension = '*tif'\n",
    "thresh = 1 - 1.0E-4\n",
    "\n",
    "event_threshold = [thresh, thresh]\n",
    "Vizdetections = NEATViz(imagedir, \n",
    "                        heatmapdir, \n",
    "                        csvdir, \n",
    "                        categories_json,  \n",
    "                        event_threshold, \n",
    "                        fileextension = fileextension)"
   ]
  },
  {
   "cell_type": "code",
   "execution_count": null,
   "id": "0d35ad3f",
   "metadata": {},
   "outputs": [],
   "source": []
  },
  {
   "cell_type": "code",
   "execution_count": null,
   "id": "f0b8671e",
   "metadata": {},
   "outputs": [],
   "source": []
  }
 ],
 "metadata": {
  "kernelspec": {
   "display_name": "Python [conda env:naparienv] *",
   "language": "python",
   "name": "conda-env-naparienv-py"
  },
  "language_info": {
   "codemirror_mode": {
    "name": "ipython",
    "version": 3
   },
   "file_extension": ".py",
   "mimetype": "text/x-python",
   "name": "python",
   "nbconvert_exporter": "python",
   "pygments_lexer": "ipython3",
   "version": "3.9.0"
  }
 },
 "nbformat": 4,
 "nbformat_minor": 5
}
