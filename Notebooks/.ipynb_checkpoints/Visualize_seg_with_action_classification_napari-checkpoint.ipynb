{
 "cells": [
  {
   "cell_type": "code",
   "execution_count": 5,
   "id": "7fbce8da",
   "metadata": {},
   "outputs": [],
   "source": [
    "from oneat.NEATUtils import NEATViz"
   ]
  },
  {
   "cell_type": "code",
   "execution_count": 6,
   "id": "eab77c93",
   "metadata": {
    "scrolled": false
   },
   "outputs": [
    {
     "name": "stderr",
     "output_type": "stream",
     "text": [
      "WARNING: DirectWrite: CreateFontFaceFromHDC() failed (Indicates an error in an input file such as a font file.) for QFontDef(Family=\"8514oem\", pointsize=12, pixelsize=20, styleHint=5, weight=50, stretch=100, hintingPreference=0) LOGFONT(\"8514oem\", lfWidth=0, lfHeight=-20) dpi=120\n",
      "C:\\Users\\rando\\anaconda3\\envs\\naparienv\\lib\\site-packages\\napari_animation\\_qt\\keyframeslist_widget.py:156: FutureWarning: Themes were changed to use evented model with Pydantic's color type rather than the `rgb(x, y, z)`. The `as_dict=True` option will be changed to `as_dict=False` in 0.4.15\n",
      "  self.setStyleSheet(template(qss_template, **get_theme(theme_name)))\n"
     ]
    },
    {
     "data": {
      "image/png": "[encoded data removed]",
      "text/plain": [
       "<Figure size 288x288 with 1 Axes>"
      ]
     },
     "metadata": {
      "needs_background": "light"
     },
     "output_type": "display_data"
    },
    {
     "name": "stdout",
     "output_type": "stream",
     "text": [
      "before 6\n",
      "after 5\n",
      "before 8\n",
      "after 7\n"
     ]
    },
    {
     "name": "stderr",
     "output_type": "stream",
     "text": [
      "WARNING: DirectWrite: CreateFontFaceFromHDC() failed (Indicates an error in an input file such as a font file.) for QFontDef(Family=\"8514oem\", pointsize=12, pixelsize=20, styleHint=5, weight=50, stretch=100, hintingPreference=0) LOGFONT(\"8514oem\", lfWidth=0, lfHeight=-20) dpi=120\n"
     ]
    },
    {
     "name": "stdout",
     "output_type": "stream",
     "text": [
      "before 19\n",
      "after 15\n"
     ]
    },
    {
     "name": "stderr",
     "output_type": "stream",
     "text": [
      "WARNING: DirectWrite: CreateFontFaceFromHDC() failed (Indicates an error in an input file such as a font file.) for QFontDef(Family=\"8514oem\", pointsize=12, pixelsize=20, styleHint=5, weight=50, stretch=100, hintingPreference=0) LOGFONT(\"8514oem\", lfWidth=0, lfHeight=-20) dpi=120\n"
     ]
    },
    {
     "name": "stdout",
     "output_type": "stream",
     "text": [
      "before 2\n",
      "after 2\n",
      "before 6\n",
      "after 5\n",
      "before 10\n",
      "after 9\n"
     ]
    },
    {
     "name": "stderr",
     "output_type": "stream",
     "text": [
      "WARNING: DirectWrite: CreateFontFaceFromHDC() failed (Indicates an error in an input file such as a font file.) for QFontDef(Family=\"8514oem\", pointsize=12, pixelsize=20, styleHint=5, weight=50, stretch=100, hintingPreference=0) LOGFONT(\"8514oem\", lfWidth=0, lfHeight=-20) dpi=120\n"
     ]
    },
    {
     "name": "stdout",
     "output_type": "stream",
     "text": [
      "before 18\n",
      "after 14\n"
     ]
    },
    {
     "name": "stderr",
     "output_type": "stream",
     "text": [
      "WARNING: DirectWrite: CreateFontFaceFromHDC() failed (Indicates an error in an input file such as a font file.) for QFontDef(Family=\"8514oem\", pointsize=12, pixelsize=20, styleHint=5, weight=50, stretch=100, hintingPreference=0) LOGFONT(\"8514oem\", lfWidth=0, lfHeight=-20) dpi=120\n"
     ]
    },
    {
     "name": "stdout",
     "output_type": "stream",
     "text": [
      "before 2\n",
      "after 2\n",
      "before 6\n",
      "after 5\n",
      "before 10\n",
      "after 9\n",
      "before 14\n",
      "after 13\n",
      "before 21\n",
      "after 17\n",
      "before 21\n",
      "after 17\n",
      "before 22\n",
      "after 18\n",
      "before 23\n",
      "after 19\n",
      "before 35\n",
      "after 30\n",
      "before 37\n",
      "after 32\n",
      "before 45\n",
      "after 36\n",
      "before 69\n",
      "after 56\n",
      "before 71\n",
      "after 58\n",
      "before 72\n",
      "after 59\n",
      "before 74\n",
      "after 61\n",
      "before 78\n",
      "after 64\n",
      "before 78\n",
      "after 64\n",
      "before 98\n",
      "after 79\n",
      "Rendering frame  1 of 31\n"
     ]
    },
    {
     "name": "stderr",
     "output_type": "stream",
     "text": [
      "IMAGEIO FFMPEG_WRITER WARNING: input image is not divisible by macro_block_size=16, resizing from (1098, 875) to (1104, 880) to ensure video compatibility with most codecs and players. To prevent resizing, make your input image divisible by the macro_block_size or set the macro_block_size to 1 (risking incompatibility).\n"
     ]
    },
    {
     "name": "stdout",
     "output_type": "stream",
     "text": [
      "Rendering frame  2 of 31\n",
      "Rendering frame  3 of 31\n",
      "Rendering frame  4 of 31\n",
      "Rendering frame  5 of 31\n",
      "Rendering frame  6 of 31\n",
      "Rendering frame  7 of 31\n",
      "Rendering frame  8 of 31\n",
      "Rendering frame  9 of 31\n",
      "Rendering frame  10 of 31\n",
      "Rendering frame  11 of 31\n",
      "Rendering frame  12 of 31\n",
      "Rendering frame  13 of 31\n",
      "Rendering frame  14 of 31\n",
      "Rendering frame  15 of 31\n",
      "Rendering frame  16 of 31\n",
      "Rendering frame  17 of 31\n",
      "Rendering frame  18 of 31\n",
      "Rendering frame  19 of 31\n",
      "Rendering frame  20 of 31\n",
      "Rendering frame  21 of 31\n",
      "Rendering frame  22 of 31\n",
      "Rendering frame  23 of 31\n",
      "Rendering frame  24 of 31\n",
      "Rendering frame  25 of 31\n",
      "Rendering frame  26 of 31\n",
      "Rendering frame  27 of 31\n",
      "Rendering frame  28 of 31\n",
      "Rendering frame  29 of 31\n",
      "Rendering frame  30 of 31\n",
      "Rendering frame  31 of 31\n"
     ]
    },
    {
     "name": "stderr",
     "output_type": "stream",
     "text": [
      "IMAGEIO FFMPEG_WRITER WARNING: input image is not divisible by macro_block_size=16, resizing from (1098, 875) to (1104, 880) to ensure video compatibility with most codecs and players. To prevent resizing, make your input image divisible by the macro_block_size or set the macro_block_size to 1 (risking incompatibility).\n"
     ]
    },
    {
     "name": "stdout",
     "output_type": "stream",
     "text": [
      "Rendering frame  1 of 106\n",
      "Rendering frame  2 of 106\n",
      "Rendering frame  3 of 106\n",
      "Rendering frame  4 of 106\n",
      "Rendering frame  5 of 106\n",
      "Rendering frame  6 of 106\n",
      "Rendering frame  7 of 106\n",
      "Rendering frame  8 of 106\n",
      "Rendering frame  9 of 106\n",
      "Rendering frame  10 of 106\n",
      "Rendering frame  11 of 106\n",
      "Rendering frame  12 of 106\n",
      "Rendering frame  13 of 106\n",
      "Rendering frame  14 of 106\n",
      "Rendering frame  15 of 106\n",
      "Rendering frame  16 of 106\n",
      "Rendering frame  17 of 106\n",
      "Rendering frame  18 of 106\n",
      "Rendering frame  19 of 106\n",
      "Rendering frame  20 of 106\n",
      "Rendering frame  21 of 106\n",
      "Rendering frame  22 of 106\n",
      "Rendering frame  23 of 106\n",
      "Rendering frame  24 of 106\n",
      "Rendering frame  25 of 106\n",
      "Rendering frame  26 of 106\n",
      "Rendering frame  27 of 106\n",
      "Rendering frame  28 of 106\n",
      "Rendering frame  29 of 106\n",
      "Rendering frame  30 of 106\n",
      "Rendering frame  31 of 106\n",
      "Rendering frame  32 of 106\n",
      "Rendering frame  33 of 106\n",
      "Rendering frame  34 of 106\n",
      "Rendering frame  35 of 106\n",
      "Rendering frame  36 of 106\n",
      "Rendering frame  37 of 106\n",
      "Rendering frame  38 of 106\n",
      "Rendering frame  39 of 106\n",
      "Rendering frame  40 of 106\n",
      "Rendering frame  41 of 106\n",
      "Rendering frame  42 of 106\n",
      "Rendering frame  43 of 106\n",
      "Rendering frame  44 of 106\n",
      "Rendering frame  45 of 106\n",
      "Rendering frame  46 of 106\n",
      "Rendering frame  47 of 106\n",
      "Rendering frame  48 of 106\n",
      "Rendering frame  49 of 106\n",
      "Rendering frame  50 of 106\n",
      "Rendering frame  51 of 106\n",
      "Rendering frame  52 of 106\n",
      "Rendering frame  53 of 106\n",
      "Rendering frame  54 of 106\n",
      "Rendering frame  55 of 106\n",
      "Rendering frame  56 of 106\n",
      "Rendering frame  57 of 106\n",
      "Rendering frame  58 of 106\n",
      "Rendering frame  59 of 106\n",
      "Rendering frame  60 of 106\n",
      "Rendering frame  61 of 106\n",
      "Rendering frame  62 of 106\n",
      "Rendering frame  63 of 106\n",
      "Rendering frame  64 of 106\n",
      "Rendering frame  65 of 106\n",
      "Rendering frame  66 of 106\n",
      "Rendering frame  67 of 106\n",
      "Rendering frame  68 of 106\n",
      "Rendering frame  69 of 106\n",
      "Rendering frame  70 of 106\n",
      "Rendering frame  71 of 106\n",
      "Rendering frame  72 of 106\n",
      "Rendering frame  73 of 106\n",
      "Rendering frame  74 of 106\n",
      "Rendering frame  75 of 106\n",
      "Rendering frame  76 of 106\n",
      "Rendering frame  77 of 106\n",
      "Rendering frame  78 of 106\n",
      "Rendering frame  79 of 106\n",
      "Rendering frame  80 of 106\n",
      "Rendering frame  81 of 106\n",
      "Rendering frame  82 of 106\n",
      "Rendering frame  83 of 106\n",
      "Rendering frame  84 of 106\n",
      "Rendering frame  85 of 106\n",
      "Rendering frame  86 of 106\n",
      "Rendering frame  87 of 106\n",
      "Rendering frame  88 of 106\n",
      "Rendering frame  89 of 106\n",
      "Rendering frame  90 of 106\n",
      "Rendering frame  91 of 106\n",
      "Rendering frame  92 of 106\n",
      "Rendering frame  93 of 106\n",
      "Rendering frame  94 of 106\n",
      "Rendering frame  95 of 106\n",
      "Rendering frame  96 of 106\n",
      "Rendering frame  97 of 106\n",
      "Rendering frame  98 of 106\n",
      "Rendering frame  99 of 106\n",
      "Rendering frame  100 of 106\n",
      "Rendering frame  101 of 106\n",
      "Rendering frame  102 of 106\n",
      "Rendering frame  103 of 106\n",
      "Rendering frame  104 of 106\n",
      "Rendering frame  105 of 106\n",
      "Rendering frame  106 of 106\n"
     ]
    },
    {
     "name": "stderr",
     "output_type": "stream",
     "text": [
      "IMAGEIO FFMPEG_WRITER WARNING: input image is not divisible by macro_block_size=16, resizing from (1098, 875) to (1104, 880) to ensure video compatibility with most codecs and players. To prevent resizing, make your input image divisible by the macro_block_size or set the macro_block_size to 1 (risking incompatibility).\n"
     ]
    },
    {
     "name": "stdout",
     "output_type": "stream",
     "text": [
      "Rendering frame  1 of 121\n",
      "Rendering frame  2 of 121\n",
      "Rendering frame  3 of 121\n",
      "Rendering frame  4 of 121\n",
      "Rendering frame  5 of 121\n",
      "Rendering frame  6 of 121\n",
      "Rendering frame  7 of 121\n",
      "Rendering frame  8 of 121\n",
      "Rendering frame  9 of 121\n",
      "Rendering frame  10 of 121\n",
      "Rendering frame  11 of 121\n",
      "Rendering frame  12 of 121\n",
      "Rendering frame  13 of 121\n",
      "Rendering frame  14 of 121\n",
      "Rendering frame  15 of 121\n",
      "Rendering frame  16 of 121\n",
      "Rendering frame  17 of 121\n",
      "Rendering frame  18 of 121\n",
      "Rendering frame  19 of 121\n",
      "Rendering frame  20 of 121\n",
      "Rendering frame  21 of 121\n",
      "Rendering frame  22 of 121\n",
      "Rendering frame  23 of 121\n",
      "Rendering frame  24 of 121\n",
      "Rendering frame  25 of 121\n",
      "Rendering frame  26 of 121\n",
      "Rendering frame  27 of 121\n",
      "Rendering frame  28 of 121\n",
      "Rendering frame  29 of 121\n",
      "Rendering frame  30 of 121\n",
      "Rendering frame  31 of 121\n",
      "Rendering frame  32 of 121\n",
      "Rendering frame  33 of 121\n",
      "Rendering frame  34 of 121\n",
      "Rendering frame  35 of 121\n",
      "Rendering frame  36 of 121\n",
      "Rendering frame  37 of 121\n",
      "Rendering frame  38 of 121\n",
      "Rendering frame  39 of 121\n",
      "Rendering frame  40 of 121\n",
      "Rendering frame  41 of 121\n",
      "Rendering frame  42 of 121\n",
      "Rendering frame  43 of 121\n",
      "Rendering frame  44 of 121\n",
      "Rendering frame  45 of 121\n",
      "Rendering frame  46 of 121\n",
      "Rendering frame  47 of 121\n",
      "Rendering frame  48 of 121\n",
      "Rendering frame  49 of 121\n",
      "Rendering frame  50 of 121\n",
      "Rendering frame  51 of 121\n",
      "Rendering frame  52 of 121\n",
      "Rendering frame  53 of 121\n",
      "Rendering frame  54 of 121\n",
      "Rendering frame  55 of 121\n",
      "Rendering frame  56 of 121\n",
      "Rendering frame  57 of 121\n",
      "Rendering frame  58 of 121\n",
      "Rendering frame  59 of 121\n",
      "Rendering frame  60 of 121\n",
      "Rendering frame  61 of 121\n",
      "Rendering frame  62 of 121\n",
      "Rendering frame  63 of 121\n",
      "Rendering frame  64 of 121\n",
      "Rendering frame  65 of 121\n",
      "Rendering frame  66 of 121\n",
      "Rendering frame  67 of 121\n",
      "Rendering frame  68 of 121\n",
      "Rendering frame  69 of 121\n",
      "Rendering frame  70 of 121\n",
      "Rendering frame  71 of 121\n",
      "Rendering frame  72 of 121\n",
      "Rendering frame  73 of 121\n",
      "Rendering frame  74 of 121\n",
      "Rendering frame  75 of 121\n",
      "Rendering frame  76 of 121\n",
      "Rendering frame  77 of 121\n",
      "Rendering frame  78 of 121\n",
      "Rendering frame  79 of 121\n",
      "Rendering frame  80 of 121\n",
      "Rendering frame  81 of 121\n",
      "Rendering frame  82 of 121\n",
      "Rendering frame  83 of 121\n",
      "Rendering frame  84 of 121\n",
      "Rendering frame  85 of 121\n",
      "Rendering frame  86 of 121\n",
      "Rendering frame  87 of 121\n",
      "Rendering frame  88 of 121\n",
      "Rendering frame  89 of 121\n",
      "Rendering frame  90 of 121\n",
      "Rendering frame  91 of 121\n",
      "Rendering frame  92 of 121\n",
      "Rendering frame  93 of 121\n",
      "Rendering frame  94 of 121\n",
      "Rendering frame  95 of 121\n",
      "Rendering frame  96 of 121\n",
      "Rendering frame  97 of 121\n",
      "Rendering frame  98 of 121\n",
      "Rendering frame  99 of 121\n",
      "Rendering frame  100 of 121\n",
      "Rendering frame  101 of 121\n",
      "Rendering frame  102 of 121\n",
      "Rendering frame  103 of 121\n",
      "Rendering frame  104 of 121\n",
      "Rendering frame  105 of 121\n",
      "Rendering frame  106 of 121\n",
      "Rendering frame  107 of 121\n",
      "Rendering frame  108 of 121\n",
      "Rendering frame  109 of 121\n",
      "Rendering frame  110 of 121\n",
      "Rendering frame  111 of 121\n",
      "Rendering frame  112 of 121\n",
      "Rendering frame  113 of 121\n",
      "Rendering frame  114 of 121\n",
      "Rendering frame  115 of 121\n",
      "Rendering frame  116 of 121\n",
      "Rendering frame  117 of 121\n",
      "Rendering frame  118 of 121\n",
      "Rendering frame  119 of 121\n",
      "Rendering frame  120 of 121\n",
      "Rendering frame  121 of 121\n"
     ]
    }
   ],
   "source": [
    "imagedir = 'D:/Mari_project/tracks_gt/oneat/'\n",
    "segimagedir = 'D:/Mari_project/tracks_gt/oneat/seg/'\n",
    "csvdir = 'D:/Mari_project/tracks_gt/oneat/Results/'\n",
    "categories_json = 'D:/TrainingModels/Oneat/Cellsplitcategoriesxenopus.json'\n",
    "fileextension = '*tif'\n",
    "\n",
    "start_project_mid = 4\n",
    "end_project_mid = 1\n",
    "\n",
    "Vizdetections = NEATViz(imagedir,\n",
    "                        csvdir,\n",
    "                        categories_json,\n",
    "                        segimagedir = segimagedir,\n",
    "                        fileextension = fileextension,\n",
    "                        start_project_mid = start_project_mid,\n",
    "                        end_project_mid = end_project_mid,\n",
    "                        imagereader = 'tifffile' )"
   ]
  },
  {
   "cell_type": "code",
   "execution_count": null,
   "id": "b27e7e4c",
   "metadata": {},
   "outputs": [],
   "source": []
  }
 ],
 "metadata": {
  "kernelspec": {
   "display_name": "Python 3 (ipykernel)",
   "language": "python",
   "name": "python3"
  },
  "language_info": {
   "codemirror_mode": {
    "name": "ipython",
    "version": 3
   },
   "file_extension": ".py",
   "mimetype": "text/x-python",
   "name": "python",
   "nbconvert_exporter": "python",
   "pygments_lexer": "ipython3",
   "version": "3.9.0"
  }
 },
 "nbformat": 4,
 "nbformat_minor": 5
}
