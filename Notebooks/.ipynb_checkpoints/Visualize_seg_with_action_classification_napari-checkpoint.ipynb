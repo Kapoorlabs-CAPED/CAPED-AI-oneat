{
 "cells": [
  {
   "cell_type": "code",
   "execution_count": null,
   "id": "7fbce8da",
   "metadata": {},
   "outputs": [],
   "source": [
    "from oneat.NEATUtils import NEATViz"
   ]
  },
  {
   "cell_type": "code",
   "execution_count": null,
   "id": "eab77c93",
   "metadata": {
    "scrolled": false
   },
   "outputs": [],
   "source": [
    "imagedir = 'D:/TestDatasets/Oneat/Xenopus_oneat/'\n",
    "segimagedir = 'D:/TestDatasets/Oneat/Xenopus_oneat/seg/'\n",
    "csvdir = 'D:/TestDatasets/Oneat/Xenopus_oneat/Results_diamond/'\n",
    "categories_json = 'D:/TrainingModels/Oneat/Cellsplitcategoriesxenopus.json'\n",
    "fileextension = '*tif'\n",
    "\n",
    "start_project_mid = 4\n",
    "end_project_mid = 1\n",
    "\n",
    "Vizdetections = NEATViz(imagedir,\n",
    "                        csvdir,\n",
    "                        categories_json,\n",
    "                        segimagedir = segimagedir,\n",
    "                        fileextension = fileextension,\n",
    "                        start_project_mid = start_project_mid,\n",
    "                        end_project_mid = end_project_mid,\n",
    "                        imagereader = 'tifffile' )"
   ]
  },
  {
   "cell_type": "code",
   "execution_count": null,
   "id": "0d35ad3f",
   "metadata": {},
   "outputs": [],
   "source": []
  },
  {
   "cell_type": "code",
   "execution_count": null,
   "id": "f0b8671e",
   "metadata": {},
   "outputs": [],
   "source": []
  }
 ],
 "metadata": {
  "kernelspec": {
   "display_name": "Python 3 (ipykernel)",
   "language": "python",
   "name": "python3"
  },
  "language_info": {
   "codemirror_mode": {
    "name": "ipython",
    "version": 3
   },
   "file_extension": ".py",
   "mimetype": "text/x-python",
   "name": "python",
   "nbconvert_exporter": "python",
   "pygments_lexer": "ipython3",
   "version": "3.9.0"
  }
 },
 "nbformat": 4,
 "nbformat_minor": 5
}
