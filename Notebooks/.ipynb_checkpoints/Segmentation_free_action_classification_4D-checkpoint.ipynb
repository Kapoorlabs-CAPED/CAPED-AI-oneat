{
 "cells": [
  {
   "cell_type": "code",
   "execution_count": 6,
   "id": "87ec8896",
   "metadata": {},
   "outputs": [],
   "source": [
    "\n",
    "import sys\n",
    "import os\n",
    "import glob\n",
    "from csbdeep.models import  CARE\n",
    "from oneat.NEATModels import NEATSynamic\n",
    "from oneat.NEATModels.config import dynamic_config\n",
    "from oneat.NEATUtils import helpers\n",
    "from oneat.NEATUtils.helpers import load_json\n",
    "os.environ[\"CUDA_VISIBLE_DEVICES\"]=\"0\"\n",
    "os.environ[\"HDF5_USE_FILE_LOCKING\"] = \"FALSE\"\n",
    "from pathlib import Path\n"
   ]
  },
  {
   "cell_type": "code",
   "execution_count": 7,
   "id": "99de2206",
   "metadata": {},
   "outputs": [],
   "source": [
    "n_tiles = (8,8)\n",
    "event_threshold = 0.9\n",
    "event_confidence = 0.9\n",
    "iou_threshold = 0.4\n",
    "fidelity = 4\n",
    "downsamplefactor = 1\n",
    "#For a Z of 0 to 22 this setup takes the slices from 11 - 4 = 7 to 11 + 1 = 12\n",
    "start_project_mid = 4\n",
    "end_project_mid = 1\n",
    "normalize = True"
   ]
  },
  {
   "cell_type": "code",
   "execution_count": 8,
   "id": "b843f28a",
   "metadata": {
    "scrolled": false
   },
   "outputs": [
    {
     "name": "stdout",
     "output_type": "stream",
     "text": [
      "Loading network weights from 'weights_best.h5'.\n",
      "Image (41, 22, 1112, 1112) is 4 dimensional, projecting around the center 11 - 4 to 11 + 1\n",
      "Detecting event locations\n"
     ]
    },
    {
     "name": "stderr",
     "output_type": "stream",
     "text": [
      "  5%|████                                                                               | 2/41 [00:18<05:57,  9.16s/it]"
     ]
    },
    {
     "name": "stdout",
     "output_type": "stream",
     "text": [
      "[{'Normal': 4.7582457e-08, 'Division': 1.0, 'xstart': 742, 'ystart': 480, 'tstart': 1.0, 'xcenterraw': 0.4584296643733978, 'ycenterraw': 0.48097434639930725, 'tcenterraw': 0.5091964602470398, 'xcenter': 771.3394985198975, 'ycenter': 510.78235816955566, 'real_time_event': 3.0, 'box_time_event': 1.0, 'height': 21.113170623779297, 'width': 22.21770668029785, 'confidence': 0.9215959906578064, 'realangle': 2, 'rawangle': 2}, {'Normal': 1.2362919e-05, 'Division': 0.9999876, 'xstart': 393, 'ystart': 222, 'tstart': 0.0, 'xcenterraw': 0.482988178730011, 'ycenterraw': 0.4919457733631134, 'tcenterraw': 0.5149227380752563, 'xcenter': 423.9112434387207, 'ycenter': 253.48452949523926, 'real_time_event': 2.0, 'box_time_event': 1.0, 'height': 21.39507293701172, 'width': 19.791738510131836, 'confidence': 0.9065297245979309, 'realangle': 2, 'rawangle': 2}, {'Normal': 1.87273e-05, 'Division': 0.9999813, 'xstart': 147, 'ystart': 520, 'tstart': 1.0, 'xcenterraw': 0.48578712344169617, 'ycenterraw': 0.5195242166519165, 'tcenterraw': 0.500836193561554, 'xcenter': 178.09037590026855, 'ycenter': 553.2495498657227, 'real_time_event': 3.0, 'box_time_event': 1.0, 'height': 25.239717483520508, 'width': 30.444759368896484, 'confidence': 0.9027223587036133, 'realangle': 2, 'rawangle': 2}, {'Normal': 9.471354e-05, 'Division': 0.9999052, 'xstart': 567, 'ystart': 555, 'tstart': 1.0, 'xcenterraw': 0.49085214734077454, 'ycenterraw': 0.5039215683937073, 'tcenterraw': 0.5074824094772339, 'xcenter': 598.4145374298096, 'ycenter': 587.2509803771973, 'real_time_event': 3.0, 'box_time_event': 1.0, 'height': 27.24484634399414, 'width': 28.25952911376953, 'confidence': 0.9102874994277954, 'realangle': 2, 'rawangle': 2}, {'Normal': 0.00019337298, 'Division': 0.9998067, 'xstart': 591, 'ystart': 973, 'tstart': 0.0, 'xcenterraw': 0.46253812313079834, 'ycenterraw': 0.491555780172348, 'tcenterraw': 0.5019773244857788, 'xcenter': 620.6024398803711, 'ycenter': 1004.4595699310303, 'real_time_event': 2.0, 'box_time_event': 1.0, 'height': 24.416446685791016, 'width': 21.564586639404297, 'confidence': 0.9212883710861206, 'realangle': 2, 'rawangle': 2}, {'Normal': 0.00021362465, 'Division': 0.99978644, 'xstart': 591, 'ystart': 964, 'tstart': 0.0, 'xcenterraw': 0.495485782623291, 'ycenterraw': 0.4938056170940399, 'tcenterraw': 0.48505425453186035, 'xcenter': 622.7110900878906, 'ycenter': 995.6035594940186, 'real_time_event': 1.0, 'box_time_event': 0.0, 'height': 22.996538162231445, 'width': 19.185644149780273, 'confidence': 0.916756808757782, 'realangle': 2, 'rawangle': 2}, {'Normal': 0.0002544777, 'Division': 0.99974555, 'xstart': 472, 'ystart': 956, 'tstart': 1.0, 'xcenterraw': 0.5037916898727417, 'ycenterraw': 0.5035144090652466, 'tcenterraw': 0.49817320704460144, 'xcenter': 504.24266815185547, 'ycenter': 988.2249221801758, 'real_time_event': 2.0, 'box_time_event': 0.0, 'height': 19.560596466064453, 'width': 17.798128128051758, 'confidence': 0.9037980437278748, 'realangle': 2, 'rawangle': 2}, {'Normal': 0.00031760204, 'Division': 0.9996824, 'xstart': 520, 'ystart': 952, 'tstart': 1.0, 'xcenterraw': 0.5107986330986023, 'ycenterraw': 0.49768534302711487, 'tcenterraw': 0.5021355748176575, 'xcenter': 552.6911125183105, 'ycenter': 983.8518619537354, 'real_time_event': 3.0, 'box_time_event': 1.0, 'height': 20.105043411254883, 'width': 21.736915588378906, 'confidence': 0.9189152121543884, 'realangle': 2, 'rawangle': 2}, {'Normal': 0.0003909118, 'Division': 0.9996092, 'xstart': 742, 'ystart': 456, 'tstart': 0.0, 'xcenterraw': 0.5064761638641357, 'ycenterraw': 0.49371442198753357, 'tcenterraw': 0.4987649619579315, 'xcenter': 774.4144744873047, 'ycenter': 487.59772300720215, 'real_time_event': 1.0, 'box_time_event': 0.0, 'height': 25.133546829223633, 'width': 26.059579849243164, 'confidence': 0.9041595458984375, 'realangle': 2, 'rawangle': 2}, {'Normal': 0.0004504341, 'Division': 0.99954957, 'xstart': 349, 'ystart': 888, 'tstart': 1.0, 'xcenterraw': 0.520471453666687, 'ycenterraw': 0.4955160319805145, 'tcenterraw': 0.4916885495185852, 'xcenter': 382.31017303466797, 'ycenter': 919.7130260467529, 'real_time_event': 2.0, 'box_time_event': 0.0, 'height': 27.986574172973633, 'width': 25.798715591430664, 'confidence': 0.9003108739852905, 'realangle': 2, 'rawangle': 2}, {'Normal': 0.0005347566, 'Division': 0.9994653, 'xstart': 476, 'ystart': 960, 'tstart': 1.0, 'xcenterraw': 0.4981325566768646, 'ycenterraw': 0.5017780065536499, 'tcenterraw': 0.4872918426990509, 'xcenter': 507.88048362731934, 'ycenter': 992.1137924194336, 'real_time_event': 2.0, 'box_time_event': 0.0, 'height': 24.177536010742188, 'width': 24.127099990844727, 'confidence': 0.912249743938446, 'realangle': 2, 'rawangle': 2}, {'Normal': 0.00065344304, 'Division': 0.99934655, 'xstart': 250, 'ystart': 666, 'tstart': 1.0, 'xcenterraw': 0.497568279504776, 'ycenterraw': 0.503382682800293, 'tcenterraw': 0.5003907084465027, 'xcenter': 281.84436988830566, 'ycenter': 698.2164916992188, 'real_time_event': 3.0, 'box_time_event': 1.0, 'height': 20.334596633911133, 'width': 20.923173904418945, 'confidence': 0.9100353717803955, 'realangle': 2, 'rawangle': 2}, {'Normal': 0.00075396517, 'Division': 0.9992461, 'xstart': 793, 'ystart': 555, 'tstart': 1.0, 'xcenterraw': 0.4538859724998474, 'ycenterraw': 0.4947762191295624, 'tcenterraw': 0.5089634656906128, 'xcenter': 822.0487022399902, 'ycenter': 586.665678024292, 'real_time_event': 3.0, 'box_time_event': 1.0, 'height': 23.79420280456543, 'width': 23.310260772705078, 'confidence': 0.9024813175201416, 'realangle': 2, 'rawangle': 2}, {'Normal': 0.0010626824, 'Division': 0.9989373, 'xstart': 333, 'ystart': 888, 'tstart': 1.0, 'xcenterraw': 0.4770524203777313, 'ycenterraw': 0.5078233480453491, 'tcenterraw': 0.529617428779602, 'xcenter': 363.5313549041748, 'ycenter': 920.5006942749023, 'real_time_event': 3.0, 'box_time_event': 1.0, 'height': 19.480409622192383, 'width': 20.966053009033203, 'confidence': 0.9094333648681641, 'realangle': 2, 'rawangle': 2}, {'Normal': 0.0011908489, 'Division': 0.9988092, 'xstart': 520, 'ystart': 666, 'tstart': 0.0, 'xcenterraw': 0.4740431010723114, 'ycenterraw': 0.49411895871162415, 'tcenterraw': 0.4934985041618347, 'xcenter': 550.3387584686279, 'ycenter': 697.623613357544, 'real_time_event': 1.0, 'box_time_event': 0.0, 'height': 21.39583969116211, 'width': 22.3492431640625, 'confidence': 0.9587050676345825, 'realangle': 2, 'rawangle': 2}, {'Normal': 0.0012175842, 'Division': 0.99878246, 'xstart': 508, 'ystart': 973, 'tstart': 1.0, 'xcenterraw': 0.46923044323921204, 'ycenterraw': 0.5021117329597473, 'tcenterraw': 0.505035400390625, 'xcenter': 538.0307483673096, 'ycenter': 1005.1351509094238, 'real_time_event': 3.0, 'box_time_event': 1.0, 'height': 26.32394790649414, 'width': 20.36850929260254, 'confidence': 0.9089657068252563, 'realangle': 2, 'rawangle': 2}, {'Normal': 0.0012976342, 'Division': 0.9987024, 'xstart': 492, 'ystart': 973, 'tstart': 1.0, 'xcenterraw': 0.49394264817237854, 'ycenterraw': 0.4983268082141876, 'tcenterraw': 0.5182139277458191, 'xcenter': 523.6123294830322, 'ycenter': 1004.892915725708, 'real_time_event': 3.0, 'box_time_event': 1.0, 'height': 22.695632934570312, 'width': 24.848264694213867, 'confidence': 0.9260334372520447, 'realangle': 2, 'rawangle': 2}, {'Normal': 0.00133907, 'Division': 0.9986609, 'xstart': 520, 'ystart': 682, 'tstart': 1.0, 'xcenterraw': 0.5048654675483704, 'ycenterraw': 0.5031042098999023, 'tcenterraw': 0.483935683965683, 'xcenter': 552.3113899230957, 'ycenter': 714.1986694335938, 'real_time_event': 2.0, 'box_time_event': 0.0, 'height': 25.883798599243164, 'width': 22.486167907714844, 'confidence': 0.9248896837234497, 'realangle': 2, 'rawangle': 2}, {'Normal': 0.0033977502, 'Division': 0.9966022, 'xstart': 349, 'ystart': 666, 'tstart': 1.0, 'xcenterraw': 0.498001366853714, 'ycenterraw': 0.4959491491317749, 'tcenterraw': 0.5135443806648254, 'xcenter': 380.8720874786377, 'ycenter': 697.7407455444336, 'real_time_event': 3.0, 'box_time_event': 1.0, 'height': 23.9834041595459, 'width': 23.586135864257812, 'confidence': 0.9212584495544434, 'realangle': 2, 'rawangle': 2}, {'Normal': 0.0035222452, 'Division': 0.9964778, 'xstart': 226, 'ystart': 448, 'tstart': 1.0, 'xcenterraw': 0.4917331039905548, 'ycenterraw': 0.5010647177696228, 'tcenterraw': 0.49630454182624817, 'xcenter': 257.4709186553955, 'ycenter': 480.06814193725586, 'real_time_event': 2.0, 'box_time_event': 0.0, 'height': 19.672697067260742, 'width': 18.401527404785156, 'confidence': 0.906391978263855, 'realangle': 2, 'rawangle': 2}]\n"
     ]
    },
    {
     "name": "stderr",
     "output_type": "stream",
     "text": [
      "\r",
      "  7%|██████                                                                             | 3/41 [00:26<05:28,  8.64s/it]"
     ]
    },
    {
     "name": "stdout",
     "output_type": "stream",
     "text": [
      "[{'Normal': 0.00013551627, 'Division': 0.99986446, 'xstart': 187, 'ystart': 615, 'tstart': 2.0, 'xcenterraw': 0.506653368473053, 'ycenterraw': 0.5009626150131226, 'tcenterraw': 0.502415120601654, 'xcenter': 219.4258155822754, 'ycenter': 647.0616073608398, 'real_time_event': 4.0, 'box_time_event': 1.0, 'height': 25.335681915283203, 'width': 25.50373077392578, 'confidence': 0.9372460246086121, 'realangle': 2, 'rawangle': 2}, {'Normal': 0.00035305903, 'Division': 0.9996469, 'xstart': 143, 'ystart': 444, 'tstart': 2.0, 'xcenterraw': 0.5094854235649109, 'ycenterraw': 0.4988730251789093, 'tcenterraw': 0.5079631805419922, 'xcenter': 175.6070671081543, 'ycenter': 475.9278736114502, 'real_time_event': 4.0, 'box_time_event': 1.0, 'height': 20.309917449951172, 'width': 18.220674514770508, 'confidence': 0.9154292941093445, 'realangle': 2, 'rawangle': 2}, {'Normal': 0.00036144565, 'Division': 0.99963856, 'xstart': 298, 'ystart': 623, 'tstart': 2.0, 'xcenterraw': 0.5135681629180908, 'ycenterraw': 0.5038655996322632, 'tcenterraw': 0.49379992485046387, 'xcenter': 330.8683624267578, 'ycenter': 655.2473983764648, 'real_time_event': 3.0, 'box_time_event': 0.0, 'height': 25.644441604614258, 'width': 26.504127502441406, 'confidence': 0.9169714450836182, 'realangle': 2, 'rawangle': 2}, {'Normal': 0.0005383324, 'Division': 0.9994617, 'xstart': 115, 'ystart': 666, 'tstart': 2.0, 'xcenterraw': 0.4913778603076935, 'ycenterraw': 0.4962175786495209, 'tcenterraw': 0.5048260688781738, 'xcenter': 146.44818305969238, 'ycenter': 697.7579250335693, 'real_time_event': 4.0, 'box_time_event': 1.0, 'height': 18.060874938964844, 'width': 18.7789363861084, 'confidence': 0.918575644493103, 'realangle': 2, 'rawangle': 2}, {'Normal': 0.002778662, 'Division': 0.99722135, 'xstart': 571, 'ystart': 555, 'tstart': 2.0, 'xcenterraw': 0.4445796608924866, 'ycenterraw': 0.5044518113136292, 'tcenterraw': 0.5095886588096619, 'xcenter': 599.4530982971191, 'ycenter': 587.2849159240723, 'real_time_event': 4.0, 'box_time_event': 1.0, 'height': 19.31224250793457, 'width': 21.75275230407715, 'confidence': 0.9219585061073303, 'realangle': 2, 'rawangle': 2}]\n"
     ]
    },
    {
     "name": "stderr",
     "output_type": "stream",
     "text": [
      "\r",
      " 10%|████████                                                                           | 4/41 [00:34<05:10,  8.40s/it]"
     ]
    },
    {
     "name": "stdout",
     "output_type": "stream",
     "text": [
      "[{'Normal': 3.2871653e-06, 'Division': 0.99999666, 'xstart': 781, 'ystart': 777, 'tstart': 3.0, 'xcenterraw': 0.5106403827667236, 'ycenterraw': 0.5043541789054871, 'tcenterraw': 0.5181122422218323, 'xcenter': 813.6809844970703, 'ycenter': 809.2786674499512, 'real_time_event': 5.0, 'box_time_event': 1.0, 'height': 30.0711612701416, 'width': 30.315412521362305, 'confidence': 0.9094143509864807, 'realangle': 2, 'rawangle': 2}, {'Normal': 4.6419565e-05, 'Division': 0.9999536, 'xstart': 111, 'ystart': 555, 'tstart': 3.0, 'xcenterraw': 0.5078825354576111, 'ycenterraw': 0.5027807950973511, 'tcenterraw': 0.5073588490486145, 'xcenter': 143.5044822692871, 'ycenter': 587.1779708862305, 'real_time_event': 5.0, 'box_time_event': 1.0, 'height': 29.243330001831055, 'width': 29.714027404785156, 'confidence': 0.9357280135154724, 'realangle': 2, 'rawangle': 2}, {'Normal': 0.00024071721, 'Division': 0.99975926, 'xstart': 254, 'ystart': 666, 'tstart': 3.0, 'xcenterraw': 0.5066297054290771, 'ycenterraw': 0.5007157325744629, 'tcenterraw': 0.48800182342529297, 'xcenter': 286.42430114746094, 'ycenter': 698.0458068847656, 'real_time_event': 4.0, 'box_time_event': 0.0, 'height': 17.751827239990234, 'width': 21.677663803100586, 'confidence': 0.9316626191139221, 'realangle': 2, 'rawangle': 2}, {'Normal': 0.000688466, 'Division': 0.99931157, 'xstart': 246, 'ystart': 222, 'tstart': 3.0, 'xcenterraw': 0.4853856861591339, 'ycenterraw': 0.49784767627716064, 'tcenterraw': 0.4966643452644348, 'xcenter': 277.06468391418457, 'ycenter': 253.86225128173828, 'real_time_event': 4.0, 'box_time_event': 0.0, 'height': 20.841346740722656, 'width': 20.10207176208496, 'confidence': 0.933603048324585, 'realangle': 2, 'rawangle': 2}, {'Normal': 0.00080786814, 'Division': 0.9991922, 'xstart': 242, 'ystart': 666, 'tstart': 3.0, 'xcenterraw': 0.47974827885627747, 'ycenterraw': 0.496944785118103, 'tcenterraw': 0.5216613411903381, 'xcenter': 272.70388984680176, 'ycenter': 697.8044662475586, 'real_time_event': 5.0, 'box_time_event': 1.0, 'height': 26.03275489807129, 'width': 21.13287353515625, 'confidence': 0.9166180491447449, 'realangle': 2, 'rawangle': 2}, {'Normal': 0.0028106046, 'Division': 0.99718934, 'xstart': 187, 'ystart': 226, 'tstart': 3.0, 'xcenterraw': 0.4899546802043915, 'ycenterraw': 0.4859723448753357, 'tcenterraw': 0.5112596750259399, 'xcenter': 218.35709953308105, 'ycenter': 257.1022300720215, 'real_time_event': 5.0, 'box_time_event': 1.0, 'height': 27.288345336914062, 'width': 25.84165382385254, 'confidence': 0.9226077795028687, 'realangle': 2, 'rawangle': 2}]\n"
     ]
    },
    {
     "name": "stderr",
     "output_type": "stream",
     "text": [
      "\r",
      " 12%|██████████                                                                         | 5/41 [00:42<04:58,  8.28s/it]"
     ]
    },
    {
     "name": "stdout",
     "output_type": "stream",
     "text": [
      "[{'Normal': 1.574656e-07, 'Division': 0.9999999, 'xstart': 349, 'ystart': 973, 'tstart': 4.0, 'xcenterraw': 0.45444995164871216, 'ycenterraw': 0.500053882598877, 'tcenterraw': 0.4812476336956024, 'xcenter': 378.0847969055176, 'ycenter': 1005.0034484863281, 'real_time_event': 5.0, 'box_time_event': 0.0, 'height': 22.29767417907715, 'width': 27.65779685974121, 'confidence': 0.9111131429672241, 'realangle': 2, 'rawangle': 2}, {'Normal': 2.072597e-06, 'Division': 0.999998, 'xstart': 789, 'ystart': 777, 'tstart': 4.0, 'xcenterraw': 0.4869484305381775, 'ycenterraw': 0.5004022121429443, 'tcenterraw': 0.5091065168380737, 'xcenter': 820.1646995544434, 'ycenter': 809.0257415771484, 'real_time_event': 6.0, 'box_time_event': 1.0, 'height': 22.8061466217041, 'width': 21.156524658203125, 'confidence': 0.9296398758888245, 'realangle': 2, 'rawangle': 2}, {'Normal': 9.096932e-05, 'Division': 0.99990904, 'xstart': 813, 'ystart': 777, 'tstart': 4.0, 'xcenterraw': 0.4677049517631531, 'ycenterraw': 0.49679675698280334, 'tcenterraw': 0.5142400860786438, 'xcenter': 842.9331169128418, 'ycenter': 808.7949924468994, 'real_time_event': 6.0, 'box_time_event': 1.0, 'height': 24.47121810913086, 'width': 25.28036880493164, 'confidence': 0.919028103351593, 'realangle': 2, 'rawangle': 2}, {'Normal': 0.00013156627, 'Division': 0.9998684, 'xstart': 333, 'ystart': 973, 'tstart': 4.0, 'xcenterraw': 0.47422006726264954, 'ycenterraw': 0.48394736647605896, 'tcenterraw': 0.5175036787986755, 'xcenter': 363.35008430480957, 'ycenter': 1003.9726314544678, 'real_time_event': 6.0, 'box_time_event': 1.0, 'height': 24.698036193847656, 'width': 26.5692138671875, 'confidence': 0.9439979195594788, 'realangle': 2, 'rawangle': 2}, {'Normal': 0.00028428668, 'Division': 0.99971575, 'xstart': 238, 'ystart': 666, 'tstart': 4.0, 'xcenterraw': 0.4445739984512329, 'ycenterraw': 0.512302577495575, 'tcenterraw': 0.508489727973938, 'xcenter': 266.4527359008789, 'ycenter': 698.7873649597168, 'real_time_event': 6.0, 'box_time_event': 1.0, 'height': 31.349401473999023, 'width': 26.272111892700195, 'confidence': 0.9010435342788696, 'realangle': 2, 'rawangle': 2}, {'Normal': 0.00073200127, 'Division': 0.999268, 'xstart': 298, 'ystart': 448, 'tstart': 4.0, 'xcenterraw': 0.4831755459308624, 'ycenterraw': 0.5065872669219971, 'tcenterraw': 0.49874839186668396, 'xcenter': 328.9232349395752, 'ycenter': 480.4215850830078, 'real_time_event': 5.0, 'box_time_event': 0.0, 'height': 16.45096206665039, 'width': 17.83089256286621, 'confidence': 0.921757161617279, 'realangle': 2, 'rawangle': 2}, {'Normal': 0.0011648618, 'Division': 0.99883515, 'xstart': 742, 'ystart': 405, 'tstart': 4.0, 'xcenterraw': 0.49442946910858154, 'ycenterraw': 0.4997924268245697, 'tcenterraw': 0.49500522017478943, 'xcenter': 773.6434860229492, 'ycenter': 436.98671531677246, 'real_time_event': 5.0, 'box_time_event': 0.0, 'height': 26.09879493713379, 'width': 27.203065872192383, 'confidence': 0.9392748475074768, 'realangle': 2, 'rawangle': 2}, {'Normal': 0.0017275424, 'Division': 0.9982724, 'xstart': 187, 'ystart': 516, 'tstart': 4.0, 'xcenterraw': 0.5001712441444397, 'ycenterraw': 0.498320996761322, 'tcenterraw': 0.489065945148468, 'xcenter': 219.01095962524414, 'ycenter': 547.8925437927246, 'real_time_event': 5.0, 'box_time_event': 0.0, 'height': 20.76013946533203, 'width': 20.134408950805664, 'confidence': 0.9575964212417603, 'realangle': 2, 'rawangle': 2}, {'Normal': 0.002813394, 'Division': 0.9971866, 'xstart': 222, 'ystart': 674, 'tstart': 4.0, 'xcenterraw': 0.49489548802375793, 'ycenterraw': 0.523583710193634, 'tcenterraw': 0.5103343725204468, 'xcenter': 253.6733112335205, 'ycenter': 707.5093574523926, 'real_time_event': 6.0, 'box_time_event': 1.0, 'height': 25.603355407714844, 'width': 25.581296920776367, 'confidence': 0.9033668637275696, 'realangle': 2, 'rawangle': 2}, {'Normal': 0.0061468803, 'Division': 0.9938531, 'xstart': 187, 'ystart': 619, 'tstart': 4.0, 'xcenterraw': 0.5005708932876587, 'ycenterraw': 0.4910525679588318, 'tcenterraw': 0.5063794851303101, 'xcenter': 219.03653717041016, 'ycenter': 650.4273643493652, 'real_time_event': 6.0, 'box_time_event': 1.0, 'height': 21.776166915893555, 'width': 20.967687606811523, 'confidence': 0.9414302110671997, 'realangle': 2, 'rawangle': 2}]\n"
     ]
    },
    {
     "name": "stderr",
     "output_type": "stream",
     "text": [
      "\r",
      " 15%|████████████▏                                                                      | 6/41 [00:51<04:47,  8.22s/it]"
     ]
    },
    {
     "name": "stdout",
     "output_type": "stream",
     "text": [
      "[{'Normal': 2.9646283e-06, 'Division': 0.999997, 'xstart': 163, 'ystart': 444, 'tstart': 5.0, 'xcenterraw': 0.5015864968299866, 'ycenterraw': 0.497768759727478, 'tcenterraw': 0.5131690502166748, 'xcenter': 195.10153579711914, 'ycenter': 475.8572006225586, 'real_time_event': 7.0, 'box_time_event': 1.0, 'height': 28.52979850769043, 'width': 30.305500030517578, 'confidence': 0.9063543081283569, 'realangle': 2, 'rawangle': 2}, {'Normal': 3.3086783e-06, 'Division': 0.99999666, 'xstart': 801, 'ystart': 777, 'tstart': 5.0, 'xcenterraw': 0.4945682883262634, 'ycenterraw': 0.49968940019607544, 'tcenterraw': 0.5240156054496765, 'xcenter': 832.6523704528809, 'ycenter': 808.9801216125488, 'real_time_event': 7.0, 'box_time_event': 1.0, 'height': 13.224143028259277, 'width': 17.330251693725586, 'confidence': 0.9042395949363708, 'realangle': 2, 'rawangle': 2}, {'Normal': 1.1312335e-05, 'Division': 0.9999887, 'xstart': 853, 'ystart': 298, 'tstart': 5.0, 'xcenterraw': 0.48544880747795105, 'ycenterraw': 0.5086639523506165, 'tcenterraw': 0.49050256609916687, 'xcenter': 884.0687236785889, 'ycenter': 330.55449295043945, 'real_time_event': 6.0, 'box_time_event': 0.0, 'height': 22.511457443237305, 'width': 24.267087936401367, 'confidence': 0.9436111450195312, 'realangle': 2, 'rawangle': 2}, {'Normal': 1.4996947e-05, 'Division': 0.999985, 'xstart': 821, 'ystart': 777, 'tstart': 5.0, 'xcenterraw': 0.502841591835022, 'ycenterraw': 0.506033182144165, 'tcenterraw': 0.5028120279312134, 'xcenter': 853.1818618774414, 'ycenter': 809.3861236572266, 'real_time_event': 7.0, 'box_time_event': 1.0, 'height': 22.92401885986328, 'width': 21.083534240722656, 'confidence': 0.9021992683410645, 'realangle': 2, 'rawangle': 2}, {'Normal': 2.2777416e-05, 'Division': 0.99997723, 'xstart': 111, 'ystart': 563, 'tstart': 5.0, 'xcenterraw': 0.4938986599445343, 'ycenterraw': 0.4944121539592743, 'tcenterraw': 0.4992109537124634, 'xcenter': 142.6095142364502, 'ycenter': 594.6423778533936, 'real_time_event': 6.0, 'box_time_event': 0.0, 'height': 22.27652359008789, 'width': 19.67607879638672, 'confidence': 0.9041872620582581, 'realangle': 2, 'rawangle': 2}, {'Normal': 2.532386e-05, 'Division': 0.9999747, 'xstart': 250, 'ystart': 999, 'tstart': 5.0, 'xcenterraw': 0.498130202293396, 'ycenterraw': 0.4955694377422333, 'tcenterraw': 0.5075671672821045, 'xcenter': 281.88033294677734, 'ycenter': 1030.716444015503, 'real_time_event': 7.0, 'box_time_event': 1.0, 'height': 21.185157775878906, 'width': 20.607507705688477, 'confidence': 0.9079908728599548, 'realangle': 2, 'rawangle': 2}, {'Normal': 3.8106195e-05, 'Division': 0.99996185, 'xstart': 793, 'ystart': 777, 'tstart': 5.0, 'xcenterraw': 0.4733290374279022, 'ycenterraw': 0.4896962344646454, 'tcenterraw': 0.5141217708587646, 'xcenter': 823.2930583953857, 'ycenter': 808.3405590057373, 'real_time_event': 7.0, 'box_time_event': 1.0, 'height': 17.16673469543457, 'width': 20.09008026123047, 'confidence': 0.9076215028762817, 'realangle': 2, 'rawangle': 2}, {'Normal': 5.472709e-05, 'Division': 0.9999453, 'xstart': 333, 'ystart': 977, 'tstart': 5.0, 'xcenterraw': 0.49414125084877014, 'ycenterraw': 0.49820810556411743, 'tcenterraw': 0.4979168176651001, 'xcenter': 364.6250400543213, 'ycenter': 1008.8853187561035, 'real_time_event': 6.0, 'box_time_event': 0.0, 'height': 17.852590560913086, 'width': 23.051136016845703, 'confidence': 0.9293248057365417, 'realangle': 2, 'rawangle': 2}, {'Normal': 0.00034622388, 'Division': 0.9996538, 'xstart': 849, 'ystart': 555, 'tstart': 5.0, 'xcenterraw': 0.4838341474533081, 'ycenterraw': 0.4867997467517853, 'tcenterraw': 0.5020994544029236, 'xcenter': 879.9653854370117, 'ycenter': 586.1551837921143, 'real_time_event': 7.0, 'box_time_event': 1.0, 'height': 23.36909294128418, 'width': 27.65369987487793, 'confidence': 0.9183796048164368, 'realangle': 2, 'rawangle': 2}, {'Normal': 0.00043332737, 'Division': 0.9995666, 'xstart': 187, 'ystart': 631, 'tstart': 5.0, 'xcenterraw': 0.4950698912143707, 'ycenterraw': 0.5053169131278992, 'tcenterraw': 0.4910270571708679, 'xcenter': 218.68447303771973, 'ycenter': 663.3402824401855, 'real_time_event': 6.0, 'box_time_event': 0.0, 'height': 20.975692749023438, 'width': 23.749032974243164, 'confidence': 0.9592797756195068, 'realangle': 2, 'rawangle': 2}, {'Normal': 0.00058830366, 'Division': 0.9994117, 'xstart': 781, 'ystart': 777, 'tstart': 5.0, 'xcenterraw': 0.4706839919090271, 'ycenterraw': 0.48710009455680847, 'tcenterraw': 0.5060743689537048, 'xcenter': 811.1237754821777, 'ycenter': 808.1744060516357, 'real_time_event': 7.0, 'box_time_event': 1.0, 'height': 28.336395263671875, 'width': 28.442752838134766, 'confidence': 0.9162424206733704, 'realangle': 2, 'rawangle': 2}, {'Normal': 0.0010860985, 'Division': 0.9989139, 'xstart': 409, 'ystart': 726, 'tstart': 5.0, 'xcenterraw': 0.5330191850662231, 'ycenterraw': 0.5044640302658081, 'tcenterraw': 0.4958801567554474, 'xcenter': 443.1132278442383, 'ycenter': 758.2856979370117, 'real_time_event': 6.0, 'box_time_event': 0.0, 'height': 25.07118797302246, 'width': 25.384702682495117, 'confidence': 0.9052984714508057, 'realangle': 2, 'rawangle': 2}, {'Normal': 0.003562633, 'Division': 0.99643743, 'xstart': 353, 'ystart': 973, 'tstart': 5.0, 'xcenterraw': 0.4700711667537689, 'ycenterraw': 0.48767364025115967, 'tcenterraw': 0.5050175189971924, 'xcenter': 383.0845546722412, 'ycenter': 1004.2111129760742, 'real_time_event': 7.0, 'box_time_event': 1.0, 'height': 19.939313888549805, 'width': 19.7415771484375, 'confidence': 0.9317185878753662, 'realangle': 2, 'rawangle': 2}]\n",
      "[{'Normal': 2.0201724e-06, 'Division': 0.999998, 'xstart': 155, 'ystart': 444, 'tstart': 6.0, 'xcenterraw': 0.5109757781028748, 'ycenterraw': 0.4974569082260132, 'tcenterraw': 0.5090160965919495, 'xcenter': 187.70244979858398, 'ycenter': 475.83724212646484, 'real_time_event': 8.0, 'box_time_event': 1.0, 'height': 30.40567970275879, 'width': 32.206878662109375, 'confidence': 0.907277524471283, 'realangle': 2, 'rawangle': 2}, {'Normal': 1.903567e-05, 'Division': 0.9999809, 'xstart': 167, 'ystart': 444, 'tstart': 6.0, 'xcenterraw': 0.5225130915641785, 'ycenterraw': 0.5115054845809937, 'tcenterraw': 0.49551376700401306, 'xcenter': 200.44083786010742, 'ycenter': 476.7363510131836, 'real_time_event': 7.0, 'box_time_event': 0.0, 'height': 35.319305419921875, 'width': 34.04975128173828, 'confidence': 0.9128547310829163, 'realangle': 2, 'rawangle': 2}, {'Normal': 2.6012394e-05, 'Division': 0.999974, 'xstart': 135, 'ystart': 444, 'tstart': 6.0, 'xcenterraw': 0.4945279359817505, 'ycenterraw': 0.49231958389282227, 'tcenterraw': 0.507542073726654, 'xcenter': 166.64978790283203, 'ycenter': 475.5084533691406, 'real_time_event': 8.0, 'box_time_event': 1.0, 'height': 13.142743110656738, 'width': 13.62755298614502, 'confidence': 0.9714406728744507, 'realangle': 2, 'rawangle': 2}, {'Normal': 3.5968606e-05, 'Division': 0.999964, 'xstart': 123, 'ystart': 444, 'tstart': 6.0, 'xcenterraw': 0.5137362480163574, 'ycenterraw': 0.4829906225204468, 'tcenterraw': 0.5203495025634766, 'xcenter': 155.87911987304688, 'ycenter': 474.9113998413086, 'real_time_event': 8.0, 'box_time_event': 1.0, 'height': 20.70669174194336, 'width': 18.38766860961914, 'confidence': 0.9606282114982605, 'realangle': 2, 'rawangle': 2}, {'Normal': 0.00013324646, 'Division': 0.9998667, 'xstart': 187, 'ystart': 508, 'tstart': 6.0, 'xcenterraw': 0.4808231592178345, 'ycenterraw': 0.4893721640110016, 'tcenterraw': 0.5037155151367188, 'xcenter': 217.7726821899414, 'ycenter': 539.3198184967041, 'real_time_event': 8.0, 'box_time_event': 1.0, 'height': 23.20671844482422, 'width': 21.205223083496094, 'confidence': 0.9282412528991699, 'realangle': 2, 'rawangle': 2}, {'Normal': 0.00014870088, 'Division': 0.9998512, 'xstart': 147, 'ystart': 448, 'tstart': 6.0, 'xcenterraw': 0.4969954788684845, 'ycenterraw': 0.48241153359413147, 'tcenterraw': 0.49803709983825684, 'xcenter': 178.807710647583, 'ycenter': 478.8743381500244, 'real_time_event': 7.0, 'box_time_event': 0.0, 'height': 20.42293930053711, 'width': 27.368412017822266, 'confidence': 0.9151644706726074, 'realangle': 2, 'rawangle': 2}, {'Normal': 0.00022034421, 'Division': 0.99977964, 'xstart': 456, 'ystart': 333, 'tstart': 6.0, 'xcenterraw': 0.4833150804042816, 'ycenterraw': 0.48229825496673584, 'tcenterraw': 0.502565860748291, 'xcenter': 486.932165145874, 'ycenter': 363.8670883178711, 'real_time_event': 8.0, 'box_time_event': 1.0, 'height': 23.48835563659668, 'width': 31.80910301208496, 'confidence': 0.9123699069023132, 'realangle': 2, 'rawangle': 2}, {'Normal': 0.0003274594, 'Division': 0.99967253, 'xstart': 520, 'ystart': 1021, 'tstart': 6.0, 'xcenterraw': 0.4833860397338867, 'ycenterraw': 0.5027319192886353, 'tcenterraw': 0.49593883752822876, 'xcenter': 550.9367065429688, 'ycenter': 1053.1748428344727, 'real_time_event': 7.0, 'box_time_event': 0.0, 'height': 31.083898544311523, 'width': 27.8596134185791, 'confidence': 0.9129003286361694, 'realangle': 2, 'rawangle': 2}, {'Normal': 0.0003466377, 'Division': 0.99965334, 'xstart': 131, 'ystart': 448, 'tstart': 6.0, 'xcenterraw': 0.5069188475608826, 'ycenterraw': 0.5016036629676819, 'tcenterraw': 0.504421055316925, 'xcenter': 163.44280624389648, 'ycenter': 480.10263442993164, 'real_time_event': 8.0, 'box_time_event': 1.0, 'height': 20.304471969604492, 'width': 19.405563354492188, 'confidence': 0.942617654800415, 'realangle': 2, 'rawangle': 2}, {'Normal': 0.00040081082, 'Division': 0.99959916, 'xstart': 111, 'ystart': 456, 'tstart': 6.0, 'xcenterraw': 0.48435086011886597, 'ycenterraw': 0.49103233218193054, 'tcenterraw': 0.5129989981651306, 'xcenter': 141.99845504760742, 'ycenter': 487.42606925964355, 'real_time_event': 8.0, 'box_time_event': 1.0, 'height': 28.214027404785156, 'width': 26.76495361328125, 'confidence': 0.914889395236969, 'realangle': 2, 'rawangle': 2}, {'Normal': 0.0011326963, 'Division': 0.9988673, 'xstart': 631, 'ystart': 563, 'tstart': 6.0, 'xcenterraw': 0.5047212243080139, 'ycenterraw': 0.49183258414268494, 'tcenterraw': 0.5023975372314453, 'xcenter': 663.3021583557129, 'ycenter': 594.4772853851318, 'real_time_event': 8.0, 'box_time_event': 1.0, 'height': 26.397966384887695, 'width': 26.756425857543945, 'confidence': 0.9344417452812195, 'realangle': 2, 'rawangle': 2}, {'Normal': 0.0028410705, 'Division': 0.9971589, 'xstart': 825, 'ystart': 777, 'tstart': 6.0, 'xcenterraw': 0.4692959189414978, 'ycenterraw': 0.4927213191986084, 'tcenterraw': 0.48561975359916687, 'xcenter': 855.0349388122559, 'ycenter': 808.5341644287109, 'real_time_event': 7.0, 'box_time_event': 0.0, 'height': 21.592037200927734, 'width': 21.04509162902832, 'confidence': 0.9124954342842102, 'realangle': 2, 'rawangle': 2}, {'Normal': 0.0049284096, 'Division': 0.99507165, 'xstart': 631, 'ystart': 825, 'tstart': 6.0, 'xcenterraw': 0.4961188733577728, 'ycenterraw': 0.4977875351905823, 'tcenterraw': 0.4745638072490692, 'xcenter': 662.7516078948975, 'ycenter': 856.8584022521973, 'real_time_event': 7.0, 'box_time_event': 0.0, 'height': 19.627254486083984, 'width': 18.246662139892578, 'confidence': 0.9228062629699707, 'realangle': 2, 'rawangle': 2}]\n"
     ]
    },
    {
     "name": "stderr",
     "output_type": "stream",
     "text": [
      " 20%|████████████████▏                                                                  | 8/41 [01:07<04:34,  8.32s/it]"
     ]
    },
    {
     "name": "stdout",
     "output_type": "stream",
     "text": [
      "[{'Normal': 9.065472e-06, 'Division': 0.99999094, 'xstart': 187, 'ystart': 516, 'tstart': 7.0, 'xcenterraw': 0.5120047330856323, 'ycenterraw': 0.49351441860198975, 'tcenterraw': 0.486866295337677, 'xcenter': 219.76830291748047, 'ycenter': 547.5849227905273, 'real_time_event': 8.0, 'box_time_event': 0.0, 'height': 27.201343536376953, 'width': 26.71731185913086, 'confidence': 0.9297531843185425, 'realangle': 2, 'rawangle': 2}, {'Normal': 5.9540173e-05, 'Division': 0.9999405, 'xstart': 127, 'ystart': 448, 'tstart': 7.0, 'xcenterraw': 0.4782859683036804, 'ycenterraw': 0.49272212386131287, 'tcenterraw': 0.48723793029785156, 'xcenter': 157.61030197143555, 'ycenter': 479.534215927124, 'real_time_event': 8.0, 'box_time_event': 0.0, 'height': 21.932287216186523, 'width': 26.56200408935547, 'confidence': 0.9104821681976318, 'realangle': 2, 'rawangle': 2}, {'Normal': 6.71446e-05, 'Division': 0.9999329, 'xstart': 111, 'ystart': 448, 'tstart': 7.0, 'xcenterraw': 0.4810642600059509, 'ycenterraw': 0.49981409311294556, 'tcenterraw': 0.4946390986442566, 'xcenter': 141.78811264038086, 'ycenter': 479.9881019592285, 'real_time_event': 8.0, 'box_time_event': 0.0, 'height': 25.34818458557129, 'width': 23.86843490600586, 'confidence': 0.9046099185943604, 'realangle': 2, 'rawangle': 2}, {'Normal': 0.00026400117, 'Division': 0.999736, 'xstart': 187, 'ystart': 508, 'tstart': 7.0, 'xcenterraw': 0.5078078508377075, 'ycenterraw': 0.47314727306365967, 'tcenterraw': 0.5181543827056885, 'xcenter': 219.49970245361328, 'ycenter': 538.2814254760742, 'real_time_event': 9.0, 'box_time_event': 1.0, 'height': 22.1928768157959, 'width': 24.797380447387695, 'confidence': 0.9077534675598145, 'realangle': 2, 'rawangle': 2}, {'Normal': 0.0005791636, 'Division': 0.9994209, 'xstart': 631, 'ystart': 262, 'tstart': 7.0, 'xcenterraw': 0.48400241136550903, 'ycenterraw': 0.5070537328720093, 'tcenterraw': 0.4964771568775177, 'xcenter': 661.9761543273926, 'ycenter': 294.4514389038086, 'real_time_event': 8.0, 'box_time_event': 0.0, 'height': 24.914527893066406, 'width': 21.57158088684082, 'confidence': 0.9162419438362122, 'realangle': 2, 'rawangle': 2}, {'Normal': 0.003185816, 'Division': 0.9968142, 'xstart': 76, 'ystart': 579, 'tstart': 7.0, 'xcenterraw': 0.46322402358055115, 'ycenterraw': 0.49754732847213745, 'tcenterraw': 0.5138808488845825, 'xcenter': 105.64633750915527, 'ycenter': 610.8430290222168, 'real_time_event': 9.0, 'box_time_event': 1.0, 'height': 25.864015579223633, 'width': 25.671051025390625, 'confidence': 0.9047531485557556, 'realangle': 2, 'rawangle': 2}]\n"
     ]
    },
    {
     "name": "stderr",
     "output_type": "stream",
     "text": [
      "\r",
      " 22%|██████████████████▏                                                                | 9/41 [01:16<04:24,  8.25s/it]"
     ]
    },
    {
     "name": "stdout",
     "output_type": "stream",
     "text": [
      "[{'Normal': 1.6024876e-05, 'Division': 0.999984, 'xstart': 409, 'ystart': 730, 'tstart': 8.0, 'xcenterraw': 0.510205090045929, 'ycenterraw': 0.5031421780586243, 'tcenterraw': 0.48771634697914124, 'xcenter': 441.65312576293945, 'ycenter': 762.201099395752, 'real_time_event': 9.0, 'box_time_event': 0.0, 'height': 26.241897583007812, 'width': 25.052385330200195, 'confidence': 0.9244663715362549, 'realangle': 2, 'rawangle': 2}, {'Normal': 5.6400502e-05, 'Division': 0.9999436, 'xstart': 409, 'ystart': 722, 'tstart': 8.0, 'xcenterraw': 0.49946507811546326, 'ycenterraw': 0.49950048327445984, 'tcenterraw': 0.5073491334915161, 'xcenter': 440.96576499938965, 'ycenter': 753.9680309295654, 'real_time_event': 10.0, 'box_time_event': 1.0, 'height': 17.0549259185791, 'width': 17.23650550842285, 'confidence': 0.9274933934211731, 'realangle': 2, 'rawangle': 2}, {'Normal': 8.957584e-05, 'Division': 0.9999105, 'xstart': 187, 'ystart': 500, 'tstart': 8.0, 'xcenterraw': 0.48063504695892334, 'ycenterraw': 0.49845507740974426, 'tcenterraw': 0.5048092007637024, 'xcenter': 217.7606430053711, 'ycenter': 531.9011249542236, 'real_time_event': 10.0, 'box_time_event': 1.0, 'height': 18.85664176940918, 'width': 18.29339027404785, 'confidence': 0.9248621463775635, 'realangle': 2, 'rawangle': 2}, {'Normal': 9.026748e-05, 'Division': 0.99990976, 'xstart': 520, 'ystart': 290, 'tstart': 8.0, 'xcenterraw': 0.5068944096565247, 'ycenterraw': 0.5101282596588135, 'tcenterraw': 0.5036813020706177, 'xcenter': 552.4412422180176, 'ycenter': 322.64820861816406, 'real_time_event': 10.0, 'box_time_event': 1.0, 'height': 19.406068801879883, 'width': 23.873947143554688, 'confidence': 0.9249426126480103, 'realangle': 2, 'rawangle': 2}, {'Normal': 0.00013142446, 'Division': 0.9998685, 'xstart': 147, 'ystart': 444, 'tstart': 8.0, 'xcenterraw': 0.4992479681968689, 'ycenterraw': 0.49189016222953796, 'tcenterraw': 0.514528751373291, 'xcenter': 178.9518699645996, 'ycenter': 475.48097038269043, 'real_time_event': 10.0, 'box_time_event': 1.0, 'height': 26.422502517700195, 'width': 27.076520919799805, 'confidence': 0.9237164258956909, 'realangle': 2, 'rawangle': 2}, {'Normal': 0.00017800549, 'Division': 0.9998221, 'xstart': 631, 'ystart': 809, 'tstart': 8.0, 'xcenterraw': 0.5270516276359558, 'ycenterraw': 0.49724796414375305, 'tcenterraw': 0.49383795261383057, 'xcenter': 664.7313041687012, 'ycenter': 840.8238697052002, 'real_time_event': 9.0, 'box_time_event': 0.0, 'height': 30.547229766845703, 'width': 26.75719451904297, 'confidence': 0.9178863167762756, 'realangle': 2, 'rawangle': 2}, {'Normal': 0.00029164826, 'Division': 0.99970835, 'xstart': 742, 'ystart': 726, 'tstart': 8.0, 'xcenterraw': 0.5085036754608154, 'ycenterraw': 0.49824681878089905, 'tcenterraw': 0.4916034936904907, 'xcenter': 774.5442352294922, 'ycenter': 757.8877964019775, 'real_time_event': 9.0, 'box_time_event': 0.0, 'height': 15.453417778015137, 'width': 20.005977630615234, 'confidence': 0.9260883331298828, 'realangle': 2, 'rawangle': 2}, {'Normal': 0.0005350464, 'Division': 0.9994649, 'xstart': 119, 'ystart': 444, 'tstart': 8.0, 'xcenterraw': 0.4887181222438812, 'ycenterraw': 0.516304075717926, 'tcenterraw': 0.4914105534553528, 'xcenter': 150.2779598236084, 'ycenter': 477.04346084594727, 'real_time_event': 9.0, 'box_time_event': 0.0, 'height': 20.6799259185791, 'width': 21.81869888305664, 'confidence': 0.9289264678955078, 'realangle': 2, 'rawangle': 2}, {'Normal': 0.0010980719, 'Division': 0.99890196, 'xstart': 631, 'ystart': 849, 'tstart': 8.0, 'xcenterraw': 0.4686773121356964, 'ycenterraw': 0.49495452642440796, 'tcenterraw': 0.49481001496315, 'xcenter': 660.9953479766846, 'ycenter': 880.6770896911621, 'real_time_event': 9.0, 'box_time_event': 0.0, 'height': 22.35502052307129, 'width': 19.373809814453125, 'confidence': 0.9376652836799622, 'realangle': 2, 'rawangle': 2}, {'Normal': 0.0017139993, 'Division': 0.99828595, 'xstart': 520, 'ystart': 1051, 'tstart': 8.0, 'xcenterraw': 0.5116420388221741, 'ycenterraw': 0.48749086260795593, 'tcenterraw': 0.4920593500137329, 'xcenter': 552.7450904846191, 'ycenter': 1082.1994152069092, 'real_time_event': 9.0, 'box_time_event': 0.0, 'height': 23.53156280517578, 'width': 26.2198429107666, 'confidence': 0.9654905796051025, 'realangle': 2, 'rawangle': 2}]\n",
      "[{'Normal': 0.00017540371, 'Division': 0.9998246, 'xstart': 183, 'ystart': 520, 'tstart': 9.0, 'xcenterraw': 0.4855877459049225, 'ycenterraw': 0.4955260455608368, 'tcenterraw': 0.49333465099334717, 'xcenter': 214.07761573791504, 'ycenter': 551.7136669158936, 'real_time_event': 10.0, 'box_time_event': 0.0, 'height': 22.809749603271484, 'width': 22.091711044311523, 'confidence': 0.9219171404838562, 'realangle': 2, 'rawangle': 2}, {'Normal': 0.00020619074, 'Division': 0.9997938, 'xstart': 631, 'ystart': 809, 'tstart': 9.0, 'xcenterraw': 0.5097047090530396, 'ycenterraw': 0.5037338733673096, 'tcenterraw': 0.4851492643356323, 'xcenter': 663.6211013793945, 'ycenter': 841.2389678955078, 'real_time_event': 10.0, 'box_time_event': 0.0, 'height': 29.398723602294922, 'width': 26.721616744995117, 'confidence': 0.9182108640670776, 'realangle': 2, 'rawangle': 2}, {'Normal': 0.00050051045, 'Division': 0.99949944, 'xstart': 520, 'ystart': 595, 'tstart': 9.0, 'xcenterraw': 0.45739784836769104, 'ycenterraw': 0.4945049583911896, 'tcenterraw': 0.4871911406517029, 'xcenter': 549.2734622955322, 'ycenter': 626.6483173370361, 'real_time_event': 10.0, 'box_time_event': 0.0, 'height': 21.317659378051758, 'width': 27.06195640563965, 'confidence': 0.9221357703208923, 'realangle': 2, 'rawangle': 2}, {'Normal': 0.0017145738, 'Division': 0.99828535, 'xstart': 187, 'ystart': 504, 'tstart': 9.0, 'xcenterraw': 0.48957860469818115, 'ycenterraw': 0.4917749762535095, 'tcenterraw': 0.4975261986255646, 'xcenter': 218.3330307006836, 'ycenter': 535.4735984802246, 'real_time_event': 10.0, 'box_time_event': 0.0, 'height': 28.518461227416992, 'width': 25.599275588989258, 'confidence': 0.939242422580719, 'realangle': 2, 'rawangle': 2}, {'Normal': 0.004768175, 'Division': 0.9952318, 'xstart': 187, 'ystart': 484, 'tstart': 9.0, 'xcenterraw': 0.48905274271965027, 'ycenterraw': 0.48780959844589233, 'tcenterraw': 0.5020343065261841, 'xcenter': 218.29937553405762, 'ycenter': 515.2198143005371, 'real_time_event': 11.0, 'box_time_event': 1.0, 'height': 24.617427825927734, 'width': 23.56964683532715, 'confidence': 0.9498512148857117, 'realangle': 2, 'rawangle': 2}]\n"
     ]
    },
    {
     "name": "stderr",
     "output_type": "stream",
     "text": [
      "\r",
      " 24%|████████████████████                                                              | 10/41 [01:24<04:20,  8.41s/it]"
     ]
    },
    {
     "name": "stdout",
     "output_type": "stream",
     "text": [
      "[{'Normal': 9.845161e-06, 'Division': 0.9999901, 'xstart': 409, 'ystart': 730, 'tstart': 10.0, 'xcenterraw': 0.4987867772579193, 'ycenterraw': 0.4938242435455322, 'tcenterraw': 0.4858817160129547, 'xcenter': 440.92235374450684, 'ycenter': 761.6047515869141, 'real_time_event': 11.0, 'box_time_event': 0.0, 'height': 27.191280364990234, 'width': 21.963119506835938, 'confidence': 0.9343347549438477, 'realangle': 2, 'rawangle': 2}, {'Normal': 0.00014119402, 'Division': 0.99985874, 'xstart': 401, 'ystart': 777, 'tstart': 10.0, 'xcenterraw': 0.49568137526512146, 'ycenterraw': 0.49000126123428345, 'tcenterraw': 0.5014441609382629, 'xcenter': 432.7236080169678, 'ycenter': 808.3600807189941, 'real_time_event': 12.0, 'box_time_event': 1.0, 'height': 19.312387466430664, 'width': 25.553863525390625, 'confidence': 0.9169033765792847, 'realangle': 2, 'rawangle': 2}, {'Normal': 0.00036614874, 'Division': 0.9996338, 'xstart': 520, 'ystart': 599, 'tstart': 10.0, 'xcenterraw': 0.5027654767036438, 'ycenterraw': 0.4899755120277405, 'tcenterraw': 0.5046181082725525, 'xcenter': 552.1769905090332, 'ycenter': 630.3584327697754, 'real_time_event': 12.0, 'box_time_event': 1.0, 'height': 20.764192581176758, 'width': 24.284582138061523, 'confidence': 0.9198250770568848, 'realangle': 2, 'rawangle': 2}, {'Normal': 0.0013267082, 'Division': 0.9986733, 'xstart': 742, 'ystart': 555, 'tstart': 10.0, 'xcenterraw': 0.4748716652393341, 'ycenterraw': 0.4949970543384552, 'tcenterraw': 0.5076888203620911, 'xcenter': 772.3917865753174, 'ycenter': 586.6798114776611, 'real_time_event': 12.0, 'box_time_event': 1.0, 'height': 22.06084632873535, 'width': 19.624027252197266, 'confidence': 0.9646827578544617, 'realangle': 2, 'rawangle': 2}]\n"
     ]
    },
    {
     "name": "stderr",
     "output_type": "stream",
     "text": [
      "\r",
      " 27%|██████████████████████                                                            | 11/41 [01:39<05:09, 10.32s/it]"
     ]
    },
    {
     "name": "stdout",
     "output_type": "stream",
     "text": [
      "[{'Normal': 1.3930359e-05, 'Division': 0.99998605, 'xstart': 520, 'ystart': 607, 'tstart': 11.0, 'xcenterraw': 0.5057200789451599, 'ycenterraw': 0.49119383096694946, 'tcenterraw': 0.4978484511375427, 'xcenter': 552.3660850524902, 'ycenter': 638.4364051818848, 'real_time_event': 12.0, 'box_time_event': 0.0, 'height': 18.540285110473633, 'width': 24.860090255737305, 'confidence': 0.9189369678497314, 'realangle': 2, 'rawangle': 2}, {'Normal': 1.7234233e-05, 'Division': 0.9999827, 'xstart': 405, 'ystart': 722, 'tstart': 11.0, 'xcenterraw': 0.4664047658443451, 'ycenterraw': 0.4951266944408417, 'tcenterraw': 0.5094332098960876, 'xcenter': 434.8499050140381, 'ycenter': 753.6881084442139, 'real_time_event': 13.0, 'box_time_event': 1.0, 'height': 18.186174392700195, 'width': 17.27547264099121, 'confidence': 0.9120340347290039, 'realangle': 2, 'rawangle': 2}, {'Normal': 2.3089591e-05, 'Division': 0.9999769, 'xstart': 187, 'ystart': 500, 'tstart': 11.0, 'xcenterraw': 0.485867977142334, 'ycenterraw': 0.506417989730835, 'tcenterraw': 0.496040016412735, 'xcenter': 218.09555053710938, 'ycenter': 532.4107513427734, 'real_time_event': 12.0, 'box_time_event': 0.0, 'height': 24.623687744140625, 'width': 24.007410049438477, 'confidence': 0.9463498592376709, 'realangle': 2, 'rawangle': 2}, {'Normal': 3.7233476e-05, 'Division': 0.9999628, 'xstart': 409, 'ystart': 726, 'tstart': 11.0, 'xcenterraw': 0.4649962782859802, 'ycenterraw': 0.4967544674873352, 'tcenterraw': 0.5063977837562561, 'xcenter': 438.75976181030273, 'ycenter': 757.7922859191895, 'real_time_event': 13.0, 'box_time_event': 1.0, 'height': 18.764047622680664, 'width': 20.866989135742188, 'confidence': 0.9430497884750366, 'realangle': 2, 'rawangle': 2}, {'Normal': 0.00028901783, 'Division': 0.999711, 'xstart': 405, 'ystart': 706, 'tstart': 11.0, 'xcenterraw': 0.4765150845050812, 'ycenterraw': 0.4881228506565094, 'tcenterraw': 0.4866257309913635, 'xcenter': 435.4969654083252, 'ycenter': 737.2398624420166, 'real_time_event': 12.0, 'box_time_event': 0.0, 'height': 27.03156089782715, 'width': 23.487598419189453, 'confidence': 0.9155219197273254, 'realangle': 2, 'rawangle': 2}, {'Normal': 0.0004178942, 'Division': 0.9995821, 'xstart': 444, 'ystart': 686, 'tstart': 11.0, 'xcenterraw': 0.4916384220123291, 'ycenterraw': 0.5159674286842346, 'tcenterraw': 0.5070759057998657, 'xcenter': 475.46485900878906, 'ycenter': 719.021915435791, 'real_time_event': 13.0, 'box_time_event': 1.0, 'height': 25.81537628173828, 'width': 27.122753143310547, 'confidence': 0.9070047736167908, 'realangle': 2, 'rawangle': 2}, {'Normal': 0.0015983173, 'Division': 0.9984017, 'xstart': 187, 'ystart': 734, 'tstart': 11.0, 'xcenterraw': 0.5206084847450256, 'ycenterraw': 0.5027727484703064, 'tcenterraw': 0.49809062480926514, 'xcenter': 220.31894302368164, 'ycenter': 766.1774559020996, 'real_time_event': 12.0, 'box_time_event': 0.0, 'height': 24.61748695373535, 'width': 24.200485229492188, 'confidence': 0.9392268657684326, 'realangle': 2, 'rawangle': 2}, {'Normal': 0.0032080044, 'Division': 0.996792, 'xstart': 353, 'ystart': 999, 'tstart': 11.0, 'xcenterraw': 0.47263991832733154, 'ycenterraw': 0.4917255640029907, 'tcenterraw': 0.5123381614685059, 'xcenter': 383.2489547729492, 'ycenter': 1030.4704360961914, 'real_time_event': 13.0, 'box_time_event': 1.0, 'height': 12.6038818359375, 'width': 15.887153625488281, 'confidence': 0.9129977822303772, 'realangle': 2, 'rawangle': 2}, {'Normal': 0.0045508486, 'Division': 0.9954491, 'xstart': 183, 'ystart': 516, 'tstart': 11.0, 'xcenterraw': 0.49506792426109314, 'ycenterraw': 0.49566003680229187, 'tcenterraw': 0.4888225793838501, 'xcenter': 214.68434715270996, 'ycenter': 547.7222423553467, 'real_time_event': 12.0, 'box_time_event': 0.0, 'height': 30.20009994506836, 'width': 31.235660552978516, 'confidence': 0.9167240262031555, 'realangle': 2, 'rawangle': 2}]\n"
     ]
    },
    {
     "name": "stderr",
     "output_type": "stream",
     "text": [
      "\r",
      " 29%|████████████████████████                                                          | 12/41 [01:48<04:45,  9.85s/it]"
     ]
    },
    {
     "name": "stdout",
     "output_type": "stream",
     "text": [
      "[{'Normal': 7.87387e-05, 'Division': 0.9999212, 'xstart': 738, 'ystart': 888, 'tstart': 12.0, 'xcenterraw': 0.4894503951072693, 'ycenterraw': 0.498313307762146, 'tcenterraw': 0.5042017698287964, 'xcenter': 769.3248252868652, 'ycenter': 919.8920516967773, 'real_time_event': 14.0, 'box_time_event': 1.0, 'height': 23.275129318237305, 'width': 21.510732650756836, 'confidence': 0.9276204109191895, 'realangle': 2, 'rawangle': 2}, {'Normal': 0.00013632681, 'Division': 0.9998636, 'xstart': 187, 'ystart': 512, 'tstart': 12.0, 'xcenterraw': 0.5025153756141663, 'ycenterraw': 0.4955836236476898, 'tcenterraw': 0.49300238490104675, 'xcenter': 219.16098403930664, 'ycenter': 543.7173519134521, 'real_time_event': 13.0, 'box_time_event': 0.0, 'height': 22.312196731567383, 'width': 19.611562728881836, 'confidence': 0.9193788170814514, 'realangle': 2, 'rawangle': 2}, {'Normal': 0.00028347902, 'Division': 0.99971646, 'xstart': 520, 'ystart': 611, 'tstart': 12.0, 'xcenterraw': 0.47671809792518616, 'ycenterraw': 0.5039725303649902, 'tcenterraw': 0.496185302734375, 'xcenter': 550.5099582672119, 'ycenter': 643.2542419433594, 'real_time_event': 13.0, 'box_time_event': 0.0, 'height': 15.213388442993164, 'width': 21.692028045654297, 'confidence': 0.9198617339134216, 'realangle': 2, 'rawangle': 2}, {'Normal': 0.0016560119, 'Division': 0.99834394, 'xstart': 409, 'ystart': 738, 'tstart': 12.0, 'xcenterraw': 0.5112232565879822, 'ycenterraw': 0.48330628871917725, 'tcenterraw': 0.5015422105789185, 'xcenter': 441.71828842163086, 'ycenter': 768.9316024780273, 'real_time_event': 14.0, 'box_time_event': 1.0, 'height': 21.81007957458496, 'width': 22.45560646057129, 'confidence': 0.9405156970024109, 'realangle': 2, 'rawangle': 2}]\n"
     ]
    },
    {
     "name": "stderr",
     "output_type": "stream",
     "text": [
      " 34%|████████████████████████████                                                      | 14/41 [02:05<04:07,  9.17s/it]"
     ]
    },
    {
     "name": "stdout",
     "output_type": "stream",
     "text": [
      "[]\n"
     ]
    },
    {
     "name": "stderr",
     "output_type": "stream",
     "text": [
      "\r",
      " 37%|██████████████████████████████                                                    | 15/41 [02:13<03:50,  8.85s/it]"
     ]
    },
    {
     "name": "stdout",
     "output_type": "stream",
     "text": [
      "[{'Normal': 4.1594667e-06, 'Division': 0.9999958, 'xstart': 631, 'ystart': 179, 'tstart': 14.0, 'xcenterraw': 0.5164698958396912, 'ycenterraw': 0.48872706294059753, 'tcenterraw': 0.5061437487602234, 'xcenter': 664.0540733337402, 'ycenter': 210.27853202819824, 'real_time_event': 16.0, 'box_time_event': 1.0, 'height': 16.46502685546875, 'width': 23.465856552124023, 'confidence': 0.9445601105690002, 'realangle': 2, 'rawangle': 2}, {'Normal': 7.4509226e-06, 'Division': 0.9999925, 'xstart': 631, 'ystart': 183, 'tstart': 14.0, 'xcenterraw': 0.5192714333534241, 'ycenterraw': 0.4906260371208191, 'tcenterraw': 0.4969291388988495, 'xcenter': 664.2333717346191, 'ycenter': 214.40006637573242, 'real_time_event': 15.0, 'box_time_event': 0.0, 'height': 24.897294998168945, 'width': 26.286632537841797, 'confidence': 0.9503703117370605, 'realangle': 2, 'rawangle': 2}, {'Normal': 2.6880924e-05, 'Division': 0.9999732, 'xstart': 555, 'ystart': 555, 'tstart': 14.0, 'xcenterraw': 0.5188136696815491, 'ycenterraw': 0.4926043748855591, 'tcenterraw': 0.5050469636917114, 'xcenter': 588.2040748596191, 'ycenter': 586.5266799926758, 'real_time_event': 16.0, 'box_time_event': 1.0, 'height': 27.494775772094727, 'width': 21.05231285095215, 'confidence': 0.9346659183502197, 'realangle': 2, 'rawangle': 2}, {'Normal': 0.00018297676, 'Division': 0.9998171, 'xstart': 742, 'ystart': 734, 'tstart': 14.0, 'xcenterraw': 0.476606160402298, 'ycenterraw': 0.5209046602249146, 'tcenterraw': 0.49692800641059875, 'xcenter': 772.5027942657471, 'ycenter': 767.3378982543945, 'real_time_event': 15.0, 'box_time_event': 0.0, 'height': 27.229225158691406, 'width': 22.087440490722656, 'confidence': 0.9154744744300842, 'realangle': 2, 'rawangle': 2}, {'Normal': 0.0008118404, 'Division': 0.9991881, 'xstart': 742, 'ystart': 920, 'tstart': 14.0, 'xcenterraw': 0.5056249499320984, 'ycenterraw': 0.4982859492301941, 'tcenterraw': 0.496156245470047, 'xcenter': 774.3599967956543, 'ycenter': 951.8903007507324, 'real_time_event': 15.0, 'box_time_event': 0.0, 'height': 18.730680465698242, 'width': 17.661333084106445, 'confidence': 0.915098249912262, 'realangle': 2, 'rawangle': 2}, {'Normal': 0.0008435955, 'Division': 0.99915636, 'xstart': 298, 'ystart': 555, 'tstart': 14.0, 'xcenterraw': 0.49102509021759033, 'ycenterraw': 0.486551433801651, 'tcenterraw': 0.48932304978370667, 'xcenter': 329.4256057739258, 'ycenter': 586.1392917633057, 'real_time_event': 15.0, 'box_time_event': 0.0, 'height': 16.371755599975586, 'width': 15.30776596069336, 'confidence': 0.9571782946586609, 'realangle': 2, 'rawangle': 2}]\n"
     ]
    },
    {
     "name": "stderr",
     "output_type": "stream",
     "text": [
      "\r",
      " 39%|████████████████████████████████                                                  | 16/41 [02:21<03:35,  8.64s/it]"
     ]
    },
    {
     "name": "stdout",
     "output_type": "stream",
     "text": [
      "[{'Normal': 3.849804e-06, 'Division': 0.9999962, 'xstart': 559, 'ystart': 555, 'tstart': 15.0, 'xcenterraw': 0.48153233528137207, 'ycenterraw': 0.48476022481918335, 'tcenterraw': 0.4823407530784607, 'xcenter': 589.8180694580078, 'ycenter': 586.0246543884277, 'real_time_event': 16.0, 'box_time_event': 0.0, 'height': 17.68727684020996, 'width': 14.950703620910645, 'confidence': 0.9271575212478638, 'realangle': 2, 'rawangle': 2}, {'Normal': 4.0851432e-06, 'Division': 0.99999595, 'xstart': 892, 'ystart': 333, 'tstart': 15.0, 'xcenterraw': 0.5042023062705994, 'ycenterraw': 0.49290522933006287, 'tcenterraw': 0.5072469115257263, 'xcenter': 924.2689476013184, 'ycenter': 364.545934677124, 'real_time_event': 17.0, 'box_time_event': 1.0, 'height': 28.50190544128418, 'width': 23.5723819732666, 'confidence': 0.9014825820922852, 'realangle': 2, 'rawangle': 2}, {'Normal': 4.847006e-06, 'Division': 0.9999951, 'xstart': 409, 'ystart': 623, 'tstart': 15.0, 'xcenterraw': 0.4968903958797455, 'ycenterraw': 0.5020584464073181, 'tcenterraw': 0.4983571171760559, 'xcenter': 440.8009853363037, 'ycenter': 655.1317405700684, 'real_time_event': 16.0, 'box_time_event': 0.0, 'height': 21.843753814697266, 'width': 24.38140869140625, 'confidence': 0.936042845249176, 'realangle': 2, 'rawangle': 2}, {'Normal': 0.0005875156, 'Division': 0.99941254, 'xstart': 853, 'ystart': 258, 'tstart': 15.0, 'xcenterraw': 0.48150771856307983, 'ycenterraw': 0.5047603249549866, 'tcenterraw': 0.49781695008277893, 'xcenter': 883.8164939880371, 'ycenter': 290.30466079711914, 'real_time_event': 16.0, 'box_time_event': 0.0, 'height': 20.52228355407715, 'width': 19.92422866821289, 'confidence': 0.937494695186615, 'realangle': 2, 'rawangle': 2}, {'Normal': 0.0032711737, 'Division': 0.9967288, 'xstart': 298, 'ystart': 504, 'tstart': 15.0, 'xcenterraw': 0.5022594332695007, 'ycenterraw': 0.503203272819519, 'tcenterraw': 0.5089635252952576, 'xcenter': 330.14460372924805, 'ycenter': 536.2050094604492, 'real_time_event': 17.0, 'box_time_event': 1.0, 'height': 21.10332489013672, 'width': 21.751264572143555, 'confidence': 0.9092034101486206, 'realangle': 2, 'rawangle': 2}]\n"
     ]
    },
    {
     "name": "stderr",
     "output_type": "stream",
     "text": [
      "\r",
      " 41%|██████████████████████████████████                                                | 17/41 [02:29<03:23,  8.48s/it]"
     ]
    },
    {
     "name": "stdout",
     "output_type": "stream",
     "text": [
      "[{'Normal': 3.3714932e-05, 'Division': 0.99996626, 'xstart': 841, 'ystart': 222, 'tstart': 16.0, 'xcenterraw': 0.48596200346946716, 'ycenterraw': 0.48058855533599854, 'tcenterraw': 0.4931500256061554, 'xcenter': 872.1015682220459, 'ycenter': 252.7576675415039, 'real_time_event': 17.0, 'box_time_event': 0.0, 'height': 23.75861358642578, 'width': 22.15884017944336, 'confidence': 0.913716197013855, 'realangle': 2, 'rawangle': 2}, {'Normal': 5.1276184e-05, 'Division': 0.99994874, 'xstart': 405, 'ystart': 631, 'tstart': 16.0, 'xcenterraw': 0.484657883644104, 'ycenterraw': 0.493427574634552, 'tcenterraw': 0.4885770380496979, 'xcenter': 436.01810455322266, 'ycenter': 662.5793647766113, 'real_time_event': 17.0, 'box_time_event': 0.0, 'height': 28.352008819580078, 'width': 30.16749382019043, 'confidence': 0.9033641815185547, 'realangle': 2, 'rawangle': 2}, {'Normal': 0.003754857, 'Division': 0.9962451, 'xstart': 853, 'ystart': 175, 'tstart': 16.0, 'xcenterraw': 0.48811858892440796, 'ycenterraw': 0.5028671026229858, 'tcenterraw': 0.49128034710884094, 'xcenter': 884.2395896911621, 'ycenter': 207.1834945678711, 'real_time_event': 17.0, 'box_time_event': 0.0, 'height': 23.846561431884766, 'width': 26.00037384033203, 'confidence': 0.9111643433570862, 'realangle': 2, 'rawangle': 2}]\n",
      "[{'Normal': 6.0620926e-07, 'Division': 0.9999994, 'xstart': 853, 'ystart': 817, 'tstart': 17.0, 'xcenterraw': 0.4513254761695862, 'ycenterraw': 0.5113398432731628, 'tcenterraw': 0.4998202919960022, 'xcenter': 881.8848304748535, 'ycenter': 849.7257499694824, 'real_time_event': 18.0, 'box_time_event': 0.0, 'height': 25.479188919067383, 'width': 25.266929626464844, 'confidence': 0.9349676370620728, 'realangle': 2, 'rawangle': 2}, {'Normal': 0.00019799685, 'Division': 0.99980205, 'xstart': 520, 'ystart': 282, 'tstart': 17.0, 'xcenterraw': 0.47381916642189026, 'ycenterraw': 0.4967673420906067, 'tcenterraw': 0.5103448629379272, 'xcenter': 550.324426651001, 'ycenter': 313.7931098937988, 'real_time_event': 19.0, 'box_time_event': 1.0, 'height': 16.802953720092773, 'width': 17.295730590820312, 'confidence': 0.9225987195968628, 'realangle': 2, 'rawangle': 2}, {'Normal': 0.00025087854, 'Division': 0.9997491, 'xstart': 520, 'ystart': 286, 'tstart': 17.0, 'xcenterraw': 0.4764957129955292, 'ycenterraw': 0.5024496912956238, 'tcenterraw': 0.4944511353969574, 'xcenter': 550.4957256317139, 'ycenter': 318.1567802429199, 'real_time_event': 18.0, 'box_time_event': 0.0, 'height': 28.55664825439453, 'width': 26.049692153930664, 'confidence': 0.9160122871398926, 'realangle': 2, 'rawangle': 2}, {'Normal': 0.0006645062, 'Division': 0.99933547, 'xstart': 187, 'ystart': 76, 'tstart': 17.0, 'xcenterraw': 0.4902714490890503, 'ycenterraw': 0.4955347776412964, 'tcenterraw': 0.48363080620765686, 'xcenter': 218.37737274169922, 'ycenter': 107.71422576904297, 'real_time_event': 18.0, 'box_time_event': 0.0, 'height': 21.985197067260742, 'width': 25.72169303894043, 'confidence': 0.9398656487464905, 'realangle': 2, 'rawangle': 2}, {'Normal': 0.0011796302, 'Division': 0.99882036, 'xstart': 742, 'ystart': 559, 'tstart': 17.0, 'xcenterraw': 0.4951421916484833, 'ycenterraw': 0.493438184261322, 'tcenterraw': 0.4919353723526001, 'xcenter': 773.6891002655029, 'ycenter': 590.5800437927246, 'real_time_event': 18.0, 'box_time_event': 0.0, 'height': 21.44163703918457, 'width': 16.498165130615234, 'confidence': 0.9371031522750854, 'realangle': 2, 'rawangle': 2}, {'Normal': 0.0042576706, 'Division': 0.99574226, 'xstart': 904, 'ystart': 222, 'tstart': 17.0, 'xcenterraw': 0.471577525138855, 'ycenterraw': 0.4917910099029541, 'tcenterraw': 0.49029991030693054, 'xcenter': 934.1809616088867, 'ycenter': 253.47462463378906, 'real_time_event': 18.0, 'box_time_event': 0.0, 'height': 23.37532615661621, 'width': 25.132400512695312, 'confidence': 0.9159700870513916, 'realangle': 2, 'rawangle': 2}]\n"
     ]
    },
    {
     "name": "stderr",
     "output_type": "stream",
     "text": [
      "\r",
      " 44%|████████████████████████████████████                                              | 18/41 [02:38<03:17,  8.57s/it]"
     ]
    },
    {
     "name": "stdout",
     "output_type": "stream",
     "text": [
      "[{'Normal': 3.9163942e-07, 'Division': 0.99999964, 'xstart': 520, 'ystart': 278, 'tstart': 18.0, 'xcenterraw': 0.49720948934555054, 'ycenterraw': 0.5122489929199219, 'tcenterraw': 0.504411518573761, 'xcenter': 551.8214073181152, 'ycenter': 310.783935546875, 'real_time_event': 20.0, 'box_time_event': 1.0, 'height': 17.426698684692383, 'width': 20.568056106567383, 'confidence': 0.9082447290420532, 'realangle': 2, 'rawangle': 2}, {'Normal': 2.8695772e-06, 'Division': 0.99999714, 'xstart': 853, 'ystart': 825, 'tstart': 18.0, 'xcenterraw': 0.5012525320053101, 'ycenterraw': 0.4978441298007965, 'tcenterraw': 0.5030614733695984, 'xcenter': 885.0801620483398, 'ycenter': 856.862024307251, 'real_time_event': 20.0, 'box_time_event': 1.0, 'height': 19.888391494750977, 'width': 22.252275466918945, 'confidence': 0.9327076077461243, 'realangle': 2, 'rawangle': 2}, {'Normal': 0.0007793075, 'Division': 0.9992207, 'xstart': 801, 'ystart': 555, 'tstart': 18.0, 'xcenterraw': 0.47561874985694885, 'ycenterraw': 0.5000161528587341, 'tcenterraw': 0.5175936818122864, 'xcenter': 831.4395999908447, 'ycenter': 587.001033782959, 'real_time_event': 20.0, 'box_time_event': 1.0, 'height': 20.345346450805664, 'width': 19.579923629760742, 'confidence': 0.9290061593055725, 'realangle': 2, 'rawangle': 2}, {'Normal': 0.0014204317, 'Division': 0.9985796, 'xstart': 151, 'ystart': 444, 'tstart': 18.0, 'xcenterraw': 0.5209622383117676, 'ycenterraw': 0.4950591027736664, 'tcenterraw': 0.5004011392593384, 'xcenter': 184.34158325195312, 'ycenter': 475.68378257751465, 'real_time_event': 20.0, 'box_time_event': 1.0, 'height': 25.24677276611328, 'width': 24.64990997314453, 'confidence': 0.9015898108482361, 'realangle': 2, 'rawangle': 2}]\n"
     ]
    },
    {
     "name": "stderr",
     "output_type": "stream",
     "text": [
      " 49%|████████████████████████████████████████                                          | 20/41 [02:55<02:58,  8.49s/it]"
     ]
    },
    {
     "name": "stdout",
     "output_type": "stream",
     "text": [
      "[{'Normal': 1.0965016e-05, 'Division': 0.99998903, 'xstart': 853, 'ystart': 817, 'tstart': 19.0, 'xcenterraw': 0.4886589050292969, 'ycenterraw': 0.4908042252063751, 'tcenterraw': 0.5004327893257141, 'xcenter': 884.274169921875, 'ycenter': 848.411470413208, 'real_time_event': 21.0, 'box_time_event': 1.0, 'height': 20.072372436523438, 'width': 23.20570182800293, 'confidence': 0.9284535050392151, 'realangle': 2, 'rawangle': 2}, {'Normal': 0.00057941925, 'Division': 0.99942064, 'xstart': 504, 'ystart': 555, 'tstart': 19.0, 'xcenterraw': 0.48741012811660767, 'ycenterraw': 0.5002436637878418, 'tcenterraw': 0.4805355966091156, 'xcenter': 535.1942481994629, 'ycenter': 587.0155944824219, 'real_time_event': 20.0, 'box_time_event': 0.0, 'height': 30.656705856323242, 'width': 35.063232421875, 'confidence': 0.9402768015861511, 'realangle': 2, 'rawangle': 2}, {'Normal': 0.0025577217, 'Division': 0.99744225, 'xstart': 742, 'ystart': 977, 'tstart': 19.0, 'xcenterraw': 0.5068902373313904, 'ycenterraw': 0.5039575695991516, 'tcenterraw': 0.5089248418807983, 'xcenter': 774.440975189209, 'ycenter': 1009.2532844543457, 'real_time_event': 21.0, 'box_time_event': 1.0, 'height': 19.966556549072266, 'width': 20.807861328125, 'confidence': 0.9230256080627441, 'realangle': 2, 'rawangle': 2}]\n",
      "[{'Normal': 0.00013289954, 'Division': 0.9998671, 'xstart': 829, 'ystart': 555, 'tstart': 20.0, 'xcenterraw': 0.45650938153266907, 'ycenterraw': 0.47804808616638184, 'tcenterraw': 0.4958714544773102, 'xcenter': 858.2166004180908, 'ycenter': 585.5950775146484, 'real_time_event': 21.0, 'box_time_event': 0.0, 'height': 13.106024742126465, 'width': 12.914677619934082, 'confidence': 0.9139692187309265, 'realangle': 2, 'rawangle': 2}, {'Normal': 0.00039641513, 'Division': 0.99960357, 'xstart': 341, 'ystart': 973, 'tstart': 20.0, 'xcenterraw': 0.4841843545436859, 'ycenterraw': 0.4945962727069855, 'tcenterraw': 0.5135003328323364, 'xcenter': 371.9877986907959, 'ycenter': 1004.6541614532471, 'real_time_event': 22.0, 'box_time_event': 1.0, 'height': 18.29572868347168, 'width': 19.822484970092773, 'confidence': 0.928958535194397, 'realangle': 2, 'rawangle': 2}]\n"
     ]
    },
    {
     "name": "stderr",
     "output_type": "stream",
     "text": [
      "\r",
      " 51%|██████████████████████████████████████████                                        | 21/41 [03:10<03:31, 10.55s/it]"
     ]
    },
    {
     "name": "stdout",
     "output_type": "stream",
     "text": [
      "[{'Normal': 0.00011156954, 'Division': 0.9998884, 'xstart': 377, 'ystart': 333, 'tstart': 21.0, 'xcenterraw': 0.5039322376251221, 'ycenterraw': 0.5032671093940735, 'tcenterraw': 0.492135614156723, 'xcenter': 409.2516632080078, 'ycenter': 365.2090950012207, 'real_time_event': 22.0, 'box_time_event': 0.0, 'height': 23.495548248291016, 'width': 25.79907989501953, 'confidence': 0.9245355725288391, 'realangle': 2, 'rawangle': 2}, {'Normal': 0.00016800816, 'Division': 0.9998319, 'xstart': 833, 'ystart': 555, 'tstart': 21.0, 'xcenterraw': 0.45945319533348083, 'ycenterraw': 0.48879364132881165, 'tcenterraw': 0.487210214138031, 'xcenter': 862.4050045013428, 'ycenter': 586.282793045044, 'real_time_event': 22.0, 'box_time_event': 0.0, 'height': 33.02567672729492, 'width': 30.71133041381836, 'confidence': 0.9125030636787415, 'realangle': 2, 'rawangle': 2}, {'Normal': 0.00020985327, 'Division': 0.99979013, 'xstart': 520, 'ystart': 286, 'tstart': 21.0, 'xcenterraw': 0.5052438974380493, 'ycenterraw': 0.49635276198387146, 'tcenterraw': 0.5019332766532898, 'xcenter': 552.3356094360352, 'ycenter': 317.7665767669678, 'real_time_event': 23.0, 'box_time_event': 1.0, 'height': 40.64113235473633, 'width': 40.69910430908203, 'confidence': 0.9270349144935608, 'realangle': 2, 'rawangle': 2}, {'Normal': 0.0002449595, 'Division': 0.9997551, 'xstart': 520, 'ystart': 270, 'tstart': 21.0, 'xcenterraw': 0.5214589834213257, 'ycenterraw': 0.5060429573059082, 'tcenterraw': 0.5022065043449402, 'xcenter': 553.3733749389648, 'ycenter': 302.3867492675781, 'real_time_event': 23.0, 'box_time_event': 1.0, 'height': 26.605806350708008, 'width': 30.750938415527344, 'confidence': 0.9120396971702576, 'realangle': 2, 'rawangle': 2}, {'Normal': 0.0014926014, 'Division': 0.9985073, 'xstart': 853, 'ystart': 159, 'tstart': 21.0, 'xcenterraw': 0.5128383636474609, 'ycenterraw': 0.49755388498306274, 'tcenterraw': 0.4838874042034149, 'xcenter': 885.8216552734375, 'ycenter': 190.84344863891602, 'real_time_event': 22.0, 'box_time_event': 0.0, 'height': 23.565698623657227, 'width': 26.330795288085938, 'confidence': 0.9101945757865906, 'realangle': 2, 'rawangle': 2}]\n"
     ]
    },
    {
     "name": "stderr",
     "output_type": "stream",
     "text": [
      "\r",
      " 54%|████████████████████████████████████████████                                      | 22/41 [03:19<03:10, 10.03s/it]"
     ]
    },
    {
     "name": "stdout",
     "output_type": "stream",
     "text": [
      "[{'Normal': 0.00027962972, 'Division': 0.9997204, 'xstart': 853, 'ystart': 155, 'tstart': 22.0, 'xcenterraw': 0.47971680760383606, 'ycenterraw': 0.48509061336517334, 'tcenterraw': 0.4980967044830322, 'xcenter': 883.7018756866455, 'ycenter': 186.0457992553711, 'real_time_event': 23.0, 'box_time_event': 0.0, 'height': 33.22121810913086, 'width': 27.476112365722656, 'confidence': 0.9170681834220886, 'realangle': 2, 'rawangle': 2}, {'Normal': 0.00038950078, 'Division': 0.9996105, 'xstart': 377, 'ystart': 973, 'tstart': 22.0, 'xcenterraw': 0.49784520268440247, 'ycenterraw': 0.4878091514110565, 'tcenterraw': 0.4953065514564514, 'xcenter': 408.86209297180176, 'ycenter': 1004.2197856903076, 'real_time_event': 23.0, 'box_time_event': 0.0, 'height': 18.882043838500977, 'width': 16.559377670288086, 'confidence': 0.9174031615257263, 'realangle': 2, 'rawangle': 2}, {'Normal': 0.0004619351, 'Division': 0.99953806, 'xstart': 187, 'ystart': 956, 'tstart': 22.0, 'xcenterraw': 0.5102860927581787, 'ycenterraw': 0.4881138801574707, 'tcenterraw': 0.49541279673576355, 'xcenter': 219.65830993652344, 'ycenter': 987.2392883300781, 'real_time_event': 23.0, 'box_time_event': 0.0, 'height': 21.00543975830078, 'width': 23.029035568237305, 'confidence': 0.9319674372673035, 'realangle': 2, 'rawangle': 2}, {'Normal': 0.0008178853, 'Division': 0.99918205, 'xstart': 294, 'ystart': 973, 'tstart': 22.0, 'xcenterraw': 0.4950331449508667, 'ycenterraw': 0.5039749145507812, 'tcenterraw': 0.4881768822669983, 'xcenter': 325.68212127685547, 'ycenter': 1005.25439453125, 'real_time_event': 23.0, 'box_time_event': 0.0, 'height': 28.372236251831055, 'width': 26.27235221862793, 'confidence': 0.904447078704834, 'realangle': 2, 'rawangle': 2}, {'Normal': 0.001242076, 'Division': 0.99875796, 'xstart': 853, 'ystart': 1027, 'tstart': 22.0, 'xcenterraw': 0.4642060399055481, 'ycenterraw': 0.5172408223152161, 'tcenterraw': 0.5007230043411255, 'xcenter': 882.7091865539551, 'ycenter': 1060.1034126281738, 'real_time_event': 24.0, 'box_time_event': 1.0, 'height': 17.14841079711914, 'width': 17.64047622680664, 'confidence': 0.9127790331840515, 'realangle': 2, 'rawangle': 2}, {'Normal': 0.0013401532, 'Division': 0.99865985, 'xstart': 520, 'ystart': 290, 'tstart': 22.0, 'xcenterraw': 0.5247935652732849, 'ycenterraw': 0.5183932781219482, 'tcenterraw': 0.48579680919647217, 'xcenter': 553.5867881774902, 'ycenter': 323.1771697998047, 'real_time_event': 23.0, 'box_time_event': 0.0, 'height': 24.648521423339844, 'width': 25.184768676757812, 'confidence': 0.9131953716278076, 'realangle': 2, 'rawangle': 2}]\n"
     ]
    },
    {
     "name": "stderr",
     "output_type": "stream",
     "text": [
      "\r",
      " 56%|██████████████████████████████████████████████                                    | 23/41 [03:28<02:53,  9.65s/it]"
     ]
    },
    {
     "name": "stdout",
     "output_type": "stream",
     "text": [
      "[{'Normal': 3.745181e-05, 'Division': 0.99996257, 'xstart': 833, 'ystart': 555, 'tstart': 23.0, 'xcenterraw': 0.477561354637146, 'ycenterraw': 0.49417147040367126, 'tcenterraw': 0.5055177807807922, 'xcenter': 863.5639266967773, 'ycenter': 586.626974105835, 'real_time_event': 25.0, 'box_time_event': 1.0, 'height': 24.81593894958496, 'width': 22.22725486755371, 'confidence': 0.9078693985939026, 'realangle': 2, 'rawangle': 2}, {'Normal': 6.590806e-05, 'Division': 0.9999341, 'xstart': 298, 'ystart': 985, 'tstart': 23.0, 'xcenterraw': 0.4848868250846863, 'ycenterraw': 0.5007545948028564, 'tcenterraw': 0.4928033947944641, 'xcenter': 329.0327568054199, 'ycenter': 1017.0482940673828, 'real_time_event': 24.0, 'box_time_event': 0.0, 'height': 26.428268432617188, 'width': 28.583534240722656, 'confidence': 0.9425994157791138, 'realangle': 2, 'rawangle': 2}, {'Normal': 0.00015110474, 'Division': 0.99984884, 'xstart': 393, 'ystart': 999, 'tstart': 23.0, 'xcenterraw': 0.4608570337295532, 'ycenterraw': 0.49814745783805847, 'tcenterraw': 0.5020008087158203, 'xcenter': 422.4948501586914, 'ycenter': 1030.8814373016357, 'real_time_event': 25.0, 'box_time_event': 1.0, 'height': 19.300716400146484, 'width': 19.517841339111328, 'confidence': 0.9131636619567871, 'realangle': 2, 'rawangle': 2}, {'Normal': 0.0005949102, 'Division': 0.99940515, 'xstart': 409, 'ystart': 1031, 'tstart': 23.0, 'xcenterraw': 0.5171785354614258, 'ycenterraw': 0.4959399402141571, 'tcenterraw': 0.4756891131401062, 'xcenter': 442.09942626953125, 'ycenter': 1062.740156173706, 'real_time_event': 24.0, 'box_time_event': 0.0, 'height': 26.86233901977539, 'width': 23.60029411315918, 'confidence': 0.9093422889709473, 'realangle': 2, 'rawangle': 2}, {'Normal': 0.0007740615, 'Division': 0.999226, 'xstart': 381, 'ystart': 333, 'tstart': 23.0, 'xcenterraw': 0.4620954990386963, 'ycenterraw': 0.4998597204685211, 'tcenterraw': 0.4948391318321228, 'xcenter': 410.57411193847656, 'ycenter': 364.99102210998535, 'real_time_event': 24.0, 'box_time_event': 0.0, 'height': 17.49119758605957, 'width': 19.74287986755371, 'confidence': 0.91468346118927, 'realangle': 2, 'rawangle': 2}, {'Normal': 0.0008234124, 'Division': 0.99917656, 'xstart': 187, 'ystart': 952, 'tstart': 23.0, 'xcenterraw': 0.5102800130844116, 'ycenterraw': 0.4908759295940399, 'tcenterraw': 0.4984384775161743, 'xcenter': 219.65792083740234, 'ycenter': 983.4160594940186, 'real_time_event': 24.0, 'box_time_event': 0.0, 'height': 25.451141357421875, 'width': 22.81118392944336, 'confidence': 0.9321675300598145, 'realangle': 2, 'rawangle': 2}, {'Normal': 0.0016750866, 'Division': 0.99832493, 'xstart': 853, 'ystart': 1035, 'tstart': 23.0, 'xcenterraw': 0.4738166332244873, 'ycenterraw': 0.49046120047569275, 'tcenterraw': 0.4918542802333832, 'xcenter': 883.3242645263672, 'ycenter': 1066.3895168304443, 'real_time_event': 24.0, 'box_time_event': 0.0, 'height': 19.58103370666504, 'width': 21.454452514648438, 'confidence': 0.9122173190116882, 'realangle': 2, 'rawangle': 2}]\n"
     ]
    },
    {
     "name": "stderr",
     "output_type": "stream",
     "text": [
      "\r",
      " 59%|████████████████████████████████████████████████                                  | 24/41 [03:37<02:39,  9.39s/it]"
     ]
    },
    {
     "name": "stdout",
     "output_type": "stream",
     "text": [
      "[{'Normal': 0.0033746394, 'Division': 0.9966254, 'xstart': 187, 'ystart': 932, 'tstart': 24.0, 'xcenterraw': 0.4823300540447235, 'ycenterraw': 0.5092863440513611, 'tcenterraw': 0.4844452142715454, 'xcenter': 217.8691234588623, 'ycenter': 964.5943260192871, 'real_time_event': 25.0, 'box_time_event': 0.0, 'height': 24.406835556030273, 'width': 27.3262996673584, 'confidence': 0.9216843843460083, 'realangle': 2, 'rawangle': 2}]\n"
     ]
    },
    {
     "name": "stderr",
     "output_type": "stream",
     "text": [
      "\r",
      " 61%|██████████████████████████████████████████████████                                | 25/41 [03:45<02:27,  9.20s/it]"
     ]
    },
    {
     "name": "stdout",
     "output_type": "stream",
     "text": [
      "[{'Normal': 0.00019047126, 'Division': 0.99980956, 'xstart': 111, 'ystart': 68, 'tstart': 25.0, 'xcenterraw': 0.5329702496528625, 'ycenterraw': 0.4928362965583801, 'tcenterraw': 0.5059888362884521, 'xcenter': 145.1100959777832, 'ycenter': 99.54152297973633, 'real_time_event': 27.0, 'box_time_event': 1.0, 'height': 27.05524253845215, 'width': 22.920398712158203, 'confidence': 0.9000712037086487, 'realangle': 2, 'rawangle': 2}, {'Normal': 0.0002100066, 'Division': 0.99979, 'xstart': 555, 'ystart': 777, 'tstart': 25.0, 'xcenterraw': 0.48417869210243225, 'ycenterraw': 0.4988654553890228, 'tcenterraw': 0.5112318992614746, 'xcenter': 585.9874362945557, 'ycenter': 808.9273891448975, 'real_time_event': 27.0, 'box_time_event': 1.0, 'height': 28.643218994140625, 'width': 32.05828857421875, 'confidence': 0.9255598187446594, 'realangle': 2, 'rawangle': 2}, {'Normal': 0.0003955556, 'Division': 0.9996045, 'xstart': 187, 'ystart': 956, 'tstart': 25.0, 'xcenterraw': 0.5153031349182129, 'ycenterraw': 0.493306964635849, 'tcenterraw': 0.4890177249908447, 'xcenter': 219.97940063476562, 'ycenter': 987.5716457366943, 'real_time_event': 26.0, 'box_time_event': 0.0, 'height': 17.54850196838379, 'width': 16.118974685668945, 'confidence': 0.9236157536506653, 'realangle': 2, 'rawangle': 2}]\n"
     ]
    },
    {
     "name": "stderr",
     "output_type": "stream",
     "text": [
      "\r",
      " 63%|████████████████████████████████████████████████████                              | 26/41 [03:54<02:16,  9.07s/it]"
     ]
    },
    {
     "name": "stdout",
     "output_type": "stream",
     "text": [
      "[{'Normal': 0.007199614, 'Division': 0.99280035, 'xstart': 187, 'ystart': 948, 'tstart': 26.0, 'xcenterraw': 0.5106140375137329, 'ycenterraw': 0.4998815357685089, 'tcenterraw': 0.4967246353626251, 'xcenter': 219.6792984008789, 'ycenter': 979.9924182891846, 'real_time_event': 27.0, 'box_time_event': 0.0, 'height': 20.807552337646484, 'width': 18.83414649963379, 'confidence': 0.9008485674858093, 'realangle': 2, 'rawangle': 2}]\n"
     ]
    },
    {
     "name": "stderr",
     "output_type": "stream",
     "text": [
      "\r",
      " 66%|██████████████████████████████████████████████████████                            | 27/41 [04:03<02:05,  8.98s/it]"
     ]
    },
    {
     "name": "stdout",
     "output_type": "stream",
     "text": [
      "[{'Normal': 9.795357e-06, 'Division': 0.9999902, 'xstart': 151, 'ystart': 888, 'tstart': 27.0, 'xcenterraw': 0.46493643522262573, 'ycenterraw': 0.4812660217285156, 'tcenterraw': 0.5055792927742004, 'xcenter': 180.75593185424805, 'ycenter': 918.801025390625, 'real_time_event': 29.0, 'box_time_event': 1.0, 'height': 26.050687789916992, 'width': 27.780805587768555, 'confidence': 0.9174984693527222, 'realangle': 2, 'rawangle': 2}, {'Normal': 1.0965539e-05, 'Division': 0.99998903, 'xstart': 187, 'ystart': 964, 'tstart': 27.0, 'xcenterraw': 0.5157132744789124, 'ycenterraw': 0.5049760937690735, 'tcenterraw': 0.4908715486526489, 'xcenter': 220.0056495666504, 'ycenter': 996.3184700012207, 'real_time_event': 28.0, 'box_time_event': 0.0, 'height': 18.820709228515625, 'width': 21.533967971801758, 'confidence': 0.951840877532959, 'realangle': 2, 'rawangle': 2}, {'Normal': 2.1760974e-05, 'Division': 0.9999782, 'xstart': 187, 'ystart': 973, 'tstart': 27.0, 'xcenterraw': 0.4720764756202698, 'ycenterraw': 0.48833340406417847, 'tcenterraw': 0.49183568358421326, 'xcenter': 217.21289443969727, 'ycenter': 1004.2533378601074, 'real_time_event': 28.0, 'box_time_event': 0.0, 'height': 18.98580551147461, 'width': 19.32000732421875, 'confidence': 0.9673730134963989, 'realangle': 2, 'rawangle': 2}, {'Normal': 5.2311345e-05, 'Division': 0.99994767, 'xstart': 187, 'ystart': 952, 'tstart': 27.0, 'xcenterraw': 0.516159176826477, 'ycenterraw': 0.495758593082428, 'tcenterraw': 0.4997071623802185, 'xcenter': 220.03418731689453, 'ycenter': 983.7285499572754, 'real_time_event': 28.0, 'box_time_event': 0.0, 'height': 18.497859954833984, 'width': 20.068889617919922, 'confidence': 0.9296151399612427, 'realangle': 2, 'rawangle': 2}, {'Normal': 0.00010832336, 'Division': 0.99989164, 'xstart': 853, 'ystart': 989, 'tstart': 27.0, 'xcenterraw': 0.5121245980262756, 'ycenterraw': 0.4874982237815857, 'tcenterraw': 0.5141710638999939, 'xcenter': 885.7759742736816, 'ycenter': 1020.1998863220215, 'real_time_event': 29.0, 'box_time_event': 1.0, 'height': 29.906301498413086, 'width': 25.191635131835938, 'confidence': 0.9027430415153503, 'realangle': 2, 'rawangle': 2}, {'Normal': 0.00045461225, 'Division': 0.9995454, 'xstart': 960, 'ystart': 333, 'tstart': 27.0, 'xcenterraw': 0.4889906942844391, 'ycenterraw': 0.47422951459884644, 'tcenterraw': 0.5147914886474609, 'xcenter': 991.2954044342041, 'ycenter': 363.3506889343262, 'real_time_event': 29.0, 'box_time_event': 1.0, 'height': 28.817197799682617, 'width': 23.334028244018555, 'confidence': 0.9070266485214233, 'realangle': 2, 'rawangle': 2}]\n"
     ]
    },
    {
     "name": "stderr",
     "output_type": "stream",
     "text": [
      "\r",
      " 68%|████████████████████████████████████████████████████████                          | 28/41 [04:12<01:56,  8.97s/it]"
     ]
    },
    {
     "name": "stdout",
     "output_type": "stream",
     "text": [
      "[{'Normal': 6.1927085e-07, 'Division': 0.9999994, 'xstart': 187, 'ystart': 964, 'tstart': 28.0, 'xcenterraw': 0.5082626938819885, 'ycenterraw': 0.5004910826683044, 'tcenterraw': 0.49986913800239563, 'xcenter': 219.52881240844727, 'ycenter': 996.0314292907715, 'real_time_event': 29.0, 'box_time_event': 0.0, 'height': 24.592679977416992, 'width': 22.272043228149414, 'confidence': 0.9617790579795837, 'realangle': 2, 'rawangle': 2}, {'Normal': 2.0386399e-06, 'Division': 0.999998, 'xstart': 187, 'ystart': 973, 'tstart': 28.0, 'xcenterraw': 0.4886983036994934, 'ycenterraw': 0.5071707367897034, 'tcenterraw': 0.49531540274620056, 'xcenter': 218.27669143676758, 'ycenter': 1005.458927154541, 'real_time_event': 29.0, 'box_time_event': 0.0, 'height': 16.76220703125, 'width': 14.445297241210938, 'confidence': 0.9632399082183838, 'realangle': 2, 'rawangle': 2}]\n"
     ]
    },
    {
     "name": "stderr",
     "output_type": "stream",
     "text": [
      "\r",
      " 71%|██████████████████████████████████████████████████████████                        | 29/41 [04:21<01:46,  8.91s/it]"
     ]
    },
    {
     "name": "stdout",
     "output_type": "stream",
     "text": [
      "[{'Normal': 2.8966082e-05, 'Division': 0.99997103, 'xstart': 571, 'ystart': 777, 'tstart': 29.0, 'xcenterraw': 0.4921741783618927, 'ycenterraw': 0.48469170928001404, 'tcenterraw': 0.4959273934364319, 'xcenter': 602.4991474151611, 'ycenter': 808.0202693939209, 'real_time_event': 30.0, 'box_time_event': 0.0, 'height': 25.28072166442871, 'width': 25.902523040771484, 'confidence': 0.9281805157661438, 'realangle': 2, 'rawangle': 2}, {'Normal': 4.320748e-05, 'Division': 0.99995685, 'xstart': 187, 'ystart': 981, 'tstart': 29.0, 'xcenterraw': 0.4859669506549835, 'ycenterraw': 0.4952539801597595, 'tcenterraw': 0.4994240403175354, 'xcenter': 218.10188484191895, 'ycenter': 1012.6962547302246, 'real_time_event': 30.0, 'box_time_event': 0.0, 'height': 21.280925750732422, 'width': 25.022281646728516, 'confidence': 0.9430711269378662, 'realangle': 2, 'rawangle': 2}, {'Normal': 0.00012850779, 'Division': 0.9998715, 'xstart': 1049, 'ystart': 476, 'tstart': 29.0, 'xcenterraw': 0.49089154601097107, 'ycenterraw': 0.5063214302062988, 'tcenterraw': 0.49823397397994995, 'xcenter': 1080.4170589447021, 'ycenter': 508.4045715332031, 'real_time_event': 30.0, 'box_time_event': 0.0, 'height': 21.907127380371094, 'width': 19.614133834838867, 'confidence': 0.9083936810493469, 'realangle': 2, 'rawangle': 2}, {'Normal': 0.00016075796, 'Division': 0.9998392, 'xstart': 520, 'ystart': 985, 'tstart': 29.0, 'xcenterraw': 0.4830724895000458, 'ycenterraw': 0.5051270127296448, 'tcenterraw': 0.4831045866012573, 'xcenter': 550.9166393280029, 'ycenter': 1017.3281288146973, 'real_time_event': 30.0, 'box_time_event': 0.0, 'height': 26.871599197387695, 'width': 25.423402786254883, 'confidence': 0.9046512842178345, 'realangle': 2, 'rawangle': 2}, {'Normal': 0.00070149393, 'Division': 0.99929845, 'xstart': 520, 'ystart': 997, 'tstart': 29.0, 'xcenterraw': 0.5142899751663208, 'ycenterraw': 0.4900241196155548, 'tcenterraw': 0.49124398827552795, 'xcenter': 552.9145584106445, 'ycenter': 1028.3615436553955, 'real_time_event': 30.0, 'box_time_event': 0.0, 'height': 22.600317001342773, 'width': 22.54114532470703, 'confidence': 0.9240679144859314, 'realangle': 2, 'rawangle': 2}, {'Normal': 0.0015937573, 'Division': 0.99840623, 'xstart': 1051, 'ystart': 555, 'tstart': 29.0, 'xcenterraw': 0.47910362482070923, 'ycenterraw': 0.47041743993759155, 'tcenterraw': 0.4912579655647278, 'xcenter': 1081.6626319885254, 'ycenter': 585.1067161560059, 'real_time_event': 30.0, 'box_time_event': 0.0, 'height': 24.040019989013672, 'width': 22.149967193603516, 'confidence': 0.9606080651283264, 'realangle': 2, 'rawangle': 2}]\n"
     ]
    },
    {
     "name": "stderr",
     "output_type": "stream",
     "text": [
      "\r",
      " 73%|████████████████████████████████████████████████████████████                      | 30/41 [04:29<01:37,  8.87s/it]"
     ]
    },
    {
     "name": "stdout",
     "output_type": "stream",
     "text": [
      "[{'Normal': 0.00020595537, 'Division': 0.99979407, 'xstart': 631, 'ystart': 1025, 'tstart': 30.0, 'xcenterraw': 0.49672743678092957, 'ycenterraw': 0.49710530042648315, 'tcenterraw': 0.4939256012439728, 'xcenter': 662.7905559539795, 'ycenter': 1056.814739227295, 'real_time_event': 31.0, 'box_time_event': 0.0, 'height': 26.653995513916016, 'width': 27.56741714477539, 'confidence': 0.9059594869613647, 'realangle': 2, 'rawangle': 2}, {'Normal': 0.00023606129, 'Division': 0.9997639, 'xstart': 520, 'ystart': 1001, 'tstart': 30.0, 'xcenterraw': 0.4634339511394501, 'ycenterraw': 0.48727768659591675, 'tcenterraw': 0.4886510372161865, 'xcenter': 549.6597728729248, 'ycenter': 1032.1857719421387, 'real_time_event': 31.0, 'box_time_event': 0.0, 'height': 34.302066802978516, 'width': 33.077545166015625, 'confidence': 0.9175013303756714, 'realangle': 2, 'rawangle': 2}, {'Normal': 0.000264878, 'Division': 0.99973506, 'xstart': 175, 'ystart': 888, 'tstart': 30.0, 'xcenterraw': 0.47554633021354675, 'ycenterraw': 0.47771936655044556, 'tcenterraw': 0.5072086453437805, 'xcenter': 205.434965133667, 'ycenter': 918.5740394592285, 'real_time_event': 32.0, 'box_time_event': 1.0, 'height': 21.984832763671875, 'width': 25.428024291992188, 'confidence': 0.9000021815299988, 'realangle': 2, 'rawangle': 2}]\n"
     ]
    },
    {
     "name": "stderr",
     "output_type": "stream",
     "text": [
      "\r",
      " 76%|██████████████████████████████████████████████████████████████                    | 31/41 [04:44<01:46, 10.64s/it]"
     ]
    },
    {
     "name": "stdout",
     "output_type": "stream",
     "text": [
      "[{'Normal': 3.538848e-08, 'Division': 1.0, 'xstart': 964, 'ystart': 286, 'tstart': 31.0, 'xcenterraw': 0.49062207341194153, 'ycenterraw': 0.5037366151809692, 'tcenterraw': 0.4982529282569885, 'xcenter': 995.3998126983643, 'ycenter': 318.23914337158203, 'real_time_event': 32.0, 'box_time_event': 0.0, 'height': 21.341228485107422, 'width': 25.492963790893555, 'confidence': 0.916662335395813, 'realangle': 2, 'rawangle': 2}, {'Normal': 1.2370869e-05, 'Division': 0.9999876, 'xstart': 187, 'ystart': 734, 'tstart': 31.0, 'xcenterraw': 0.47046124935150146, 'ycenterraw': 0.50179523229599, 'tcenterraw': 0.48580384254455566, 'xcenter': 217.1095199584961, 'ycenter': 766.1148948669434, 'real_time_event': 32.0, 'box_time_event': 0.0, 'height': 32.132728576660156, 'width': 28.02719497680664, 'confidence': 0.9131063222885132, 'realangle': 2, 'rawangle': 2}, {'Normal': 0.00022808526, 'Division': 0.9997719, 'xstart': 1049, 'ystart': 484, 'tstart': 31.0, 'xcenterraw': 0.509687066078186, 'ycenterraw': 0.4972406029701233, 'tcenterraw': 0.48402899503707886, 'xcenter': 1081.619972229004, 'ycenter': 515.8233985900879, 'real_time_event': 32.0, 'box_time_event': 0.0, 'height': 23.78885269165039, 'width': 25.062667846679688, 'confidence': 0.9384785890579224, 'realangle': 2, 'rawangle': 2}, {'Normal': 0.0005275332, 'Division': 0.99947244, 'xstart': 631, 'ystart': 12, 'tstart': 31.0, 'xcenterraw': 0.4978995621204376, 'ycenterraw': 0.5148696899414062, 'tcenterraw': 0.47539645433425903, 'xcenter': 662.865571975708, 'ycenter': 44.95166015625, 'real_time_event': 32.0, 'box_time_event': 0.0, 'height': 25.34099769592285, 'width': 24.71724510192871, 'confidence': 0.9068823456764221, 'realangle': 2, 'rawangle': 2}, {'Normal': 0.00056263484, 'Division': 0.9994374, 'xstart': 1051, 'ystart': 480, 'tstart': 31.0, 'xcenterraw': 0.5102655291557312, 'ycenterraw': 0.5122620463371277, 'tcenterraw': 0.5030438899993896, 'xcenter': 1083.6569938659668, 'ycenter': 512.7847709655762, 'real_time_event': 33.0, 'box_time_event': 1.0, 'height': 16.281679153442383, 'width': 14.811405181884766, 'confidence': 0.9376615285873413, 'realangle': 2, 'rawangle': 2}, {'Normal': 0.0028309193, 'Division': 0.9971691, 'xstart': 631, 'ystart': 981, 'tstart': 31.0, 'xcenterraw': 0.4986116290092468, 'ycenterraw': 0.4935508370399475, 'tcenterraw': 0.5044131278991699, 'xcenter': 662.9111442565918, 'ycenter': 1012.5872535705566, 'real_time_event': 33.0, 'box_time_event': 1.0, 'height': 27.551301956176758, 'width': 25.984025955200195, 'confidence': 0.9040243029594421, 'realangle': 2, 'rawangle': 2}, {'Normal': 0.0030729044, 'Division': 0.9969271, 'xstart': 1051, 'ystart': 571, 'tstart': 31.0, 'xcenterraw': 0.5034595727920532, 'ycenterraw': 0.5086345076560974, 'tcenterraw': 0.5074566006660461, 'xcenter': 1083.2214126586914, 'ycenter': 603.5526084899902, 'real_time_event': 33.0, 'box_time_event': 1.0, 'height': 24.372398376464844, 'width': 25.612499237060547, 'confidence': 0.9049339294433594, 'realangle': 2, 'rawangle': 2}, {'Normal': 0.0033667951, 'Division': 0.99663323, 'xstart': 187, 'ystart': 928, 'tstart': 31.0, 'xcenterraw': 0.5113471746444702, 'ycenterraw': 0.4932098686695099, 'tcenterraw': 0.5073281526565552, 'xcenter': 219.7262191772461, 'ycenter': 959.5654315948486, 'real_time_event': 33.0, 'box_time_event': 1.0, 'height': 20.543094635009766, 'width': 20.83425521850586, 'confidence': 0.9234058856964111, 'realangle': 2, 'rawangle': 2}]\n"
     ]
    },
    {
     "name": "stderr",
     "output_type": "stream",
     "text": [
      " 80%|██████████████████████████████████████████████████████████████████                | 33/41 [05:01<01:16,  9.54s/it]"
     ]
    },
    {
     "name": "stdout",
     "output_type": "stream",
     "text": [
      "[{'Normal': 2.2891184e-08, 'Division': 1.0, 'xstart': 973, 'ystart': 888, 'tstart': 32.0, 'xcenterraw': 0.4858459234237671, 'ycenterraw': 0.5122250318527222, 'tcenterraw': 0.5002074241638184, 'xcenter': 1004.0941390991211, 'ycenter': 920.7824020385742, 'real_time_event': 34.0, 'box_time_event': 1.0, 'height': 35.524940490722656, 'width': 28.465497970581055, 'confidence': 0.939294695854187, 'realangle': 2, 'rawangle': 2}, {'Normal': 1.9344786e-07, 'Division': 0.99999976, 'xstart': 964, 'ystart': 892, 'tstart': 32.0, 'xcenterraw': 0.46899354457855225, 'ycenterraw': 0.47621384263038635, 'tcenterraw': 0.498625785112381, 'xcenter': 994.0155868530273, 'ycenter': 922.4776859283447, 'real_time_event': 33.0, 'box_time_event': 0.0, 'height': 23.128570556640625, 'width': 28.62347984313965, 'confidence': 0.9316776990890503, 'realangle': 2, 'rawangle': 2}, {'Normal': 9.221026e-06, 'Division': 0.9999908, 'xstart': 1049, 'ystart': 500, 'tstart': 32.0, 'xcenterraw': 0.5053991675376892, 'ycenterraw': 0.4855261445045471, 'tcenterraw': 0.48403123021125793, 'xcenter': 1081.345546722412, 'ycenter': 531.073673248291, 'real_time_event': 33.0, 'box_time_event': 0.0, 'height': 17.850847244262695, 'width': 21.550029754638672, 'confidence': 0.9000824093818665, 'realangle': 2, 'rawangle': 2}, {'Normal': 2.110737e-05, 'Division': 0.9999789, 'xstart': 409, 'ystart': 567, 'tstart': 32.0, 'xcenterraw': 0.4924650192260742, 'ycenterraw': 0.5115478038787842, 'tcenterraw': 0.5154582858085632, 'xcenter': 440.51776123046875, 'ycenter': 599.7390594482422, 'real_time_event': 34.0, 'box_time_event': 1.0, 'height': 23.440948486328125, 'width': 19.42273712158203, 'confidence': 0.9299734830856323, 'realangle': 2, 'rawangle': 2}, {'Normal': 0.00014288825, 'Division': 0.99985707, 'xstart': 76, 'ystart': 813, 'tstart': 32.0, 'xcenterraw': 0.49490535259246826, 'ycenterraw': 0.4936518371105194, 'tcenterraw': 0.4946277141571045, 'xcenter': 107.67394256591797, 'ycenter': 844.5937175750732, 'real_time_event': 33.0, 'box_time_event': 0.0, 'height': 21.626848220825195, 'width': 19.53773307800293, 'confidence': 0.9157633781433105, 'realangle': 2, 'rawangle': 2}, {'Normal': 0.00043598827, 'Division': 0.999564, 'xstart': 742, 'ystart': 0, 'tstart': 32.0, 'xcenterraw': 0.4938192367553711, 'ycenterraw': 0.5073416829109192, 'tcenterraw': 0.4953001141548157, 'xcenter': 773.6044311523438, 'ycenter': 32.46986770629883, 'real_time_event': 33.0, 'box_time_event': 0.0, 'height': 15.255183219909668, 'width': 14.32705020904541, 'confidence': 0.9669121503829956, 'realangle': 2, 'rawangle': 2}, {'Normal': 0.0013942941, 'Division': 0.99860567, 'xstart': 409, 'ystart': 956, 'tstart': 32.0, 'xcenterraw': 0.5215446949005127, 'ycenterraw': 0.5004624128341675, 'tcenterraw': 0.5006496906280518, 'xcenter': 442.3788604736328, 'ycenter': 988.0295944213867, 'real_time_event': 34.0, 'box_time_event': 1.0, 'height': 23.200944900512695, 'width': 25.908958435058594, 'confidence': 0.9084616899490356, 'realangle': 2, 'rawangle': 2}, {'Normal': 0.0024831481, 'Division': 0.9975169, 'xstart': 76, 'ystart': 246, 'tstart': 32.0, 'xcenterraw': 0.5017152428627014, 'ycenterraw': 0.49768155813217163, 'tcenterraw': 0.4988604485988617, 'xcenter': 108.10977554321289, 'ycenter': 277.851619720459, 'real_time_event': 33.0, 'box_time_event': 0.0, 'height': 24.047189712524414, 'width': 23.9266357421875, 'confidence': 0.9271889925003052, 'realangle': 2, 'rawangle': 2}, {'Normal': 0.0045056287, 'Division': 0.99549437, 'xstart': 1049, 'ystart': 512, 'tstart': 32.0, 'xcenterraw': 0.5045085549354553, 'ycenterraw': 0.488069623708725, 'tcenterraw': 0.4959401786327362, 'xcenter': 1081.2885475158691, 'ycenter': 543.2364559173584, 'real_time_event': 33.0, 'box_time_event': 0.0, 'height': 26.849281311035156, 'width': 27.459218978881836, 'confidence': 0.9085723757743835, 'realangle': 2, 'rawangle': 2}]\n",
      "[{'Normal': 1.4638842e-06, 'Division': 0.99999857, 'xstart': 187, 'ystart': 726, 'tstart': 33.0, 'xcenterraw': 0.4941248893737793, 'ycenterraw': 0.5047788619995117, 'tcenterraw': 0.4953951835632324, 'xcenter': 218.62399291992188, 'ycenter': 758.3058471679688, 'real_time_event': 34.0, 'box_time_event': 0.0, 'height': 26.540735244750977, 'width': 29.290483474731445, 'confidence': 0.9029614925384521, 'realangle': 2, 'rawangle': 2}, {'Normal': 6.0568614e-06, 'Division': 0.9999939, 'xstart': 981, 'ystart': 888, 'tstart': 33.0, 'xcenterraw': 0.47626277804374695, 'ycenterraw': 0.5009310245513916, 'tcenterraw': 0.5166457295417786, 'xcenter': 1011.4808177947998, 'ycenter': 920.0595855712891, 'real_time_event': 35.0, 'box_time_event': 1.0, 'height': 24.549325942993164, 'width': 27.116872787475586, 'confidence': 0.9116363525390625, 'realangle': 2, 'rawangle': 2}, {'Normal': 0.00030495212, 'Division': 0.99969506, 'xstart': 928, 'ystart': 777, 'tstart': 33.0, 'xcenterraw': 0.45296502113342285, 'ycenterraw': 0.49026989936828613, 'tcenterraw': 0.5194551944732666, 'xcenter': 956.9897613525391, 'ycenter': 808.3772735595703, 'real_time_event': 35.0, 'box_time_event': 1.0, 'height': 22.854307174682617, 'width': 24.98602294921875, 'confidence': 0.9160917401313782, 'realangle': 2, 'rawangle': 2}, {'Normal': 0.0005875609, 'Division': 0.9994124, 'xstart': 187, 'ystart': 948, 'tstart': 33.0, 'xcenterraw': 0.4965817928314209, 'ycenterraw': 0.5045485496520996, 'tcenterraw': 0.4971499443054199, 'xcenter': 218.78123474121094, 'ycenter': 980.2911071777344, 'real_time_event': 34.0, 'box_time_event': 0.0, 'height': 30.43229103088379, 'width': 29.512054443359375, 'confidence': 0.9009857773780823, 'realangle': 2, 'rawangle': 2}]\n"
     ]
    },
    {
     "name": "stderr",
     "output_type": "stream",
     "text": [
      "\r",
      " 83%|████████████████████████████████████████████████████████████████████              | 34/41 [05:10<01:05,  9.33s/it]"
     ]
    },
    {
     "name": "stdout",
     "output_type": "stream",
     "text": [
      "[{'Normal': 1.5491036e-05, 'Division': 0.9999845, 'xstart': 187, 'ystart': 936, 'tstart': 34.0, 'xcenterraw': 0.49808013439178467, 'ycenterraw': 0.5046066641807556, 'tcenterraw': 0.5040302872657776, 'xcenter': 218.87712860107422, 'ycenter': 968.2948265075684, 'real_time_event': 36.0, 'box_time_event': 1.0, 'height': 30.46546173095703, 'width': 24.860578536987305, 'confidence': 0.9132699370384216, 'realangle': 2, 'rawangle': 2}, {'Normal': 2.8026443e-05, 'Division': 0.999972, 'xstart': 853, 'ystart': 595, 'tstart': 34.0, 'xcenterraw': 0.5053286552429199, 'ycenterraw': 0.5105993151664734, 'tcenterraw': 0.5087865591049194, 'xcenter': 885.3410339355469, 'ycenter': 627.6783561706543, 'real_time_event': 36.0, 'box_time_event': 1.0, 'height': 19.372055053710938, 'width': 22.248849868774414, 'confidence': 0.9005402326583862, 'realangle': 2, 'rawangle': 2}, {'Normal': 0.00019072204, 'Division': 0.9998093, 'xstart': 187, 'ystart': 924, 'tstart': 34.0, 'xcenterraw': 0.5081741213798523, 'ycenterraw': 0.5095266699790955, 'tcenterraw': 0.5208866000175476, 'xcenter': 219.52314376831055, 'ycenter': 956.6097068786621, 'real_time_event': 36.0, 'box_time_event': 1.0, 'height': 29.913768768310547, 'width': 30.053722381591797, 'confidence': 0.9350062012672424, 'realangle': 2, 'rawangle': 2}, {'Normal': 0.0005328795, 'Division': 0.9994671, 'xstart': 76, 'ystart': 262, 'tstart': 34.0, 'xcenterraw': 0.4876183569431305, 'ycenterraw': 0.5044140815734863, 'tcenterraw': 0.4910959303379059, 'xcenter': 107.20757484436035, 'ycenter': 294.2825012207031, 'real_time_event': 35.0, 'box_time_event': 0.0, 'height': 26.838945388793945, 'width': 21.017393112182617, 'confidence': 0.9082937836647034, 'realangle': 2, 'rawangle': 2}, {'Normal': 0.0016430746, 'Division': 0.9983569, 'xstart': 187, 'ystart': 726, 'tstart': 34.0, 'xcenterraw': 0.513955295085907, 'ycenterraw': 0.47788599133491516, 'tcenterraw': 0.5013777613639832, 'xcenter': 219.89313888549805, 'ycenter': 756.5847034454346, 'real_time_event': 36.0, 'box_time_event': 1.0, 'height': 23.328889846801758, 'width': 26.587745666503906, 'confidence': 0.9223640561103821, 'realangle': 2, 'rawangle': 2}, {'Normal': 0.002658647, 'Division': 0.99734133, 'xstart': 187, 'ystart': 952, 'tstart': 34.0, 'xcenterraw': 0.4954870641231537, 'ycenterraw': 0.5151616930961609, 'tcenterraw': 0.49177250266075134, 'xcenter': 218.71117210388184, 'ycenter': 984.9703483581543, 'real_time_event': 35.0, 'box_time_event': 0.0, 'height': 25.71824836730957, 'width': 23.643049240112305, 'confidence': 0.9283478856086731, 'realangle': 2, 'rawangle': 2}]\n"
     ]
    },
    {
     "name": "stderr",
     "output_type": "stream",
     "text": [
      "\r",
      " 85%|██████████████████████████████████████████████████████████████████████            | 35/41 [05:19<00:54,  9.16s/it]"
     ]
    },
    {
     "name": "stdout",
     "output_type": "stream",
     "text": [
      "[{'Normal': 5.430191e-07, 'Division': 0.9999994, 'xstart': 187, 'ystart': 738, 'tstart': 35.0, 'xcenterraw': 0.48107022047042847, 'ycenterraw': 0.4838392734527588, 'tcenterraw': 0.4906083047389984, 'xcenter': 217.78849411010742, 'ycenter': 768.9657135009766, 'real_time_event': 36.0, 'box_time_event': 0.0, 'height': 29.860212326049805, 'width': 21.93859100341797, 'confidence': 0.932304859161377, 'realangle': 2, 'rawangle': 2}, {'Normal': 7.4949145e-05, 'Division': 0.999925, 'xstart': 76, 'ystart': 246, 'tstart': 35.0, 'xcenterraw': 0.49352729320526123, 'ycenterraw': 0.49870529770851135, 'tcenterraw': 0.4956584572792053, 'xcenter': 107.58574676513672, 'ycenter': 277.9171390533447, 'real_time_event': 36.0, 'box_time_event': 0.0, 'height': 21.102529525756836, 'width': 23.793739318847656, 'confidence': 0.9184777736663818, 'realangle': 2, 'rawangle': 2}, {'Normal': 0.00018925435, 'Division': 0.99981076, 'xstart': 76, 'ystart': 270, 'tstart': 35.0, 'xcenterraw': 0.47484779357910156, 'ycenterraw': 0.47898992896080017, 'tcenterraw': 0.4924008548259735, 'xcenter': 106.3902587890625, 'ycenter': 300.6553554534912, 'real_time_event': 36.0, 'box_time_event': 0.0, 'height': 28.29385757446289, 'width': 22.19680404663086, 'confidence': 0.9336544275283813, 'realangle': 2, 'rawangle': 2}, {'Normal': 0.0008932443, 'Division': 0.9991067, 'xstart': 187, 'ystart': 944, 'tstart': 35.0, 'xcenterraw': 0.4962475299835205, 'ycenterraw': 0.5039114356040955, 'tcenterraw': 0.49324512481689453, 'xcenter': 218.7598419189453, 'ycenter': 976.2503318786621, 'real_time_event': 36.0, 'box_time_event': 0.0, 'height': 21.290142059326172, 'width': 19.790916442871094, 'confidence': 0.914847195148468, 'realangle': 2, 'rawangle': 2}, {'Normal': 0.0033699917, 'Division': 0.99663, 'xstart': 738, 'ystart': 738, 'tstart': 35.0, 'xcenterraw': 0.49392449855804443, 'ycenterraw': 0.49107012152671814, 'tcenterraw': 0.5004957318305969, 'xcenter': 769.6111679077148, 'ycenter': 769.42848777771, 'real_time_event': 37.0, 'box_time_event': 1.0, 'height': 26.128948211669922, 'width': 26.95742416381836, 'confidence': 0.9035200476646423, 'realangle': 2, 'rawangle': 2}]\n"
     ]
    },
    {
     "name": "stderr",
     "output_type": "stream",
     "text": [
      "\r",
      " 88%|████████████████████████████████████████████████████████████████████████          | 36/41 [05:28<00:45,  9.04s/it]"
     ]
    },
    {
     "name": "stdout",
     "output_type": "stream",
     "text": [
      "[{'Normal': 0.0008163817, 'Division': 0.9991836, 'xstart': 76, 'ystart': 278, 'tstart': 36.0, 'xcenterraw': 0.4989703595638275, 'ycenterraw': 0.5003676414489746, 'tcenterraw': 0.49838635325431824, 'xcenter': 107.93410301208496, 'ycenter': 310.0235290527344, 'real_time_event': 37.0, 'box_time_event': 0.0, 'height': 33.18972396850586, 'width': 29.007104873657227, 'confidence': 0.9102511405944824, 'realangle': 2, 'rawangle': 2}]\n"
     ]
    },
    {
     "name": "stderr",
     "output_type": "stream",
     "text": [
      "\r",
      " 90%|██████████████████████████████████████████████████████████████████████████        | 37/41 [05:37<00:35,  8.97s/it]"
     ]
    },
    {
     "name": "stdout",
     "output_type": "stream",
     "text": [
      "[{'Normal': 8.938699e-06, 'Division': 0.99999106, 'xstart': 964, 'ystart': 0, 'tstart': 37.0, 'xcenterraw': 0.4813832640647888, 'ycenterraw': 0.48846274614334106, 'tcenterraw': 0.4956166446208954, 'xcenter': 994.8085289001465, 'ycenter': 31.261615753173828, 'real_time_event': 38.0, 'box_time_event': 0.0, 'height': 21.943510055541992, 'width': 22.08089828491211, 'confidence': 0.9651781916618347, 'realangle': 2, 'rawangle': 2}, {'Normal': 9.742961e-06, 'Division': 0.9999902, 'xstart': 964, 'ystart': 698, 'tstart': 37.0, 'xcenterraw': 0.49528878927230835, 'ycenterraw': 0.505419135093689, 'tcenterraw': 0.5027525424957275, 'xcenter': 995.6984825134277, 'ycenter': 730.3468246459961, 'real_time_event': 39.0, 'box_time_event': 1.0, 'height': 22.20635223388672, 'width': 27.14987564086914, 'confidence': 0.9107677340507507, 'realangle': 2, 'rawangle': 2}, {'Normal': 3.2161646e-05, 'Division': 0.9999678, 'xstart': 964, 'ystart': 682, 'tstart': 37.0, 'xcenterraw': 0.4764884114265442, 'ycenterraw': 0.48950693011283875, 'tcenterraw': 0.49074727296829224, 'xcenter': 994.4952583312988, 'ycenter': 713.3284435272217, 'real_time_event': 38.0, 'box_time_event': 0.0, 'height': 25.736188888549805, 'width': 29.76838493347168, 'confidence': 0.9275826811790466, 'realangle': 2, 'rawangle': 2}]\n"
     ]
    },
    {
     "name": "stderr",
     "output_type": "stream",
     "text": [
      "100%|██████████████████████████████████████████████████████████████████████████████████| 41/41 [05:51<00:00,  8.58s/it]\n"
     ]
    }
   ],
   "source": [
    "imagedir = 'D:/TestDatasets/Oneat/Xenopus_oneat/'\n",
    "model_dir = 'D:/TrainingModels/Oneat/'\n",
    "savedir= 'D:/TestDatasets/Oneat/Xenopus_oneat/results/'\n",
    "model_name = 'Cellsplitsxenopus_xy64_tm1tp1_s3d29f32'\n",
    "\n",
    "#Either load the mask model or provide the mask image that is pre computed\n",
    "mask_model_dir = 'D:/TrainingModels/MASKUNET/'\n",
    "mask_model_name =  'Roi_Nuclei_Xenopus'\n",
    "mask_model = CARE(None, mask_model_name,mask_model_dir)\n",
    "\n",
    "maskdir= 'D:/TestDatasets/Oneat/Xenopus_oneat/results/Mask/'\n",
    "\n",
    "division_categories_json = model_dir + 'Cellsplitcategoriesxenopus.json'\n",
    "catconfig = load_json(division_categories_json)\n",
    "division_cord_json = model_dir + 'Cellsplitcordxenopus.json'\n",
    "cordconfig = load_json(division_cord_json)\n",
    "model = NEATSynamic(None, model_dir , model_name,catconfig, cordconfig)\n",
    "\n",
    "Path(savedir).mkdir(exist_ok=True)\n",
    "\n",
    "Raw_path = os.path.join(imagedir, '*tif')\n",
    "X = glob.glob(Raw_path)\n",
    " \n",
    "for imagename in X:\n",
    "\n",
    "     model.predict_synamic(imagename,\n",
    "                           savedir, \n",
    "                           n_tiles = n_tiles, \n",
    "                           event_threshold = event_threshold, \n",
    "                           event_confidence = event_confidence,\n",
    "                           iou_threshold = iou_threshold,\n",
    "                           fidelity = fidelity,\n",
    "                           downsamplefactor = downsamplefactor,\n",
    "                           start_project_mid = start_project_mid,\n",
    "                           end_project_mid = end_project_mid,\n",
    "                           maskmodel = mask_model,\n",
    "                           maskdir = maskdir,\n",
    "                           normalize = normalize)"
   ]
  },
  {
   "cell_type": "code",
   "execution_count": null,
   "id": "d70d9171",
   "metadata": {},
   "outputs": [],
   "source": []
  },
  {
   "cell_type": "code",
   "execution_count": null,
   "id": "624de70c",
   "metadata": {},
   "outputs": [],
   "source": []
  }
 ],
 "metadata": {
  "kernelspec": {
   "display_name": "Python [conda env:naparienv] *",
   "language": "python",
   "name": "conda-env-naparienv-py"
  },
  "language_info": {
   "codemirror_mode": {
    "name": "ipython",
    "version": 3
   },
   "file_extension": ".py",
   "mimetype": "text/x-python",
   "name": "python",
   "nbconvert_exporter": "python",
   "pygments_lexer": "ipython3",
   "version": "3.9.0"
  }
 },
 "nbformat": 4,
 "nbformat_minor": 5
}
