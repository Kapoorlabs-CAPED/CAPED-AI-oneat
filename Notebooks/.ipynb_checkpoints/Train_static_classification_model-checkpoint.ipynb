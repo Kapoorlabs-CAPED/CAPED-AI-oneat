{
 "cells": [
  {
   "cell_type": "code",
   "execution_count": null,
   "metadata": {},
   "outputs": [],
   "source": [
    "import sys\n",
    "import os\n",
    "from glob import glob\n",
    "from oneat.NEATModels import NEATStatic, nets\n",
    "from oneat.NEATModels.Staticconfig  import static_config\n",
    "from oneat.NEATUtils import helpers\n",
    "from oneat.NEATUtils.helpers import save_json, load_json\n",
    "os.environ[\"CUDA_VISIBLE_DEVICES\"]=\"2\"\n",
    "os.environ[\"HDF5_USE_FILE_LOCKING\"] = \"FALSE\""
   ]
  },
  {
   "cell_type": "code",
   "execution_count": null,
   "metadata": {},
   "outputs": [],
   "source": [
    "npz_directory = 'npz_directory/'\n",
    "npz_name = 'Celltypedetectionn.npz'\n",
    "npz_val_name = 'Celltypedetectionvalval.npz'\n",
    "\n",
    "#Read and Write the h5 file, directory location and name\n",
    "model_dir =  'oneat_models/'\n",
    "model_name = 'Celltypedetector.h5'"
   ]
  },
  {
   "cell_type": "code",
   "execution_count": null,
   "metadata": {},
   "outputs": [],
   "source": [
    "static_categories_json = model_dir + 'Celltypecategories.json'\n",
    "key_categories = load_json(static_categories_json)\n",
    "static_cord_json = model_dir + 'Celltypecord.json'\n",
    "key_cord = load_json(static_cord_json)\n",
    "\n",
    "#For ORNET use residual = True and for OSNET use residual = False\n",
    "residual = True\n",
    "#NUmber of starting convolutional filters, is doubled down with increasing depth\n",
    "startfilter = 32\n",
    "#CNN network start layer, mid layers and lstm layer kernel size\n",
    "start_kernel = 7\n",
    "mid_kernel = 3\n",
    "#Network depth has to be 9n + 2, n= 3 or 4 is optimal for Notum dataset\n",
    "depth = 29\n",
    "#Size of the gradient descent length vector, start small and use callbacks to get smaller when reaching the minima\n",
    "learning_rate = 1.0E-6\n",
    "#For stochastic gradient decent, the batch size used for computing the gradients\n",
    "batch_size = 100\n",
    "# use softmax for single event per box, sigmoid for multi event per box\n",
    "multievent = False\n",
    "# Trainng image size\n",
    "yolo_v0 = False\n",
    "show = True\n",
    "#Training epochs, longer the better with proper chosen learning rate\n",
    "epochs = 250\n",
    "nboxes = 1\n",
    "#The inbuilt model stride which is equal to the nulber of times image was downsampled by the network\n",
    "stage_number = 3\n",
    "last_conv_factor = 4"
   ]
  },
  {
   "cell_type": "code",
   "execution_count": null,
   "metadata": {},
   "outputs": [],
   "source": [
    "config = static_config(npz_directory =npz_directory, npz_name = npz_name, npz_val_name = npz_val_name, \n",
    "                         key_categories = key_categories, key_cord = key_cord, stride = last_conv_factor,\n",
    "                         residual = residual, depth = depth, start_kernel = start_kernel, mid_kernel = mid_kernel,\n",
    "                         startfiler = startfilter, nboxes = nboxes, gridx = 1, gridy = 1, show = show,\n",
    "                         epochs = epochs, learning_rate = learning_rate,stage_number = stage_number, last_conv_factor = last_conv_factor,\n",
    "                         batch_size = batch_size, model_name = model_name, yolo_v0 = yolo_v0, multievent = multievent)\n",
    "\n",
    "config_json = config.to_json()\n",
    "\n",
    "print(config)\n",
    "save_json(config_json, model_dir + os.path.splitext(model_name)[0] + '_Parameter.json')"
   ]
  },
  {
   "cell_type": "code",
   "execution_count": null,
   "metadata": {
    "scrolled": false
   },
   "outputs": [],
   "source": [
    "static_model = NEATStatic(config, model_dir, model_name)\n",
    "\n",
    "static_model.loadData()\n",
    "\n",
    "static_model.TrainModel()\n"
   ]
  },
  {
   "cell_type": "code",
   "execution_count": null,
   "metadata": {},
   "outputs": [],
   "source": []
  },
  {
   "cell_type": "code",
   "execution_count": null,
   "metadata": {},
   "outputs": [],
   "source": []
  }
 ],
 "metadata": {
  "kernelspec": {
   "display_name": "Python 3 (ipykernel)",
   "language": "python",
   "name": "python3"
  },
  "language_info": {
   "codemirror_mode": {
    "name": "ipython",
    "version": 3
   },
   "file_extension": ".py",
   "mimetype": "text/x-python",
   "name": "python",
   "nbconvert_exporter": "python",
   "pygments_lexer": "ipython3",
   "version": "3.9.0"
  },
  "toc": {
   "base_numbering": 1,
   "nav_menu": {},
   "number_sections": false,
   "sideBar": false,
   "skip_h1_title": false,
   "title_cell": "Table of Contents",
   "title_sidebar": "Contents",
   "toc_cell": false,
   "toc_position": {},
   "toc_section_display": false,
   "toc_window_display": false
  }
 },
 "nbformat": 4,
 "nbformat_minor": 4
}
