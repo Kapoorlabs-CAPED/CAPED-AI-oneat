{
 "cells": [
  {
   "cell_type": "code",
   "execution_count": 30,
   "id": "15392b8c",
   "metadata": {},
   "outputs": [],
   "source": [
    "\n",
    "import numpy as np\n",
    "from tifffile import imread \n",
    "import sys\n",
    "import os\n",
    "import cv2\n",
    "import glob\n",
    "from tqdm import tqdm\n",
    "import pandas as pd\n",
    "from oneat.NEATUtils import MovieCreator\n",
    "from oneat.NEATUtils.helpers import save_json, load_json\n",
    "from oneat.NEATModels.TrainConfig import TrainConfig\n",
    "from pathlib import Path"
   ]
  },
  {
   "cell_type": "code",
   "execution_count": 31,
   "id": "e1bcf2d0",
   "metadata": {},
   "outputs": [],
   "source": [
    "#Specify the directory containing images\n",
    "image_dir = 'D:/TrainingData/Helacells_florescent/Raw_ch_hela_brightfield/'\n",
    "#Specify the directory contaiing csv files\n",
    "csv_dir = 'D:/TrainingData/Helacells_florescent/Csv_ch_hela_brightfield/'\n",
    "\n",
    "#Specify the model directory where we store the json of categories, training model and parameters\n",
    "model_dir = 'D:/TrainingData/Helacells_florescent/Oneat_ch_hela_brightfield/'\n",
    "#Directory for storing center ONEAT training data \n",
    "save_dir = 'D:/TrainingData/Helacells_florescent/Patch_ch_hela_brightfield/'\n",
    "Path(model_dir).mkdir(exist_ok = True)\n",
    "Path(save_dir).mkdir(exist_ok = True)"
   ]
  },
  {
   "cell_type": "code",
   "execution_count": 32,
   "id": "c748ba9e",
   "metadata": {},
   "outputs": [],
   "source": [
    "#Name of the  events\n",
    "event_type_name = [\"Normal\", \"Division\"]\n",
    "#Label corresponding to event\n",
    "event_type_label = [0, 1]\n",
    "\n",
    "#The name appended before the CSV files\n",
    "csv_name_diff = 'ONEAT'\n",
    "#with xythw and class terms only\n",
    "yolo_v0 = False\n",
    "#with confidence term\n",
    "yolo_v1 = True\n",
    "#with angle term\n",
    "yolo_v2 = False\n",
    "size_tminus = 2\n",
    "size_tplus = 2\n",
    "tshift = -1\n",
    "trainshapex = 64\n",
    "trainshapey = 64\n",
    "npz_name = 'Hela_brightfield'\n",
    "npz_val_name = 'Hela_brightfieldval'\n",
    "crop_size = [trainshapex,trainshapey,size_tminus,size_tplus]"
   ]
  },
  {
   "cell_type": "code",
   "execution_count": 33,
   "id": "c9f4b367",
   "metadata": {},
   "outputs": [],
   "source": [
    "#X Y T dynamic events\n",
    "\n",
    "\n",
    "\n",
    "\n",
    "event_position_name = [\"x\", \"y\", \"t\", \"h\", \"w\", \"c\"]\n",
    "event_position_label = [0, 1, 2, 3, 4, 5]\n",
    "\n",
    "dynamic_config = TrainConfig(event_type_name, event_type_label, event_position_name, event_position_label)\n",
    "\n",
    "dynamic_json, dynamic_cord_json = dynamic_config.to_json()\n",
    "\n",
    "save_json(dynamic_json, model_dir + \"Cellsplitcategorieshelabrightfield\" + '.json')\n",
    "\n",
    "save_json(dynamic_cord_json, model_dir + \"Cellsplitcordhelabrightfield\" + '.json')        "
   ]
  },
  {
   "cell_type": "code",
   "execution_count": 34,
   "id": "940983e3",
   "metadata": {},
   "outputs": [
    {
     "name": "stdout",
     "output_type": "stream",
     "text": [
      "ONEATDivision20210904_TL2 - R05-C03-F0_ch_2\n",
      "ONEATNormal20210904_TL2 - R05-C03-F0_ch_2\n",
      "ONEATDivision20210904_TL2 - R05-C03-F10_ch_2\n",
      "ONEATNormal20210904_TL2 - R05-C03-F10_ch_2\n",
      "ONEATDivision20210904_TL2 - R05-C03-F11_ch_2\n",
      "ONEATNormal20210904_TL2 - R05-C03-F11_ch_2\n",
      "ONEATDivision20210904_TL2 - R05-C03-F12_ch_2\n",
      "ONEATNormal20210904_TL2 - R05-C03-F12_ch_2\n",
      "ONEATDivision20210904_TL2 - R05-C03-F13_ch_2\n",
      "ONEATNormal20210904_TL2 - R05-C03-F13_ch_2\n",
      "ONEATDivision20210904_TL2 - R05-C03-F14_ch_2\n",
      "ONEATNormal20210904_TL2 - R05-C03-F14_ch_2\n",
      "ONEATDivision20210904_TL2 - R05-C03-F16_ch_2\n",
      "ONEATNormal20210904_TL2 - R05-C03-F16_ch_2\n",
      "ONEATDivision20210904_TL2 - R05-C03-F18_ch_2\n",
      "ONEATNormal20210904_TL2 - R05-C03-F18_ch_2\n"
     ]
    }
   ],
   "source": [
    "MovieCreator.SegFreeMovieLabelDataSet(image_dir, csv_dir, save_dir, event_type_name, event_type_label, csv_name_diff,crop_size, yolo_v0 = yolo_v0, yolo_v1 = yolo_v1, yolo_v2 = yolo_v2, tshift = tshift)\n"
   ]
  },
  {
   "cell_type": "code",
   "execution_count": 35,
   "id": "ba5f3a93",
   "metadata": {},
   "outputs": [
    {
     "name": "stdout",
     "output_type": "stream",
     "text": [
      "(868, 5, 64, 64, 1) (868, 8, 1)\n"
     ]
    }
   ],
   "source": [
    "MovieCreator.createNPZ(save_dir, axes = 'STXYC', save_name = npz_name, save_name_val = npz_val_name)"
   ]
  },
  {
   "cell_type": "code",
   "execution_count": null,
   "id": "47b0f81e",
   "metadata": {},
   "outputs": [],
   "source": []
  },
  {
   "cell_type": "code",
   "execution_count": null,
   "id": "7ef17d1b",
   "metadata": {},
   "outputs": [],
   "source": []
  }
 ],
 "metadata": {
  "kernelspec": {
   "display_name": "Python 3 (ipykernel)",
   "language": "python",
   "name": "python3"
  },
  "language_info": {
   "codemirror_mode": {
    "name": "ipython",
    "version": 3
   },
   "file_extension": ".py",
   "mimetype": "text/x-python",
   "name": "python",
   "nbconvert_exporter": "python",
   "pygments_lexer": "ipython3",
   "version": "3.10.4"
  }
 },
 "nbformat": 4,
 "nbformat_minor": 5
}
