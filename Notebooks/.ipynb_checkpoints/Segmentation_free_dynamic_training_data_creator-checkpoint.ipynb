{
 "cells": [
  {
   "cell_type": "code",
   "execution_count": 1,
   "id": "15392b8c",
   "metadata": {},
   "outputs": [],
   "source": [
    "\n",
    "import numpy as np\n",
    "from tifffile import imread \n",
    "import sys\n",
    "import os\n",
    "import cv2\n",
    "import glob\n",
    "from tqdm import tqdm\n",
    "import pandas as pd\n",
    "from oneat.NEATUtils import MovieCreator\n",
    "from oneat.NEATUtils.helpers import save_json, load_json\n",
    "from oneat.NEATModels.TrainConfig import TrainConfig\n",
    "from pathlib import Path"
   ]
  },
  {
   "cell_type": "code",
   "execution_count": 2,
   "id": "e1bcf2d0",
   "metadata": {},
   "outputs": [],
   "source": [
    "#Specify the directory containing images\n",
    "image_dir = 'D:/TrainingData/Helacells_florescent/Raw_ch_hela_flou/'\n",
    "#Specify the directory contaiing csv files\n",
    "csv_dir = 'D:/TrainingData/Helacells_florescent/Csv_ch_hela_flou/'\n",
    "\n",
    "#Specify the model directory where we store the json of categories, training model and parameters\n",
    "model_dir = 'D:/TrainingData/Helacells_florescent/Oneat_ch_hela_flou/'\n",
    "#Directory for storing center ONEAT training data \n",
    "save_dir = 'D:/TrainingData/Helacells_florescent/Patch_ch_hela_flou/'\n",
    "Path(model_dir).mkdir(exist_ok = True)\n",
    "Path(save_dir).mkdir(exist_ok = True)"
   ]
  },
  {
   "cell_type": "code",
   "execution_count": 6,
   "id": "c748ba9e",
   "metadata": {},
   "outputs": [],
   "source": [
    "#Name of the  events\n",
    "event_type_name = [\"Normal\", \"Division\"]\n",
    "#Label corresponding to event\n",
    "event_type_label = [0, 1]\n",
    "\n",
    "#The name appended before the CSV files\n",
    "csv_name_diff = 'ONEAT'\n",
    "#with xythw and class terms only\n",
    "yolo_v0 = False\n",
    "#with confidence term\n",
    "yolo_v1 = True\n",
    "#with angle term\n",
    "yolo_v2 = False\n",
    "size_tminus = 1\n",
    "size_tplus = 3\n",
    "tshift = 0\n",
    "trainshapex = 64\n",
    "trainshapey = 64\n",
    "npz_name = 'Hela_flou'\n",
    "npz_val_name = 'Hela_flouval'\n",
    "crop_size = [trainshapex,trainshapey,size_tminus,size_tplus]"
   ]
  },
  {
   "cell_type": "code",
   "execution_count": 7,
   "id": "c9f4b367",
   "metadata": {},
   "outputs": [],
   "source": [
    "#X Y T dynamic events\n",
    "\n",
    "\n",
    "\n",
    "\n",
    "event_position_name = [\"x\", \"y\", \"t\", \"h\", \"w\", \"c\"]\n",
    "event_position_label = [0, 1, 2, 3, 4, 5]\n",
    "\n",
    "dynamic_config = TrainConfig(event_type_name, event_type_label, event_position_name, event_position_label)\n",
    "\n",
    "dynamic_json, dynamic_cord_json = dynamic_config.to_json()\n",
    "\n",
    "save_json(dynamic_json, model_dir + \"Cellsplithelafloucategories\" + '.json')\n",
    "\n",
    "save_json(dynamic_cord_json, model_dir + \"Cellsplithelafloucord\" + '.json')        "
   ]
  },
  {
   "cell_type": "code",
   "execution_count": 8,
   "id": "940983e3",
   "metadata": {},
   "outputs": [
    {
     "name": "stdout",
     "output_type": "stream",
     "text": [
      "ONEATDivision20210904_TL2 - R05-C03-F0_ch_0\n",
      "ONEATNormal20210904_TL2 - R05-C03-F0_ch_0\n",
      "ONEATDivision20210904_TL2 - R05-C03-F10_ch_0\n",
      "ONEATNormal20210904_TL2 - R05-C03-F10_ch_0\n",
      "ONEATDivision20210904_TL2 - R05-C03-F11_ch_0\n",
      "ONEATNormal20210904_TL2 - R05-C03-F11_ch_0\n",
      "ONEATDivision20210904_TL2 - R05-C03-F12_ch_0\n",
      "ONEATNormal20210904_TL2 - R05-C03-F12_ch_0\n",
      "ONEATDivision20210904_TL2 - R05-C03-F13_ch_0\n",
      "ONEATNormal20210904_TL2 - R05-C03-F13_ch_0\n",
      "ONEATDivision20210904_TL2 - R05-C03-F14_ch_0\n",
      "ONEATNormal20210904_TL2 - R05-C03-F14_ch_0\n",
      "ONEATDivision20210904_TL2 - R05-C03-F16_ch_0\n",
      "ONEATNormal20210904_TL2 - R05-C03-F16_ch_0\n",
      "ONEATDivision20210904_TL2 - R05-C03-F18_ch_0\n",
      "ONEATNormal20210904_TL2 - R05-C03-F18_ch_0\n",
      "ONEATDivision20210904_TL2 - R05-C03-F0_ch_1\n",
      "ONEATNormal20210904_TL2 - R05-C03-F0_ch_1\n",
      "ONEATDivision20210904_TL2 - R05-C03-F10_ch_1\n",
      "ONEATNormal20210904_TL2 - R05-C03-F10_ch_1\n",
      "ONEATDivision20210904_TL2 - R05-C03-F11_ch_1\n",
      "ONEATNormal20210904_TL2 - R05-C03-F11_ch_1\n",
      "ONEATDivision20210904_TL2 - R05-C03-F12_ch_1\n",
      "ONEATNormal20210904_TL2 - R05-C03-F12_ch_1\n",
      "ONEATDivision20210904_TL2 - R05-C03-F13_ch_1\n",
      "ONEATNormal20210904_TL2 - R05-C03-F13_ch_1\n",
      "ONEATDivision20210904_TL2 - R05-C03-F14_ch_1\n",
      "ONEATNormal20210904_TL2 - R05-C03-F14_ch_1\n",
      "ONEATDivision20210904_TL2 - R05-C03-F16_ch_1\n",
      "ONEATNormal20210904_TL2 - R05-C03-F16_ch_1\n",
      "ONEATDivision20210904_TL2 - R05-C03-F18_ch_1\n",
      "ONEATNormal20210904_TL2 - R05-C03-F18_ch_1\n",
      "ONEATDivision20210904_TL2 - R05-C03-F0_ch_3\n",
      "ONEATNormal20210904_TL2 - R05-C03-F0_ch_3\n",
      "ONEATDivision20210904_TL2 - R05-C03-F10_ch_3\n",
      "ONEATNormal20210904_TL2 - R05-C03-F10_ch_3\n",
      "ONEATDivision20210904_TL2 - R05-C03-F11_ch_3\n",
      "ONEATNormal20210904_TL2 - R05-C03-F11_ch_3\n",
      "ONEATDivision20210904_TL2 - R05-C03-F12_ch_3\n",
      "ONEATNormal20210904_TL2 - R05-C03-F12_ch_3\n",
      "ONEATDivision20210904_TL2 - R05-C03-F13_ch_3\n",
      "ONEATNormal20210904_TL2 - R05-C03-F13_ch_3\n",
      "ONEATDivision20210904_TL2 - R05-C03-F14_ch_3\n",
      "ONEATNormal20210904_TL2 - R05-C03-F14_ch_3\n",
      "ONEATDivision20210904_TL2 - R05-C03-F16_ch_3\n",
      "ONEATNormal20210904_TL2 - R05-C03-F16_ch_3\n",
      "ONEATDivision20210904_TL2 - R05-C03-F18_ch_3\n",
      "ONEATNormal20210904_TL2 - R05-C03-F18_ch_3\n",
      "ONEATDivision20210904_TL2 - R05-C03-F0_ch_4\n",
      "ONEATNormal20210904_TL2 - R05-C03-F0_ch_4\n",
      "ONEATDivision20210904_TL2 - R05-C03-F10_ch_4\n",
      "ONEATNormal20210904_TL2 - R05-C03-F10_ch_4\n",
      "ONEATDivision20210904_TL2 - R05-C03-F11_ch_4\n",
      "ONEATNormal20210904_TL2 - R05-C03-F11_ch_4\n",
      "ONEATDivision20210904_TL2 - R05-C03-F12_ch_4\n",
      "ONEATNormal20210904_TL2 - R05-C03-F12_ch_4\n",
      "ONEATDivision20210904_TL2 - R05-C03-F13_ch_4\n",
      "ONEATNormal20210904_TL2 - R05-C03-F13_ch_4\n",
      "ONEATDivision20210904_TL2 - R05-C03-F14_ch_4\n",
      "ONEATNormal20210904_TL2 - R05-C03-F14_ch_4\n",
      "ONEATDivision20210904_TL2 - R05-C03-F16_ch_4\n",
      "ONEATNormal20210904_TL2 - R05-C03-F16_ch_4\n",
      "ONEATDivision20210904_TL2 - R05-C03-F18_ch_4\n",
      "ONEATNormal20210904_TL2 - R05-C03-F18_ch_4\n",
      "ONEATDivision20210904_TL2 - R05-C03-F0_ch_5\n",
      "ONEATNormal20210904_TL2 - R05-C03-F0_ch_5\n",
      "ONEATDivision20210904_TL2 - R05-C03-F10_ch_5\n",
      "ONEATNormal20210904_TL2 - R05-C03-F10_ch_5\n",
      "ONEATDivision20210904_TL2 - R05-C03-F11_ch_5\n",
      "ONEATNormal20210904_TL2 - R05-C03-F11_ch_5\n",
      "ONEATDivision20210904_TL2 - R05-C03-F12_ch_5\n",
      "ONEATNormal20210904_TL2 - R05-C03-F12_ch_5\n",
      "ONEATDivision20210904_TL2 - R05-C03-F13_ch_5\n",
      "ONEATNormal20210904_TL2 - R05-C03-F13_ch_5\n",
      "ONEATDivision20210904_TL2 - R05-C03-F14_ch_5\n",
      "ONEATNormal20210904_TL2 - R05-C03-F14_ch_5\n",
      "ONEATDivision20210904_TL2 - R05-C03-F16_ch_5\n",
      "ONEATNormal20210904_TL2 - R05-C03-F16_ch_5\n",
      "ONEATDivision20210904_TL2 - R05-C03-F18_ch_5\n",
      "ONEATNormal20210904_TL2 - R05-C03-F18_ch_5\n"
     ]
    }
   ],
   "source": [
    "MovieCreator.SegFreeMovieLabelDataSet(image_dir, csv_dir, save_dir, event_type_name, event_type_label, csv_name_diff,crop_size, yolo_v0 = yolo_v0, yolo_v1 = yolo_v1, yolo_v2 = yolo_v2, tshift = tshift)\n"
   ]
  },
  {
   "cell_type": "code",
   "execution_count": 9,
   "id": "ba5f3a93",
   "metadata": {},
   "outputs": [
    {
     "name": "stdout",
     "output_type": "stream",
     "text": [
      "(4361,) (4361, 8, 1)\n"
     ]
    },
    {
     "name": "stderr",
     "output_type": "stream",
     "text": [
      "C:\\Users\\rando\\anaconda3\\envs\\naparienv\\lib\\site-packages\\numpy\\core\\_asarray.py:102: VisibleDeprecationWarning: Creating an ndarray from ragged nested sequences (which is a list-or-tuple of lists-or-tuples-or ndarrays with different lengths or shapes) is deprecated. If you meant to do this, you must specify 'dtype=object' when creating the ndarray.\n",
      "  return array(a, dtype, copy=False, order=order)\n"
     ]
    },
    {
     "ename": "ValueError",
     "evalue": "",
     "output_type": "error",
     "traceback": [
      "\u001b[1;31m---------------------------------------------------------------------------\u001b[0m",
      "\u001b[1;31mValueError\u001b[0m                                Traceback (most recent call last)",
      "\u001b[1;32m~\\AppData\\Local\\Temp/ipykernel_28220/1911473729.py\u001b[0m in \u001b[0;36m<module>\u001b[1;34m\u001b[0m\n\u001b[1;32m----> 1\u001b[1;33m \u001b[0mMovieCreator\u001b[0m\u001b[1;33m.\u001b[0m\u001b[0mcreateNPZ\u001b[0m\u001b[1;33m(\u001b[0m\u001b[0msave_dir\u001b[0m\u001b[1;33m,\u001b[0m \u001b[0maxes\u001b[0m \u001b[1;33m=\u001b[0m \u001b[1;34m'STXYC'\u001b[0m\u001b[1;33m,\u001b[0m \u001b[0msave_name\u001b[0m \u001b[1;33m=\u001b[0m \u001b[0mnpz_name\u001b[0m\u001b[1;33m,\u001b[0m \u001b[0msave_name_val\u001b[0m \u001b[1;33m=\u001b[0m \u001b[0mnpz_val_name\u001b[0m\u001b[1;33m)\u001b[0m\u001b[1;33m\u001b[0m\u001b[1;33m\u001b[0m\u001b[0m\n\u001b[0m",
      "\u001b[1;32mc:\\users\\rando\\downloads\\caped-ai-oneat\\oneat\\NEATUtils\\MovieCreator.py\u001b[0m in \u001b[0;36mcreateNPZ\u001b[1;34m(save_dir, axes, save_name, save_name_val, static)\u001b[0m\n\u001b[0;32m    705\u001b[0m             \u001b[0mprint\u001b[0m\u001b[1;33m(\u001b[0m\u001b[0mdataarr\u001b[0m\u001b[1;33m.\u001b[0m\u001b[0mshape\u001b[0m\u001b[1;33m,\u001b[0m \u001b[0mlabelarr\u001b[0m\u001b[1;33m.\u001b[0m\u001b[0mshape\u001b[0m\u001b[1;33m)\u001b[0m\u001b[1;33m\u001b[0m\u001b[1;33m\u001b[0m\u001b[0m\n\u001b[0;32m    706\u001b[0m             \u001b[0mtraindata\u001b[0m\u001b[1;33m,\u001b[0m \u001b[0mvaliddata\u001b[0m\u001b[1;33m,\u001b[0m \u001b[0mtrainlabel\u001b[0m\u001b[1;33m,\u001b[0m \u001b[0mvalidlabel\u001b[0m \u001b[1;33m=\u001b[0m \u001b[0mtrain_test_split\u001b[0m\u001b[1;33m(\u001b[0m\u001b[0mdataarr\u001b[0m\u001b[1;33m,\u001b[0m \u001b[0mlabelarr\u001b[0m\u001b[1;33m,\u001b[0m \u001b[0mtrain_size\u001b[0m\u001b[1;33m=\u001b[0m\u001b[1;36m0.95\u001b[0m\u001b[1;33m,\u001b[0m\u001b[0mtest_size\u001b[0m\u001b[1;33m=\u001b[0m\u001b[1;36m0.05\u001b[0m\u001b[1;33m,\u001b[0m \u001b[0mshuffle\u001b[0m\u001b[1;33m=\u001b[0m \u001b[1;32mTrue\u001b[0m\u001b[1;33m)\u001b[0m\u001b[1;33m\u001b[0m\u001b[1;33m\u001b[0m\u001b[0m\n\u001b[1;32m--> 707\u001b[1;33m             \u001b[0msave_full_training_data\u001b[0m\u001b[1;33m(\u001b[0m\u001b[0msave_dir\u001b[0m\u001b[1;33m,\u001b[0m \u001b[0msave_name\u001b[0m\u001b[1;33m,\u001b[0m \u001b[0mtraindata\u001b[0m\u001b[1;33m,\u001b[0m \u001b[0mtrainlabel\u001b[0m\u001b[1;33m,\u001b[0m \u001b[0maxes\u001b[0m\u001b[1;33m)\u001b[0m\u001b[1;33m\u001b[0m\u001b[1;33m\u001b[0m\u001b[0m\n\u001b[0m\u001b[0;32m    708\u001b[0m             \u001b[0msave_full_training_data\u001b[0m\u001b[1;33m(\u001b[0m\u001b[0msave_dir\u001b[0m\u001b[1;33m,\u001b[0m \u001b[0msave_name_val\u001b[0m\u001b[1;33m,\u001b[0m \u001b[0mvaliddata\u001b[0m\u001b[1;33m,\u001b[0m \u001b[0mvalidlabel\u001b[0m\u001b[1;33m,\u001b[0m \u001b[0maxes\u001b[0m\u001b[1;33m)\u001b[0m\u001b[1;33m\u001b[0m\u001b[1;33m\u001b[0m\u001b[0m\n\u001b[0;32m    709\u001b[0m \u001b[1;33m\u001b[0m\u001b[0m\n",
      "\u001b[1;32mc:\\users\\rando\\downloads\\caped-ai-oneat\\oneat\\NEATUtils\\MovieCreator.py\u001b[0m in \u001b[0;36msave_full_training_data\u001b[1;34m(directory, filename, data, label, axes)\u001b[0m\n\u001b[0;32m    889\u001b[0m \u001b[1;33m\u001b[0m\u001b[0m\n\u001b[0;32m    890\u001b[0m \u001b[1;33m\u001b[0m\u001b[0m\n\u001b[1;32m--> 891\u001b[1;33m     \u001b[0mlen\u001b[0m\u001b[1;33m(\u001b[0m\u001b[0maxes\u001b[0m\u001b[1;33m)\u001b[0m \u001b[1;33m==\u001b[0m \u001b[0mdata\u001b[0m\u001b[1;33m.\u001b[0m\u001b[0mndim\u001b[0m \u001b[1;32mor\u001b[0m \u001b[0m_raise\u001b[0m\u001b[1;33m(\u001b[0m\u001b[0mValueError\u001b[0m\u001b[1;33m(\u001b[0m\u001b[1;33m)\u001b[0m\u001b[1;33m)\u001b[0m\u001b[1;33m\u001b[0m\u001b[1;33m\u001b[0m\u001b[0m\n\u001b[0m\u001b[0;32m    892\u001b[0m     \u001b[0mnp\u001b[0m\u001b[1;33m.\u001b[0m\u001b[0msavez\u001b[0m\u001b[1;33m(\u001b[0m\u001b[0mdirectory\u001b[0m \u001b[1;33m+\u001b[0m \u001b[0mfilename\u001b[0m\u001b[1;33m,\u001b[0m \u001b[0mdata\u001b[0m \u001b[1;33m=\u001b[0m \u001b[0mdata\u001b[0m\u001b[1;33m,\u001b[0m \u001b[0mlabel\u001b[0m \u001b[1;33m=\u001b[0m \u001b[0mlabel\u001b[0m\u001b[1;33m,\u001b[0m \u001b[0maxes\u001b[0m \u001b[1;33m=\u001b[0m \u001b[0maxes\u001b[0m\u001b[1;33m)\u001b[0m\u001b[1;33m\u001b[0m\u001b[1;33m\u001b[0m\u001b[0m\n\u001b[0;32m    893\u001b[0m \u001b[1;33m\u001b[0m\u001b[0m\n",
      "\u001b[1;32mc:\\users\\rando\\downloads\\caped-ai-oneat\\oneat\\NEATUtils\\MovieCreator.py\u001b[0m in \u001b[0;36m_raise\u001b[1;34m(e)\u001b[0m\n\u001b[0;32m    710\u001b[0m \u001b[1;33m\u001b[0m\u001b[0m\n\u001b[0;32m    711\u001b[0m \u001b[1;32mdef\u001b[0m \u001b[0m_raise\u001b[0m\u001b[1;33m(\u001b[0m\u001b[0me\u001b[0m\u001b[1;33m)\u001b[0m\u001b[1;33m:\u001b[0m\u001b[1;33m\u001b[0m\u001b[1;33m\u001b[0m\u001b[0m\n\u001b[1;32m--> 712\u001b[1;33m     \u001b[1;32mraise\u001b[0m \u001b[0me\u001b[0m\u001b[1;33m\u001b[0m\u001b[1;33m\u001b[0m\u001b[0m\n\u001b[0m\u001b[0;32m    713\u001b[0m \u001b[1;32mdef\u001b[0m  \u001b[0mImageMaker\u001b[0m\u001b[1;33m(\u001b[0m\u001b[0mtime\u001b[0m\u001b[1;33m,\u001b[0m \u001b[0my\u001b[0m\u001b[1;33m,\u001b[0m \u001b[0mx\u001b[0m\u001b[1;33m,\u001b[0m \u001b[0mimage\u001b[0m\u001b[1;33m,\u001b[0m \u001b[0msegimage\u001b[0m\u001b[1;33m,\u001b[0m \u001b[0mcrop_size\u001b[0m\u001b[1;33m,\u001b[0m \u001b[0mgridX\u001b[0m\u001b[1;33m,\u001b[0m \u001b[0mgridY\u001b[0m\u001b[1;33m,\u001b[0m \u001b[0moffset\u001b[0m\u001b[1;33m,\u001b[0m \u001b[0mtotal_categories\u001b[0m\u001b[1;33m,\u001b[0m \u001b[0mtrainlabel\u001b[0m\u001b[1;33m,\u001b[0m \u001b[0mname\u001b[0m\u001b[1;33m,\u001b[0m \u001b[0msave_dir\u001b[0m\u001b[1;33m,\u001b[0m \u001b[0myolo_v0\u001b[0m\u001b[1;33m,\u001b[0m \u001b[0mtshift\u001b[0m\u001b[1;33m)\u001b[0m\u001b[1;33m:\u001b[0m\u001b[1;33m\u001b[0m\u001b[1;33m\u001b[0m\u001b[0m\n\u001b[0;32m    714\u001b[0m \u001b[1;33m\u001b[0m\u001b[0m\n",
      "\u001b[1;31mValueError\u001b[0m: "
     ]
    }
   ],
   "source": [
    "MovieCreator.createNPZ(save_dir, axes = 'STXYC', save_name = npz_name, save_name_val = npz_val_name)"
   ]
  },
  {
   "cell_type": "code",
   "execution_count": null,
   "id": "47b0f81e",
   "metadata": {},
   "outputs": [],
   "source": []
  },
  {
   "cell_type": "code",
   "execution_count": null,
   "id": "7ef17d1b",
   "metadata": {},
   "outputs": [],
   "source": []
  }
 ],
 "metadata": {
  "kernelspec": {
   "display_name": "Python [conda env:naparienv] *",
   "language": "python",
   "name": "conda-env-naparienv-py"
  },
  "language_info": {
   "codemirror_mode": {
    "name": "ipython",
    "version": 3
   },
   "file_extension": ".py",
   "mimetype": "text/x-python",
   "name": "python",
   "nbconvert_exporter": "python",
   "pygments_lexer": "ipython3",
   "version": "3.9.0"
  }
 },
 "nbformat": 4,
 "nbformat_minor": 5
}
