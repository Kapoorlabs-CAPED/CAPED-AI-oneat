{
 "cells": [
  {
   "cell_type": "code",
   "execution_count": null,
   "id": "7fbce8da",
   "metadata": {},
   "outputs": [],
   "source": [
    "from oneat.NEATUtils import NEATViz\n"
   ]
  },
  {
   "cell_type": "code",
   "execution_count": null,
   "id": "eab77c93",
   "metadata": {
    "scrolled": false
   },
   "outputs": [],
   "source": [
    "imagedir = 'D:/TestDatasets/Oneat/Hela_flou_oneat/mcherry/'\n",
    "heatmapdir ='D:/TestDatasets/Oneat/Hela_flou_oneat/mcherry/Resultsdeep/'\n",
    "\n",
    "csvdir = 'D:/TestDatasets/Oneat/Hela_flou_oneat/mcherry/Resultsdeep/'\n",
    "categories_json = 'D:/TrainingModels/Oneat/Cellsplitcategorieshelaflou.json'\n",
    "fileextension = '*tif'\n",
    "thresh = 1 - 1.0E-6\n",
    "\n",
    "event_threshold = [thresh, thresh]\n",
    "Vizdetections = NEATViz(imagedir, \n",
    "                        heatmapdir, \n",
    "                        csvdir, \n",
    "                        categories_json,  \n",
    "                        event_threshold, \n",
    "                        fileextension = fileextension)"
   ]
  },
  {
   "cell_type": "code",
   "execution_count": 13,
   "id": "0d35ad3f",
   "metadata": {},
   "outputs": [
    {
     "name": "stdout",
     "output_type": "stream",
     "text": [
      "(240, 540, 540)\n",
      "(540, 540)\n"
     ]
    }
   ],
   "source": [
    "import numpy as np\n",
    "from dask.array.image import imread as daskread\n",
    "import matplotlib.pyplot as plt\n",
    "import os\n",
    "import glob\n",
    "\n",
    "imagedir = 'D:/TestDatasets/Oneat/Hela_flou_oneat/mcherry/'\n",
    "Raw_path = os.path.join(imagedir, '*.tif')\n",
    "X = glob.glob(Raw_path)\n",
    "for fname in X:\n",
    "    imagedask = daskread(fname)[0]\n",
    "    print(imagedask.shape)\n",
    "    red_image = imagedask[2,:]\n",
    "    print(red_image.shape)"
   ]
  },
  {
   "cell_type": "code",
   "execution_count": 11,
   "id": "f0b8671e",
   "metadata": {},
   "outputs": [],
   "source": [
    "import dask.array as da\n",
    "\n",
    "# huge along 0th axis\n",
    "x = da.random.random((10000, 128, 128), chunks=(1, 128, 128))\n",
    "slc = np.asarray(x[0])  # calls compute for first slice without you manually calling it\n",
    "\n",
    "assert np.allclose(slc, x[0].compute())"
   ]
  },
  {
   "cell_type": "code",
   "execution_count": null,
   "id": "4ea69fa6",
   "metadata": {},
   "outputs": [],
   "source": []
  }
 ],
 "metadata": {
  "kernelspec": {
   "display_name": "Python 3 (ipykernel)",
   "language": "python",
   "name": "python3"
  },
  "language_info": {
   "codemirror_mode": {
    "name": "ipython",
    "version": 3
   },
   "file_extension": ".py",
   "mimetype": "text/x-python",
   "name": "python",
   "nbconvert_exporter": "python",
   "pygments_lexer": "ipython3",
   "version": "3.10.4"
  }
 },
 "nbformat": 4,
 "nbformat_minor": 5
}
