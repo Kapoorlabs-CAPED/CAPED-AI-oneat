{
 "cells": [
  {
   "cell_type": "code",
   "execution_count": 1,
   "id": "55175aa9",
   "metadata": {},
   "outputs": [
    {
     "name": "stderr",
     "output_type": "stream",
     "text": [
      "C:\\Users\\rando\\anaconda3\\envs\\naparienv\\lib\\site-packages\\numpy\\_distributor_init.py:30: UserWarning: loaded more than 1 DLL from .libs:\n",
      "C:\\Users\\rando\\anaconda3\\envs\\naparienv\\lib\\site-packages\\numpy\\.libs\\libopenblas.4SP5SUA7CBGXUEOC35YP2ASOICYYEQZZ.gfortran-win_amd64.dll\n",
      "C:\\Users\\rando\\anaconda3\\envs\\naparienv\\lib\\site-packages\\numpy\\.libs\\libopenblas.XWYDX2IKJW2NMTWSFYNGFUWKQU3LYTCZ.gfortran-win_amd64.dll\n",
      "  warnings.warn(\"loaded more than 1 DLL from .libs:\"\n"
     ]
    },
    {
     "name": "stdout",
     "output_type": "stream",
     "text": [
      "class <class 'oneat.NEATModels.neat_faststandard.NEATSynamic'> name Cellsplitdetectorbrightfield\n",
      "Found model 'Cellsplitdetectorbrightfield' for 'NEATSynamic'.\n",
      "C:\\Users\\rando\\Downloads\\CAPED-AI-oneat\\Demo/hela_example/ Cellsplitdetectorbrightfield {'x': 0, 'y': 1, 't': 2, 'h': 3, 'w': 4, 'c': 5} {'Normal': 0, 'Division': 1}\n"
     ]
    }
   ],
   "source": [
    "import os\n",
    "from pathlib import Path\n",
    "os.getcwd()\n",
    "from tifffile import imread\n",
    "from oneat.NEATModels import NEATSynamic\n",
    "from oneat.pretrained import  get_model_folder\n",
    "from oneat.NEATModels.config import dynamic_config\n",
    "from oneat.NEATUtils import helpers\n",
    "from oneat import test_image_brightfield\n",
    "from oneat.NEATUtils.helpers import load_json\n",
    "example_directory = os.getcwd() + '/hela_example/'\n",
    "Path(example_directory).mkdir(exist_ok=True)\n",
    "model = NEATSynamic.local_from_pretrained(example_directory,'Cellsplitdetectorbrightfield')\n",
    "\n"
   ]
  },
  {
   "cell_type": "code",
   "execution_count": 2,
   "id": "e9a32050",
   "metadata": {},
   "outputs": [
    {
     "name": "stdout",
     "output_type": "stream",
     "text": [
      "C:\\Users\\rando\\.keras\\datasets\\brightfield\n"
     ]
    }
   ],
   "source": [
    "#Data will be downloaded in .keras folder in the home directory\n",
    "imagename = test_image_brightfield()\n",
    "print(imagename)"
   ]
  },
  {
   "cell_type": "code",
   "execution_count": null,
   "id": "a0702c66",
   "metadata": {},
   "outputs": [
    {
     "name": "stdout",
     "output_type": "stream",
     "text": [
      "C:\\Users\\rando\\Downloads\\CAPED-AI-oneat\\Demo/hela_example/ Cellsplitdetectorbrightfield {'Normal': 0, 'Division': 1} {'x': 0, 'y': 1, 't': 2, 'h': 3, 'w': 4, 'c': 5}\n",
      "Detecting event locations\n"
     ]
    },
    {
     "name": "stderr",
     "output_type": "stream",
     "text": [
      "  2%|██                                                                              | 6/240 [04:18<2:47:34, 42.97s/it]"
     ]
    }
   ],
   "source": [
    "n_tiles = (4,4)\n",
    "event_threshold = 0.9999\n",
    "event_confidence = 0.99\n",
    "iou_threshold = 0.6\n",
    "fidelity = 16\n",
    "downsamplefactor = 1\n",
    "model.predict_synamic(imagename,\n",
    "                           example_directory, \n",
    "                           n_tiles = n_tiles, \n",
    "                           event_threshold = event_threshold, \n",
    "                           event_confidence = event_confidence,\n",
    "                           iou_threshold = iou_threshold,\n",
    "                           fidelity = fidelity,\n",
    "                           downsamplefactor = downsamplefactor )"
   ]
  },
  {
   "cell_type": "code",
   "execution_count": null,
   "id": "1230e4ea",
   "metadata": {},
   "outputs": [],
   "source": [
    "from oneat.NEATUtils import NEATViz\n",
    "\n",
    "imagedir = example_directory\n",
    "heatmapdir = example_directory + 'Results/'\n",
    "csvdir = heatmapdir\n",
    "categories_json = example_directory + 'Cellsplitcategorieshelaflou.json'\n",
    "fileextension = '*tif'\n",
    "thresh = 1 - 1.0E-2\n",
    "\n",
    "event_threshold = [thresh, thresh]\n",
    "Vizdetections = NEATViz(imagedir, \n",
    "                        heatmapdir, \n",
    "                        csvdir, \n",
    "                        categories_json,  \n",
    "                        event_threshold, \n",
    "                        fileextension = fileextension)"
   ]
  }
 ],
 "metadata": {
  "kernelspec": {
   "display_name": "Python 3 (ipykernel)",
   "language": "python",
   "name": "python3"
  },
  "language_info": {
   "codemirror_mode": {
    "name": "ipython",
    "version": 3
   },
   "file_extension": ".py",
   "mimetype": "text/x-python",
   "name": "python",
   "nbconvert_exporter": "python",
   "pygments_lexer": "ipython3",
   "version": "3.9.0"
  }
 },
 "nbformat": 4,
 "nbformat_minor": 5
}
