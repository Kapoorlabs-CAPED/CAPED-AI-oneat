{
 "cells": [
  {
   "cell_type": "code",
   "execution_count": 5,
   "id": "1012e060",
   "metadata": {},
   "outputs": [
    {
     "ename": "TypeError",
     "evalue": "local_from_pretrained() takes from 1 to 2 positional arguments but 3 were given",
     "output_type": "error",
     "traceback": [
      "\u001b[1;31m---------------------------------------------------------------------------\u001b[0m",
      "\u001b[1;31mTypeError\u001b[0m                                 Traceback (most recent call last)",
      "Input \u001b[1;32mIn [5]\u001b[0m, in \u001b[0;36m<cell line: 12>\u001b[1;34m()\u001b[0m\n\u001b[0;32m     10\u001b[0m example_directory \u001b[38;5;241m=\u001b[39m os\u001b[38;5;241m.\u001b[39mgetcwd() \u001b[38;5;241m+\u001b[39m \u001b[38;5;124m'\u001b[39m\u001b[38;5;124m/hela_example\u001b[39m\u001b[38;5;124m'\u001b[39m\n\u001b[0;32m     11\u001b[0m Path(example_directory)\u001b[38;5;241m.\u001b[39mmkdir(exist_ok\u001b[38;5;241m=\u001b[39m\u001b[38;5;28;01mTrue\u001b[39;00m)\n\u001b[1;32m---> 12\u001b[0m model \u001b[38;5;241m=\u001b[39m \u001b[43mNEATSynamic\u001b[49m\u001b[38;5;241;43m.\u001b[39;49m\u001b[43mlocal_from_pretrained\u001b[49m\u001b[43m(\u001b[49m\u001b[38;5;241;43m*\u001b[39;49m\u001b[43m(\u001b[49m\u001b[43mNEATSynamic\u001b[49m\u001b[43m,\u001b[49m\u001b[43m \u001b[49m\u001b[38;5;124;43m'\u001b[39;49m\u001b[38;5;124;43mbrightfield_mitosis_oneat_model\u001b[39;49m\u001b[38;5;124;43m'\u001b[39;49m\u001b[43m)\u001b[49m\u001b[43m)\u001b[49m\n",
      "\u001b[1;31mTypeError\u001b[0m: local_from_pretrained() takes from 1 to 2 positional arguments but 3 were given"
     ]
    }
   ],
   "source": [
    "import os\n",
    "from pathlib import Path\n",
    "os.getcwd()\n",
    "from tifffile import imread\n",
    "from oneat.NEATModels import NEATSynamic\n",
    "from oneat.pretrained import  get_model_folder\n",
    "from oneat.NEATModels.config import dynamic_config\n",
    "from oneat.NEATUtils import helpers\n",
    "from oneat.NEATUtils.helpers import load_json\n",
    "example_directory = os.getcwd() + '/hela_example'\n",
    "Path(example_directory).mkdir(exist_ok=True)\n",
    "model = NEATSynamic.local_from_pretrained('brightfield_mitosis_oneat_model')\n",
    "\n"
   ]
  },
  {
   "cell_type": "code",
   "execution_count": null,
   "id": "b06b0884",
   "metadata": {},
   "outputs": [],
   "source": [
    "#Data will be downloaded in .keras folder in the home directory\n",
    "image = imread(get_file(fname='brightfield', origin='https://zenodo.org/record/6480142/files/20210904_TL2%20-%20R05-C03-F0_ch_2.tif', file_hash='67e13fa4df301dfe2c2a57f785aedada'))\n",
    "\n",
    "division_categories_json = model_dir + get_file(fname='catjson', origin='https://zenodo.org/record/6481021/files/Cellsplitcategorieshelaflou.json', file_hash='7a67a83f08fb1add3c1b1a3e0eeec773')\n",
    "catconfig = load_json(division_categories_json)\n",
    "division_cord_json = model_dir + get_file(fname='cordjson', origin='https://zenodo.org/record/6481021/files/Cellsplitcordhelaflou.json', file_hash='aed21cb69d6fb8be32c47f78a39d32f5')\n",
    "cordconfig = load_json(division_cord_json)\n",
    "model = NEATSynamic(None, model_dir , model_name,catconfig, cordconfig)"
   ]
  },
  {
   "cell_type": "code",
   "execution_count": null,
   "id": "731cd5e8",
   "metadata": {},
   "outputs": [],
   "source": [
    "n_tiles = (4,4)\n",
    "event_threshold = 0.9999\n",
    "event_confidence = 0.99\n",
    "iou_threshold = 0.6\n",
    "fidelity = 16\n",
    "downsamplefactor = 1"
   ]
  },
  {
   "cell_type": "code",
   "execution_count": null,
   "id": "79a33b5f",
   "metadata": {},
   "outputs": [],
   "source": [
    "imagename = get_model_folder(fake_plugin.den_model_type.value, fake_plugin.model_den.value)"
   ]
  }
 ],
 "metadata": {
  "kernelspec": {
   "display_name": "Python 3 (ipykernel)",
   "language": "python",
   "name": "python3"
  },
  "language_info": {
   "codemirror_mode": {
    "name": "ipython",
    "version": 3
   },
   "file_extension": ".py",
   "mimetype": "text/x-python",
   "name": "python",
   "nbconvert_exporter": "python",
   "pygments_lexer": "ipython3",
   "version": "3.9.0"
  }
 },
 "nbformat": 4,
 "nbformat_minor": 5
}
