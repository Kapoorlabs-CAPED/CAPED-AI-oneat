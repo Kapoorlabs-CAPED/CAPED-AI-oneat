{
 "cells": [
  {
   "cell_type": "code",
   "execution_count": 1,
   "id": "132e999d",
   "metadata": {},
   "outputs": [
    {
     "name": "stderr",
     "output_type": "stream",
     "text": [
      "C:\\Users\\rando\\anaconda3\\envs\\naparienv\\lib\\site-packages\\numpy\\_distributor_init.py:30: UserWarning: loaded more than 1 DLL from .libs:\n",
      "C:\\Users\\rando\\anaconda3\\envs\\naparienv\\lib\\site-packages\\numpy\\.libs\\libopenblas.4SP5SUA7CBGXUEOC35YP2ASOICYYEQZZ.gfortran-win_amd64.dll\n",
      "C:\\Users\\rando\\anaconda3\\envs\\naparienv\\lib\\site-packages\\numpy\\.libs\\libopenblas.XWYDX2IKJW2NMTWSFYNGFUWKQU3LYTCZ.gfortran-win_amd64.dll\n",
      "  warnings.warn(\"loaded more than 1 DLL from .libs:\"\n"
     ]
    },
    {
     "name": "stdout",
     "output_type": "stream",
     "text": [
      "class <class 'oneat.NEATModels.neat_faststandard.NEATSynamic'> name Cellsplitdetectorbrightfield\n",
      "Found model 'Cellsplitdetectorbrightfield' for 'NEATSynamic'.\n"
     ]
    }
   ],
   "source": [
    "import os\n",
    "from pathlib import Path\n",
    "os.getcwd()\n",
    "from tifffile import imread\n",
    "from oneat.NEATModels import NEATSynamic\n",
    "from oneat.pretrained import  get_model_folder\n",
    "from oneat.NEATModels.config import dynamic_config\n",
    "from oneat.NEATUtils import helpers\n",
    "from oneat import test_image_brightfield\n",
    "from oneat.NEATUtils.helpers import load_json\n",
    "example_directory = os.getcwd() + '/hela_example'\n",
    "Path(example_directory).mkdir(exist_ok=True)\n",
    "model = NEATSynamic.local_from_pretrained('Cellsplitdetectorbrightfield')\n",
    "\n"
   ]
  },
  {
   "cell_type": "code",
   "execution_count": 2,
   "id": "15bd117d",
   "metadata": {},
   "outputs": [
    {
     "name": "stdout",
     "output_type": "stream",
     "text": [
      "C:\\Users\\rando\\.keras\\datasets\\brightfield\n"
     ]
    }
   ],
   "source": [
    "#Data will be downloaded in .keras folder in the home directory\n",
    "imagename = test_image_brightfield()\n",
    "print(imagename)"
   ]
  },
  {
   "cell_type": "code",
   "execution_count": null,
   "id": "e6aefd1d",
   "metadata": {},
   "outputs": [
    {
     "name": "stdout",
     "output_type": "stream",
     "text": [
      "Detecting event locations\n"
     ]
    },
    {
     "name": "stderr",
     "output_type": "stream",
     "text": [
      "\r",
      "  0%|                                                                                          | 0/240 [00:00<?, ?it/s]"
     ]
    }
   ],
   "source": [
    "n_tiles = (4,4)\n",
    "event_threshold = 0.9999\n",
    "event_confidence = 0.99\n",
    "iou_threshold = 0.6\n",
    "fidelity = 16\n",
    "downsamplefactor = 1\n",
    "model.predict_synamic(imagename,\n",
    "                           example_directory, \n",
    "                           n_tiles = n_tiles, \n",
    "                           event_threshold = event_threshold, \n",
    "                           event_confidence = event_confidence,\n",
    "                           iou_threshold = iou_threshold,\n",
    "                           fidelity = fidelity,\n",
    "                           downsamplefactor = downsamplefactor )"
   ]
  },
  {
   "cell_type": "code",
   "execution_count": null,
   "id": "a7079666",
   "metadata": {},
   "outputs": [],
   "source": []
  }
 ],
 "metadata": {
  "kernelspec": {
   "display_name": "Python 3 (ipykernel)",
   "language": "python",
   "name": "python3"
  },
  "language_info": {
   "codemirror_mode": {
    "name": "ipython",
    "version": 3
   },
   "file_extension": ".py",
   "mimetype": "text/x-python",
   "name": "python",
   "nbconvert_exporter": "python",
   "pygments_lexer": "ipython3",
   "version": "3.9.0"
  }
 },
 "nbformat": 4,
 "nbformat_minor": 5
}
