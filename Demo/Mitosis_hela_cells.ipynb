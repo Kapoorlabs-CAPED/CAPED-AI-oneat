{
 "cells": [
  {
   "cell_type": "code",
   "execution_count": 2,
   "id": "676d6334",
   "metadata": {},
   "outputs": [
    {
     "name": "stdout",
     "output_type": "stream",
     "text": [
      "class <class 'oneat.NEATModels.neat_faststandard.NEATSynamic'> name brightfield_mitosis_oneat_model\n",
      "Found model 'brightfield_mitosis_oneat_model' for 'NEATSynamic'.\n"
     ]
    },
    {
     "ename": "TypeError",
     "evalue": "__init__() got an unexpected keyword argument 'name'",
     "output_type": "error",
     "traceback": [
      "\u001b[1;31m---------------------------------------------------------------------------\u001b[0m",
      "\u001b[1;31mTypeError\u001b[0m                                 Traceback (most recent call last)",
      "Input \u001b[1;32mIn [2]\u001b[0m, in \u001b[0;36m<cell line: 12>\u001b[1;34m()\u001b[0m\n\u001b[0;32m     10\u001b[0m example_directory \u001b[38;5;241m=\u001b[39m os\u001b[38;5;241m.\u001b[39mgetcwd() \u001b[38;5;241m+\u001b[39m \u001b[38;5;124m'\u001b[39m\u001b[38;5;124m/hela_example\u001b[39m\u001b[38;5;124m'\u001b[39m\n\u001b[0;32m     11\u001b[0m Path(example_directory)\u001b[38;5;241m.\u001b[39mmkdir(exist_ok\u001b[38;5;241m=\u001b[39m\u001b[38;5;28;01mTrue\u001b[39;00m)\n\u001b[1;32m---> 12\u001b[0m model \u001b[38;5;241m=\u001b[39m \u001b[43mNEATSynamic\u001b[49m\u001b[38;5;241;43m.\u001b[39;49m\u001b[43mlocal_from_pretrained\u001b[49m\u001b[43m(\u001b[49m\u001b[38;5;124;43m'\u001b[39;49m\u001b[38;5;124;43mbrightfield_mitosis_oneat_model\u001b[39;49m\u001b[38;5;124;43m'\u001b[39;49m\u001b[43m)\u001b[49m\n",
      "File \u001b[1;32mc:\\users\\rando\\downloads\\caped-ai-oneat\\oneat\\NEATModels\\neat_faststandard.py:23\u001b[0m, in \u001b[0;36mlocal_from_pretrained\u001b[1;34m(cls, name_or_alias)\u001b[0m\n\u001b[0;32m     21\u001b[0m     print('class', cls, 'name' = name_or_alias )\n\u001b[0;32m     22\u001b[0m     get_model_details(cls, name_or_alias, verbose=True)\n\u001b[1;32m---> 23\u001b[0m     return get_model_instance(cls, name_or_alias)\n\u001b[0;32m     24\u001b[0m except ValueError:\n\u001b[0;32m     25\u001b[0m     if name_or_alias is not None:\n",
      "File \u001b[1;32mc:\\users\\rando\\downloads\\caped-ai-oneat\\oneat\\pretrained.py:111\u001b[0m, in \u001b[0;36mget_model_instance\u001b[1;34m(cls, key_or_alias)\u001b[0m\n\u001b[0;32m    109\u001b[0m \u001b[38;5;28;01mdef\u001b[39;00m \u001b[38;5;21mget_model_instance\u001b[39m(\u001b[38;5;28mcls\u001b[39m, key_or_alias):\n\u001b[0;32m    110\u001b[0m     path \u001b[38;5;241m=\u001b[39m get_model_folder(\u001b[38;5;28mcls\u001b[39m, key_or_alias)\n\u001b[1;32m--> 111\u001b[0m     model \u001b[38;5;241m=\u001b[39m \u001b[38;5;28;43mcls\u001b[39;49m\u001b[43m(\u001b[49m\u001b[43mconfig\u001b[49m\u001b[38;5;241;43m=\u001b[39;49m\u001b[38;5;28;43;01mNone\u001b[39;49;00m\u001b[43m,\u001b[49m\u001b[43m \u001b[49m\u001b[43mname\u001b[49m\u001b[38;5;241;43m=\u001b[39;49m\u001b[43mpath\u001b[49m\u001b[38;5;241;43m.\u001b[39;49m\u001b[43mstem\u001b[49m\u001b[43m,\u001b[49m\u001b[43m \u001b[49m\u001b[43mbasedir\u001b[49m\u001b[38;5;241;43m=\u001b[39;49m\u001b[43mpath\u001b[49m\u001b[38;5;241;43m.\u001b[39;49m\u001b[43mparent\u001b[49m\u001b[43m)\u001b[49m\n\u001b[0;32m    112\u001b[0m     model\u001b[38;5;241m.\u001b[39mbasedir \u001b[38;5;241m=\u001b[39m \u001b[38;5;28;01mNone\u001b[39;00m \u001b[38;5;66;03m# make read-only\u001b[39;00m\n\u001b[0;32m    113\u001b[0m     \u001b[38;5;28;01mreturn\u001b[39;00m model\n",
      "\u001b[1;31mTypeError\u001b[0m: __init__() got an unexpected keyword argument 'name'"
     ]
    }
   ],
   "source": [
    "import os\n",
    "from pathlib import Path\n",
    "os.getcwd()\n",
    "from tifffile import imread\n",
    "from oneat.NEATModels import NEATSynamic\n",
    "from oneat.pretrained import  get_model_folder\n",
    "from oneat.NEATModels.config import dynamic_config\n",
    "from oneat.NEATUtils import helpers\n",
    "from oneat.NEATUtils.helpers import load_json\n",
    "example_directory = os.getcwd() + '/hela_example'\n",
    "Path(example_directory).mkdir(exist_ok=True)\n",
    "model = NEATSynamic.local_from_pretrained('brightfield_mitosis_oneat_model')\n",
    "\n"
   ]
  },
  {
   "cell_type": "code",
   "execution_count": null,
   "id": "996cad1e",
   "metadata": {},
   "outputs": [],
   "source": [
    "#Data will be downloaded in .keras folder in the home directory\n",
    "image = imread(get_file(fname='brightfield', origin='https://zenodo.org/record/6480142/files/20210904_TL2%20-%20R05-C03-F0_ch_2.tif', file_hash='67e13fa4df301dfe2c2a57f785aedada'))\n",
    "\n",
    "division_categories_json = model_dir + get_file(fname='catjson', origin='https://zenodo.org/record/6481021/files/Cellsplitcategorieshelaflou.json', file_hash='7a67a83f08fb1add3c1b1a3e0eeec773')\n",
    "catconfig = load_json(division_categories_json)\n",
    "division_cord_json = model_dir + get_file(fname='cordjson', origin='https://zenodo.org/record/6481021/files/Cellsplitcordhelaflou.json', file_hash='aed21cb69d6fb8be32c47f78a39d32f5')\n",
    "cordconfig = load_json(division_cord_json)\n",
    "model = NEATSynamic(None, model_dir , model_name,catconfig, cordconfig)"
   ]
  },
  {
   "cell_type": "code",
   "execution_count": null,
   "id": "9b3b8343",
   "metadata": {},
   "outputs": [],
   "source": [
    "n_tiles = (4,4)\n",
    "event_threshold = 0.9999\n",
    "event_confidence = 0.99\n",
    "iou_threshold = 0.6\n",
    "fidelity = 16\n",
    "downsamplefactor = 1"
   ]
  },
  {
   "cell_type": "code",
   "execution_count": null,
   "id": "6c3fbcce",
   "metadata": {},
   "outputs": [],
   "source": [
    "imagename = get_model_folder(fake_plugin.den_model_type.value, fake_plugin.model_den.value)"
   ]
  }
 ],
 "metadata": {
  "kernelspec": {
   "display_name": "Python 3 (ipykernel)",
   "language": "python",
   "name": "python3"
  },
  "language_info": {
   "codemirror_mode": {
    "name": "ipython",
    "version": 3
   },
   "file_extension": ".py",
   "mimetype": "text/x-python",
   "name": "python",
   "nbconvert_exporter": "python",
   "pygments_lexer": "ipython3",
   "version": "3.9.0"
  }
 },
 "nbformat": 4,
 "nbformat_minor": 5
}
